{
  "cells": [
    {
      "cell_type": "markdown",
      "metadata": {
        "id": "jRDuJsGCgxCO"
      },
      "source": [
        "# HW3 Image Classification\n",
        "## We strongly recommend that you run with [Kaggle](https://www.kaggle.com/t/86ca241732c04da99aca6490080bae73) for this homework\n",
        "\n",
        "If you have any questions, please contact the TAs via TA hours, NTU COOL, or email to mlta-2023-spring@googlegroups.com"
      ]
    },
    {
      "cell_type": "markdown",
      "metadata": {
        "id": "K9Vxu1iQwdIE"
      },
      "source": [
        "# Check GPU Type"
      ]
    },
    {
      "cell_type": "code",
      "execution_count": null,
      "metadata": {
        "id": "KKjf6sZcwb_A"
      },
      "outputs": [],
      "source": [
        "!nvidia-smi"
      ]
    },
    {
      "cell_type": "markdown",
      "metadata": {
        "id": "EVgrPb3HhJUT"
      },
      "source": [
        "# Get Data\n",
        "Notes: if the links are dead, you can download the data directly from Kaggle and upload it to the workspace, or you can use the Kaggle API to directly download the data into colab.\n"
      ]
    },
    {
      "cell_type": "code",
      "execution_count": null,
      "metadata": {
        "id": "EAO6dg9eVaU_"
      },
      "outputs": [],
      "source": [
        "# Download Link\n",
        "# Link 1 (Dropbox): https://www.dropbox.com/s/up5q1gthsz3v0dq/food-11.zip?dl=0\n",
        "# Link 2 (Google Drive): https://drive.google.com/file/d/1tbGNwk1yGoCBdu4Gi_Cia7EJ9OhubYD9/view?usp=share_link\n",
        "# Link 3: Kaggle Competition.\n",
        "\n",
        "# (1) dropbox link\n",
        "!wget -O food11.zip https://www.dropbox.com/s/up5q1gthsz3v0dq/food-11.zip?dl=0\n",
        "\n",
        "\n",
        "# (2) google drive link\n",
        "# !pip install gdown --upgrade\n",
        "# !gdown --id '1tbGNwk1yGoCBdu4Gi_Cia7EJ9OhubYD9' --output food11.zip\n",
        "\n",
        "\n",
        "# (3) kaggle competition\n",
        "# import os\n",
        "# from google.colab import drive\n",
        "# drive.mount('/content/drive')\n",
        "# !pip install kaggle\n",
        "# !mkdir -p /root/.kaggle\n",
        "# !cp \"/content/drive/MyDrive/Machine Learning/kaggle.json\" /root/.kaggle/kaggle.json\n",
        "# !chmod 600 ~/.kaggle/kaggle.json\n",
        "# !kaggle competitions download -c ml2023spring-hw3 -p /content/\n",
        "\n",
        "\n"
      ]
    },
    {
      "cell_type": "code",
      "execution_count": null,
      "metadata": {
        "id": "HEsBm1lkhGmk"
      },
      "outputs": [],
      "source": [
        "! unzip food11.zip"
      ]
    },
    {
      "cell_type": "markdown",
      "metadata": {
        "id": "n5ceUnRihL-f"
      },
      "source": [
        "# Import Packages"
      ]
    },
    {
      "cell_type": "code",
      "execution_count": null,
      "metadata": {
        "id": "ay3WkYnHVaVE"
      },
      "outputs": [],
      "source": [
        "_exp_name = \"sample\""
      ]
    },
    {
      "cell_type": "code",
      "execution_count": null,
      "metadata": {
        "id": "CwOGtRWHVaVF"
      },
      "outputs": [],
      "source": [
        "# Import necessary packages.\n",
        "import numpy as np\n",
        "import pandas as pd\n",
        "import torch\n",
        "import os\n",
        "import torch.nn as nn\n",
        "import torchvision.transforms as transforms\n",
        "from torchvision.transforms import v2\n",
        "from PIL import Image\n",
        "# \"ConcatDataset\" and \"Subset\" are possibly useful when doing semi-supervised learning.\n",
        "from torch.utils.data import ConcatDataset, DataLoader, Subset, Dataset\n",
        "from torchvision.datasets import DatasetFolder, VisionDataset\n",
        "# This is for the progress bar.\n",
        "from tqdm.auto import tqdm\n",
        "import random"
      ]
    },
    {
      "cell_type": "code",
      "execution_count": null,
      "metadata": {
        "id": "8kJm9GekVaVH"
      },
      "outputs": [],
      "source": [
        "myseed = 7895  # set a random seed for reproducibility\n",
        "torch.backends.cudnn.deterministic = True\n",
        "torch.backends.cudnn.benchmark = False\n",
        "np.random.seed(myseed)\n",
        "torch.manual_seed(myseed)\n",
        "if torch.cuda.is_available():\n",
        "    torch.cuda.manual_seed_all(myseed)"
      ]
    },
    {
      "cell_type": "markdown",
      "metadata": {
        "id": "d9MVtgbSVaVH"
      },
      "source": [
        "# Transforms\n",
        "Torchvision provides lots of useful utilities for image preprocessing, data *wrapping* as well as data augmentation.\n",
        "\n",
        "Please refer to PyTorch official website for details about different transforms."
      ]
    },
    {
      "cell_type": "code",
      "execution_count": null,
      "metadata": {
        "id": "jvI3Xmq4VaVJ"
      },
      "outputs": [],
      "source": [
        "# https://docs.pytorch.org/vision/stable/models.html\n",
        "# Normally, We don't need augmentations in testing and validation.\n",
        "# All we need here is to resize the PIL image and transform it into Tensor.\n",
        "test_tfm = v2.Compose([\n",
        "    v2.Resize(size=(224, 224)),\n",
        "    v2.ToImage(),\n",
        "    v2.ToDtype(torch.float32, scale=True),\n",
        "    # v2.Normalize(mean=[0.558, 0.453, 0.346], std=[0.224, 0.235, 0.234]) # Z-score(-2 ~ +2)\n",
        "    v2.Normalize(mean=[0.485, 0.456, 0.406], std=[0.229, 0.224, 0.225])\n",
        "])\n",
        "\n",
        "# However, it is also possible to use augmentation in the testing phase.\n",
        "# You may use train_tfm to produce a variety of images and then test using ensemble methods\n",
        "train_tfm = v2.Compose([\n",
        "    # v2.Resize(size=(128, 128)),\n",
        "    v2.RandomResizedCrop(size=(224, 224), antialias=True),\n",
        "    v2.RandomHorizontalFlip(p=0.5),\n",
        "    # v2.RandomVerticalFlip(p=0.5),\n",
        "    # v2.RandomRotation(degrees=(-10, 10)),\n",
        "    v2.RandomAffine(degrees=(-10, 10), translate=(0.05, 0.05), shear=(-15, 15)),\n",
        "    v2.ColorJitter(brightness=0.2, contrast=0.2, saturation=0.2, hue=0.2),\n",
        "    v2.RandomGrayscale(p=0.1),\n",
        "    v2.RandomInvert(p=0.1),\n",
        "\n",
        "    v2.ToImage(),\n",
        "    v2.ToDtype(torch.float32, scale=True),\n",
        "    # v2.Normalize(mean=[0.558, 0.453, 0.346], std=[0.224, 0.235, 0.234]) # Z-score(-2 ~ +2)\n",
        "    v2.Normalize(mean=[0.485, 0.456, 0.406], std=[0.229, 0.224, 0.225])\n",
        "])\n"
      ]
    },
    {
      "cell_type": "markdown",
      "metadata": {
        "id": "D0ivMf-jVaVK"
      },
      "source": [
        "# Datasets\n",
        "The data is labelled by the name, so we load images and label while calling '__getitem__'"
      ]
    },
    {
      "cell_type": "code",
      "execution_count": null,
      "metadata": {
        "id": "xBdtPhKwVaVL"
      },
      "outputs": [],
      "source": [
        "class FoodDataset(Dataset):\n",
        "\n",
        "    def __init__(self,path,tfm=test_tfm,files = None):\n",
        "        super(FoodDataset).__init__()\n",
        "        self.path = path\n",
        "        self.files = sorted([os.path.join(path,x) for x in os.listdir(path) if x.endswith(\".jpg\")])\n",
        "        if files != None:\n",
        "            self.files = files\n",
        "\n",
        "        self.transform = tfm\n",
        "\n",
        "    def __len__(self):\n",
        "        return len(self.files)\n",
        "\n",
        "    def __getitem__(self,idx):\n",
        "        fname = self.files[idx]\n",
        "        im = Image.open(fname)\n",
        "        im = self.transform(im)\n",
        "\n",
        "        try:\n",
        "            label = int(fname.split(\"/\")[-1].split(\"_\")[0])\n",
        "        except:\n",
        "            label = -1 # test has no label\n",
        "\n",
        "        return im,label"
      ]
    },
    {
      "cell_type": "markdown",
      "source": [
        "#Normalization"
      ],
      "metadata": {
        "id": "VOpFWDzEt3gM"
      }
    },
    {
      "cell_type": "code",
      "source": [
        "# # Simply recordhow to calculate v2.Normalize mean and std.\n",
        "\n",
        "# # Temporary tfm to calculate std, mean\n",
        "# raw_tfm = v2.Compose([\n",
        "#     v2.Resize(size=(224, 224)),\n",
        "#     v2.ToImage(),\n",
        "#     v2.ToDtype(torch.float32, scale=True),\n",
        "# ])\n",
        "\n",
        "# # Dataset for calculation\n",
        "# tmp_set = FoodDataset(\"./train\", tfm=raw_tfm)\n",
        "# tmp_loader = DataLoader(tmp_set, batch_size=64, shuffle=False, num_workers=0, pin_memory=True)\n",
        "\n",
        "# # mean, std calculation\n",
        "# def get_mean_std(loader):\n",
        "#     mean = 0.\n",
        "#     std = 0.\n",
        "#     total = 0\n",
        "#     for data, _ in tqdm(loader):\n",
        "#         data = data.view(data.size(0), data.size(1), -1)\n",
        "#         mean += data.mean(2).sum(0)\n",
        "#         std += data.std(2).sum(0)\n",
        "#         total += data.size(0)\n",
        "#     mean /= total\n",
        "#     std /= total\n",
        "#     return mean.tolist(), std.tolist()\n",
        "\n",
        "\n",
        "# mean, std = get_mean_std(tmp_loader)\n",
        "# print(f\"mean:{mean}, std:{std}\")\n",
        "# # mean:[0.5584059357643127, 0.4528416395187378, 0.3458101451396942], std:[0.22446167469024658, 0.23484252393245697, 0.23351772129535675]"
      ],
      "metadata": {
        "id": "1aFv_CRFqHUX"
      },
      "execution_count": null,
      "outputs": []
    },
    {
      "cell_type": "code",
      "source": [
        "# mean = [0.5584059357643127, 0.4528416395187378, 0.3458101451396942]\n",
        "# std = [0.22446167469024658, 0.23484252393245697, 0.23351772129535675]\n",
        "# mean = [round(v,3) for v in mean]\n",
        "# std = [round(v,3) for v in std]\n",
        "# print(mean)\n",
        "# print(std)"
      ],
      "metadata": {
        "id": "ZjrbwQpNU7Fg"
      },
      "execution_count": null,
      "outputs": []
    },
    {
      "cell_type": "markdown",
      "metadata": {
        "id": "ZPFkDwug61PZ"
      },
      "source": [
        "# Model"
      ]
    },
    {
      "cell_type": "code",
      "execution_count": null,
      "metadata": {
        "id": "b_kDECOJVaVL"
      },
      "outputs": [],
      "source": [
        "class Classifier(nn.Module):\n",
        "    def __init__(self):\n",
        "        super(Classifier, self).__init__()\n",
        "        # torch.nn.Conv2d(in_channels, out_channels, kernel_size, stride, padding)\n",
        "        # torch.nn.MaxPool2d(kernel_size, stride, padding)\n",
        "        # input 維度 [3, 128, 128]\n",
        "        # MLP 是針對扁平化資料（Vector），特徵太多時要壓縮(降維)\n",
        "        # CNN 是針對影像資料（Image），需要「增加 feature maps」（升維）\n",
        "\n",
        "        self.cnn = nn.Sequential(\n",
        "            nn.Conv2d(3, 64, 3, 1, 1),  # [64, 128, 128]\n",
        "            nn.BatchNorm2d(64),\n",
        "            nn.ReLU(),\n",
        "            nn.MaxPool2d(2, 2, 0),      # [64, 64, 64]\n",
        "\n",
        "            nn.Conv2d(64, 128, 3, 1, 1), # [128, 64, 64]\n",
        "            nn.BatchNorm2d(128),\n",
        "            nn.ReLU(),\n",
        "            nn.MaxPool2d(2, 2, 0),      # [128, 32, 32]\n",
        "\n",
        "            nn.Conv2d(128, 256, 3, 1, 1), # [256, 32, 32]\n",
        "            nn.BatchNorm2d(256),\n",
        "            nn.ReLU(),\n",
        "            nn.MaxPool2d(2, 2, 0),      # [256, 16, 16]\n",
        "\n",
        "            nn.Conv2d(256, 512, 3, 1, 1), # [512, 16, 16]\n",
        "            nn.BatchNorm2d(512),\n",
        "            nn.ReLU(),\n",
        "            nn.MaxPool2d(2, 2, 0),       # [512, 8, 8]\n",
        "\n",
        "            nn.Conv2d(512, 512, 3, 1, 1), # [512, 8, 8]\n",
        "            nn.BatchNorm2d(512),\n",
        "            nn.ReLU(),\n",
        "            nn.MaxPool2d(2, 2, 0),       # [512, 4, 4]\n",
        "        )\n",
        "\n",
        "        # with torch.no_grad():\n",
        "        #     dummy_input = torch.randn(1, 3, 224, 224) # resize to 224x224\n",
        "        #     flatten_dim = self.cnn(dummy_input).view(1, -1).size(1)\n",
        "\n",
        "        self.fc = nn.Sequential(\n",
        "            nn.Linear(512*4*4, 1024),\n",
        "            nn.BatchNorm1d(1024),\n",
        "            nn.ReLU(),\n",
        "            nn.Dropout(0.5),\n",
        "\n",
        "            nn.Linear(1024, 512),\n",
        "            nn.BatchNorm1d(512),\n",
        "            nn.ReLU(),\n",
        "            nn.Dropout(0.5),\n",
        "\n",
        "            nn.Linear(512, 11),\n",
        "        )\n",
        "\n",
        "    def forward(self, x):\n",
        "        out = self.cnn(x)\n",
        "        out = out.view(out.size()[0], -1)\n",
        "        return self.fc(out)"
      ]
    },
    {
      "cell_type": "markdown",
      "metadata": {
        "id": "xgnIOaID687b"
      },
      "source": [
        "# Configurations"
      ]
    },
    {
      "cell_type": "code",
      "execution_count": null,
      "metadata": {
        "id": "2_OeWtstVaVO"
      },
      "outputs": [],
      "source": [
        "from torchvision import models\n",
        "\n",
        "\n",
        "# \"cuda\" only when GPUs are available.\n",
        "device = \"cuda\" if torch.cuda.is_available() else \"cpu\"\n",
        "\n",
        "# Initialize a model, and put it on the device specified.\n",
        "# model = Classifier().to(device)\n",
        "# model = models.mobilenet_v2(weights=None).to(device)\n",
        "# model.classifier[1] = nn.Linear(model.classifier[1].in_features, 11).to(device)\n",
        "model = models.resnet18(weights=None).to(device)\n",
        "model.fc = nn.Linear(model.fc.in_features, 11).to(device)\n",
        "\n",
        "# The number of batch size.\n",
        "batch_size = 64\n",
        "\n",
        "# The number of training epochs.\n",
        "n_epochs = 25\n",
        "\n",
        "# If no improvement in 'patience' epochs, early stop.\n",
        "patience = 5\n",
        "\n",
        "# For the classification task, we use cross-entropy as the measurement of performance.\n",
        "criterion = nn.CrossEntropyLoss()\n",
        "\n",
        "# Initialize optimizer, you may fine-tune some hyperparameters such as learning rate on your own.\n",
        "optimizer = torch.optim.Adam(model.parameters(), lr=0.0001, weight_decay=1e-5)\n"
      ]
    },
    {
      "cell_type": "markdown",
      "metadata": {
        "id": "zPGwvvPK7F7u"
      },
      "source": [
        "# Dataloader"
      ]
    },
    {
      "cell_type": "code",
      "execution_count": null,
      "metadata": {
        "id": "zvZXRH2phItl"
      },
      "outputs": [],
      "source": [
        "# Construct train and valid datasets.\n",
        "# The argument \"loader\" tells how torchvision reads the data.\n",
        "train_set = FoodDataset(\"./train\", tfm=train_tfm)\n",
        "train_loader = DataLoader(train_set, batch_size=batch_size, shuffle=True, num_workers=0, pin_memory=True)\n",
        "valid_set = FoodDataset(\"./valid\", tfm=test_tfm)\n",
        "valid_loader = DataLoader(valid_set, batch_size=batch_size, shuffle=True, num_workers=0, pin_memory=True)"
      ]
    },
    {
      "cell_type": "markdown",
      "metadata": {
        "id": "UPQ0j1c17BG1"
      },
      "source": [
        "# Start Training"
      ]
    },
    {
      "cell_type": "code",
      "execution_count": null,
      "metadata": {
        "id": "zbVkfIFhVaVO"
      },
      "outputs": [],
      "source": [
        "# Initialize trackers, these are not parameters and should not be changed\n",
        "stale = 0\n",
        "best_acc = 0\n",
        "\n",
        "for epoch in range(n_epochs):\n",
        "\n",
        "    # ---------- Training ----------\n",
        "    # Make sure the model is in train mode before training.\n",
        "    model.train()\n",
        "\n",
        "    # These are used to record information in training.\n",
        "    train_loss = []\n",
        "    train_accs = []\n",
        "\n",
        "    for batch in tqdm(train_loader):\n",
        "\n",
        "        # A batch consists of image data and corresponding labels.\n",
        "        imgs, labels = batch\n",
        "        #imgs = imgs.half()\n",
        "        #print(imgs.shape,labels.shape)\n",
        "\n",
        "        # Forward the data. (Make sure data and model are on the same device.)\n",
        "        logits = model(imgs.to(device))\n",
        "\n",
        "        # Calculate the cross-entropy loss.\n",
        "        # We don't need to apply softmax before computing cross-entropy as it is done automatically.\n",
        "        loss = criterion(logits, labels.to(device))\n",
        "\n",
        "        # Gradients stored in the parameters in the previous step should be cleared out first.\n",
        "        optimizer.zero_grad()\n",
        "\n",
        "        # Compute the gradients for parameters.\n",
        "        loss.backward()\n",
        "\n",
        "        # Clip the gradient norms for stable training.\n",
        "        grad_norm = nn.utils.clip_grad_norm_(model.parameters(), max_norm=10)\n",
        "\n",
        "        # Update the parameters with computed gradients.\n",
        "        optimizer.step()\n",
        "\n",
        "        # Compute the accuracy for current batch.\n",
        "        acc = (logits.argmax(dim=-1) == labels.to(device)).float().mean()\n",
        "\n",
        "        # Record the loss and accuracy.\n",
        "        train_loss.append(loss.item())\n",
        "        train_accs.append(acc)\n",
        "\n",
        "    train_loss = sum(train_loss) / len(train_loss)\n",
        "    train_acc = sum(train_accs) / len(train_accs)\n",
        "\n",
        "    # Print the information.\n",
        "    print(f\"[ Train | {epoch + 1:03d}/{n_epochs:03d} ] loss = {train_loss:.5f}, acc = {train_acc:.5f}\")\n",
        "\n",
        "    # ---------- Validation ----------\n",
        "    # Make sure the model is in eval mode so that some modules like dropout are disabled and work normally.\n",
        "    model.eval()\n",
        "\n",
        "    # These are used to record information in validation.\n",
        "    valid_loss = []\n",
        "    valid_accs = []\n",
        "\n",
        "    # Iterate the validation set by batches.\n",
        "    for batch in tqdm(valid_loader):\n",
        "\n",
        "        # A batch consists of image data and corresponding labels.\n",
        "        imgs, labels = batch\n",
        "        #imgs = imgs.half()\n",
        "\n",
        "        # We don't need gradient in validation.\n",
        "        # Using torch.no_grad() accelerates the forward process.\n",
        "        with torch.no_grad():\n",
        "            logits = model(imgs.to(device))\n",
        "\n",
        "        # We can still compute the loss (but not the gradient).\n",
        "        loss = criterion(logits, labels.to(device))\n",
        "\n",
        "        # Compute the accuracy for current batch.\n",
        "        acc = (logits.argmax(dim=-1) == labels.to(device)).float().mean()\n",
        "\n",
        "        # Record the loss and accuracy.\n",
        "        valid_loss.append(loss.item())\n",
        "        valid_accs.append(acc)\n",
        "        #break\n",
        "\n",
        "    # The average loss and accuracy for entire validation set is the average of the recorded values.\n",
        "    valid_loss = sum(valid_loss) / len(valid_loss)\n",
        "    valid_acc = sum(valid_accs) / len(valid_accs)\n",
        "\n",
        "\n",
        "    # Print the information.\n",
        "    print(f\"[ Valid | {epoch + 1:03d}/{n_epochs:03d} ] loss = {valid_loss:.5f}, acc = {valid_acc:.5f}\")\n",
        "\n",
        "    # # Update scheduler\n",
        "    # scheduler.step(valid_loss)\n",
        "\n",
        "    # update logs\n",
        "    if valid_acc > best_acc:\n",
        "        with open(f\"./{_exp_name}_log.txt\",\"a\"):\n",
        "            print(f\"[ Valid | {epoch + 1:03d}/{n_epochs:03d} ] loss = {valid_loss:.5f}, acc = {valid_acc:.5f} -> best\")\n",
        "    else:\n",
        "        with open(f\"./{_exp_name}_log.txt\",\"a\"):\n",
        "            print(f\"[ Valid | {epoch + 1:03d}/{n_epochs:03d} ] loss = {valid_loss:.5f}, acc = {valid_acc:.5f}\")\n",
        "\n",
        "\n",
        "    # save models\n",
        "    if valid_acc > best_acc:\n",
        "        print(f\"Best model found at epoch {epoch}, saving model\")\n",
        "        torch.save(model.state_dict(), f\"{_exp_name}_best.ckpt\") # only save best to prevent output memory exceed error\n",
        "        best_acc = valid_acc\n",
        "        stale = 0\n",
        "    else:\n",
        "        stale += 1\n",
        "        if stale > patience:\n",
        "            print(f\"No improvment {patience} consecutive epochs, early stopping\")\n",
        "            break"
      ]
    },
    {
      "cell_type": "code",
      "source": [
        "del train_set, valid_set\n",
        "del train_loader, valid_loader\n",
        "del model\n",
        "gc.collect()"
      ],
      "metadata": {
        "id": "2yfTyhncndVT"
      },
      "execution_count": null,
      "outputs": []
    },
    {
      "cell_type": "markdown",
      "metadata": {
        "id": "rw2y9Uhw7wr2"
      },
      "source": [
        "# Dataloader for test"
      ]
    },
    {
      "cell_type": "code",
      "execution_count": null,
      "metadata": {
        "id": "B9QNdHIXVaVP"
      },
      "outputs": [],
      "source": [
        "# Construct test datasets.\n",
        "# The argument \"loader\" tells how torchvision reads the data.\n",
        "test_set = FoodDataset(\"./test\", tfm=test_tfm)\n",
        "test_loader = DataLoader(test_set, batch_size=batch_size, shuffle=False, num_workers=0, pin_memory=True)"
      ]
    },
    {
      "cell_type": "markdown",
      "metadata": {
        "id": "G31uyjpvVaVP"
      },
      "source": [
        "# Testing and generate prediction CSV"
      ]
    },
    {
      "cell_type": "code",
      "execution_count": null,
      "metadata": {
        "id": "bpLtxx5FVaVP"
      },
      "outputs": [],
      "source": [
        "model_best = models.resnet18(weights=None).to(device)\n",
        "model_best.fc = nn.Linear(model_best.fc.in_features, 11).to(device)\n",
        "model_best.load_state_dict(torch.load(f\"{_exp_name}_best.ckpt\"))\n",
        "model_best.eval()\n",
        "prediction = []\n",
        "with torch.no_grad():\n",
        "    for data,_ in tqdm(test_loader):\n",
        "        test_pred = model_best(data.to(device))\n",
        "        test_label = np.argmax(test_pred.cpu().data.numpy(), axis=1)\n",
        "        prediction += test_label.squeeze().tolist()"
      ]
    },
    {
      "cell_type": "code",
      "execution_count": null,
      "metadata": {
        "id": "fKupB3VUVaVQ"
      },
      "outputs": [],
      "source": [
        "# create test csv\n",
        "def pad4(i):\n",
        "    return \"0\"*(4-len(str(i)))+str(i)\n",
        "df = pd.DataFrame()\n",
        "df[\"Id\"] = [pad4(i) for i in range(len(test_set))]\n",
        "df[\"Category\"] = prediction\n",
        "df.to_csv(\"submission.csv\",index = False)"
      ]
    },
    {
      "cell_type": "markdown",
      "metadata": {
        "id": "Ivk0hrE-V8Cu"
      },
      "source": [
        "# Q1. Augmentation Implementation\n",
        "## Implement augmentation by finishing train_tfm in the code with image size of your choice.\n",
        "## Directly copy the following block and paste it on GradeScope after you finish the code\n",
        "### Your train_tfm must be capable of producing 5+ different results when given an identical image multiple times.\n",
        "### Your  train_tfm in the report can be different from train_tfm in your training code.\n"
      ]
    },
    {
      "cell_type": "code",
      "execution_count": null,
      "metadata": {
        "id": "GSfKNo42WjKm"
      },
      "outputs": [],
      "source": [
        "train_tfm = v2.Compose([\n",
        "    # v2.Resize(size=(128, 128)),\n",
        "    v2.RandomResizedCrop(size=(224, 224), antialias=True),\n",
        "    v2.RandomHorizontalFlip(p=0.5),\n",
        "    # v2.RandomVerticalFlip(p=0.5),\n",
        "    # v2.RandomRotation(degrees=(-10, 10)),\n",
        "    v2.RandomAffine(degrees=(-10, 10), translate=(0.05, 0.05), shear=(-15, 15)),\n",
        "    v2.ColorJitter(brightness=0.2, contrast=0.2, saturation=0.2, hue=0.2),\n",
        "    v2.RandomGrayscale(p=0.1),\n",
        "    v2.RandomInvert(p=0.1),\n",
        "\n",
        "    v2.ToImage(),\n",
        "    v2.ToDtype(torch.float32, scale=True),\n",
        "    # v2.Normalize(mean=[0.558, 0.453, 0.346], std=[0.224, 0.235, 0.234]) # Z-score(-2 ~ +2)\n",
        "    v2.Normalize(mean=[0.485, 0.456, 0.406], std=[0.229, 0.224, 0.225])\n",
        "])\n"
      ]
    },
    {
      "cell_type": "markdown",
      "metadata": {
        "id": "3HemRgZ6WwRM"
      },
      "source": [
        "# Q2. Visual Representations Implementation\n",
        "## Visualize the learned visual representations of the CNN model on the validation set by implementing t-SNE (t-distributed Stochastic Neighbor Embedding) on the output of both top & mid layers (You need to submit 2 images).\n"
      ]
    },
    {
      "cell_type": "code",
      "execution_count": null,
      "metadata": {
        "id": "iXd_SZnB2Wg8"
      },
      "outputs": [],
      "source": [
        "import torch\n",
        "import numpy as np\n",
        "from sklearn.manifold import TSNE\n",
        "import matplotlib.pyplot as plt\n",
        "from tqdm import tqdm\n",
        "import matplotlib.cm as cm\n",
        "import torch.nn as nn\n",
        "\n",
        "device = 'cuda' if torch.cuda.is_available() else 'cpu'\n",
        "\n",
        "# Load the trained model\n",
        "model = models.resnet18(weights=None).to(device)\n",
        "model.fc = nn.Linear(model.fc.in_features, 11).to(device)\n",
        "state_dict = torch.load(f\"{_exp_name}_best.ckpt\")\n",
        "model.load_state_dict(state_dict)\n",
        "model.eval()\n",
        "\n",
        "print(model)"
      ]
    },
    {
      "cell_type": "code",
      "execution_count": null,
      "metadata": {
        "id": "QcBKUNfc3BeL"
      },
      "outputs": [],
      "source": [
        "# Load the vaildation set defined by TA\n",
        "valid_set = FoodDataset(\"./valid\", tfm=test_tfm)\n",
        "valid_loader = DataLoader(valid_set, batch_size=64, shuffle=False, num_workers=0, pin_memory=True)\n",
        "\n",
        "# Extract the representations for the specific layer of model\n",
        "# index = ... # You should find out the index of layer which is defined as \"top\" or 'mid' layer of your model.\n",
        "features = []\n",
        "labels = []\n",
        "for batch in tqdm(valid_loader):\n",
        "    imgs, lbls = batch\n",
        "    imgs = imgs.to(device)\n",
        "    with torch.no_grad():\n",
        "        x = model_best.conv1(imgs)\n",
        "        x = model_best.bn1(x)\n",
        "        x = model_best.relu(x)\n",
        "        x = model_best.maxpool(x)\n",
        "        x = model_best.layer1(x)\n",
        "        x = model_best.layer2(x)\n",
        "        x = model_best.layer3(x)  # (mid)\n",
        "        x = torch.flatten(x, 1)\n",
        "    labels.extend(lbls.cpu().numpy())\n",
        "    features.extend(x.cpu().numpy())\n",
        "\n",
        "features = np.array(features)\n",
        "labels = np.array(labels)\n",
        "colors_per_class = cm.rainbow(np.linspace(0, 1, 11))\n",
        "\n",
        "# Apply t-SNE to the features\n",
        "features_tsne = TSNE(n_components=2, init='pca', random_state=42).fit_transform(features)\n",
        "\n",
        "# Plot the t-SNE visualization\n",
        "plt.figure(figsize=(10, 8))\n",
        "for label in np.unique(labels):\n",
        "    plt.scatter(features_tsne[labels == label, 0], features_tsne[labels == label, 1], label=label, s=5)\n",
        "plt.legend()\n",
        "plt.show()\n",
        "\n",
        "# plt.figure(figsize=(10, 8))\n",
        "# labels = [0]\n",
        "# for label in np.unique(labels):\n",
        "#     plt.scatter(features_tsne[labels == label, 0], features_tsne[labels == label, 1], label=label, s=5)\n",
        "# plt.legend()\n",
        "# plt.show()"
      ]
    }
  ],
  "metadata": {
    "accelerator": "GPU",
    "colab": {
      "provenance": []
    },
    "gpuClass": "standard",
    "kernelspec": {
      "display_name": "Python 3",
      "language": "python",
      "name": "python3"
    },
    "language_info": {
      "codemirror_mode": {
        "name": "ipython",
        "version": 3
      },
      "file_extension": ".py",
      "mimetype": "text/x-python",
      "name": "python",
      "nbconvert_exporter": "python",
      "pygments_lexer": "ipython3",
      "version": "3.6.4"
    }
  },
  "nbformat": 4,
  "nbformat_minor": 0
}