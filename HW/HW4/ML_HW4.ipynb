{
  "metadata": {
    "kernelspec": {
      "display_name": "Python 3",
      "name": "python3"
    },
    "language_info": {
      "name": "python",
      "version": "3.7.12",
      "mimetype": "text/x-python",
      "codemirror_mode": {
        "name": "ipython",
        "version": 3
      },
      "pygments_lexer": "ipython3",
      "nbconvert_exporter": "python",
      "file_extension": ".py"
    },
    "kaggle": {
      "accelerator": "gpu",
      "dataSources": [
        {
          "sourceId": 48666,
          "databundleVersionId": 5149531,
          "sourceType": "competition"
        },
        {
          "sourceId": 5366079,
          "sourceType": "datasetVersion",
          "datasetId": 3114243
        },
        {
          "sourceId": 5366227,
          "sourceType": "datasetVersion",
          "datasetId": 3114285
        },
        {
          "sourceId": 5366451,
          "sourceType": "datasetVersion",
          "datasetId": 3114361
        },
        {
          "sourceId": 7050478,
          "sourceType": "datasetVersion",
          "datasetId": 4057527
        }
      ],
      "dockerImageVersionId": 30461,
      "isInternetEnabled": true,
      "language": "python",
      "sourceType": "notebook",
      "isGpuEnabled": true
    },
    "colab": {
      "provenance": [],
      "gpuType": "T4"
    },
    "accelerator": "GPU"
  },
  "nbformat_minor": 0,
  "nbformat": 4,
  "cells": [
    {
      "cell_type": "code",
      "source": [
        "# download\n",
        "!wget https://github.com/googly-mingto/ML2023HW4/releases/download/data/Dataset.tar.gz.partaa\n",
        "!wget https://github.com/googly-mingto/ML2023HW4/releases/download/data/Dataset.tar.gz.partab\n",
        "!wget https://github.com/googly-mingto/ML2023HW4/releases/download/data/Dataset.tar.gz.partac\n",
        "!wget https://github.com/googly-mingto/ML2023HW4/releases/download/data/Dataset.tar.gz.partad\n",
        "\n",
        "# merge into complete file\n",
        "!cat Dataset.tar.gz.part* > Dataset.tar.gz\n",
        "\n",
        "# !rm Dataset.tar.gz\n",
        "!rm Dataset.tar.gz.partaa\n",
        "!rm Dataset.tar.gz.partab\n",
        "!rm Dataset.tar.gz.partac\n",
        "!rm Dataset.tar.gz.partad\n",
        "\n",
        "# unzip the file\n",
        "!tar zxf Dataset.tar.gz"
      ],
      "metadata": {
        "id": "S3srCoRW_Xiy"
      },
      "execution_count": null,
      "outputs": []
    },
    {
      "cell_type": "code",
      "source": [
        "!tar zxf Dataset.tar.gz"
      ],
      "metadata": {
        "id": "QJhDsZ7Ui-Ac"
      },
      "execution_count": null,
      "outputs": []
    },
    {
      "cell_type": "code",
      "source": [
        "import numpy as np\n",
        "import torch\n",
        "import random\n",
        "\n",
        "def set_seed(seed):\n",
        "    np.random.seed(seed)\n",
        "    random.seed(seed)\n",
        "    torch.manual_seed(seed)\n",
        "    if torch.cuda.is_available():\n",
        "        torch.cuda.manual_seed(seed)\n",
        "        torch.cuda.manual_seed_all(seed)\n",
        "    torch.backends.cudnn.benchmark = False\n",
        "    torch.backends.cudnn.deterministic = True\n",
        "\n",
        "set_seed(7895)"
      ],
      "metadata": {
        "execution": {
          "iopub.status.busy": "2023-11-25T13:04:19.356302Z",
          "iopub.execute_input": "2023-11-25T13:04:19.357276Z",
          "iopub.status.idle": "2023-11-25T13:04:19.380685Z",
          "shell.execute_reply.started": "2023-11-25T13:04:19.357222Z",
          "shell.execute_reply": "2023-11-25T13:04:19.378333Z"
        },
        "trusted": true,
        "id": "DykPE3-IdHlD"
      },
      "execution_count": null,
      "outputs": []
    },
    {
      "cell_type": "markdown",
      "source": [
        "# Dataset"
      ],
      "metadata": {
        "id": "GQgSGS8s8Lc2"
      }
    },
    {
      "cell_type": "code",
      "source": [
        "import os\n",
        "import json\n",
        "import torch\n",
        "import random\n",
        "from pathlib import Path\n",
        "from torch.utils.data import Dataset\n",
        "from torch.nn.utils.rnn import pad_sequence\n",
        "\n",
        "class myDataset(Dataset):\n",
        "    def __init__(self, data_dir, segment_len=128):\n",
        "        self.data_dir = data_dir\n",
        "        self.segment_len = segment_len\n",
        "\n",
        "        # pathlib 提供的路徑寫法，建立speaker, id對應關係\n",
        "        mapping_path = Path(data_dir) / 'mapping.json'\n",
        "        mapping = json.load(mapping_path.open())\n",
        "        self.speaker2id = mapping['speaker2id']\n",
        "\n",
        "        metadata_path = Path(data_dir) / 'metadata.json'\n",
        "        metadata = json.load(open(metadata_path))['speakers']\n",
        "\n",
        "        self.speaker_num = len(metadata.keys())\n",
        "        self.data = []\n",
        "        for speaker in metadata.keys():\n",
        "            for utterances in metadata[speaker]:\n",
        "                self.data.append([utterances['feature_path'], self.speaker2id[speaker]])\n",
        "\n",
        "    def __len__(self):\n",
        "        return len(self.data)\n",
        "\n",
        "    def __getitem__(self, index):\n",
        "        feat_path, speaker = self.data[index]\n",
        "        mel = torch.load(os.path.join(self.data_dir, feat_path))\n",
        "\n",
        "        if len(mel) > self.segment_len:\n",
        "            # 隨機選取起點，控制長度在128\n",
        "            start = random.randint(0, len(mel) - self.segment_len)\n",
        "            mel = torch.FloatTensor(mel[start:start+self.segment_len])\n",
        "        else:\n",
        "            # 可能短於128，之後進行padding\n",
        "            mel = torch.FloatTensor(mel)\n",
        "        # .long()將label轉換成int64，以進行分類任務\n",
        "        speaker = torch.FloatTensor([speaker]).long()\n",
        "        return mel, speaker\n",
        "\n",
        "    def get_speaker_number(self):\n",
        "        return self.speaker_num\n",
        "\n"
      ],
      "metadata": {
        "execution": {
          "iopub.status.busy": "2023-11-25T13:04:19.381497Z",
          "iopub.status.idle": "2023-11-25T13:04:19.381925Z",
          "shell.execute_reply.started": "2023-11-25T13:04:19.38172Z",
          "shell.execute_reply": "2023-11-25T13:04:19.381742Z"
        },
        "trusted": true,
        "id": "rQ88wyQcdHlD"
      },
      "execution_count": null,
      "outputs": []
    },
    {
      "cell_type": "markdown",
      "source": [
        "# Dataloader"
      ],
      "metadata": {
        "id": "hQ4RWwbvJIv_"
      }
    },
    {
      "cell_type": "code",
      "source": [
        "import torch\n",
        "from torch.utils.data import DataLoader, random_split\n",
        "from torch.nn.utils.rnn import pad_sequence\n",
        "\n",
        "def collate_batch(batch):\n",
        "    # unzip batch data into two tuples, mel = (mel1, mel2, mel3) speaker = (speaker1, speaker2, speaker3)\n",
        "    mel, speaker = zip(*batch)\n",
        "    # padding process\n",
        "    mel = pad_sequence(mel, batch_first=True, padding_value=-20)\n",
        "    return mel, torch.FloatTensor(speaker).long()\n",
        "\n",
        "def get_dataloader(data_dir, batch_size, n_workers):\n",
        "    dataset = myDataset(data_dir)\n",
        "    speaker_num = dataset.get_speaker_number()\n",
        "    trainlen = int(0.9 * len(dataset))\n",
        "    lengths = [trainlen, len(dataset) - trainlen]\n",
        "    trainset, validset = random_split(dataset, lengths)\n",
        "\n",
        "    train_loader = DataLoader(trainset,\n",
        "                             batch_size=batch_size,\n",
        "                             shuffle=True,\n",
        "                             drop_last=True,\n",
        "                             num_workers=n_workers,\n",
        "                             pin_memory=True,\n",
        "                             collate_fn=collate_batch)\n",
        "\n",
        "    valid_loader = DataLoader(validset,\n",
        "                             batch_size=batch_size,\n",
        "                             num_workers=n_workers,\n",
        "                             drop_last=True,\n",
        "                             pin_memory=True,\n",
        "                             collate_fn=collate_batch)\n",
        "\n",
        "    return train_loader, valid_loader, speaker_num"
      ],
      "metadata": {
        "execution": {
          "iopub.status.busy": "2023-11-25T13:30:57.836517Z",
          "iopub.execute_input": "2023-11-25T13:30:57.837238Z",
          "iopub.status.idle": "2023-11-25T13:30:57.847555Z",
          "shell.execute_reply.started": "2023-11-25T13:30:57.837198Z",
          "shell.execute_reply": "2023-11-25T13:30:57.846386Z"
        },
        "trusted": true,
        "id": "JyijIpltdHlD"
      },
      "execution_count": null,
      "outputs": []
    },
    {
      "cell_type": "markdown",
      "source": [
        "# Model"
      ],
      "metadata": {
        "id": "f4WfrFtCSevT"
      }
    },
    {
      "cell_type": "code",
      "source": [
        "\n",
        "import torch\n",
        "import torch.nn as nn\n",
        "import torch.nn.functional as F\n",
        "from conformer import ConformerBlock\n",
        "\n",
        "class Classifier(nn.Module):\n",
        "    def __init__(self, d_model=160, n_spks=600, dropout=0.2):\n",
        "        super().__init__()\n",
        "        #\n",
        "        self.prenet = nn.Linear(40, d_model)\n",
        "\n",
        "\n",
        "        self.encoder = ConformerBlock(\n",
        "            dim=d_model,           # 輸入特徵維度\n",
        "            dim_head=4,            # 多頭注意力頭數\n",
        "            ff_mult=4,            # FeedForward layer 的維度\n",
        "            conv_expansion_factor=2, # 卷積乘數\n",
        "            conv_kernel_size=25, # 卷積的 kernel 大小 (15-31 odd val recommended)\n",
        "            attn_dropout=dropout, #attendsion dropout\n",
        "            ff_dropout=dropout, #feed forward dropout\n",
        "            conv_dropout=dropout # conv dropout\n",
        "        )\n",
        "\n",
        "        # 輸出成n_spks維度，進行分類\n",
        "        self.pred_layer = nn.Sequential(\n",
        "            nn.BatchNorm1d(d_model),\n",
        "            nn.Linear(d_model, d_model),\n",
        "            nn.ReLU(),\n",
        "            nn.Linear(d_model, n_spks)\n",
        "            )\n",
        "\n",
        "    def forward(self, mels):\n",
        "        # batch_size, length, d_model\n",
        "        out = self.prenet(mels)\n",
        "        # length, batch_size, d_model\n",
        "        out = out.permute(1, 0, 2)\n",
        "        # feed into encoder 要用encoder就需要變形\n",
        "        out = self.encoder(out)\n",
        "        # 轉回 batch_size, length, d_model\n",
        "        out = out.transpose(0, 1)\n",
        "        # 將 'length'進行Pooling壓縮成一個向量 -->  [batch, d_model]\n",
        "        stats = out.mean(dim=1)\n",
        "        #\n",
        "        out = self.pred_layer(stats)\n",
        "        return out"
      ],
      "metadata": {
        "execution": {
          "iopub.status.busy": "2023-11-25T13:21:55.714617Z",
          "iopub.execute_input": "2023-11-25T13:21:55.715617Z",
          "iopub.status.idle": "2023-11-25T13:21:55.725401Z",
          "shell.execute_reply.started": "2023-11-25T13:21:55.715573Z",
          "shell.execute_reply": "2023-11-25T13:21:55.724342Z"
        },
        "trusted": true,
        "id": "iy3yathtdHlE"
      },
      "execution_count": null,
      "outputs": []
    },
    {
      "cell_type": "markdown",
      "source": [
        "# Dynamic Learning Rate"
      ],
      "metadata": {
        "id": "9_6II2T6amxw"
      }
    },
    {
      "cell_type": "code",
      "source": [
        "import math\n",
        "\n",
        "import torch\n",
        "from torch.optim import Optimizer\n",
        "from torch.optim.lr_scheduler import LambdaLR\n",
        "\n",
        "def get_cosine_schedule_with_warmup(\n",
        "    optimizer: Optimizer,\n",
        "    num_warmup_steps: int,\n",
        "    num_training_steps: int,\n",
        "    num_cycles: float=0.5,\n",
        "    last_epoch: int=-1\n",
        "    ):\n",
        "\n",
        "    def lr_lambda(current_step):\n",
        "        # Warmup\n",
        "        if current_step < num_warmup_steps:\n",
        "            return float(current_step) / float(max(1, num_warmup_steps))\n",
        "        # Decay\n",
        "        progress = float(current_step - num_warmup_steps) / float(max(1, num_training_steps - num_warmup_steps))\n",
        "        return max(0.0, 0.5 * (1.0 + math.cos(math.pi * float(num_cycles) * 2.0 * progress)))\n",
        "\n",
        "    return LambdaLR(optimizer, lr_lambda, last_epoch)"
      ],
      "metadata": {
        "execution": {
          "iopub.status.busy": "2023-11-25T13:04:19.392275Z",
          "iopub.status.idle": "2023-11-25T13:04:19.392621Z",
          "shell.execute_reply.started": "2023-11-25T13:04:19.392447Z",
          "shell.execute_reply": "2023-11-25T13:04:19.392464Z"
        },
        "trusted": true,
        "id": "YWjtTMdVdHlE"
      },
      "execution_count": null,
      "outputs": []
    },
    {
      "cell_type": "markdown",
      "source": [
        "# Training"
      ],
      "metadata": {
        "id": "O4j-HEHQdEMa"
      }
    },
    {
      "cell_type": "code",
      "source": [
        "import torch\n",
        "\n",
        "def model_fn(batch, model, criterion, device):\n",
        "    # fetch data and move into GPU\n",
        "    mels, labels = batch\n",
        "    mels = mels.to(device)\n",
        "    labels = labels.to(device)\n",
        "\n",
        "    # 預測機率分數\n",
        "    outs = model(mels)\n",
        "\n",
        "    # 求loss\n",
        "    loss = criterion(outs, labels)\n",
        "\n",
        "    # 求最高分數位置，並計算準確率\n",
        "    preds = outs.argmax(1)\n",
        "    accuracy = torch.mean((preds == labels).float())\n",
        "\n",
        "    return loss, accuracy"
      ],
      "metadata": {
        "execution": {
          "iopub.status.busy": "2023-11-25T13:04:19.393549Z",
          "iopub.status.idle": "2023-11-25T13:04:19.39389Z",
          "shell.execute_reply.started": "2023-11-25T13:04:19.393715Z",
          "shell.execute_reply": "2023-11-25T13:04:19.393732Z"
        },
        "trusted": true,
        "id": "YYPQtfADdHlE"
      },
      "execution_count": null,
      "outputs": []
    },
    {
      "cell_type": "code",
      "source": [
        "# Validation set\n",
        "from tqdm import tqdm\n",
        "import torch\n",
        "\n",
        "def valid(dataloader, model, criterion, device):\n",
        "\n",
        "    model.eval()\n",
        "    running_loss = 0.0\n",
        "    running_accuracy = 0.0\n",
        "\n",
        "    pbar = tqdm(total=len(dataloader.dataset), ncols=0, desc='valid', unit='uttr')\n",
        "\n",
        "    for i, batch in enumerate(dataloader):\n",
        "        with torch.no_grad():\n",
        "            loss, accuracy = model_fn(batch, model, criterion, device)\n",
        "            running_loss += loss.item()\n",
        "            running_accuracy += accuracy.item()\n",
        "\n",
        "        pbar.update(dataloader.batch_size)\n",
        "        pbar.set_postfix(\n",
        "            loss = f'{running_loss / (i+1):.2f}',\n",
        "            accuracy = f'{running_accuracy / (i+1):.2f}')\n",
        "\n",
        "    pbar.close()\n",
        "    model.train()\n",
        "\n",
        "    return running_accuracy / len(dataloader)"
      ],
      "metadata": {
        "execution": {
          "iopub.status.busy": "2023-11-25T13:04:19.395086Z",
          "iopub.status.idle": "2023-11-25T13:04:19.395495Z",
          "shell.execute_reply.started": "2023-11-25T13:04:19.395311Z",
          "shell.execute_reply": "2023-11-25T13:04:19.39533Z"
        },
        "trusted": true,
        "id": "8qy7m26mdHlE"
      },
      "execution_count": null,
      "outputs": []
    },
    {
      "cell_type": "code",
      "source": [
        "from tqdm import tqdm\n",
        "\n",
        "import torch\n",
        "import torch.nn as nn\n",
        "from torch.optim import AdamW\n",
        "from torch.utils.data import DataLoader, random_split\n",
        "\n",
        "def parse_args():\n",
        "    config = {\n",
        "        'data_dir':'/content/Dataset',\n",
        "        'save_path':'model.ckpt',\n",
        "        'batch_size':32,\n",
        "        'n_workers':8,\n",
        "        'valid_steps':2000,\n",
        "        'warmup_steps':1000,\n",
        "        'save_steps':10000,\n",
        "        'total_steps':70000\n",
        "    }\n",
        "\n",
        "    return config\n",
        "\n",
        "def main(data_dir, save_path, batch_size, n_workers, valid_steps, warmup_steps, total_steps, save_steps):\n",
        "\n",
        "    device = 'cuda' if torch.cuda.is_available() else 'cpu'\n",
        "    print(f'[Info]: Use {device} now!')\n",
        "\n",
        "    train_loader, valid_loader, speaker_num = get_dataloader(data_dir, batch_size, n_workers)\n",
        "    train_iterator = iter(train_loader)\n",
        "\n",
        "    model = Classifier(n_spks=speaker_num).to(device)\n",
        "    criterion = nn.CrossEntropyLoss()\n",
        "    optimizer = AdamW(model.parameters(), lr=1e-3)\n",
        "    scheduler = get_cosine_schedule_with_warmup(optimizer, warmup_steps, total_steps)\n",
        "\n",
        "    best_accuracy = 0.0\n",
        "    best_state_dict = None\n",
        "\n",
        "    pbar = tqdm(total=valid_steps, ncols=0, desc='Train', unit=' step')\n",
        "\n",
        "    for step in range(total_steps):\n",
        "        # Get data\n",
        "        try:\n",
        "            batch = next(train_iterator)\n",
        "        except StopIteration:\n",
        "            train_iterator = iter(train_loader)\n",
        "            batch = next(train_iterator)\n",
        "\n",
        "        loss, accuracy = model_fn(batch, model, criterion, device)\n",
        "        batch_loss = loss.item()\n",
        "        batch_accuracy = accuracy.item()\n",
        "\n",
        "        # Updata model\n",
        "        loss.backward()\n",
        "        optimizer.step()\n",
        "        scheduler.step()\n",
        "        optimizer.zero_grad()\n",
        "\n",
        "        # Log\n",
        "        pbar.update()\n",
        "        pbar.set_postfix(\n",
        "            loss=f\"{batch_loss:.2f}\",\n",
        "            accuracy=f\"{batch_accuracy:.2f}\",\n",
        "            step=step + 1,\n",
        "        )\n",
        "\n",
        "        # Do validation\n",
        "        if (step + 1) % valid_steps == 0:\n",
        "            pbar.close()\n",
        "\n",
        "            valid_accuracy = valid(valid_loader, model, criterion, device)\n",
        "\n",
        "            # keep the best model\n",
        "            if valid_accuracy > best_accuracy:\n",
        "                best_accuracy = valid_accuracy\n",
        "                best_state_dict = model.state_dict()\n",
        "\n",
        "            pbar = tqdm(total=valid_steps, ncols=0, desc=\"Train\", unit=\" step\")\n",
        "\n",
        "        # Save the best model so far.\n",
        "        if (step + 1) % save_steps == 0 and best_state_dict is not None:\n",
        "            torch.save(best_state_dict, save_path)\n",
        "            pbar.write(f\"Step {step + 1}, best model saved. (accuracy={best_accuracy:.4f})\")\n",
        "\n",
        "    pbar.close()\n",
        "\n",
        "\n",
        "# if __name__ == \"__main__\":\n",
        "main(**parse_args())"
      ],
      "metadata": {
        "execution": {
          "iopub.status.busy": "2023-11-25T13:04:19.396723Z",
          "iopub.status.idle": "2023-11-25T13:04:19.39711Z",
          "shell.execute_reply.started": "2023-11-25T13:04:19.39689Z",
          "shell.execute_reply": "2023-11-25T13:04:19.396908Z"
        },
        "trusted": true,
        "id": "8BBQxsGGdHlE"
      },
      "execution_count": null,
      "outputs": []
    },
    {
      "cell_type": "code",
      "source": [
        "import os\n",
        "import json\n",
        "import torch\n",
        "from pathlib import Path\n",
        "from torch.utils.data import Dataset\n",
        "\n",
        "class InferenceDataset(Dataset):\n",
        "    def __init__(self, data_dir):\n",
        "        testdata_path = Path(data_dir) / 'testdata.json'\n",
        "        metadata = json.load(testdata_path.open())\n",
        "        self.data_dir = data_dir\n",
        "        self.data = metadata['utterances']\n",
        "\n",
        "    def __len__(self):\n",
        "        return len(self.data)\n",
        "\n",
        "    def __getitem__(self, index):\n",
        "        utterance = self.data[index]\n",
        "        feat_path = utterance['feature_path']\n",
        "        mel = torch.load(os.path.join(self.data_dir, feat_path))\n",
        "\n",
        "        return feat_path, mel\n",
        "\n",
        "def inference_collate_batch(batch):\n",
        "    feat_paths, mels = zip(*batch)\n",
        "\n",
        "    return feat_paths, torch.stack(mels)\n"
      ],
      "metadata": {
        "execution": {
          "iopub.status.busy": "2023-11-25T13:30:18.23446Z",
          "iopub.execute_input": "2023-11-25T13:30:18.234869Z",
          "iopub.status.idle": "2023-11-25T13:30:18.244312Z",
          "shell.execute_reply.started": "2023-11-25T13:30:18.234833Z",
          "shell.execute_reply": "2023-11-25T13:30:18.243238Z"
        },
        "trusted": true,
        "id": "nDpIZRivdHlE"
      },
      "execution_count": null,
      "outputs": []
    },
    {
      "cell_type": "code",
      "source": [
        "import json\n",
        "import csv\n",
        "from pathlib import Path\n",
        "from tqdm.notebook import tqdm\n",
        "\n",
        "import torch\n",
        "from torch.utils.data import DataLoader\n",
        "\n",
        "def parse_args():\n",
        "\n",
        "    config = {\n",
        "        'data_dir': '/kaggle/input/ml2023springhw4/Dataset',\n",
        "        'model_path': '/kaggle/input/training-model/model.ckpt',\n",
        "        'output_path': '/kaggle/working/submission.csv',\n",
        "    }\n",
        "\n",
        "    return config\n",
        "\n",
        "def main(data_dir, model_path, output_path):\n",
        "    device = 'cuda' if torch.cuda.is_available() else 'cpu'\n",
        "\n",
        "    dataset = InferenceDataset(data_dir)\n",
        "    dataloader = DataLoader(dataset,\n",
        "                           batch_size=1,\n",
        "                           shuffle=False,\n",
        "                           drop_last=False,\n",
        "                           num_workers=8,\n",
        "                           collate_fn=inference_collate_batch)\n",
        "\n",
        "    mapping_path = Path(data_dir) / 'mapping.json'\n",
        "    mapping = json.load(mapping_path.open())\n",
        "    speaker_num = len(mapping['id2speaker'])\n",
        "\n",
        "    model = Classifier().to(device)\n",
        "    model.load_state_dict(torch.load(model_path))\n",
        "    model.eval()\n",
        "\n",
        "    results = [['Id', 'Category']]\n",
        "    for feat_path, mel in tqdm(dataloader):\n",
        "        with torch.no_grad():\n",
        "            mel = mel.to(device)\n",
        "            out = model(mel)\n",
        "            pred = out.argmax(1).cpu().numpy()\n",
        "\n",
        "            results.append([feat_path[0], mapping['id2speaker'][str(pred[0])]])\n",
        "\n",
        "    with open(output_path, 'w', newline='') as csvfile:\n",
        "        writer = csv.writer(csvfile)\n",
        "        writer.writerows(results)\n",
        "\n",
        "# if __name__ == '__main__':\n",
        "main(**parse_args())"
      ],
      "metadata": {
        "execution": {
          "iopub.status.busy": "2023-11-25T13:42:14.576754Z",
          "iopub.execute_input": "2023-11-25T13:42:14.577163Z",
          "iopub.status.idle": "2023-11-25T13:42:32.324074Z",
          "shell.execute_reply.started": "2023-11-25T13:42:14.577126Z",
          "shell.execute_reply": "2023-11-25T13:42:32.323095Z"
        },
        "trusted": true,
        "id": "KC9bXuPUdHlF"
      },
      "execution_count": null,
      "outputs": []
    },
    {
      "cell_type": "code",
      "source": [
        "!pip install -q kaggle\n",
        "\n",
        "# 建立 kaggle 目錄與 API 金鑰\n",
        "!mkdir -p ~/.kaggle\n",
        "!cp \"/content/drive/MyDrive/Machine Learning/kaggle.json\" ~/.kaggle/\n",
        "!chmod 600 ~/.kaggle/kaggle.json\n"
      ],
      "metadata": {
        "id": "glsqXFDUdHlF"
      },
      "execution_count": null,
      "outputs": []
    },
    {
      "cell_type": "code",
      "source": [
        "# 下載 Kaggle 比賽資料（原始 zip）\n",
        "!kaggle competitions download -c ml2023springhw4 -p /content/kaggle\n",
        "\n",
        "# 解壓縮 zip（注意 Dataset 會是子資料夾）\n",
        "!unzip -q /content/kaggle/ml2023springhw4.zip -d /content/kaggle\n"
      ],
      "metadata": {
        "id": "Q5iAISx2DjUw"
      },
      "execution_count": null,
      "outputs": []
    },
    {
      "cell_type": "code",
      "source": [
        "import os\n",
        "print(os.listdir(\"/content/kaggle\"))\n",
        "print(os.listdir(\"/content/kaggle/Dataset\"))  # ← 你要用的 data_dir\n"
      ],
      "metadata": {
        "id": "D2FfIdRKDmqT"
      },
      "execution_count": null,
      "outputs": []
    },
    {
      "cell_type": "code",
      "source": [
        "def parse_args():\n",
        "    config = {\n",
        "        'data_dir': '/content/kaggle/Dataset',\n",
        "        'save_path': '/content/best_model.ckpt',\n",
        "        'output_path': '/content/submission.csv',\n",
        "        'batch_size': 32,\n",
        "        ...\n",
        "    }\n",
        "    return config\n"
      ],
      "metadata": {
        "id": "3K9tt2WcDoel"
      },
      "execution_count": null,
      "outputs": []
    }
  ]
}