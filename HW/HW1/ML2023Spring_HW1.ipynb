{
  "metadata": {
    "kernelspec": {
      "display_name": "Python 3",
      "name": "python3"
    },
    "language_info": {
      "pygments_lexer": "ipython3",
      "nbconvert_exporter": "python",
      "version": "3.6.4",
      "file_extension": ".py",
      "codemirror_mode": {
        "name": "ipython",
        "version": 3
      },
      "name": "python",
      "mimetype": "text/x-python"
    },
    "colab": {
      "provenance": []
    }
  },
  "nbformat_minor": 0,
  "nbformat": 4,
  "cells": [
    {
      "cell_type": "code",
      "source": [
        "from google.colab import drive\n",
        "drive.mount('/content/drive')"
      ],
      "metadata": {
        "colab": {
          "base_uri": "https://localhost:8080/"
        },
        "id": "9pdjrT1Yjxwn",
        "outputId": "c5811682-3661-4428-b116-53a6652244b2"
      },
      "execution_count": null,
      "outputs": [
        {
          "output_type": "stream",
          "name": "stdout",
          "text": [
            "Mounted at /content/drive\n"
          ]
        }
      ]
    },
    {
      "cell_type": "code",
      "source": [
        "import os\n",
        "print(os.getcwd())"
      ],
      "metadata": {
        "colab": {
          "base_uri": "https://localhost:8080/"
        },
        "id": "JqQ1RLFTJsOr",
        "outputId": "83fcea82-7d62-4d11-d8f3-675e985aa61e"
      },
      "execution_count": null,
      "outputs": [
        {
          "output_type": "stream",
          "name": "stdout",
          "text": [
            "/content\n"
          ]
        }
      ]
    },
    {
      "cell_type": "markdown",
      "source": [
        "# **Homework 1: COVID-19 Cases Prediction (Regression)**"
      ],
      "metadata": {
        "id": "guE34D3Fj2R9"
      }
    },
    {
      "cell_type": "markdown",
      "source": [
        "Objectives:\n",
        "* Solve a regression problem with deep neural networks (DNN).\n",
        "* Understand basic DNN training tips.\n",
        "* Familiarize yourself with PyTorch.\n",
        "\n",
        "If you have any questions, please contact the TAs via TA hours, NTU COOL, or email to mlta-2023-spring@googlegroups.com"
      ],
      "metadata": {
        "id": "V57zhcTp1Xxb"
      }
    },
    {
      "cell_type": "markdown",
      "source": [
        "# Download data\n",
        "If the Google Drive links below do not work, you can use the dropbox link below or download data from [Kaggle](https://www.kaggle.com/t/a339b77fa5214978bfb8dde62d3151fe), and upload data manually to the workspace."
      ],
      "metadata": {
        "id": "Tm2aXcb-j9Fc"
      }
    },
    {
      "cell_type": "code",
      "source": [
        "train_path = \"covid_train.csv\"\n",
        "test_path = \"covid_test.csv\"\n",
        "\n",
        "# dropbox link\n",
        "!wget -O covid_train.csv https://www.dropbox.com/s/lmy1riadzoy0ahw/covid.train.csv?dl=0\n",
        "!wget -O covid_test.csv https://www.dropbox.com/s/zalbw42lu4nmhr2/covid.test.csv?dl=0"
      ],
      "metadata": {
        "id": "YPmfl-awlKZA",
        "execution": {
          "iopub.status.busy": "2023-02-12T07:30:53.956273Z",
          "iopub.execute_input": "2023-02-12T07:30:53.956956Z",
          "iopub.status.idle": "2023-02-12T07:31:15.495174Z",
          "shell.execute_reply.started": "2023-02-12T07:30:53.956913Z",
          "shell.execute_reply": "2023-02-12T07:31:15.493786Z"
        },
        "trusted": true,
        "colab": {
          "base_uri": "https://localhost:8080/"
        },
        "outputId": "1c2b8534-768e-40ea-fcbe-50145ca1bc57"
      },
      "execution_count": null,
      "outputs": [
        {
          "output_type": "stream",
          "name": "stdout",
          "text": [
            "--2025-06-18 08:33:17--  https://www.dropbox.com/s/lmy1riadzoy0ahw/covid.train.csv?dl=0\n",
            "Resolving www.dropbox.com (www.dropbox.com)... 162.125.5.18, 2620:100:601d:18::a27d:512\n",
            "Connecting to www.dropbox.com (www.dropbox.com)|162.125.5.18|:443... connected.\n",
            "HTTP request sent, awaiting response... 302 Found\n",
            "Location: https://www.dropbox.com/scl/fi/ewl0ff7lviu0s7f53jp9o/covid.train.csv?rlkey=pocojbo26thh2ncv0xkxfafiv&dl=0 [following]\n",
            "--2025-06-18 08:33:17--  https://www.dropbox.com/scl/fi/ewl0ff7lviu0s7f53jp9o/covid.train.csv?rlkey=pocojbo26thh2ncv0xkxfafiv&dl=0\n",
            "Reusing existing connection to www.dropbox.com:443.\n",
            "HTTP request sent, awaiting response... 302 Found\n",
            "Location: https://uc8a3e4dad4d6fd9ca514be94fa8.dl.dropboxusercontent.com/cd/0/inline/Cr2vhJyHYghS8H04lUrWcbPXuhQnuyiqLBgs6yXg51eG4Csk-foSBSQDsdhhpTrY_C2wpLAtqgJWXjLiklk639H7hfsqmWV2VxjMnpxqDYtg8rX7EhJOjYrnXdKr1F9gkcG0FZiso6_EKo9RuK9Qdz-_/file# [following]\n",
            "--2025-06-18 08:33:18--  https://uc8a3e4dad4d6fd9ca514be94fa8.dl.dropboxusercontent.com/cd/0/inline/Cr2vhJyHYghS8H04lUrWcbPXuhQnuyiqLBgs6yXg51eG4Csk-foSBSQDsdhhpTrY_C2wpLAtqgJWXjLiklk639H7hfsqmWV2VxjMnpxqDYtg8rX7EhJOjYrnXdKr1F9gkcG0FZiso6_EKo9RuK9Qdz-_/file\n",
            "Resolving uc8a3e4dad4d6fd9ca514be94fa8.dl.dropboxusercontent.com (uc8a3e4dad4d6fd9ca514be94fa8.dl.dropboxusercontent.com)... 162.125.5.15, 2620:100:601d:15::a27d:50f\n",
            "Connecting to uc8a3e4dad4d6fd9ca514be94fa8.dl.dropboxusercontent.com (uc8a3e4dad4d6fd9ca514be94fa8.dl.dropboxusercontent.com)|162.125.5.15|:443... connected.\n",
            "HTTP request sent, awaiting response... 200 OK\n",
            "Length: 2162766 (2.1M) [text/plain]\n",
            "Saving to: ‘covid_train.csv’\n",
            "\n",
            "covid_train.csv     100%[===================>]   2.06M  --.-KB/s    in 0.1s    \n",
            "\n",
            "2025-06-18 08:33:18 (15.3 MB/s) - ‘covid_train.csv’ saved [2162766/2162766]\n",
            "\n",
            "--2025-06-18 08:33:18--  https://www.dropbox.com/s/zalbw42lu4nmhr2/covid.test.csv?dl=0\n",
            "Resolving www.dropbox.com (www.dropbox.com)... 162.125.5.18, 2620:100:601d:18::a27d:512\n",
            "Connecting to www.dropbox.com (www.dropbox.com)|162.125.5.18|:443... connected.\n",
            "HTTP request sent, awaiting response... 302 Found\n",
            "Location: https://www.dropbox.com/scl/fi/0dewy98wqemuhraq1pi9s/covid.test.csv?rlkey=6x7r7z3hq8pvquke1bj8rqwgo&dl=0 [following]\n",
            "--2025-06-18 08:33:18--  https://www.dropbox.com/scl/fi/0dewy98wqemuhraq1pi9s/covid.test.csv?rlkey=6x7r7z3hq8pvquke1bj8rqwgo&dl=0\n",
            "Reusing existing connection to www.dropbox.com:443.\n",
            "HTTP request sent, awaiting response... 302 Found\n",
            "Location: https://uc3aef27ac1246edb12a33c450ad.dl.dropboxusercontent.com/cd/0/inline/Cr3qOOI79j7anU06p3Jxu5J2HsECvJIHj6vBWcB_Mx0K_W-e86_pZN_hdinSa1PHX5vvUA1kPYxPMlozXAVyacCWKaT0R5I-pfGeLe4Xv-c5yCjFvChtWbNpRcsyUg5-RcivhvibhhOhyai5rZooizlm/file# [following]\n",
            "--2025-06-18 08:33:19--  https://uc3aef27ac1246edb12a33c450ad.dl.dropboxusercontent.com/cd/0/inline/Cr3qOOI79j7anU06p3Jxu5J2HsECvJIHj6vBWcB_Mx0K_W-e86_pZN_hdinSa1PHX5vvUA1kPYxPMlozXAVyacCWKaT0R5I-pfGeLe4Xv-c5yCjFvChtWbNpRcsyUg5-RcivhvibhhOhyai5rZooizlm/file\n",
            "Resolving uc3aef27ac1246edb12a33c450ad.dl.dropboxusercontent.com (uc3aef27ac1246edb12a33c450ad.dl.dropboxusercontent.com)... 162.125.5.15, 2620:100:601d:15::a27d:50f\n",
            "Connecting to uc3aef27ac1246edb12a33c450ad.dl.dropboxusercontent.com (uc3aef27ac1246edb12a33c450ad.dl.dropboxusercontent.com)|162.125.5.15|:443... connected.\n",
            "HTTP request sent, awaiting response... 200 OK\n",
            "Length: 638359 (623K) [text/plain]\n",
            "Saving to: ‘covid_test.csv’\n",
            "\n",
            "covid_test.csv      100%[===================>] 623.40K  --.-KB/s    in 0.1s    \n",
            "\n",
            "2025-06-18 08:33:19 (5.10 MB/s) - ‘covid_test.csv’ saved [638359/638359]\n",
            "\n"
          ]
        }
      ]
    },
    {
      "cell_type": "markdown",
      "source": [
        "# Import packages"
      ],
      "metadata": {
        "id": "igqIMEgu64-F"
      }
    },
    {
      "cell_type": "code",
      "source": [
        "# Numerical Operations\n",
        "import math\n",
        "import numpy as np\n",
        "\n",
        "# Data processing\n",
        "import pandas as pd\n",
        "import os\n",
        "import csv\n",
        "import matplotlib.pyplot as plt\n",
        "\n",
        "# For Progress Bar\n",
        "from tqdm import tqdm\n",
        "\n",
        "# Pytorch\n",
        "import torch\n",
        "import torch.nn as nn\n",
        "from torch.utils.data import Dataset, DataLoader, random_split\n",
        "\n",
        "# For plotting learning curve\n",
        "from torch.utils.tensorboard import SummaryWriter"
      ],
      "metadata": {
        "id": "xybQNYCXYu13",
        "execution": {
          "iopub.status.busy": "2023-02-12T07:31:16.478205Z",
          "iopub.execute_input": "2023-02-12T07:31:16.478628Z",
          "iopub.status.idle": "2023-02-12T07:31:18.240062Z",
          "shell.execute_reply.started": "2023-02-12T07:31:16.478584Z",
          "shell.execute_reply": "2023-02-12T07:31:18.239091Z"
        },
        "trusted": true
      },
      "execution_count": null,
      "outputs": []
    },
    {
      "cell_type": "markdown",
      "source": [
        "#Data Analysis\n",
        "Read .csv as pandas dataframe"
      ],
      "metadata": {
        "id": "IPkME8Ampxyu"
      }
    },
    {
      "cell_type": "code",
      "source": [
        "train_data = pd.read_csv(train_path)\n",
        "test_data = pd.read_csv(test_path)"
      ],
      "metadata": {
        "id": "IIHbx8YgoFx6"
      },
      "execution_count": null,
      "outputs": []
    },
    {
      "cell_type": "code",
      "source": [
        "# data set size (row, column)\n",
        "print(f'Train data size: {train_data.shape}')\n",
        "print(f'Test data size: {test_data.shape}')"
      ],
      "metadata": {
        "colab": {
          "base_uri": "https://localhost:8080/"
        },
        "id": "NrsmHTgJsfyJ",
        "outputId": "ed326bfd-aff6-4c05-aaf7-cc748c66477f"
      },
      "execution_count": null,
      "outputs": [
        {
          "output_type": "stream",
          "name": "stdout",
          "text": [
            "Train data size: (3009, 89)\n",
            "Test data size: (997, 88)\n"
          ]
        }
      ]
    },
    {
      "cell_type": "code",
      "source": [
        "# Data structure examination.\n",
        "# examining if data elements are missing or buggy.\n",
        "train_data.info(verbose=True)\n",
        "test_data.info(verbose=True)"
      ],
      "metadata": {
        "colab": {
          "base_uri": "https://localhost:8080/"
        },
        "id": "AuHffNUdrNgi",
        "outputId": "42cd8809-838e-4946-a46d-21cf3831bd2c"
      },
      "execution_count": null,
      "outputs": [
        {
          "output_type": "stream",
          "name": "stdout",
          "text": [
            "<class 'pandas.core.frame.DataFrame'>\n",
            "RangeIndex: 3009 entries, 0 to 3008\n",
            "Data columns (total 89 columns):\n",
            " #   Column                          Non-Null Count  Dtype  \n",
            "---  ------                          --------------  -----  \n",
            " 0   id                              3009 non-null   int64  \n",
            " 1   AL                              3009 non-null   float64\n",
            " 2   AZ                              3009 non-null   float64\n",
            " 3   CA                              3009 non-null   float64\n",
            " 4   CO                              3009 non-null   float64\n",
            " 5   CT                              3009 non-null   float64\n",
            " 6   FL                              3009 non-null   float64\n",
            " 7   GA                              3009 non-null   float64\n",
            " 8   IL                              3009 non-null   float64\n",
            " 9   IN                              3009 non-null   float64\n",
            " 10  IA                              3009 non-null   float64\n",
            " 11  KS                              3009 non-null   float64\n",
            " 12  KY                              3009 non-null   float64\n",
            " 13  LA                              3009 non-null   float64\n",
            " 14  ME                              3009 non-null   float64\n",
            " 15  MD                              3009 non-null   float64\n",
            " 16  MA                              3009 non-null   float64\n",
            " 17  MI                              3009 non-null   float64\n",
            " 18  MN                              3009 non-null   float64\n",
            " 19  MO                              3009 non-null   float64\n",
            " 20  NJ                              3009 non-null   float64\n",
            " 21  NM                              3009 non-null   float64\n",
            " 22  NY                              3009 non-null   float64\n",
            " 23  NC                              3009 non-null   float64\n",
            " 24  OH                              3009 non-null   float64\n",
            " 25  OK                              3009 non-null   float64\n",
            " 26  OR                              3009 non-null   float64\n",
            " 27  PA                              3009 non-null   float64\n",
            " 28  SC                              3009 non-null   float64\n",
            " 29  TN                              3009 non-null   float64\n",
            " 30  TX                              3009 non-null   float64\n",
            " 31  VA                              3009 non-null   float64\n",
            " 32  WA                              3009 non-null   float64\n",
            " 33  WV                              3009 non-null   float64\n",
            " 34  WI                              3009 non-null   float64\n",
            " 35  cli                             3009 non-null   float64\n",
            " 36  ili                             3009 non-null   float64\n",
            " 37  wnohh_cmnty_cli                 3009 non-null   float64\n",
            " 38  wbelief_masking_effective       3009 non-null   float64\n",
            " 39  wbelief_distancing_effective    3009 non-null   float64\n",
            " 40  wcovid_vaccinated_friends       3009 non-null   float64\n",
            " 41  wlarge_event_indoors            3009 non-null   float64\n",
            " 42  wothers_masked_public           3009 non-null   float64\n",
            " 43  wothers_distanced_public        3009 non-null   float64\n",
            " 44  wshop_indoors                   3009 non-null   float64\n",
            " 45  wrestaurant_indoors             3009 non-null   float64\n",
            " 46  wworried_catch_covid            3009 non-null   float64\n",
            " 47  hh_cmnty_cli                    3009 non-null   float64\n",
            " 48  nohh_cmnty_cli                  3009 non-null   float64\n",
            " 49  wearing_mask_7d                 3009 non-null   float64\n",
            " 50  public_transit                  3009 non-null   float64\n",
            " 51  worried_finances                3009 non-null   float64\n",
            " 52  tested_positive                 3009 non-null   float64\n",
            " 53  cli.1                           3009 non-null   float64\n",
            " 54  ili.1                           3009 non-null   float64\n",
            " 55  wnohh_cmnty_cli.1               3009 non-null   float64\n",
            " 56  wbelief_masking_effective.1     3009 non-null   float64\n",
            " 57  wbelief_distancing_effective.1  3009 non-null   float64\n",
            " 58  wcovid_vaccinated_friends.1     3009 non-null   float64\n",
            " 59  wlarge_event_indoors.1          3009 non-null   float64\n",
            " 60  wothers_masked_public.1         3009 non-null   float64\n",
            " 61  wothers_distanced_public.1      3009 non-null   float64\n",
            " 62  wshop_indoors.1                 3009 non-null   float64\n",
            " 63  wrestaurant_indoors.1           3009 non-null   float64\n",
            " 64  wworried_catch_covid.1          3009 non-null   float64\n",
            " 65  hh_cmnty_cli.1                  3009 non-null   float64\n",
            " 66  nohh_cmnty_cli.1                3009 non-null   float64\n",
            " 67  wearing_mask_7d.1               3009 non-null   float64\n",
            " 68  public_transit.1                3009 non-null   float64\n",
            " 69  worried_finances.1              3009 non-null   float64\n",
            " 70  tested_positive.1               3009 non-null   float64\n",
            " 71  cli.2                           3009 non-null   float64\n",
            " 72  ili.2                           3009 non-null   float64\n",
            " 73  wnohh_cmnty_cli.2               3009 non-null   float64\n",
            " 74  wbelief_masking_effective.2     3009 non-null   float64\n",
            " 75  wbelief_distancing_effective.2  3009 non-null   float64\n",
            " 76  wcovid_vaccinated_friends.2     3009 non-null   float64\n",
            " 77  wlarge_event_indoors.2          3009 non-null   float64\n",
            " 78  wothers_masked_public.2         3009 non-null   float64\n",
            " 79  wothers_distanced_public.2      3009 non-null   float64\n",
            " 80  wshop_indoors.2                 3009 non-null   float64\n",
            " 81  wrestaurant_indoors.2           3009 non-null   float64\n",
            " 82  wworried_catch_covid.2          3009 non-null   float64\n",
            " 83  hh_cmnty_cli.2                  3009 non-null   float64\n",
            " 84  nohh_cmnty_cli.2                3009 non-null   float64\n",
            " 85  wearing_mask_7d.2               3009 non-null   float64\n",
            " 86  public_transit.2                3009 non-null   float64\n",
            " 87  worried_finances.2              3009 non-null   float64\n",
            " 88  tested_positive.2               3009 non-null   float64\n",
            "dtypes: float64(88), int64(1)\n",
            "memory usage: 2.0 MB\n",
            "<class 'pandas.core.frame.DataFrame'>\n",
            "RangeIndex: 997 entries, 0 to 996\n",
            "Data columns (total 88 columns):\n",
            " #   Column                          Non-Null Count  Dtype  \n",
            "---  ------                          --------------  -----  \n",
            " 0   id                              997 non-null    int64  \n",
            " 1   AL                              997 non-null    int64  \n",
            " 2   AZ                              997 non-null    int64  \n",
            " 3   CA                              997 non-null    int64  \n",
            " 4   CO                              997 non-null    int64  \n",
            " 5   CT                              997 non-null    int64  \n",
            " 6   FL                              997 non-null    int64  \n",
            " 7   GA                              997 non-null    int64  \n",
            " 8   IL                              997 non-null    int64  \n",
            " 9   IN                              997 non-null    int64  \n",
            " 10  IA                              997 non-null    int64  \n",
            " 11  KS                              997 non-null    int64  \n",
            " 12  KY                              997 non-null    int64  \n",
            " 13  LA                              997 non-null    int64  \n",
            " 14  ME                              997 non-null    int64  \n",
            " 15  MD                              997 non-null    int64  \n",
            " 16  MA                              997 non-null    int64  \n",
            " 17  MI                              997 non-null    int64  \n",
            " 18  MN                              997 non-null    int64  \n",
            " 19  MO                              997 non-null    int64  \n",
            " 20  NJ                              997 non-null    int64  \n",
            " 21  NM                              997 non-null    int64  \n",
            " 22  NY                              997 non-null    int64  \n",
            " 23  NC                              997 non-null    int64  \n",
            " 24  OH                              997 non-null    int64  \n",
            " 25  OK                              997 non-null    int64  \n",
            " 26  OR                              997 non-null    int64  \n",
            " 27  PA                              997 non-null    int64  \n",
            " 28  SC                              997 non-null    int64  \n",
            " 29  TN                              997 non-null    int64  \n",
            " 30  TX                              997 non-null    int64  \n",
            " 31  VA                              997 non-null    int64  \n",
            " 32  WA                              997 non-null    int64  \n",
            " 33  WV                              997 non-null    int64  \n",
            " 34  WI                              997 non-null    int64  \n",
            " 35  cli                             997 non-null    float64\n",
            " 36  ili                             997 non-null    float64\n",
            " 37  wnohh_cmnty_cli                 997 non-null    float64\n",
            " 38  wbelief_masking_effective       997 non-null    float64\n",
            " 39  wbelief_distancing_effective    997 non-null    float64\n",
            " 40  wcovid_vaccinated_friends       997 non-null    float64\n",
            " 41  wlarge_event_indoors            997 non-null    float64\n",
            " 42  wothers_masked_public           997 non-null    float64\n",
            " 43  wothers_distanced_public        997 non-null    float64\n",
            " 44  wshop_indoors                   997 non-null    float64\n",
            " 45  wrestaurant_indoors             997 non-null    float64\n",
            " 46  wworried_catch_covid            997 non-null    float64\n",
            " 47  hh_cmnty_cli                    997 non-null    float64\n",
            " 48  nohh_cmnty_cli                  997 non-null    float64\n",
            " 49  wearing_mask_7d                 997 non-null    float64\n",
            " 50  public_transit                  997 non-null    float64\n",
            " 51  worried_finances                997 non-null    float64\n",
            " 52  tested_positive                 997 non-null    float64\n",
            " 53  cli.1                           997 non-null    float64\n",
            " 54  ili.1                           997 non-null    float64\n",
            " 55  wnohh_cmnty_cli.1               997 non-null    float64\n",
            " 56  wbelief_masking_effective.1     997 non-null    float64\n",
            " 57  wbelief_distancing_effective.1  997 non-null    float64\n",
            " 58  wcovid_vaccinated_friends.1     997 non-null    float64\n",
            " 59  wlarge_event_indoors.1          997 non-null    float64\n",
            " 60  wothers_masked_public.1         997 non-null    float64\n",
            " 61  wothers_distanced_public.1      997 non-null    float64\n",
            " 62  wshop_indoors.1                 997 non-null    float64\n",
            " 63  wrestaurant_indoors.1           997 non-null    float64\n",
            " 64  wworried_catch_covid.1          997 non-null    float64\n",
            " 65  hh_cmnty_cli.1                  997 non-null    float64\n",
            " 66  nohh_cmnty_cli.1                997 non-null    float64\n",
            " 67  wearing_mask_7d.1               997 non-null    float64\n",
            " 68  public_transit.1                997 non-null    float64\n",
            " 69  worried_finances.1              997 non-null    float64\n",
            " 70  tested_positive.1               997 non-null    float64\n",
            " 71  cli.2                           997 non-null    float64\n",
            " 72  ili.2                           997 non-null    float64\n",
            " 73  wnohh_cmnty_cli.2               997 non-null    float64\n",
            " 74  wbelief_masking_effective.2     997 non-null    float64\n",
            " 75  wbelief_distancing_effective.2  997 non-null    float64\n",
            " 76  wcovid_vaccinated_friends.2     997 non-null    float64\n",
            " 77  wlarge_event_indoors.2          997 non-null    float64\n",
            " 78  wothers_masked_public.2         997 non-null    float64\n",
            " 79  wothers_distanced_public.2      997 non-null    float64\n",
            " 80  wshop_indoors.2                 997 non-null    float64\n",
            " 81  wrestaurant_indoors.2           997 non-null    float64\n",
            " 82  wworried_catch_covid.2          997 non-null    float64\n",
            " 83  hh_cmnty_cli.2                  997 non-null    float64\n",
            " 84  nohh_cmnty_cli.2                997 non-null    float64\n",
            " 85  wearing_mask_7d.2               997 non-null    float64\n",
            " 86  public_transit.2                997 non-null    float64\n",
            " 87  worried_finances.2              997 non-null    float64\n",
            "dtypes: float64(53), int64(35)\n",
            "memory usage: 685.6 KB\n"
          ]
        }
      ]
    },
    {
      "cell_type": "code",
      "source": [
        "train_data.iloc[:, 35:].describe().T"
      ],
      "metadata": {
        "colab": {
          "base_uri": "https://localhost:8080/",
          "height": 1000
        },
        "id": "36Jx0pjOuURc",
        "outputId": "2ab0583f-8175-43ab-c617-663f939fca65"
      },
      "execution_count": null,
      "outputs": [
        {
          "output_type": "execute_result",
          "data": {
            "text/plain": [
              "                                 count       mean        std        min  \\\n",
              "cli                             3009.0   1.904847   1.164341   0.527492   \n",
              "ili                             3009.0   1.949034   1.190484   0.532857   \n",
              "wnohh_cmnty_cli                 3009.0  20.199605   9.733530   6.071146   \n",
              "wbelief_masking_effective       3009.0  69.279013   6.572673  53.865832   \n",
              "wbelief_distancing_effective    3009.0  70.275338   5.338149  58.124805   \n",
              "wcovid_vaccinated_friends       3009.0  64.260715   8.318819  46.016983   \n",
              "wlarge_event_indoors            3009.0  24.411230   4.782449  12.220909   \n",
              "wothers_masked_public           3009.0  22.043644  17.199215   1.412573   \n",
              "wothers_distanced_public        3009.0  18.689943   3.906005  10.160316   \n",
              "wshop_indoors                   3009.0  65.354739   3.995930  52.795552   \n",
              "wrestaurant_indoors             3009.0  35.803731   5.419713  19.442195   \n",
              "wworried_catch_covid            3009.0  46.140332   7.170424  27.061680   \n",
              "hh_cmnty_cli                    3009.0  25.061761  10.733749   9.615388   \n",
              "nohh_cmnty_cli                  3009.0  20.010244   9.954497   5.980560   \n",
              "wearing_mask_7d                 3009.0  60.891034  13.534457  28.867455   \n",
              "public_transit                  3009.0   4.612565   2.058745   1.813682   \n",
              "worried_finances                3009.0  36.523929   3.290569  27.602169   \n",
              "tested_positive                 3009.0  17.367134   9.900024   3.054288   \n",
              "cli.1                           3009.0   1.902808   1.161696   0.527492   \n",
              "ili.1                           3009.0   1.947020   1.187693   0.532857   \n",
              "wnohh_cmnty_cli.1               3009.0  20.158947   9.739035   6.071146   \n",
              "wbelief_masking_effective.1     3009.0  69.226916   6.579744  53.865832   \n",
              "wbelief_distancing_effective.1  3009.0  70.230223   5.338985  58.124805   \n",
              "wcovid_vaccinated_friends.1     3009.0  64.265772   8.307214  46.016983   \n",
              "wlarge_event_indoors.1          3009.0  24.451773   4.795876  12.220909   \n",
              "wothers_masked_public.1         3009.0  21.944444  17.182517   1.412573   \n",
              "wothers_distanced_public.1      3009.0  18.656603   3.914143  10.160316   \n",
              "wshop_indoors.1                 3009.0  65.373374   3.986863  52.795552   \n",
              "wrestaurant_indoors.1           3009.0  35.851817   5.436419  19.442195   \n",
              "wworried_catch_covid.1          3009.0  46.074825   7.196685  27.061680   \n",
              "hh_cmnty_cli.1                  3009.0  25.022602  10.735356   9.615388   \n",
              "nohh_cmnty_cli.1                3009.0  19.967460   9.960102   5.980560   \n",
              "wearing_mask_7d.1               3009.0  60.734722  13.620577  28.151731   \n",
              "public_transit.1                3009.0   4.618832   2.062839   1.813682   \n",
              "worried_finances.1              3009.0  36.528579   3.293335  27.602169   \n",
              "tested_positive.1               3009.0  17.333712   9.907454   3.054288   \n",
              "cli.2                           3009.0   1.901626   1.160465   0.527492   \n",
              "ili.2                           3009.0   1.945793   1.186267   0.532857   \n",
              "wnohh_cmnty_cli.2               3009.0  20.122161   9.745913   6.071146   \n",
              "wbelief_masking_effective.2     3009.0  69.179829   6.583162  53.865832   \n",
              "wbelief_distancing_effective.2  3009.0  70.187124   5.338017  58.124805   \n",
              "wcovid_vaccinated_friends.2     3009.0  64.273721   8.293460  46.016983   \n",
              "wlarge_event_indoors.2          3009.0  24.497786   4.809128  12.220909   \n",
              "wothers_masked_public.2         3009.0  21.843260  17.168154   1.412573   \n",
              "wothers_distanced_public.2      3009.0  18.621633   3.922348  10.160316   \n",
              "wshop_indoors.2                 3009.0  65.388258   3.977411  52.795552   \n",
              "wrestaurant_indoors.2           3009.0  35.893911   5.456327  19.442195   \n",
              "wworried_catch_covid.2          3009.0  46.012602   7.222752  27.061680   \n",
              "hh_cmnty_cli.2                  3009.0  24.988992  10.739559   9.615388   \n",
              "nohh_cmnty_cli.2                3009.0  19.929889   9.967520   5.980560   \n",
              "wearing_mask_7d.2               3009.0  60.577204  13.706937  27.768290   \n",
              "public_transit.2                3009.0   4.625976   2.067438   1.813682   \n",
              "worried_finances.2              3009.0  36.534406   3.291910  27.602169   \n",
              "tested_positive.2               3009.0  17.305063   9.914877   3.054288   \n",
              "\n",
              "                                      25%        50%        75%        max  \n",
              "cli                              1.135033   1.497632   2.182141   7.415674  \n",
              "ili                              1.160726   1.525816   2.212669   7.589683  \n",
              "wnohh_cmnty_cli                 12.042430  17.684337  25.757733  52.756419  \n",
              "wbelief_masking_effective       64.304068  68.929544  73.673015  84.589209  \n",
              "wbelief_distancing_effective    66.143604  70.053844  73.630347  84.623704  \n",
              "wcovid_vaccinated_friends       57.362452  63.167252  70.899772  83.234836  \n",
              "wlarge_event_indoors            21.182495  24.708802  28.092541  36.090664  \n",
              "wothers_masked_public            9.640602  14.752181  31.183893  69.108401  \n",
              "wothers_distanced_public        15.947625  18.022037  21.149260  30.159699  \n",
              "wshop_indoors                   62.989557  66.268200  68.387090  73.810029  \n",
              "wrestaurant_indoors             32.018897  36.445076  39.763953  50.473201  \n",
              "wworried_catch_covid            40.991706  45.807377  51.018881  68.028910  \n",
              "hh_cmnty_cli                    16.274668  22.191011  30.748037  60.165463  \n",
              "nohh_cmnty_cli                  11.579904  17.422812  25.322880  53.295823  \n",
              "wearing_mask_7d                 51.166398  59.751667  70.841255  90.558231  \n",
              "public_transit                   3.240271   4.130369   5.422728  15.513524  \n",
              "worried_finances                34.145526  36.237115  38.701465  46.305496  \n",
              "tested_positive                  9.143969  14.930556  23.408749  46.952473  \n",
              "cli.1                            1.135033   1.494462   2.182141   7.415674  \n",
              "ili.1                            1.160617   1.524387   2.216036   7.589683  \n",
              "wnohh_cmnty_cli.1               11.995553  17.590125  25.741543  52.756419  \n",
              "wbelief_masking_effective.1     64.275463  68.889273  73.615894  84.589209  \n",
              "wbelief_distancing_effective.1  66.113047  70.010039  73.597209  84.623704  \n",
              "wcovid_vaccinated_friends.1     57.342892  63.197262  70.894046  83.234836  \n",
              "wlarge_event_indoors.1          21.202865  24.770215  28.145003  36.090664  \n",
              "wothers_masked_public.1          9.573239  14.713937  31.110788  69.108401  \n",
              "wothers_distanced_public.1      15.910130  17.965171  21.100448  30.159699  \n",
              "wshop_indoors.1                 63.084160  66.265714  68.388347  73.810029  \n",
              "wrestaurant_indoors.1           32.052551  36.480533  39.854036  50.561672  \n",
              "wworried_catch_covid.1          40.846750  45.762230  50.988418  68.028910  \n",
              "hh_cmnty_cli.1                  16.173680  22.080958  30.732978  60.165463  \n",
              "nohh_cmnty_cli.1                11.529557  17.347763  25.306896  53.295823  \n",
              "wearing_mask_7d.1               50.946837  59.692967  70.635738  90.558231  \n",
              "public_transit.1                 3.244010   4.136031   5.427816  15.513524  \n",
              "worried_finances.1              34.145526  36.244121  38.690061  46.305496  \n",
              "tested_positive.1                9.117647  14.879858  23.400501  46.952473  \n",
              "cli.2                            1.134916   1.493432   2.182141   7.415674  \n",
              "ili.2                            1.159059   1.523584   2.216036   7.589683  \n",
              "wnohh_cmnty_cli.2               11.949555  17.549513  25.736318  52.756419  \n",
              "wbelief_masking_effective.2     64.245748  68.846191  73.549229  84.589209  \n",
              "wbelief_distancing_effective.2  66.048184  69.968472  73.564306  84.623704  \n",
              "wcovid_vaccinated_friends.2     57.362452  63.204295  70.876852  83.234836  \n",
              "wlarge_event_indoors.2          21.216055  24.842624  28.175011  36.094743  \n",
              "wothers_masked_public.2          9.520122  14.646450  31.068624  69.108401  \n",
              "wothers_distanced_public.2      15.857245  17.926387  21.069870  30.159699  \n",
              "wshop_indoors.2                 63.124286  66.258449  68.398967  73.810029  \n",
              "wrestaurant_indoors.2           32.073634  36.522056  39.923565  50.561672  \n",
              "wworried_catch_covid.2          40.754144  45.680923  50.950157  68.028910  \n",
              "hh_cmnty_cli.2                  16.100516  22.030417  30.732978  60.165463  \n",
              "nohh_cmnty_cli.2                11.475278  17.319409  25.306896  53.295823  \n",
              "wearing_mask_7d.2               50.691021  59.626054  70.455662  90.558231  \n",
              "public_transit.2                 3.252371   4.141356   5.429708  15.513524  \n",
              "worried_finances.2              34.149117  36.249582  38.690061  46.305496  \n",
              "tested_positive.2                9.101412  14.848052  23.361068  46.952473  "
            ],
            "text/html": [
              "\n",
              "  <div id=\"df-82df46ad-df44-4a80-9baf-15a1e3dd9433\" class=\"colab-df-container\">\n",
              "    <div>\n",
              "<style scoped>\n",
              "    .dataframe tbody tr th:only-of-type {\n",
              "        vertical-align: middle;\n",
              "    }\n",
              "\n",
              "    .dataframe tbody tr th {\n",
              "        vertical-align: top;\n",
              "    }\n",
              "\n",
              "    .dataframe thead th {\n",
              "        text-align: right;\n",
              "    }\n",
              "</style>\n",
              "<table border=\"1\" class=\"dataframe\">\n",
              "  <thead>\n",
              "    <tr style=\"text-align: right;\">\n",
              "      <th></th>\n",
              "      <th>count</th>\n",
              "      <th>mean</th>\n",
              "      <th>std</th>\n",
              "      <th>min</th>\n",
              "      <th>25%</th>\n",
              "      <th>50%</th>\n",
              "      <th>75%</th>\n",
              "      <th>max</th>\n",
              "    </tr>\n",
              "  </thead>\n",
              "  <tbody>\n",
              "    <tr>\n",
              "      <th>cli</th>\n",
              "      <td>3009.0</td>\n",
              "      <td>1.904847</td>\n",
              "      <td>1.164341</td>\n",
              "      <td>0.527492</td>\n",
              "      <td>1.135033</td>\n",
              "      <td>1.497632</td>\n",
              "      <td>2.182141</td>\n",
              "      <td>7.415674</td>\n",
              "    </tr>\n",
              "    <tr>\n",
              "      <th>ili</th>\n",
              "      <td>3009.0</td>\n",
              "      <td>1.949034</td>\n",
              "      <td>1.190484</td>\n",
              "      <td>0.532857</td>\n",
              "      <td>1.160726</td>\n",
              "      <td>1.525816</td>\n",
              "      <td>2.212669</td>\n",
              "      <td>7.589683</td>\n",
              "    </tr>\n",
              "    <tr>\n",
              "      <th>wnohh_cmnty_cli</th>\n",
              "      <td>3009.0</td>\n",
              "      <td>20.199605</td>\n",
              "      <td>9.733530</td>\n",
              "      <td>6.071146</td>\n",
              "      <td>12.042430</td>\n",
              "      <td>17.684337</td>\n",
              "      <td>25.757733</td>\n",
              "      <td>52.756419</td>\n",
              "    </tr>\n",
              "    <tr>\n",
              "      <th>wbelief_masking_effective</th>\n",
              "      <td>3009.0</td>\n",
              "      <td>69.279013</td>\n",
              "      <td>6.572673</td>\n",
              "      <td>53.865832</td>\n",
              "      <td>64.304068</td>\n",
              "      <td>68.929544</td>\n",
              "      <td>73.673015</td>\n",
              "      <td>84.589209</td>\n",
              "    </tr>\n",
              "    <tr>\n",
              "      <th>wbelief_distancing_effective</th>\n",
              "      <td>3009.0</td>\n",
              "      <td>70.275338</td>\n",
              "      <td>5.338149</td>\n",
              "      <td>58.124805</td>\n",
              "      <td>66.143604</td>\n",
              "      <td>70.053844</td>\n",
              "      <td>73.630347</td>\n",
              "      <td>84.623704</td>\n",
              "    </tr>\n",
              "    <tr>\n",
              "      <th>wcovid_vaccinated_friends</th>\n",
              "      <td>3009.0</td>\n",
              "      <td>64.260715</td>\n",
              "      <td>8.318819</td>\n",
              "      <td>46.016983</td>\n",
              "      <td>57.362452</td>\n",
              "      <td>63.167252</td>\n",
              "      <td>70.899772</td>\n",
              "      <td>83.234836</td>\n",
              "    </tr>\n",
              "    <tr>\n",
              "      <th>wlarge_event_indoors</th>\n",
              "      <td>3009.0</td>\n",
              "      <td>24.411230</td>\n",
              "      <td>4.782449</td>\n",
              "      <td>12.220909</td>\n",
              "      <td>21.182495</td>\n",
              "      <td>24.708802</td>\n",
              "      <td>28.092541</td>\n",
              "      <td>36.090664</td>\n",
              "    </tr>\n",
              "    <tr>\n",
              "      <th>wothers_masked_public</th>\n",
              "      <td>3009.0</td>\n",
              "      <td>22.043644</td>\n",
              "      <td>17.199215</td>\n",
              "      <td>1.412573</td>\n",
              "      <td>9.640602</td>\n",
              "      <td>14.752181</td>\n",
              "      <td>31.183893</td>\n",
              "      <td>69.108401</td>\n",
              "    </tr>\n",
              "    <tr>\n",
              "      <th>wothers_distanced_public</th>\n",
              "      <td>3009.0</td>\n",
              "      <td>18.689943</td>\n",
              "      <td>3.906005</td>\n",
              "      <td>10.160316</td>\n",
              "      <td>15.947625</td>\n",
              "      <td>18.022037</td>\n",
              "      <td>21.149260</td>\n",
              "      <td>30.159699</td>\n",
              "    </tr>\n",
              "    <tr>\n",
              "      <th>wshop_indoors</th>\n",
              "      <td>3009.0</td>\n",
              "      <td>65.354739</td>\n",
              "      <td>3.995930</td>\n",
              "      <td>52.795552</td>\n",
              "      <td>62.989557</td>\n",
              "      <td>66.268200</td>\n",
              "      <td>68.387090</td>\n",
              "      <td>73.810029</td>\n",
              "    </tr>\n",
              "    <tr>\n",
              "      <th>wrestaurant_indoors</th>\n",
              "      <td>3009.0</td>\n",
              "      <td>35.803731</td>\n",
              "      <td>5.419713</td>\n",
              "      <td>19.442195</td>\n",
              "      <td>32.018897</td>\n",
              "      <td>36.445076</td>\n",
              "      <td>39.763953</td>\n",
              "      <td>50.473201</td>\n",
              "    </tr>\n",
              "    <tr>\n",
              "      <th>wworried_catch_covid</th>\n",
              "      <td>3009.0</td>\n",
              "      <td>46.140332</td>\n",
              "      <td>7.170424</td>\n",
              "      <td>27.061680</td>\n",
              "      <td>40.991706</td>\n",
              "      <td>45.807377</td>\n",
              "      <td>51.018881</td>\n",
              "      <td>68.028910</td>\n",
              "    </tr>\n",
              "    <tr>\n",
              "      <th>hh_cmnty_cli</th>\n",
              "      <td>3009.0</td>\n",
              "      <td>25.061761</td>\n",
              "      <td>10.733749</td>\n",
              "      <td>9.615388</td>\n",
              "      <td>16.274668</td>\n",
              "      <td>22.191011</td>\n",
              "      <td>30.748037</td>\n",
              "      <td>60.165463</td>\n",
              "    </tr>\n",
              "    <tr>\n",
              "      <th>nohh_cmnty_cli</th>\n",
              "      <td>3009.0</td>\n",
              "      <td>20.010244</td>\n",
              "      <td>9.954497</td>\n",
              "      <td>5.980560</td>\n",
              "      <td>11.579904</td>\n",
              "      <td>17.422812</td>\n",
              "      <td>25.322880</td>\n",
              "      <td>53.295823</td>\n",
              "    </tr>\n",
              "    <tr>\n",
              "      <th>wearing_mask_7d</th>\n",
              "      <td>3009.0</td>\n",
              "      <td>60.891034</td>\n",
              "      <td>13.534457</td>\n",
              "      <td>28.867455</td>\n",
              "      <td>51.166398</td>\n",
              "      <td>59.751667</td>\n",
              "      <td>70.841255</td>\n",
              "      <td>90.558231</td>\n",
              "    </tr>\n",
              "    <tr>\n",
              "      <th>public_transit</th>\n",
              "      <td>3009.0</td>\n",
              "      <td>4.612565</td>\n",
              "      <td>2.058745</td>\n",
              "      <td>1.813682</td>\n",
              "      <td>3.240271</td>\n",
              "      <td>4.130369</td>\n",
              "      <td>5.422728</td>\n",
              "      <td>15.513524</td>\n",
              "    </tr>\n",
              "    <tr>\n",
              "      <th>worried_finances</th>\n",
              "      <td>3009.0</td>\n",
              "      <td>36.523929</td>\n",
              "      <td>3.290569</td>\n",
              "      <td>27.602169</td>\n",
              "      <td>34.145526</td>\n",
              "      <td>36.237115</td>\n",
              "      <td>38.701465</td>\n",
              "      <td>46.305496</td>\n",
              "    </tr>\n",
              "    <tr>\n",
              "      <th>tested_positive</th>\n",
              "      <td>3009.0</td>\n",
              "      <td>17.367134</td>\n",
              "      <td>9.900024</td>\n",
              "      <td>3.054288</td>\n",
              "      <td>9.143969</td>\n",
              "      <td>14.930556</td>\n",
              "      <td>23.408749</td>\n",
              "      <td>46.952473</td>\n",
              "    </tr>\n",
              "    <tr>\n",
              "      <th>cli.1</th>\n",
              "      <td>3009.0</td>\n",
              "      <td>1.902808</td>\n",
              "      <td>1.161696</td>\n",
              "      <td>0.527492</td>\n",
              "      <td>1.135033</td>\n",
              "      <td>1.494462</td>\n",
              "      <td>2.182141</td>\n",
              "      <td>7.415674</td>\n",
              "    </tr>\n",
              "    <tr>\n",
              "      <th>ili.1</th>\n",
              "      <td>3009.0</td>\n",
              "      <td>1.947020</td>\n",
              "      <td>1.187693</td>\n",
              "      <td>0.532857</td>\n",
              "      <td>1.160617</td>\n",
              "      <td>1.524387</td>\n",
              "      <td>2.216036</td>\n",
              "      <td>7.589683</td>\n",
              "    </tr>\n",
              "    <tr>\n",
              "      <th>wnohh_cmnty_cli.1</th>\n",
              "      <td>3009.0</td>\n",
              "      <td>20.158947</td>\n",
              "      <td>9.739035</td>\n",
              "      <td>6.071146</td>\n",
              "      <td>11.995553</td>\n",
              "      <td>17.590125</td>\n",
              "      <td>25.741543</td>\n",
              "      <td>52.756419</td>\n",
              "    </tr>\n",
              "    <tr>\n",
              "      <th>wbelief_masking_effective.1</th>\n",
              "      <td>3009.0</td>\n",
              "      <td>69.226916</td>\n",
              "      <td>6.579744</td>\n",
              "      <td>53.865832</td>\n",
              "      <td>64.275463</td>\n",
              "      <td>68.889273</td>\n",
              "      <td>73.615894</td>\n",
              "      <td>84.589209</td>\n",
              "    </tr>\n",
              "    <tr>\n",
              "      <th>wbelief_distancing_effective.1</th>\n",
              "      <td>3009.0</td>\n",
              "      <td>70.230223</td>\n",
              "      <td>5.338985</td>\n",
              "      <td>58.124805</td>\n",
              "      <td>66.113047</td>\n",
              "      <td>70.010039</td>\n",
              "      <td>73.597209</td>\n",
              "      <td>84.623704</td>\n",
              "    </tr>\n",
              "    <tr>\n",
              "      <th>wcovid_vaccinated_friends.1</th>\n",
              "      <td>3009.0</td>\n",
              "      <td>64.265772</td>\n",
              "      <td>8.307214</td>\n",
              "      <td>46.016983</td>\n",
              "      <td>57.342892</td>\n",
              "      <td>63.197262</td>\n",
              "      <td>70.894046</td>\n",
              "      <td>83.234836</td>\n",
              "    </tr>\n",
              "    <tr>\n",
              "      <th>wlarge_event_indoors.1</th>\n",
              "      <td>3009.0</td>\n",
              "      <td>24.451773</td>\n",
              "      <td>4.795876</td>\n",
              "      <td>12.220909</td>\n",
              "      <td>21.202865</td>\n",
              "      <td>24.770215</td>\n",
              "      <td>28.145003</td>\n",
              "      <td>36.090664</td>\n",
              "    </tr>\n",
              "    <tr>\n",
              "      <th>wothers_masked_public.1</th>\n",
              "      <td>3009.0</td>\n",
              "      <td>21.944444</td>\n",
              "      <td>17.182517</td>\n",
              "      <td>1.412573</td>\n",
              "      <td>9.573239</td>\n",
              "      <td>14.713937</td>\n",
              "      <td>31.110788</td>\n",
              "      <td>69.108401</td>\n",
              "    </tr>\n",
              "    <tr>\n",
              "      <th>wothers_distanced_public.1</th>\n",
              "      <td>3009.0</td>\n",
              "      <td>18.656603</td>\n",
              "      <td>3.914143</td>\n",
              "      <td>10.160316</td>\n",
              "      <td>15.910130</td>\n",
              "      <td>17.965171</td>\n",
              "      <td>21.100448</td>\n",
              "      <td>30.159699</td>\n",
              "    </tr>\n",
              "    <tr>\n",
              "      <th>wshop_indoors.1</th>\n",
              "      <td>3009.0</td>\n",
              "      <td>65.373374</td>\n",
              "      <td>3.986863</td>\n",
              "      <td>52.795552</td>\n",
              "      <td>63.084160</td>\n",
              "      <td>66.265714</td>\n",
              "      <td>68.388347</td>\n",
              "      <td>73.810029</td>\n",
              "    </tr>\n",
              "    <tr>\n",
              "      <th>wrestaurant_indoors.1</th>\n",
              "      <td>3009.0</td>\n",
              "      <td>35.851817</td>\n",
              "      <td>5.436419</td>\n",
              "      <td>19.442195</td>\n",
              "      <td>32.052551</td>\n",
              "      <td>36.480533</td>\n",
              "      <td>39.854036</td>\n",
              "      <td>50.561672</td>\n",
              "    </tr>\n",
              "    <tr>\n",
              "      <th>wworried_catch_covid.1</th>\n",
              "      <td>3009.0</td>\n",
              "      <td>46.074825</td>\n",
              "      <td>7.196685</td>\n",
              "      <td>27.061680</td>\n",
              "      <td>40.846750</td>\n",
              "      <td>45.762230</td>\n",
              "      <td>50.988418</td>\n",
              "      <td>68.028910</td>\n",
              "    </tr>\n",
              "    <tr>\n",
              "      <th>hh_cmnty_cli.1</th>\n",
              "      <td>3009.0</td>\n",
              "      <td>25.022602</td>\n",
              "      <td>10.735356</td>\n",
              "      <td>9.615388</td>\n",
              "      <td>16.173680</td>\n",
              "      <td>22.080958</td>\n",
              "      <td>30.732978</td>\n",
              "      <td>60.165463</td>\n",
              "    </tr>\n",
              "    <tr>\n",
              "      <th>nohh_cmnty_cli.1</th>\n",
              "      <td>3009.0</td>\n",
              "      <td>19.967460</td>\n",
              "      <td>9.960102</td>\n",
              "      <td>5.980560</td>\n",
              "      <td>11.529557</td>\n",
              "      <td>17.347763</td>\n",
              "      <td>25.306896</td>\n",
              "      <td>53.295823</td>\n",
              "    </tr>\n",
              "    <tr>\n",
              "      <th>wearing_mask_7d.1</th>\n",
              "      <td>3009.0</td>\n",
              "      <td>60.734722</td>\n",
              "      <td>13.620577</td>\n",
              "      <td>28.151731</td>\n",
              "      <td>50.946837</td>\n",
              "      <td>59.692967</td>\n",
              "      <td>70.635738</td>\n",
              "      <td>90.558231</td>\n",
              "    </tr>\n",
              "    <tr>\n",
              "      <th>public_transit.1</th>\n",
              "      <td>3009.0</td>\n",
              "      <td>4.618832</td>\n",
              "      <td>2.062839</td>\n",
              "      <td>1.813682</td>\n",
              "      <td>3.244010</td>\n",
              "      <td>4.136031</td>\n",
              "      <td>5.427816</td>\n",
              "      <td>15.513524</td>\n",
              "    </tr>\n",
              "    <tr>\n",
              "      <th>worried_finances.1</th>\n",
              "      <td>3009.0</td>\n",
              "      <td>36.528579</td>\n",
              "      <td>3.293335</td>\n",
              "      <td>27.602169</td>\n",
              "      <td>34.145526</td>\n",
              "      <td>36.244121</td>\n",
              "      <td>38.690061</td>\n",
              "      <td>46.305496</td>\n",
              "    </tr>\n",
              "    <tr>\n",
              "      <th>tested_positive.1</th>\n",
              "      <td>3009.0</td>\n",
              "      <td>17.333712</td>\n",
              "      <td>9.907454</td>\n",
              "      <td>3.054288</td>\n",
              "      <td>9.117647</td>\n",
              "      <td>14.879858</td>\n",
              "      <td>23.400501</td>\n",
              "      <td>46.952473</td>\n",
              "    </tr>\n",
              "    <tr>\n",
              "      <th>cli.2</th>\n",
              "      <td>3009.0</td>\n",
              "      <td>1.901626</td>\n",
              "      <td>1.160465</td>\n",
              "      <td>0.527492</td>\n",
              "      <td>1.134916</td>\n",
              "      <td>1.493432</td>\n",
              "      <td>2.182141</td>\n",
              "      <td>7.415674</td>\n",
              "    </tr>\n",
              "    <tr>\n",
              "      <th>ili.2</th>\n",
              "      <td>3009.0</td>\n",
              "      <td>1.945793</td>\n",
              "      <td>1.186267</td>\n",
              "      <td>0.532857</td>\n",
              "      <td>1.159059</td>\n",
              "      <td>1.523584</td>\n",
              "      <td>2.216036</td>\n",
              "      <td>7.589683</td>\n",
              "    </tr>\n",
              "    <tr>\n",
              "      <th>wnohh_cmnty_cli.2</th>\n",
              "      <td>3009.0</td>\n",
              "      <td>20.122161</td>\n",
              "      <td>9.745913</td>\n",
              "      <td>6.071146</td>\n",
              "      <td>11.949555</td>\n",
              "      <td>17.549513</td>\n",
              "      <td>25.736318</td>\n",
              "      <td>52.756419</td>\n",
              "    </tr>\n",
              "    <tr>\n",
              "      <th>wbelief_masking_effective.2</th>\n",
              "      <td>3009.0</td>\n",
              "      <td>69.179829</td>\n",
              "      <td>6.583162</td>\n",
              "      <td>53.865832</td>\n",
              "      <td>64.245748</td>\n",
              "      <td>68.846191</td>\n",
              "      <td>73.549229</td>\n",
              "      <td>84.589209</td>\n",
              "    </tr>\n",
              "    <tr>\n",
              "      <th>wbelief_distancing_effective.2</th>\n",
              "      <td>3009.0</td>\n",
              "      <td>70.187124</td>\n",
              "      <td>5.338017</td>\n",
              "      <td>58.124805</td>\n",
              "      <td>66.048184</td>\n",
              "      <td>69.968472</td>\n",
              "      <td>73.564306</td>\n",
              "      <td>84.623704</td>\n",
              "    </tr>\n",
              "    <tr>\n",
              "      <th>wcovid_vaccinated_friends.2</th>\n",
              "      <td>3009.0</td>\n",
              "      <td>64.273721</td>\n",
              "      <td>8.293460</td>\n",
              "      <td>46.016983</td>\n",
              "      <td>57.362452</td>\n",
              "      <td>63.204295</td>\n",
              "      <td>70.876852</td>\n",
              "      <td>83.234836</td>\n",
              "    </tr>\n",
              "    <tr>\n",
              "      <th>wlarge_event_indoors.2</th>\n",
              "      <td>3009.0</td>\n",
              "      <td>24.497786</td>\n",
              "      <td>4.809128</td>\n",
              "      <td>12.220909</td>\n",
              "      <td>21.216055</td>\n",
              "      <td>24.842624</td>\n",
              "      <td>28.175011</td>\n",
              "      <td>36.094743</td>\n",
              "    </tr>\n",
              "    <tr>\n",
              "      <th>wothers_masked_public.2</th>\n",
              "      <td>3009.0</td>\n",
              "      <td>21.843260</td>\n",
              "      <td>17.168154</td>\n",
              "      <td>1.412573</td>\n",
              "      <td>9.520122</td>\n",
              "      <td>14.646450</td>\n",
              "      <td>31.068624</td>\n",
              "      <td>69.108401</td>\n",
              "    </tr>\n",
              "    <tr>\n",
              "      <th>wothers_distanced_public.2</th>\n",
              "      <td>3009.0</td>\n",
              "      <td>18.621633</td>\n",
              "      <td>3.922348</td>\n",
              "      <td>10.160316</td>\n",
              "      <td>15.857245</td>\n",
              "      <td>17.926387</td>\n",
              "      <td>21.069870</td>\n",
              "      <td>30.159699</td>\n",
              "    </tr>\n",
              "    <tr>\n",
              "      <th>wshop_indoors.2</th>\n",
              "      <td>3009.0</td>\n",
              "      <td>65.388258</td>\n",
              "      <td>3.977411</td>\n",
              "      <td>52.795552</td>\n",
              "      <td>63.124286</td>\n",
              "      <td>66.258449</td>\n",
              "      <td>68.398967</td>\n",
              "      <td>73.810029</td>\n",
              "    </tr>\n",
              "    <tr>\n",
              "      <th>wrestaurant_indoors.2</th>\n",
              "      <td>3009.0</td>\n",
              "      <td>35.893911</td>\n",
              "      <td>5.456327</td>\n",
              "      <td>19.442195</td>\n",
              "      <td>32.073634</td>\n",
              "      <td>36.522056</td>\n",
              "      <td>39.923565</td>\n",
              "      <td>50.561672</td>\n",
              "    </tr>\n",
              "    <tr>\n",
              "      <th>wworried_catch_covid.2</th>\n",
              "      <td>3009.0</td>\n",
              "      <td>46.012602</td>\n",
              "      <td>7.222752</td>\n",
              "      <td>27.061680</td>\n",
              "      <td>40.754144</td>\n",
              "      <td>45.680923</td>\n",
              "      <td>50.950157</td>\n",
              "      <td>68.028910</td>\n",
              "    </tr>\n",
              "    <tr>\n",
              "      <th>hh_cmnty_cli.2</th>\n",
              "      <td>3009.0</td>\n",
              "      <td>24.988992</td>\n",
              "      <td>10.739559</td>\n",
              "      <td>9.615388</td>\n",
              "      <td>16.100516</td>\n",
              "      <td>22.030417</td>\n",
              "      <td>30.732978</td>\n",
              "      <td>60.165463</td>\n",
              "    </tr>\n",
              "    <tr>\n",
              "      <th>nohh_cmnty_cli.2</th>\n",
              "      <td>3009.0</td>\n",
              "      <td>19.929889</td>\n",
              "      <td>9.967520</td>\n",
              "      <td>5.980560</td>\n",
              "      <td>11.475278</td>\n",
              "      <td>17.319409</td>\n",
              "      <td>25.306896</td>\n",
              "      <td>53.295823</td>\n",
              "    </tr>\n",
              "    <tr>\n",
              "      <th>wearing_mask_7d.2</th>\n",
              "      <td>3009.0</td>\n",
              "      <td>60.577204</td>\n",
              "      <td>13.706937</td>\n",
              "      <td>27.768290</td>\n",
              "      <td>50.691021</td>\n",
              "      <td>59.626054</td>\n",
              "      <td>70.455662</td>\n",
              "      <td>90.558231</td>\n",
              "    </tr>\n",
              "    <tr>\n",
              "      <th>public_transit.2</th>\n",
              "      <td>3009.0</td>\n",
              "      <td>4.625976</td>\n",
              "      <td>2.067438</td>\n",
              "      <td>1.813682</td>\n",
              "      <td>3.252371</td>\n",
              "      <td>4.141356</td>\n",
              "      <td>5.429708</td>\n",
              "      <td>15.513524</td>\n",
              "    </tr>\n",
              "    <tr>\n",
              "      <th>worried_finances.2</th>\n",
              "      <td>3009.0</td>\n",
              "      <td>36.534406</td>\n",
              "      <td>3.291910</td>\n",
              "      <td>27.602169</td>\n",
              "      <td>34.149117</td>\n",
              "      <td>36.249582</td>\n",
              "      <td>38.690061</td>\n",
              "      <td>46.305496</td>\n",
              "    </tr>\n",
              "    <tr>\n",
              "      <th>tested_positive.2</th>\n",
              "      <td>3009.0</td>\n",
              "      <td>17.305063</td>\n",
              "      <td>9.914877</td>\n",
              "      <td>3.054288</td>\n",
              "      <td>9.101412</td>\n",
              "      <td>14.848052</td>\n",
              "      <td>23.361068</td>\n",
              "      <td>46.952473</td>\n",
              "    </tr>\n",
              "  </tbody>\n",
              "</table>\n",
              "</div>\n",
              "    <div class=\"colab-df-buttons\">\n",
              "\n",
              "  <div class=\"colab-df-container\">\n",
              "    <button class=\"colab-df-convert\" onclick=\"convertToInteractive('df-82df46ad-df44-4a80-9baf-15a1e3dd9433')\"\n",
              "            title=\"Convert this dataframe to an interactive table.\"\n",
              "            style=\"display:none;\">\n",
              "\n",
              "  <svg xmlns=\"http://www.w3.org/2000/svg\" height=\"24px\" viewBox=\"0 -960 960 960\">\n",
              "    <path d=\"M120-120v-720h720v720H120Zm60-500h600v-160H180v160Zm220 220h160v-160H400v160Zm0 220h160v-160H400v160ZM180-400h160v-160H180v160Zm440 0h160v-160H620v160ZM180-180h160v-160H180v160Zm440 0h160v-160H620v160Z\"/>\n",
              "  </svg>\n",
              "    </button>\n",
              "\n",
              "  <style>\n",
              "    .colab-df-container {\n",
              "      display:flex;\n",
              "      gap: 12px;\n",
              "    }\n",
              "\n",
              "    .colab-df-convert {\n",
              "      background-color: #E8F0FE;\n",
              "      border: none;\n",
              "      border-radius: 50%;\n",
              "      cursor: pointer;\n",
              "      display: none;\n",
              "      fill: #1967D2;\n",
              "      height: 32px;\n",
              "      padding: 0 0 0 0;\n",
              "      width: 32px;\n",
              "    }\n",
              "\n",
              "    .colab-df-convert:hover {\n",
              "      background-color: #E2EBFA;\n",
              "      box-shadow: 0px 1px 2px rgba(60, 64, 67, 0.3), 0px 1px 3px 1px rgba(60, 64, 67, 0.15);\n",
              "      fill: #174EA6;\n",
              "    }\n",
              "\n",
              "    .colab-df-buttons div {\n",
              "      margin-bottom: 4px;\n",
              "    }\n",
              "\n",
              "    [theme=dark] .colab-df-convert {\n",
              "      background-color: #3B4455;\n",
              "      fill: #D2E3FC;\n",
              "    }\n",
              "\n",
              "    [theme=dark] .colab-df-convert:hover {\n",
              "      background-color: #434B5C;\n",
              "      box-shadow: 0px 1px 3px 1px rgba(0, 0, 0, 0.15);\n",
              "      filter: drop-shadow(0px 1px 2px rgba(0, 0, 0, 0.3));\n",
              "      fill: #FFFFFF;\n",
              "    }\n",
              "  </style>\n",
              "\n",
              "    <script>\n",
              "      const buttonEl =\n",
              "        document.querySelector('#df-82df46ad-df44-4a80-9baf-15a1e3dd9433 button.colab-df-convert');\n",
              "      buttonEl.style.display =\n",
              "        google.colab.kernel.accessAllowed ? 'block' : 'none';\n",
              "\n",
              "      async function convertToInteractive(key) {\n",
              "        const element = document.querySelector('#df-82df46ad-df44-4a80-9baf-15a1e3dd9433');\n",
              "        const dataTable =\n",
              "          await google.colab.kernel.invokeFunction('convertToInteractive',\n",
              "                                                    [key], {});\n",
              "        if (!dataTable) return;\n",
              "\n",
              "        const docLinkHtml = 'Like what you see? Visit the ' +\n",
              "          '<a target=\"_blank\" href=https://colab.research.google.com/notebooks/data_table.ipynb>data table notebook</a>'\n",
              "          + ' to learn more about interactive tables.';\n",
              "        element.innerHTML = '';\n",
              "        dataTable['output_type'] = 'display_data';\n",
              "        await google.colab.output.renderOutput(dataTable, element);\n",
              "        const docLink = document.createElement('div');\n",
              "        docLink.innerHTML = docLinkHtml;\n",
              "        element.appendChild(docLink);\n",
              "      }\n",
              "    </script>\n",
              "  </div>\n",
              "\n",
              "\n",
              "    <div id=\"df-54313470-5b71-4374-b1b3-a52d3b25bb04\">\n",
              "      <button class=\"colab-df-quickchart\" onclick=\"quickchart('df-54313470-5b71-4374-b1b3-a52d3b25bb04')\"\n",
              "                title=\"Suggest charts\"\n",
              "                style=\"display:none;\">\n",
              "\n",
              "<svg xmlns=\"http://www.w3.org/2000/svg\" height=\"24px\"viewBox=\"0 0 24 24\"\n",
              "     width=\"24px\">\n",
              "    <g>\n",
              "        <path d=\"M19 3H5c-1.1 0-2 .9-2 2v14c0 1.1.9 2 2 2h14c1.1 0 2-.9 2-2V5c0-1.1-.9-2-2-2zM9 17H7v-7h2v7zm4 0h-2V7h2v10zm4 0h-2v-4h2v4z\"/>\n",
              "    </g>\n",
              "</svg>\n",
              "      </button>\n",
              "\n",
              "<style>\n",
              "  .colab-df-quickchart {\n",
              "      --bg-color: #E8F0FE;\n",
              "      --fill-color: #1967D2;\n",
              "      --hover-bg-color: #E2EBFA;\n",
              "      --hover-fill-color: #174EA6;\n",
              "      --disabled-fill-color: #AAA;\n",
              "      --disabled-bg-color: #DDD;\n",
              "  }\n",
              "\n",
              "  [theme=dark] .colab-df-quickchart {\n",
              "      --bg-color: #3B4455;\n",
              "      --fill-color: #D2E3FC;\n",
              "      --hover-bg-color: #434B5C;\n",
              "      --hover-fill-color: #FFFFFF;\n",
              "      --disabled-bg-color: #3B4455;\n",
              "      --disabled-fill-color: #666;\n",
              "  }\n",
              "\n",
              "  .colab-df-quickchart {\n",
              "    background-color: var(--bg-color);\n",
              "    border: none;\n",
              "    border-radius: 50%;\n",
              "    cursor: pointer;\n",
              "    display: none;\n",
              "    fill: var(--fill-color);\n",
              "    height: 32px;\n",
              "    padding: 0;\n",
              "    width: 32px;\n",
              "  }\n",
              "\n",
              "  .colab-df-quickchart:hover {\n",
              "    background-color: var(--hover-bg-color);\n",
              "    box-shadow: 0 1px 2px rgba(60, 64, 67, 0.3), 0 1px 3px 1px rgba(60, 64, 67, 0.15);\n",
              "    fill: var(--button-hover-fill-color);\n",
              "  }\n",
              "\n",
              "  .colab-df-quickchart-complete:disabled,\n",
              "  .colab-df-quickchart-complete:disabled:hover {\n",
              "    background-color: var(--disabled-bg-color);\n",
              "    fill: var(--disabled-fill-color);\n",
              "    box-shadow: none;\n",
              "  }\n",
              "\n",
              "  .colab-df-spinner {\n",
              "    border: 2px solid var(--fill-color);\n",
              "    border-color: transparent;\n",
              "    border-bottom-color: var(--fill-color);\n",
              "    animation:\n",
              "      spin 1s steps(1) infinite;\n",
              "  }\n",
              "\n",
              "  @keyframes spin {\n",
              "    0% {\n",
              "      border-color: transparent;\n",
              "      border-bottom-color: var(--fill-color);\n",
              "      border-left-color: var(--fill-color);\n",
              "    }\n",
              "    20% {\n",
              "      border-color: transparent;\n",
              "      border-left-color: var(--fill-color);\n",
              "      border-top-color: var(--fill-color);\n",
              "    }\n",
              "    30% {\n",
              "      border-color: transparent;\n",
              "      border-left-color: var(--fill-color);\n",
              "      border-top-color: var(--fill-color);\n",
              "      border-right-color: var(--fill-color);\n",
              "    }\n",
              "    40% {\n",
              "      border-color: transparent;\n",
              "      border-right-color: var(--fill-color);\n",
              "      border-top-color: var(--fill-color);\n",
              "    }\n",
              "    60% {\n",
              "      border-color: transparent;\n",
              "      border-right-color: var(--fill-color);\n",
              "    }\n",
              "    80% {\n",
              "      border-color: transparent;\n",
              "      border-right-color: var(--fill-color);\n",
              "      border-bottom-color: var(--fill-color);\n",
              "    }\n",
              "    90% {\n",
              "      border-color: transparent;\n",
              "      border-bottom-color: var(--fill-color);\n",
              "    }\n",
              "  }\n",
              "</style>\n",
              "\n",
              "      <script>\n",
              "        async function quickchart(key) {\n",
              "          const quickchartButtonEl =\n",
              "            document.querySelector('#' + key + ' button');\n",
              "          quickchartButtonEl.disabled = true;  // To prevent multiple clicks.\n",
              "          quickchartButtonEl.classList.add('colab-df-spinner');\n",
              "          try {\n",
              "            const charts = await google.colab.kernel.invokeFunction(\n",
              "                'suggestCharts', [key], {});\n",
              "          } catch (error) {\n",
              "            console.error('Error during call to suggestCharts:', error);\n",
              "          }\n",
              "          quickchartButtonEl.classList.remove('colab-df-spinner');\n",
              "          quickchartButtonEl.classList.add('colab-df-quickchart-complete');\n",
              "        }\n",
              "        (() => {\n",
              "          let quickchartButtonEl =\n",
              "            document.querySelector('#df-54313470-5b71-4374-b1b3-a52d3b25bb04 button');\n",
              "          quickchartButtonEl.style.display =\n",
              "            google.colab.kernel.accessAllowed ? 'block' : 'none';\n",
              "        })();\n",
              "      </script>\n",
              "    </div>\n",
              "\n",
              "    </div>\n",
              "  </div>\n"
            ],
            "application/vnd.google.colaboratory.intrinsic+json": {
              "type": "dataframe",
              "summary": "{\n  \"name\": \"train_data\",\n  \"rows\": 54,\n  \"fields\": [\n    {\n      \"column\": \"count\",\n      \"properties\": {\n        \"dtype\": \"number\",\n        \"std\": 0.0,\n        \"min\": 3009.0,\n        \"max\": 3009.0,\n        \"num_unique_values\": 1,\n        \"samples\": [\n          3009.0\n        ],\n        \"semantic_type\": \"\",\n        \"description\": \"\"\n      }\n    },\n    {\n      \"column\": \"mean\",\n      \"properties\": {\n        \"dtype\": \"number\",\n        \"std\": 23.140932923019676,\n        \"min\": 1.901625865536723,\n        \"max\": 70.2753377033566,\n        \"num_unique_values\": 54,\n        \"samples\": [\n          1.9470204950814223\n        ],\n        \"semantic_type\": \"\",\n        \"description\": \"\"\n      }\n    },\n    {\n      \"column\": \"std\",\n      \"properties\": {\n        \"dtype\": \"number\",\n        \"std\": 4.273540338804099,\n        \"min\": 1.1604646329315205,\n        \"max\": 17.199215101874568,\n        \"num_unique_values\": 54,\n        \"samples\": [\n          1.1876929785297392\n        ],\n        \"semantic_type\": \"\",\n        \"description\": \"\"\n      }\n    },\n    {\n      \"column\": \"min\",\n      \"properties\": {\n        \"dtype\": \"number\",\n        \"std\": 19.77046167557811,\n        \"min\": 0.5274917,\n        \"max\": 58.1248049,\n        \"num_unique_values\": 20,\n        \"samples\": [\n          0.5274917\n        ],\n        \"semantic_type\": \"\",\n        \"description\": \"\"\n      }\n    },\n    {\n      \"column\": \"25%\",\n      \"properties\": {\n        \"dtype\": \"number\",\n        \"std\": 22.836333607616613,\n        \"min\": 1.1349157,\n        \"max\": 66.1436045,\n        \"num_unique_values\": 51,\n        \"samples\": [\n          32.073634\n        ],\n        \"semantic_type\": \"\",\n        \"description\": \"\"\n      }\n    },\n    {\n      \"column\": \"50%\",\n      \"properties\": {\n        \"dtype\": \"number\",\n        \"std\": 23.71965773388403,\n        \"min\": 1.4934318,\n        \"max\": 70.0538437,\n        \"num_unique_values\": 54,\n        \"samples\": [\n          1.5243866\n        ],\n        \"semantic_type\": \"\",\n        \"description\": \"\"\n      }\n    },\n    {\n      \"column\": \"75%\",\n      \"properties\": {\n        \"dtype\": \"number\",\n        \"std\": 24.275150901370477,\n        \"min\": 2.1821405,\n        \"max\": 73.6730147,\n        \"num_unique_values\": 48,\n        \"samples\": [\n          39.8540363\n        ],\n        \"semantic_type\": \"\",\n        \"description\": \"\"\n      }\n    },\n    {\n      \"column\": \"max\",\n      \"properties\": {\n        \"dtype\": \"number\",\n        \"std\": 25.767888484315282,\n        \"min\": 7.4156739,\n        \"max\": 90.5582314,\n        \"num_unique_values\": 20,\n        \"samples\": [\n          7.4156739\n        ],\n        \"semantic_type\": \"\",\n        \"description\": \"\"\n      }\n    }\n  ]\n}"
            }
          },
          "metadata": {},
          "execution_count": 8
        }
      ]
    },
    {
      "cell_type": "code",
      "source": [
        "test_data.iloc[:, 35:].describe().T"
      ],
      "metadata": {
        "colab": {
          "base_uri": "https://localhost:8080/",
          "height": 1000
        },
        "id": "BrNfjeZOCx88",
        "outputId": "f05b61e5-3e9f-4302-a498-3579ff241f9c"
      },
      "execution_count": null,
      "outputs": [
        {
          "output_type": "execute_result",
          "data": {
            "text/plain": [
              "                                count       mean        std        min  \\\n",
              "cli                             997.0   1.897220   1.145793   0.459629   \n",
              "ili                             997.0   1.939359   1.172565   0.452934   \n",
              "wnohh_cmnty_cli                 997.0  20.362337   9.486510   7.392855   \n",
              "wbelief_masking_effective       997.0  69.120668   6.501046  51.756826   \n",
              "wbelief_distancing_effective    997.0  70.068419   5.227754  53.740496   \n",
              "wcovid_vaccinated_friends       997.0  64.121630   8.173042  47.004915   \n",
              "wlarge_event_indoors            997.0  24.372528   4.858837  11.229012   \n",
              "wothers_masked_public           997.0  22.830055  18.515242   1.673329   \n",
              "wothers_distanced_public        997.0  18.692223   4.285753   9.213382   \n",
              "wshop_indoors                   997.0  65.364926   3.760704  48.496840   \n",
              "wrestaurant_indoors             997.0  35.831626   5.606030  18.519297   \n",
              "wworried_catch_covid            997.0  46.156071   7.168585  23.782050   \n",
              "hh_cmnty_cli                    997.0  25.244340  10.413147  10.947082   \n",
              "nohh_cmnty_cli                  997.0  20.217065   9.678171   7.265197   \n",
              "wearing_mask_7d                 997.0  61.297242  14.161101  21.923987   \n",
              "public_transit                  997.0   4.605852   2.167148   1.503848   \n",
              "worried_finances                997.0  36.722813   3.526408  28.193079   \n",
              "tested_positive                 997.0  17.472917   9.427079   2.725120   \n",
              "cli.1                           997.0   1.885757   1.137176   0.484127   \n",
              "ili.1                           997.0   1.927519   1.164312   0.474177   \n",
              "wnohh_cmnty_cli.1               997.0  20.254259   9.493343   7.287327   \n",
              "wbelief_masking_effective.1     997.0  69.072121   6.481897  52.774833   \n",
              "wbelief_distancing_effective.1  997.0  69.988930   5.222434  52.372248   \n",
              "wcovid_vaccinated_friends.1     997.0  64.156720   8.147163  47.348954   \n",
              "wlarge_event_indoors.1          997.0  24.416667   4.863129  11.448984   \n",
              "wothers_masked_public.1         997.0  22.775981  18.540266   1.687174   \n",
              "wothers_distanced_public.1      997.0  18.673146   4.289011   8.964680   \n",
              "wshop_indoors.1                 997.0  65.398910   3.762366  49.335089   \n",
              "wrestaurant_indoors.1           997.0  35.887589   5.644358  19.259617   \n",
              "wworried_catch_covid.1          997.0  46.063119   7.227086  23.434854   \n",
              "hh_cmnty_cli.1                  997.0  25.154944  10.406366  10.530873   \n",
              "nohh_cmnty_cli.1                997.0  20.123897   9.670402   7.006173   \n",
              "wearing_mask_7d.1               997.0  61.143482  14.239219  22.261272   \n",
              "public_transit.1                997.0   4.603458   2.164443   1.691829   \n",
              "worried_finances.1              997.0  36.712195   3.535829  27.914810   \n",
              "tested_positive.1               997.0  17.416643   9.455018   2.441862   \n",
              "cli.2                           997.0   1.884871   1.138565   0.469870   \n",
              "ili.2                           997.0   1.926007   1.165125   0.503665   \n",
              "wnohh_cmnty_cli.2               997.0  20.203843   9.486717   7.077675   \n",
              "wbelief_masking_effective.2     997.0  69.009486   6.525662  51.759189   \n",
              "wbelief_distancing_effective.2  997.0  69.941936   5.251434  53.456502   \n",
              "wcovid_vaccinated_friends.2     997.0  64.210410   8.184755  46.820236   \n",
              "wlarge_event_indoors.2          997.0  24.482635   4.882167  11.277864   \n",
              "wothers_masked_public.2         997.0  22.667163  18.565829   1.484449   \n",
              "wothers_distanced_public.2      997.0  18.603910   4.299715   8.814592   \n",
              "wshop_indoors.2                 997.0  65.402613   3.768972  49.743406   \n",
              "wrestaurant_indoors.2           997.0  35.942160   5.664440  18.915478   \n",
              "wworried_catch_covid.2          997.0  45.995713   7.238665  23.068898   \n",
              "hh_cmnty_cli.2                  997.0  25.092714  10.404195  10.773033   \n",
              "nohh_cmnty_cli.2                997.0  20.060169   9.683680   6.955017   \n",
              "wearing_mask_7d.2               997.0  60.992136  14.324486  21.763134   \n",
              "public_transit.2                997.0   4.614737   2.167434   1.559648   \n",
              "worried_finances.2              997.0  36.723666   3.552728  27.905132   \n",
              "\n",
              "                                      25%        50%        75%        max  \n",
              "cli                              1.140800   1.480203   2.101550   6.923017  \n",
              "ili                              1.174436   1.508207   2.140535   7.060793  \n",
              "wnohh_cmnty_cli                 13.173949  17.575896  24.124223  49.475345  \n",
              "wbelief_masking_effective       64.417005  68.384017  74.260086  83.320734  \n",
              "wbelief_distancing_effective    66.434146  69.675784  74.108132  82.527022  \n",
              "wcovid_vaccinated_friends       57.585282  62.930748  70.551188  84.543394  \n",
              "wlarge_event_indoors            21.142374  24.825712  28.135880  36.946235  \n",
              "wothers_masked_public            9.863171  14.908572  28.243338  68.092995  \n",
              "wothers_distanced_public        15.720571  17.868679  20.784087  33.712653  \n",
              "wshop_indoors                   63.101046  66.210843  67.989591  73.728770  \n",
              "wrestaurant_indoors             32.266423  36.171677  40.022173  49.868071  \n",
              "wworried_catch_covid            40.759371  45.656183  50.745558  66.986088  \n",
              "hh_cmnty_cli                    17.382607  21.880360  29.641967  55.908178  \n",
              "nohh_cmnty_cli                  12.892720  17.385397  24.284489  50.036990  \n",
              "wearing_mask_7d                 51.259907  59.656287  69.391053  88.466449  \n",
              "public_transit                   3.309090   4.138458   5.121188  14.734549  \n",
              "worried_finances                34.332258  36.432451  39.199596  47.232820  \n",
              "tested_positive                 10.224004  15.071770  22.082887  48.230314  \n",
              "cli.1                            1.143781   1.468303   2.116508   7.057680  \n",
              "ili.1                            1.165945   1.509496   2.138306   7.172669  \n",
              "wnohh_cmnty_cli.1               13.102763  17.343521  24.148512  49.395120  \n",
              "wbelief_masking_effective.1     64.426208  68.279495  74.098906  83.058499  \n",
              "wbelief_distancing_effective.1  66.475249  69.635542  74.017502  81.783637  \n",
              "wcovid_vaccinated_friends.1     57.606773  62.908221  70.540434  83.528117  \n",
              "wlarge_event_indoors.1          21.142899  24.867274  28.105582  37.859261  \n",
              "wothers_masked_public.1          9.818338  14.774197  28.492292  68.402685  \n",
              "wothers_distanced_public.1      15.671791  17.786489  20.805967  32.371122  \n",
              "wshop_indoors.1                 63.131668  66.192328  68.103739  73.365625  \n",
              "wrestaurant_indoors.1           32.332411  36.260598  40.207471  50.538638  \n",
              "wworried_catch_covid.1          40.726724  45.602331  50.508006  67.499518  \n",
              "hh_cmnty_cli.1                  17.338173  21.774358  29.488199  55.585027  \n",
              "nohh_cmnty_cli.1                12.850125  17.232866  24.048176  49.914130  \n",
              "wearing_mask_7d.1               51.100752  59.439417  69.381306  88.483857  \n",
              "public_transit.1                 3.318622   4.111973   5.115792  14.817006  \n",
              "worried_finances.1              34.293530  36.473860  39.148627  48.049384  \n",
              "tested_positive.1               10.131768  15.130765  22.087910  49.120408  \n",
              "cli.2                            1.146324   1.466620   2.069430   7.009179  \n",
              "ili.2                            1.181852   1.505166   2.086381   7.102006  \n",
              "wnohh_cmnty_cli.2               13.067497  17.517981  24.174778  50.251741  \n",
              "wbelief_masking_effective.2     64.344978  68.465484  74.209702  83.276640  \n",
              "wbelief_distancing_effective.2  66.366019  69.591725  74.147993  81.943316  \n",
              "wcovid_vaccinated_friends.2     57.744461  63.077119  70.571247  83.415337  \n",
              "wlarge_event_indoors.2          21.234275  24.954846  28.161354  37.901305  \n",
              "wothers_masked_public.2          9.750890  14.704851  28.223448  70.372783  \n",
              "wothers_distanced_public.2      15.556139  17.726807  20.619186  33.376076  \n",
              "wshop_indoors.2                 63.134813  66.282711  68.121666  73.720351  \n",
              "wrestaurant_indoors.2           32.278842  36.239974  40.126852  49.456831  \n",
              "wworried_catch_covid.2          40.732970  45.559609  50.638954  66.685683  \n",
              "hh_cmnty_cli.2                  17.285404  21.724233  29.440372  56.206398  \n",
              "nohh_cmnty_cli.2                12.815206  17.131178  24.228441  50.364546  \n",
              "wearing_mask_7d.2               51.062016  59.021978  69.239583  88.476011  \n",
              "public_transit.2                 3.319345   4.152845   5.120101  14.704717  \n",
              "worried_finances.2              34.277783  36.394288  39.069514  48.932689  "
            ],
            "text/html": [
              "\n",
              "  <div id=\"df-e20077ce-d2ef-4f8b-ac75-290e393ea388\" class=\"colab-df-container\">\n",
              "    <div>\n",
              "<style scoped>\n",
              "    .dataframe tbody tr th:only-of-type {\n",
              "        vertical-align: middle;\n",
              "    }\n",
              "\n",
              "    .dataframe tbody tr th {\n",
              "        vertical-align: top;\n",
              "    }\n",
              "\n",
              "    .dataframe thead th {\n",
              "        text-align: right;\n",
              "    }\n",
              "</style>\n",
              "<table border=\"1\" class=\"dataframe\">\n",
              "  <thead>\n",
              "    <tr style=\"text-align: right;\">\n",
              "      <th></th>\n",
              "      <th>count</th>\n",
              "      <th>mean</th>\n",
              "      <th>std</th>\n",
              "      <th>min</th>\n",
              "      <th>25%</th>\n",
              "      <th>50%</th>\n",
              "      <th>75%</th>\n",
              "      <th>max</th>\n",
              "    </tr>\n",
              "  </thead>\n",
              "  <tbody>\n",
              "    <tr>\n",
              "      <th>cli</th>\n",
              "      <td>997.0</td>\n",
              "      <td>1.897220</td>\n",
              "      <td>1.145793</td>\n",
              "      <td>0.459629</td>\n",
              "      <td>1.140800</td>\n",
              "      <td>1.480203</td>\n",
              "      <td>2.101550</td>\n",
              "      <td>6.923017</td>\n",
              "    </tr>\n",
              "    <tr>\n",
              "      <th>ili</th>\n",
              "      <td>997.0</td>\n",
              "      <td>1.939359</td>\n",
              "      <td>1.172565</td>\n",
              "      <td>0.452934</td>\n",
              "      <td>1.174436</td>\n",
              "      <td>1.508207</td>\n",
              "      <td>2.140535</td>\n",
              "      <td>7.060793</td>\n",
              "    </tr>\n",
              "    <tr>\n",
              "      <th>wnohh_cmnty_cli</th>\n",
              "      <td>997.0</td>\n",
              "      <td>20.362337</td>\n",
              "      <td>9.486510</td>\n",
              "      <td>7.392855</td>\n",
              "      <td>13.173949</td>\n",
              "      <td>17.575896</td>\n",
              "      <td>24.124223</td>\n",
              "      <td>49.475345</td>\n",
              "    </tr>\n",
              "    <tr>\n",
              "      <th>wbelief_masking_effective</th>\n",
              "      <td>997.0</td>\n",
              "      <td>69.120668</td>\n",
              "      <td>6.501046</td>\n",
              "      <td>51.756826</td>\n",
              "      <td>64.417005</td>\n",
              "      <td>68.384017</td>\n",
              "      <td>74.260086</td>\n",
              "      <td>83.320734</td>\n",
              "    </tr>\n",
              "    <tr>\n",
              "      <th>wbelief_distancing_effective</th>\n",
              "      <td>997.0</td>\n",
              "      <td>70.068419</td>\n",
              "      <td>5.227754</td>\n",
              "      <td>53.740496</td>\n",
              "      <td>66.434146</td>\n",
              "      <td>69.675784</td>\n",
              "      <td>74.108132</td>\n",
              "      <td>82.527022</td>\n",
              "    </tr>\n",
              "    <tr>\n",
              "      <th>wcovid_vaccinated_friends</th>\n",
              "      <td>997.0</td>\n",
              "      <td>64.121630</td>\n",
              "      <td>8.173042</td>\n",
              "      <td>47.004915</td>\n",
              "      <td>57.585282</td>\n",
              "      <td>62.930748</td>\n",
              "      <td>70.551188</td>\n",
              "      <td>84.543394</td>\n",
              "    </tr>\n",
              "    <tr>\n",
              "      <th>wlarge_event_indoors</th>\n",
              "      <td>997.0</td>\n",
              "      <td>24.372528</td>\n",
              "      <td>4.858837</td>\n",
              "      <td>11.229012</td>\n",
              "      <td>21.142374</td>\n",
              "      <td>24.825712</td>\n",
              "      <td>28.135880</td>\n",
              "      <td>36.946235</td>\n",
              "    </tr>\n",
              "    <tr>\n",
              "      <th>wothers_masked_public</th>\n",
              "      <td>997.0</td>\n",
              "      <td>22.830055</td>\n",
              "      <td>18.515242</td>\n",
              "      <td>1.673329</td>\n",
              "      <td>9.863171</td>\n",
              "      <td>14.908572</td>\n",
              "      <td>28.243338</td>\n",
              "      <td>68.092995</td>\n",
              "    </tr>\n",
              "    <tr>\n",
              "      <th>wothers_distanced_public</th>\n",
              "      <td>997.0</td>\n",
              "      <td>18.692223</td>\n",
              "      <td>4.285753</td>\n",
              "      <td>9.213382</td>\n",
              "      <td>15.720571</td>\n",
              "      <td>17.868679</td>\n",
              "      <td>20.784087</td>\n",
              "      <td>33.712653</td>\n",
              "    </tr>\n",
              "    <tr>\n",
              "      <th>wshop_indoors</th>\n",
              "      <td>997.0</td>\n",
              "      <td>65.364926</td>\n",
              "      <td>3.760704</td>\n",
              "      <td>48.496840</td>\n",
              "      <td>63.101046</td>\n",
              "      <td>66.210843</td>\n",
              "      <td>67.989591</td>\n",
              "      <td>73.728770</td>\n",
              "    </tr>\n",
              "    <tr>\n",
              "      <th>wrestaurant_indoors</th>\n",
              "      <td>997.0</td>\n",
              "      <td>35.831626</td>\n",
              "      <td>5.606030</td>\n",
              "      <td>18.519297</td>\n",
              "      <td>32.266423</td>\n",
              "      <td>36.171677</td>\n",
              "      <td>40.022173</td>\n",
              "      <td>49.868071</td>\n",
              "    </tr>\n",
              "    <tr>\n",
              "      <th>wworried_catch_covid</th>\n",
              "      <td>997.0</td>\n",
              "      <td>46.156071</td>\n",
              "      <td>7.168585</td>\n",
              "      <td>23.782050</td>\n",
              "      <td>40.759371</td>\n",
              "      <td>45.656183</td>\n",
              "      <td>50.745558</td>\n",
              "      <td>66.986088</td>\n",
              "    </tr>\n",
              "    <tr>\n",
              "      <th>hh_cmnty_cli</th>\n",
              "      <td>997.0</td>\n",
              "      <td>25.244340</td>\n",
              "      <td>10.413147</td>\n",
              "      <td>10.947082</td>\n",
              "      <td>17.382607</td>\n",
              "      <td>21.880360</td>\n",
              "      <td>29.641967</td>\n",
              "      <td>55.908178</td>\n",
              "    </tr>\n",
              "    <tr>\n",
              "      <th>nohh_cmnty_cli</th>\n",
              "      <td>997.0</td>\n",
              "      <td>20.217065</td>\n",
              "      <td>9.678171</td>\n",
              "      <td>7.265197</td>\n",
              "      <td>12.892720</td>\n",
              "      <td>17.385397</td>\n",
              "      <td>24.284489</td>\n",
              "      <td>50.036990</td>\n",
              "    </tr>\n",
              "    <tr>\n",
              "      <th>wearing_mask_7d</th>\n",
              "      <td>997.0</td>\n",
              "      <td>61.297242</td>\n",
              "      <td>14.161101</td>\n",
              "      <td>21.923987</td>\n",
              "      <td>51.259907</td>\n",
              "      <td>59.656287</td>\n",
              "      <td>69.391053</td>\n",
              "      <td>88.466449</td>\n",
              "    </tr>\n",
              "    <tr>\n",
              "      <th>public_transit</th>\n",
              "      <td>997.0</td>\n",
              "      <td>4.605852</td>\n",
              "      <td>2.167148</td>\n",
              "      <td>1.503848</td>\n",
              "      <td>3.309090</td>\n",
              "      <td>4.138458</td>\n",
              "      <td>5.121188</td>\n",
              "      <td>14.734549</td>\n",
              "    </tr>\n",
              "    <tr>\n",
              "      <th>worried_finances</th>\n",
              "      <td>997.0</td>\n",
              "      <td>36.722813</td>\n",
              "      <td>3.526408</td>\n",
              "      <td>28.193079</td>\n",
              "      <td>34.332258</td>\n",
              "      <td>36.432451</td>\n",
              "      <td>39.199596</td>\n",
              "      <td>47.232820</td>\n",
              "    </tr>\n",
              "    <tr>\n",
              "      <th>tested_positive</th>\n",
              "      <td>997.0</td>\n",
              "      <td>17.472917</td>\n",
              "      <td>9.427079</td>\n",
              "      <td>2.725120</td>\n",
              "      <td>10.224004</td>\n",
              "      <td>15.071770</td>\n",
              "      <td>22.082887</td>\n",
              "      <td>48.230314</td>\n",
              "    </tr>\n",
              "    <tr>\n",
              "      <th>cli.1</th>\n",
              "      <td>997.0</td>\n",
              "      <td>1.885757</td>\n",
              "      <td>1.137176</td>\n",
              "      <td>0.484127</td>\n",
              "      <td>1.143781</td>\n",
              "      <td>1.468303</td>\n",
              "      <td>2.116508</td>\n",
              "      <td>7.057680</td>\n",
              "    </tr>\n",
              "    <tr>\n",
              "      <th>ili.1</th>\n",
              "      <td>997.0</td>\n",
              "      <td>1.927519</td>\n",
              "      <td>1.164312</td>\n",
              "      <td>0.474177</td>\n",
              "      <td>1.165945</td>\n",
              "      <td>1.509496</td>\n",
              "      <td>2.138306</td>\n",
              "      <td>7.172669</td>\n",
              "    </tr>\n",
              "    <tr>\n",
              "      <th>wnohh_cmnty_cli.1</th>\n",
              "      <td>997.0</td>\n",
              "      <td>20.254259</td>\n",
              "      <td>9.493343</td>\n",
              "      <td>7.287327</td>\n",
              "      <td>13.102763</td>\n",
              "      <td>17.343521</td>\n",
              "      <td>24.148512</td>\n",
              "      <td>49.395120</td>\n",
              "    </tr>\n",
              "    <tr>\n",
              "      <th>wbelief_masking_effective.1</th>\n",
              "      <td>997.0</td>\n",
              "      <td>69.072121</td>\n",
              "      <td>6.481897</td>\n",
              "      <td>52.774833</td>\n",
              "      <td>64.426208</td>\n",
              "      <td>68.279495</td>\n",
              "      <td>74.098906</td>\n",
              "      <td>83.058499</td>\n",
              "    </tr>\n",
              "    <tr>\n",
              "      <th>wbelief_distancing_effective.1</th>\n",
              "      <td>997.0</td>\n",
              "      <td>69.988930</td>\n",
              "      <td>5.222434</td>\n",
              "      <td>52.372248</td>\n",
              "      <td>66.475249</td>\n",
              "      <td>69.635542</td>\n",
              "      <td>74.017502</td>\n",
              "      <td>81.783637</td>\n",
              "    </tr>\n",
              "    <tr>\n",
              "      <th>wcovid_vaccinated_friends.1</th>\n",
              "      <td>997.0</td>\n",
              "      <td>64.156720</td>\n",
              "      <td>8.147163</td>\n",
              "      <td>47.348954</td>\n",
              "      <td>57.606773</td>\n",
              "      <td>62.908221</td>\n",
              "      <td>70.540434</td>\n",
              "      <td>83.528117</td>\n",
              "    </tr>\n",
              "    <tr>\n",
              "      <th>wlarge_event_indoors.1</th>\n",
              "      <td>997.0</td>\n",
              "      <td>24.416667</td>\n",
              "      <td>4.863129</td>\n",
              "      <td>11.448984</td>\n",
              "      <td>21.142899</td>\n",
              "      <td>24.867274</td>\n",
              "      <td>28.105582</td>\n",
              "      <td>37.859261</td>\n",
              "    </tr>\n",
              "    <tr>\n",
              "      <th>wothers_masked_public.1</th>\n",
              "      <td>997.0</td>\n",
              "      <td>22.775981</td>\n",
              "      <td>18.540266</td>\n",
              "      <td>1.687174</td>\n",
              "      <td>9.818338</td>\n",
              "      <td>14.774197</td>\n",
              "      <td>28.492292</td>\n",
              "      <td>68.402685</td>\n",
              "    </tr>\n",
              "    <tr>\n",
              "      <th>wothers_distanced_public.1</th>\n",
              "      <td>997.0</td>\n",
              "      <td>18.673146</td>\n",
              "      <td>4.289011</td>\n",
              "      <td>8.964680</td>\n",
              "      <td>15.671791</td>\n",
              "      <td>17.786489</td>\n",
              "      <td>20.805967</td>\n",
              "      <td>32.371122</td>\n",
              "    </tr>\n",
              "    <tr>\n",
              "      <th>wshop_indoors.1</th>\n",
              "      <td>997.0</td>\n",
              "      <td>65.398910</td>\n",
              "      <td>3.762366</td>\n",
              "      <td>49.335089</td>\n",
              "      <td>63.131668</td>\n",
              "      <td>66.192328</td>\n",
              "      <td>68.103739</td>\n",
              "      <td>73.365625</td>\n",
              "    </tr>\n",
              "    <tr>\n",
              "      <th>wrestaurant_indoors.1</th>\n",
              "      <td>997.0</td>\n",
              "      <td>35.887589</td>\n",
              "      <td>5.644358</td>\n",
              "      <td>19.259617</td>\n",
              "      <td>32.332411</td>\n",
              "      <td>36.260598</td>\n",
              "      <td>40.207471</td>\n",
              "      <td>50.538638</td>\n",
              "    </tr>\n",
              "    <tr>\n",
              "      <th>wworried_catch_covid.1</th>\n",
              "      <td>997.0</td>\n",
              "      <td>46.063119</td>\n",
              "      <td>7.227086</td>\n",
              "      <td>23.434854</td>\n",
              "      <td>40.726724</td>\n",
              "      <td>45.602331</td>\n",
              "      <td>50.508006</td>\n",
              "      <td>67.499518</td>\n",
              "    </tr>\n",
              "    <tr>\n",
              "      <th>hh_cmnty_cli.1</th>\n",
              "      <td>997.0</td>\n",
              "      <td>25.154944</td>\n",
              "      <td>10.406366</td>\n",
              "      <td>10.530873</td>\n",
              "      <td>17.338173</td>\n",
              "      <td>21.774358</td>\n",
              "      <td>29.488199</td>\n",
              "      <td>55.585027</td>\n",
              "    </tr>\n",
              "    <tr>\n",
              "      <th>nohh_cmnty_cli.1</th>\n",
              "      <td>997.0</td>\n",
              "      <td>20.123897</td>\n",
              "      <td>9.670402</td>\n",
              "      <td>7.006173</td>\n",
              "      <td>12.850125</td>\n",
              "      <td>17.232866</td>\n",
              "      <td>24.048176</td>\n",
              "      <td>49.914130</td>\n",
              "    </tr>\n",
              "    <tr>\n",
              "      <th>wearing_mask_7d.1</th>\n",
              "      <td>997.0</td>\n",
              "      <td>61.143482</td>\n",
              "      <td>14.239219</td>\n",
              "      <td>22.261272</td>\n",
              "      <td>51.100752</td>\n",
              "      <td>59.439417</td>\n",
              "      <td>69.381306</td>\n",
              "      <td>88.483857</td>\n",
              "    </tr>\n",
              "    <tr>\n",
              "      <th>public_transit.1</th>\n",
              "      <td>997.0</td>\n",
              "      <td>4.603458</td>\n",
              "      <td>2.164443</td>\n",
              "      <td>1.691829</td>\n",
              "      <td>3.318622</td>\n",
              "      <td>4.111973</td>\n",
              "      <td>5.115792</td>\n",
              "      <td>14.817006</td>\n",
              "    </tr>\n",
              "    <tr>\n",
              "      <th>worried_finances.1</th>\n",
              "      <td>997.0</td>\n",
              "      <td>36.712195</td>\n",
              "      <td>3.535829</td>\n",
              "      <td>27.914810</td>\n",
              "      <td>34.293530</td>\n",
              "      <td>36.473860</td>\n",
              "      <td>39.148627</td>\n",
              "      <td>48.049384</td>\n",
              "    </tr>\n",
              "    <tr>\n",
              "      <th>tested_positive.1</th>\n",
              "      <td>997.0</td>\n",
              "      <td>17.416643</td>\n",
              "      <td>9.455018</td>\n",
              "      <td>2.441862</td>\n",
              "      <td>10.131768</td>\n",
              "      <td>15.130765</td>\n",
              "      <td>22.087910</td>\n",
              "      <td>49.120408</td>\n",
              "    </tr>\n",
              "    <tr>\n",
              "      <th>cli.2</th>\n",
              "      <td>997.0</td>\n",
              "      <td>1.884871</td>\n",
              "      <td>1.138565</td>\n",
              "      <td>0.469870</td>\n",
              "      <td>1.146324</td>\n",
              "      <td>1.466620</td>\n",
              "      <td>2.069430</td>\n",
              "      <td>7.009179</td>\n",
              "    </tr>\n",
              "    <tr>\n",
              "      <th>ili.2</th>\n",
              "      <td>997.0</td>\n",
              "      <td>1.926007</td>\n",
              "      <td>1.165125</td>\n",
              "      <td>0.503665</td>\n",
              "      <td>1.181852</td>\n",
              "      <td>1.505166</td>\n",
              "      <td>2.086381</td>\n",
              "      <td>7.102006</td>\n",
              "    </tr>\n",
              "    <tr>\n",
              "      <th>wnohh_cmnty_cli.2</th>\n",
              "      <td>997.0</td>\n",
              "      <td>20.203843</td>\n",
              "      <td>9.486717</td>\n",
              "      <td>7.077675</td>\n",
              "      <td>13.067497</td>\n",
              "      <td>17.517981</td>\n",
              "      <td>24.174778</td>\n",
              "      <td>50.251741</td>\n",
              "    </tr>\n",
              "    <tr>\n",
              "      <th>wbelief_masking_effective.2</th>\n",
              "      <td>997.0</td>\n",
              "      <td>69.009486</td>\n",
              "      <td>6.525662</td>\n",
              "      <td>51.759189</td>\n",
              "      <td>64.344978</td>\n",
              "      <td>68.465484</td>\n",
              "      <td>74.209702</td>\n",
              "      <td>83.276640</td>\n",
              "    </tr>\n",
              "    <tr>\n",
              "      <th>wbelief_distancing_effective.2</th>\n",
              "      <td>997.0</td>\n",
              "      <td>69.941936</td>\n",
              "      <td>5.251434</td>\n",
              "      <td>53.456502</td>\n",
              "      <td>66.366019</td>\n",
              "      <td>69.591725</td>\n",
              "      <td>74.147993</td>\n",
              "      <td>81.943316</td>\n",
              "    </tr>\n",
              "    <tr>\n",
              "      <th>wcovid_vaccinated_friends.2</th>\n",
              "      <td>997.0</td>\n",
              "      <td>64.210410</td>\n",
              "      <td>8.184755</td>\n",
              "      <td>46.820236</td>\n",
              "      <td>57.744461</td>\n",
              "      <td>63.077119</td>\n",
              "      <td>70.571247</td>\n",
              "      <td>83.415337</td>\n",
              "    </tr>\n",
              "    <tr>\n",
              "      <th>wlarge_event_indoors.2</th>\n",
              "      <td>997.0</td>\n",
              "      <td>24.482635</td>\n",
              "      <td>4.882167</td>\n",
              "      <td>11.277864</td>\n",
              "      <td>21.234275</td>\n",
              "      <td>24.954846</td>\n",
              "      <td>28.161354</td>\n",
              "      <td>37.901305</td>\n",
              "    </tr>\n",
              "    <tr>\n",
              "      <th>wothers_masked_public.2</th>\n",
              "      <td>997.0</td>\n",
              "      <td>22.667163</td>\n",
              "      <td>18.565829</td>\n",
              "      <td>1.484449</td>\n",
              "      <td>9.750890</td>\n",
              "      <td>14.704851</td>\n",
              "      <td>28.223448</td>\n",
              "      <td>70.372783</td>\n",
              "    </tr>\n",
              "    <tr>\n",
              "      <th>wothers_distanced_public.2</th>\n",
              "      <td>997.0</td>\n",
              "      <td>18.603910</td>\n",
              "      <td>4.299715</td>\n",
              "      <td>8.814592</td>\n",
              "      <td>15.556139</td>\n",
              "      <td>17.726807</td>\n",
              "      <td>20.619186</td>\n",
              "      <td>33.376076</td>\n",
              "    </tr>\n",
              "    <tr>\n",
              "      <th>wshop_indoors.2</th>\n",
              "      <td>997.0</td>\n",
              "      <td>65.402613</td>\n",
              "      <td>3.768972</td>\n",
              "      <td>49.743406</td>\n",
              "      <td>63.134813</td>\n",
              "      <td>66.282711</td>\n",
              "      <td>68.121666</td>\n",
              "      <td>73.720351</td>\n",
              "    </tr>\n",
              "    <tr>\n",
              "      <th>wrestaurant_indoors.2</th>\n",
              "      <td>997.0</td>\n",
              "      <td>35.942160</td>\n",
              "      <td>5.664440</td>\n",
              "      <td>18.915478</td>\n",
              "      <td>32.278842</td>\n",
              "      <td>36.239974</td>\n",
              "      <td>40.126852</td>\n",
              "      <td>49.456831</td>\n",
              "    </tr>\n",
              "    <tr>\n",
              "      <th>wworried_catch_covid.2</th>\n",
              "      <td>997.0</td>\n",
              "      <td>45.995713</td>\n",
              "      <td>7.238665</td>\n",
              "      <td>23.068898</td>\n",
              "      <td>40.732970</td>\n",
              "      <td>45.559609</td>\n",
              "      <td>50.638954</td>\n",
              "      <td>66.685683</td>\n",
              "    </tr>\n",
              "    <tr>\n",
              "      <th>hh_cmnty_cli.2</th>\n",
              "      <td>997.0</td>\n",
              "      <td>25.092714</td>\n",
              "      <td>10.404195</td>\n",
              "      <td>10.773033</td>\n",
              "      <td>17.285404</td>\n",
              "      <td>21.724233</td>\n",
              "      <td>29.440372</td>\n",
              "      <td>56.206398</td>\n",
              "    </tr>\n",
              "    <tr>\n",
              "      <th>nohh_cmnty_cli.2</th>\n",
              "      <td>997.0</td>\n",
              "      <td>20.060169</td>\n",
              "      <td>9.683680</td>\n",
              "      <td>6.955017</td>\n",
              "      <td>12.815206</td>\n",
              "      <td>17.131178</td>\n",
              "      <td>24.228441</td>\n",
              "      <td>50.364546</td>\n",
              "    </tr>\n",
              "    <tr>\n",
              "      <th>wearing_mask_7d.2</th>\n",
              "      <td>997.0</td>\n",
              "      <td>60.992136</td>\n",
              "      <td>14.324486</td>\n",
              "      <td>21.763134</td>\n",
              "      <td>51.062016</td>\n",
              "      <td>59.021978</td>\n",
              "      <td>69.239583</td>\n",
              "      <td>88.476011</td>\n",
              "    </tr>\n",
              "    <tr>\n",
              "      <th>public_transit.2</th>\n",
              "      <td>997.0</td>\n",
              "      <td>4.614737</td>\n",
              "      <td>2.167434</td>\n",
              "      <td>1.559648</td>\n",
              "      <td>3.319345</td>\n",
              "      <td>4.152845</td>\n",
              "      <td>5.120101</td>\n",
              "      <td>14.704717</td>\n",
              "    </tr>\n",
              "    <tr>\n",
              "      <th>worried_finances.2</th>\n",
              "      <td>997.0</td>\n",
              "      <td>36.723666</td>\n",
              "      <td>3.552728</td>\n",
              "      <td>27.905132</td>\n",
              "      <td>34.277783</td>\n",
              "      <td>36.394288</td>\n",
              "      <td>39.069514</td>\n",
              "      <td>48.932689</td>\n",
              "    </tr>\n",
              "  </tbody>\n",
              "</table>\n",
              "</div>\n",
              "    <div class=\"colab-df-buttons\">\n",
              "\n",
              "  <div class=\"colab-df-container\">\n",
              "    <button class=\"colab-df-convert\" onclick=\"convertToInteractive('df-e20077ce-d2ef-4f8b-ac75-290e393ea388')\"\n",
              "            title=\"Convert this dataframe to an interactive table.\"\n",
              "            style=\"display:none;\">\n",
              "\n",
              "  <svg xmlns=\"http://www.w3.org/2000/svg\" height=\"24px\" viewBox=\"0 -960 960 960\">\n",
              "    <path d=\"M120-120v-720h720v720H120Zm60-500h600v-160H180v160Zm220 220h160v-160H400v160Zm0 220h160v-160H400v160ZM180-400h160v-160H180v160Zm440 0h160v-160H620v160ZM180-180h160v-160H180v160Zm440 0h160v-160H620v160Z\"/>\n",
              "  </svg>\n",
              "    </button>\n",
              "\n",
              "  <style>\n",
              "    .colab-df-container {\n",
              "      display:flex;\n",
              "      gap: 12px;\n",
              "    }\n",
              "\n",
              "    .colab-df-convert {\n",
              "      background-color: #E8F0FE;\n",
              "      border: none;\n",
              "      border-radius: 50%;\n",
              "      cursor: pointer;\n",
              "      display: none;\n",
              "      fill: #1967D2;\n",
              "      height: 32px;\n",
              "      padding: 0 0 0 0;\n",
              "      width: 32px;\n",
              "    }\n",
              "\n",
              "    .colab-df-convert:hover {\n",
              "      background-color: #E2EBFA;\n",
              "      box-shadow: 0px 1px 2px rgba(60, 64, 67, 0.3), 0px 1px 3px 1px rgba(60, 64, 67, 0.15);\n",
              "      fill: #174EA6;\n",
              "    }\n",
              "\n",
              "    .colab-df-buttons div {\n",
              "      margin-bottom: 4px;\n",
              "    }\n",
              "\n",
              "    [theme=dark] .colab-df-convert {\n",
              "      background-color: #3B4455;\n",
              "      fill: #D2E3FC;\n",
              "    }\n",
              "\n",
              "    [theme=dark] .colab-df-convert:hover {\n",
              "      background-color: #434B5C;\n",
              "      box-shadow: 0px 1px 3px 1px rgba(0, 0, 0, 0.15);\n",
              "      filter: drop-shadow(0px 1px 2px rgba(0, 0, 0, 0.3));\n",
              "      fill: #FFFFFF;\n",
              "    }\n",
              "  </style>\n",
              "\n",
              "    <script>\n",
              "      const buttonEl =\n",
              "        document.querySelector('#df-e20077ce-d2ef-4f8b-ac75-290e393ea388 button.colab-df-convert');\n",
              "      buttonEl.style.display =\n",
              "        google.colab.kernel.accessAllowed ? 'block' : 'none';\n",
              "\n",
              "      async function convertToInteractive(key) {\n",
              "        const element = document.querySelector('#df-e20077ce-d2ef-4f8b-ac75-290e393ea388');\n",
              "        const dataTable =\n",
              "          await google.colab.kernel.invokeFunction('convertToInteractive',\n",
              "                                                    [key], {});\n",
              "        if (!dataTable) return;\n",
              "\n",
              "        const docLinkHtml = 'Like what you see? Visit the ' +\n",
              "          '<a target=\"_blank\" href=https://colab.research.google.com/notebooks/data_table.ipynb>data table notebook</a>'\n",
              "          + ' to learn more about interactive tables.';\n",
              "        element.innerHTML = '';\n",
              "        dataTable['output_type'] = 'display_data';\n",
              "        await google.colab.output.renderOutput(dataTable, element);\n",
              "        const docLink = document.createElement('div');\n",
              "        docLink.innerHTML = docLinkHtml;\n",
              "        element.appendChild(docLink);\n",
              "      }\n",
              "    </script>\n",
              "  </div>\n",
              "\n",
              "\n",
              "    <div id=\"df-30eabc09-1a07-43e8-839e-28f10b286286\">\n",
              "      <button class=\"colab-df-quickchart\" onclick=\"quickchart('df-30eabc09-1a07-43e8-839e-28f10b286286')\"\n",
              "                title=\"Suggest charts\"\n",
              "                style=\"display:none;\">\n",
              "\n",
              "<svg xmlns=\"http://www.w3.org/2000/svg\" height=\"24px\"viewBox=\"0 0 24 24\"\n",
              "     width=\"24px\">\n",
              "    <g>\n",
              "        <path d=\"M19 3H5c-1.1 0-2 .9-2 2v14c0 1.1.9 2 2 2h14c1.1 0 2-.9 2-2V5c0-1.1-.9-2-2-2zM9 17H7v-7h2v7zm4 0h-2V7h2v10zm4 0h-2v-4h2v4z\"/>\n",
              "    </g>\n",
              "</svg>\n",
              "      </button>\n",
              "\n",
              "<style>\n",
              "  .colab-df-quickchart {\n",
              "      --bg-color: #E8F0FE;\n",
              "      --fill-color: #1967D2;\n",
              "      --hover-bg-color: #E2EBFA;\n",
              "      --hover-fill-color: #174EA6;\n",
              "      --disabled-fill-color: #AAA;\n",
              "      --disabled-bg-color: #DDD;\n",
              "  }\n",
              "\n",
              "  [theme=dark] .colab-df-quickchart {\n",
              "      --bg-color: #3B4455;\n",
              "      --fill-color: #D2E3FC;\n",
              "      --hover-bg-color: #434B5C;\n",
              "      --hover-fill-color: #FFFFFF;\n",
              "      --disabled-bg-color: #3B4455;\n",
              "      --disabled-fill-color: #666;\n",
              "  }\n",
              "\n",
              "  .colab-df-quickchart {\n",
              "    background-color: var(--bg-color);\n",
              "    border: none;\n",
              "    border-radius: 50%;\n",
              "    cursor: pointer;\n",
              "    display: none;\n",
              "    fill: var(--fill-color);\n",
              "    height: 32px;\n",
              "    padding: 0;\n",
              "    width: 32px;\n",
              "  }\n",
              "\n",
              "  .colab-df-quickchart:hover {\n",
              "    background-color: var(--hover-bg-color);\n",
              "    box-shadow: 0 1px 2px rgba(60, 64, 67, 0.3), 0 1px 3px 1px rgba(60, 64, 67, 0.15);\n",
              "    fill: var(--button-hover-fill-color);\n",
              "  }\n",
              "\n",
              "  .colab-df-quickchart-complete:disabled,\n",
              "  .colab-df-quickchart-complete:disabled:hover {\n",
              "    background-color: var(--disabled-bg-color);\n",
              "    fill: var(--disabled-fill-color);\n",
              "    box-shadow: none;\n",
              "  }\n",
              "\n",
              "  .colab-df-spinner {\n",
              "    border: 2px solid var(--fill-color);\n",
              "    border-color: transparent;\n",
              "    border-bottom-color: var(--fill-color);\n",
              "    animation:\n",
              "      spin 1s steps(1) infinite;\n",
              "  }\n",
              "\n",
              "  @keyframes spin {\n",
              "    0% {\n",
              "      border-color: transparent;\n",
              "      border-bottom-color: var(--fill-color);\n",
              "      border-left-color: var(--fill-color);\n",
              "    }\n",
              "    20% {\n",
              "      border-color: transparent;\n",
              "      border-left-color: var(--fill-color);\n",
              "      border-top-color: var(--fill-color);\n",
              "    }\n",
              "    30% {\n",
              "      border-color: transparent;\n",
              "      border-left-color: var(--fill-color);\n",
              "      border-top-color: var(--fill-color);\n",
              "      border-right-color: var(--fill-color);\n",
              "    }\n",
              "    40% {\n",
              "      border-color: transparent;\n",
              "      border-right-color: var(--fill-color);\n",
              "      border-top-color: var(--fill-color);\n",
              "    }\n",
              "    60% {\n",
              "      border-color: transparent;\n",
              "      border-right-color: var(--fill-color);\n",
              "    }\n",
              "    80% {\n",
              "      border-color: transparent;\n",
              "      border-right-color: var(--fill-color);\n",
              "      border-bottom-color: var(--fill-color);\n",
              "    }\n",
              "    90% {\n",
              "      border-color: transparent;\n",
              "      border-bottom-color: var(--fill-color);\n",
              "    }\n",
              "  }\n",
              "</style>\n",
              "\n",
              "      <script>\n",
              "        async function quickchart(key) {\n",
              "          const quickchartButtonEl =\n",
              "            document.querySelector('#' + key + ' button');\n",
              "          quickchartButtonEl.disabled = true;  // To prevent multiple clicks.\n",
              "          quickchartButtonEl.classList.add('colab-df-spinner');\n",
              "          try {\n",
              "            const charts = await google.colab.kernel.invokeFunction(\n",
              "                'suggestCharts', [key], {});\n",
              "          } catch (error) {\n",
              "            console.error('Error during call to suggestCharts:', error);\n",
              "          }\n",
              "          quickchartButtonEl.classList.remove('colab-df-spinner');\n",
              "          quickchartButtonEl.classList.add('colab-df-quickchart-complete');\n",
              "        }\n",
              "        (() => {\n",
              "          let quickchartButtonEl =\n",
              "            document.querySelector('#df-30eabc09-1a07-43e8-839e-28f10b286286 button');\n",
              "          quickchartButtonEl.style.display =\n",
              "            google.colab.kernel.accessAllowed ? 'block' : 'none';\n",
              "        })();\n",
              "      </script>\n",
              "    </div>\n",
              "\n",
              "    </div>\n",
              "  </div>\n"
            ],
            "application/vnd.google.colaboratory.intrinsic+json": {
              "type": "dataframe",
              "summary": "{\n  \"name\": \"test_data\",\n  \"rows\": 53,\n  \"fields\": [\n    {\n      \"column\": \"count\",\n      \"properties\": {\n        \"dtype\": \"number\",\n        \"std\": 0.0,\n        \"min\": 997.0,\n        \"max\": 997.0,\n        \"num_unique_values\": 1,\n        \"samples\": [\n          997.0\n        ],\n        \"semantic_type\": \"\",\n        \"description\": \"\"\n      }\n    },\n    {\n      \"column\": \"mean\",\n      \"properties\": {\n        \"dtype\": \"number\",\n        \"std\": 23.203968678465557,\n        \"min\": 1.8848705900702107,\n        \"max\": 70.06841884924775,\n        \"num_unique_values\": 53,\n        \"samples\": [\n          1.9275192891675026\n        ],\n        \"semantic_type\": \"\",\n        \"description\": \"\"\n      }\n    },\n    {\n      \"column\": \"std\",\n      \"properties\": {\n        \"dtype\": \"number\",\n        \"std\": 4.475344824089773,\n        \"min\": 1.1371758015482207,\n        \"max\": 18.565829007996278,\n        \"num_unique_values\": 53,\n        \"samples\": [\n          1.1643123807828033\n        ],\n        \"semantic_type\": \"\",\n        \"description\": \"\"\n      }\n    },\n    {\n      \"column\": \"min\",\n      \"properties\": {\n        \"dtype\": \"number\",\n        \"std\": 18.679266803196878,\n        \"min\": 0.4529342,\n        \"max\": 53.7404961,\n        \"num_unique_values\": 53,\n        \"samples\": [\n          0.474177\n        ],\n        \"semantic_type\": \"\",\n        \"description\": \"\"\n      }\n    },\n    {\n      \"column\": \"25%\",\n      \"properties\": {\n        \"dtype\": \"number\",\n        \"std\": 22.79730846416065,\n        \"min\": 1.1407999,\n        \"max\": 66.4752486,\n        \"num_unique_values\": 53,\n        \"samples\": [\n          1.1659446\n        ],\n        \"semantic_type\": \"\",\n        \"description\": \"\"\n      }\n    },\n    {\n      \"column\": \"50%\",\n      \"properties\": {\n        \"dtype\": \"number\",\n        \"std\": 23.711819057421394,\n        \"min\": 1.4666204,\n        \"max\": 69.6757842,\n        \"num_unique_values\": 53,\n        \"samples\": [\n          1.5094959\n        ],\n        \"semantic_type\": \"\",\n        \"description\": \"\"\n      }\n    },\n    {\n      \"column\": \"75%\",\n      \"properties\": {\n        \"dtype\": \"number\",\n        \"std\": 24.602543482856667,\n        \"min\": 2.0694303,\n        \"max\": 74.2600859,\n        \"num_unique_values\": 53,\n        \"samples\": [\n          2.1383057\n        ],\n        \"semantic_type\": \"\",\n        \"description\": \"\"\n      }\n    },\n    {\n      \"column\": \"max\",\n      \"properties\": {\n        \"dtype\": \"number\",\n        \"std\": 25.462505791585066,\n        \"min\": 6.9230168,\n        \"max\": 88.4838566,\n        \"num_unique_values\": 53,\n        \"samples\": [\n          7.1726694\n        ],\n        \"semantic_type\": \"\",\n        \"description\": \"\"\n      }\n    }\n  ]\n}"
            }
          },
          "metadata": {},
          "execution_count": 9
        }
      ]
    },
    {
      "cell_type": "code",
      "source": [
        "from sklearn.ensemble import RandomForestRegressor\n",
        "from sklearn.model_selection import train_test_split\n",
        "\n",
        "thresholds = [0.05, 0.1, 0.2, 0.3]\n",
        "target_col = 'tested_positive.2'\n",
        "\n",
        "\n",
        "best_score = 0\n",
        "best_features = []\n",
        "best_threshold = 0\n",
        "\n",
        "for t in thresholds:\n",
        "  subset = train_data.iloc[:, 35:]\n",
        "  correlation = subset.corrwith(train_data['tested_positive.2'])\n",
        "  features = correlation[correlation.abs() >= t]\n",
        "  selected_col = features.index.to_list()[:-1]\n",
        "\n",
        "  if len(selected_col) == 0:\n",
        "        continue\n",
        "\n",
        "  X = train_data[selected_col]\n",
        "  y = train_data[target_col]\n",
        "\n",
        "  X_train, X_valid, y_train, y_valid = train_test_split(X, y, test_size=0.2, random_state=42)\n",
        "\n",
        "  model = RandomForestRegressor(random_state=42)\n",
        "  model.fit(X_train, y_train)\n",
        "  acc = model.score(X_valid, y_valid)\n",
        "\n",
        "  if acc > best_score:\n",
        "      best_score = acc\n",
        "      best_features = selected_col\n",
        "      best_threshold = t\n",
        "\n",
        "print(f\"best threshold: {best_threshold}\")\n",
        "print(f\"accuracy: {best_score:.4f}\")\n",
        "print(f\"feature index: {[train_data.columns.get_loc(f) for f in best_features]}\")\n"
      ],
      "metadata": {
        "colab": {
          "base_uri": "https://localhost:8080/"
        },
        "id": "AChowIGsS78w",
        "outputId": "e93ddb62-5ca8-4d19-fc33-f0a0546c255b"
      },
      "execution_count": null,
      "outputs": [
        {
          "output_type": "stream",
          "name": "stdout",
          "text": [
            "best threshold: 0.3\n",
            "accuracy: 0.9904\n",
            "feature index: [35, 36, 37, 41, 44, 45, 46, 47, 48, 50, 52, 53, 54, 55, 59, 62, 63, 64, 65, 66, 68, 70, 71, 72, 73, 77, 80, 81, 82, 83, 84, 86]\n"
          ]
        }
      ]
    },
    {
      "cell_type": "markdown",
      "source": [
        "# Hyperparameters"
      ],
      "metadata": {
        "id": "g3HAeCVJL7Xc"
      }
    },
    {
      "cell_type": "code",
      "source": [
        "device = 'cuda' if torch.cuda.is_available() else 'cpu'\n",
        "config = {\n",
        "    'seed': 5201314,      # Your seed number, you can pick your lucky number. :)\n",
        "    'select_all': True,   # Whether to use all features.\n",
        "    'valid_ratio': 0.2,   # validation_size = train_size * valid_ratio\n",
        "    'n_epochs': 3000,     # Number of epochs.\n",
        "    'batch_size': 256,\n",
        "    'momentum': 0.9,       # SGD momentum.\n",
        "    'weight_decay': 0.0001,    # Adam weight_decay.\n",
        "    'optimizer': 'Adam',   # Optimizer.\n",
        "    'learning_rate': 0.001, # Learning rate.\n",
        "    'feature idx': [35, 36, 37, 41, 44, 45, 46, 47, 48, 50, 52, 53, 54, 55, 59, 62, 63, 64, 65, 66, 68, 70, 71, 72, 73, 77, 80, 81, 82, 83, 84, 86],\n",
        "    'early_stop': 100,    # If model has not improved for this many consecutive epochs, stop training.\n",
        "    'save_path': '/content/drive/MyDrive/models/model.ckpt'  # Your model will be saved here.\n",
        "}"
      ],
      "metadata": {
        "id": "QoWPUahCtoT6",
        "execution": {
          "iopub.status.busy": "2023-02-12T07:31:18.304983Z",
          "iopub.execute_input": "2023-02-12T07:31:18.305345Z",
          "iopub.status.idle": "2023-02-12T07:31:18.361404Z",
          "shell.execute_reply.started": "2023-02-12T07:31:18.305313Z",
          "shell.execute_reply": "2023-02-12T07:31:18.36028Z"
        },
        "trusted": true
      },
      "execution_count": null,
      "outputs": []
    },
    {
      "cell_type": "markdown",
      "source": [
        "# Dataset\n",
        "\n",
        "1. read .csv file\n",
        "2. process data and extract desired features\n",
        "3. split sets\n",
        "4. normalization"
      ],
      "metadata": {
        "id": "IqO3lTm78nNO"
      }
    },
    {
      "cell_type": "code",
      "source": [
        "import torch\n",
        "from torch.utils.data import Dataset\n",
        "import numpy as np\n",
        "import csv\n",
        "from sklearn.model_selection import train_test_split\n",
        "\n",
        "class COVID19Dataset(Dataset):\n",
        "    def __init__(self, path, mode, valid_rate, mean=None, std=None):\n",
        "        self.mode = mode\n",
        "        self.mean = mean\n",
        "        self.std = std\n",
        "        self.feature_idx = [35, 36, 37, 41, 44, 45, 46, 47, 48, 50, 52, 53, 54, 55, 59, 62, 63, 64, 65, 66, 68, 70, 71, 72, 73, 77, 80, 81, 82, 83, 84, 86]\n",
        "        self.label_idx = 87 # 88 - 1 = 87, we will skip id column afterward, so one col has to be removed.\n",
        "\n",
        "        # load data and remove title and unuseful info\n",
        "        with open(path, \"r\") as f:\n",
        "            data = list(csv.reader(f))[1:]  # skip title\n",
        "            data = np.array(data)[:, 1:].astype(float)  # skip id column\n",
        "\n",
        "        if mode == \"test\":\n",
        "            self.x = torch.FloatTensor(data[:, self.feature_idx])\n",
        "        else:\n",
        "            train_idx, valid_idx = train_test_split(np.arange(data.shape[0]), test_size=valid_rate, random_state=1)\n",
        "            if mode == \"train\":\n",
        "              self.x = torch.FloatTensor(data[train_idx, :])\n",
        "              self.y = torch.FloatTensor(data[train_idx, self.label_idx])\n",
        "\n",
        "            elif mode == \"valid\":\n",
        "              self.x = torch.FloatTensor(data[valid_idx, :])\n",
        "              self.y = torch.FloatTensor(data[valid_idx, self.label_idx])\n",
        "            self.x = self.x[:, self.feature_idx]\n",
        "        # Normalization\n",
        "        if self.mean is not None and self.std is not None:\n",
        "          self.x = (self.x - self.mean) / self.std\n",
        "\n",
        "        # record feature amount\n",
        "        self.features_num = self.x.shape[1]\n",
        "\n",
        "    def __getitem__(self, index):\n",
        "        if self.mode == \"test\":\n",
        "            return self.x[index]\n",
        "        else:\n",
        "            return self.x[index], self.y[index]\n",
        "\n",
        "    def __len__(self):\n",
        "        return len(self.x)"
      ],
      "metadata": {
        "id": "nHUGKF9-nf7-"
      },
      "execution_count": null,
      "outputs": []
    },
    {
      "cell_type": "markdown",
      "source": [
        "# DataLoader"
      ],
      "metadata": {
        "id": "inWlKACsTHhq"
      }
    },
    {
      "cell_type": "code",
      "source": [
        "def prepare_dataloader(path, mode, valid_rate, mean, std, batch_size, jobs_num):\n",
        "  dataset = COVID19Dataset(path, mode, valid_rate, mean, std)\n",
        "  dataloader = DataLoader(\n",
        "      dataset,\n",
        "      batch_size,\n",
        "      shuffle=(mode == \"train\"),\n",
        "      drop_last=False,\n",
        "      num_workers=jobs_num,\n",
        "      pin_memory=True\n",
        "      )\n",
        "  return dataloader"
      ],
      "metadata": {
        "id": "7KX8QS90THEo"
      },
      "execution_count": null,
      "outputs": []
    },
    {
      "cell_type": "markdown",
      "source": [
        "# Neural Network Model\n"
      ],
      "metadata": {
        "id": "m73ooU75CL_j"
      }
    },
    {
      "cell_type": "code",
      "source": [
        " class My_Model(nn.Module):\n",
        "    def __init__(self, features_num):\n",
        "        super(My_Model, self).__init__()\n",
        "        self.layers = nn.Sequential(\n",
        "            nn.Linear(features_num, 1024),\n",
        "            nn.ReLU(),\n",
        "            nn.Linear(1024, 128),\n",
        "            nn.ReLU(),\n",
        "            nn.Linear(128, 1)\n",
        "        )\n",
        "        self.criterion = nn.MSELoss(reduction=\"mean\")\n",
        "\n",
        "    def forward(self, x):\n",
        "        return self.layers(x).squeeze(1)\n",
        "\n",
        "    def calculate_loss(self, y, y_hat):\n",
        "        loss = torch.sqrt(self.criterion(y, y_hat))\n",
        "        # l1 regularization\n",
        "        l1_lambda = 0.0001\n",
        "        l1_reg = 0\n",
        "        for param in self.parameters():\n",
        "            l1_reg += torch.sum(torch.abs(param))\n",
        "        return loss + l1_lambda * l1_reg, loss\n"
      ],
      "metadata": {
        "id": "Qn97_WvvrEkG",
        "execution": {
          "iopub.status.busy": "2023-02-12T07:31:18.263546Z",
          "iopub.execute_input": "2023-02-12T07:31:18.263886Z",
          "iopub.status.idle": "2023-02-12T07:31:18.274148Z",
          "shell.execute_reply.started": "2023-02-12T07:31:18.263852Z",
          "shell.execute_reply": "2023-02-12T07:31:18.273078Z"
        },
        "trusted": true
      },
      "execution_count": null,
      "outputs": []
    },
    {
      "cell_type": "markdown",
      "source": [
        "# Training Loop"
      ],
      "metadata": {
        "id": "kADIPNQ2Ih5X"
      }
    },
    {
      "cell_type": "code",
      "source": [
        "from tqdm import tqdm\n",
        "from torch.utils.tensorboard import SummaryWriter\n",
        "\n",
        "def train(train_dataloader, valid_dataloader, model, config, device):\n",
        "    '''Fixes random number generator seeds for reproducibility.'''\n",
        "    torch.backends.cudnn.deterministic = True\n",
        "    torch.backends.cudnn.benchmark = False\n",
        "    np.random.seed(config['seed'])\n",
        "    torch.manual_seed(config['seed'])\n",
        "    if torch.cuda.is_available():\n",
        "        torch.cuda.manual_seed_all(config['seed'])\n",
        "\n",
        "    # make sure save path exists\n",
        "    os.makedirs(os.path.dirname(config[\"save_path\"]), exist_ok=True)\n",
        "\n",
        "    # Visualization in TensorBoard\n",
        "    writer = SummaryWriter(log_dir='runs/exp1')\n",
        "\n",
        "\n",
        "    optimizer = getattr(torch.optim, config[\"optimizer\"])(model.parameters(), lr=config['learning_rate'], weight_decay=config['weight_decay']) #, momentum=config['momentum'])\n",
        "    rsme_min = float('inf')\n",
        "    early_stop_count = 0\n",
        "    epoch = 0\n",
        "\n",
        "    for epoch in range(config['n_epochs']):\n",
        "        model.train() # Set your model to train mode.\n",
        "        train_loss = 0\n",
        "\n",
        "        # tqdm is a package to visualize your training progress.\n",
        "        train_pbar = tqdm(train_dataloader, position=0, leave=True)\n",
        "        train_pbar.set_description(f\"Epoch [{epoch+1}/{config['n_epochs']}]\")\n",
        "        for x, y in train_pbar:\n",
        "            x, y = x.to(device), y.to(device)   # Move your data to device. In Pytorch, model and data have to be put in the same device\n",
        "            optimizer.zero_grad()               # Set gradient to zero.\n",
        "            y_hat = model(x)                    # equals to model.forward(x), inherit from nn.module\n",
        "            l1_loss, loss = model.calculate_loss(y, y_hat)\n",
        "            l1_loss.backward()                     # Compute gradient(backpropagation).\n",
        "            optimizer.step()                    # Update parameters.\n",
        "            train_loss += loss.detach().cpu().item() * x.shape[0]\n",
        "        train_loss /= len(train_dataloader.dataset)\n",
        "\n",
        "        train_pbar.set_postfix({'batch_loss': loss.detach().cpu().item() * x.shape[0]})\n",
        "\n",
        "        model.eval() # Set your model to evaluation mode.\n",
        "        valid_loss = 0\n",
        "        for x, y in valid_dataloader:\n",
        "            x, y = x.to(device), y.to(device)   # Move your data to device.\n",
        "            with torch.no_grad():  # speed up training by not calculating grad.\n",
        "                y_hat = model(x)\n",
        "            y_hat = model(x)                    # equals to model.forward(x), inherit from nn.module\n",
        "            l1_loss, loss = model.calculate_loss(y, y_hat)\n",
        "            valid_loss += loss.detach().cpu().item() * x.shape[0]\n",
        "        valid_loss /= len(valid_dataloader.dataset)\n",
        "\n",
        "        # Visualization in TensorBoard\n",
        "        writer.add_scalar('Loss/train', train_loss, epoch)\n",
        "        writer.add_scalar('Loss/valid', valid_loss, epoch)\n",
        "\n",
        "        print(f\"Epoch [{epoch+1}/{config['n_epochs']}]: Train loss: {train_loss:.4f}, Valid loss: {valid_loss:.4f}\")\n",
        "        # writer.add_scalar('Loss/valid', valid_loss, step)\n",
        "\n",
        "        if valid_loss < rsme_min:\n",
        "            rsme_min = valid_loss\n",
        "            torch.save(model.state_dict(), config['save_path']) # Save your best model\n",
        "            print('Saving model with loss {:.3f}...'.format(rsme_min))\n",
        "            early_stop_count = 0\n",
        "        else:\n",
        "            early_stop_count += 1\n",
        "\n",
        "        if early_stop_count >= config['early_stop']:\n",
        "            print('\\nModel is not improving, so we halt the training session.')\n",
        "            writer.close()\n",
        "            return\n",
        "\n",
        "        writer.close()"
      ],
      "metadata": {
        "id": "k4Rq8_TztAhq",
        "execution": {
          "iopub.status.busy": "2023-02-12T07:31:18.286341Z",
          "iopub.execute_input": "2023-02-12T07:31:18.286701Z",
          "iopub.status.idle": "2023-02-12T07:31:18.301211Z",
          "shell.execute_reply.started": "2023-02-12T07:31:18.286646Z",
          "shell.execute_reply": "2023-02-12T07:31:18.300217Z"
        },
        "trusted": true
      },
      "execution_count": null,
      "outputs": []
    },
    {
      "cell_type": "markdown",
      "source": [
        "#Load Model"
      ],
      "metadata": {
        "id": "-9BSRCsTCfeo"
      }
    },
    {
      "cell_type": "code",
      "source": [
        "with open(train_path, \"r\") as f:\n",
        "    train_data = list(csv.reader(f))[1:]  # skip title\n",
        "    train_data = np.array(train_data)[:, 1:].astype(float)  # skip id column\n",
        "with open(test_path, \"r\") as f:\n",
        "    test_data = list(csv.reader(f))[1:]  # skip title\n",
        "    test_data = np.array(test_data)[:, 1:].astype(float)  # skip id\n",
        "# all_data = np.vstack((train_data, test_data))\n",
        "\n",
        "feature_id = config['feature idx']\n",
        "mean =  torch.FloatTensor(train_data[:, feature_id]).mean(dim=0, keepdim=True)   # only include train_data in calculating mean, std in avoid of data leakage\n",
        "std = torch.FloatTensor(train_data[:, feature_id]).std(dim=0, keepdim=True)\n",
        "\n",
        "train_loader = prepare_dataloader(train_path, \"train\", config['valid_ratio'], mean, std, config['batch_size'], jobs_num=0)\n",
        "valid_loader = prepare_dataloader(train_path, \"valid\", config['valid_ratio'], mean, std, config['batch_size'], jobs_num=0)\n",
        "test_loader = prepare_dataloader(test_path, \"test\", 0, mean, std, config['batch_size'], jobs_num=0)"
      ],
      "metadata": {
        "id": "EdAX83ozieZv"
      },
      "execution_count": null,
      "outputs": []
    },
    {
      "cell_type": "code",
      "source": [
        "model = My_Model(train_loader.dataset.features_num).to(device)"
      ],
      "metadata": {
        "id": "f7g2B74NenQW"
      },
      "execution_count": null,
      "outputs": []
    },
    {
      "cell_type": "markdown",
      "source": [
        "# Start training!"
      ],
      "metadata": {
        "id": "0OBYgjCA-YwD"
      }
    },
    {
      "cell_type": "code",
      "source": [
        "train(train_loader, valid_loader, model, config, device)"
      ],
      "metadata": {
        "id": "YdttVRkAfu2t",
        "execution": {
          "iopub.status.busy": "2023-02-12T07:31:18.441083Z",
          "iopub.execute_input": "2023-02-12T07:31:18.441534Z"
        },
        "trusted": true,
        "colab": {
          "base_uri": "https://localhost:8080/"
        },
        "outputId": "e383725c-f861-4395-a6b7-f5f74e4d41e4"
      },
      "execution_count": null,
      "outputs": [
        {
          "output_type": "stream",
          "name": "stderr",
          "text": [
            "Epoch [1/3000]: 100%|██████████| 10/10 [00:00<00:00, 36.68it/s]\n"
          ]
        },
        {
          "output_type": "stream",
          "name": "stdout",
          "text": [
            "Epoch [1/3000]: Train loss: 16.8735, Valid loss: 10.9741\n",
            "Saving model with loss 10.974...\n"
          ]
        },
        {
          "output_type": "stream",
          "name": "stderr",
          "text": [
            "Epoch [2/3000]: 100%|██████████| 10/10 [00:00<00:00, 37.96it/s]\n"
          ]
        },
        {
          "output_type": "stream",
          "name": "stdout",
          "text": [
            "Epoch [2/3000]: Train loss: 9.0397, Valid loss: 8.5279\n",
            "Saving model with loss 8.528...\n"
          ]
        },
        {
          "output_type": "stream",
          "name": "stderr",
          "text": [
            "Epoch [3/3000]: 100%|██████████| 10/10 [00:00<00:00, 54.58it/s]\n"
          ]
        },
        {
          "output_type": "stream",
          "name": "stdout",
          "text": [
            "Epoch [3/3000]: Train loss: 6.9165, Valid loss: 6.1044\n",
            "Saving model with loss 6.104...\n"
          ]
        },
        {
          "output_type": "stream",
          "name": "stderr",
          "text": [
            "Epoch [4/3000]: 100%|██████████| 10/10 [00:00<00:00, 43.45it/s]\n"
          ]
        },
        {
          "output_type": "stream",
          "name": "stdout",
          "text": [
            "Epoch [4/3000]: Train loss: 5.8418, Valid loss: 5.5275\n",
            "Saving model with loss 5.527...\n"
          ]
        },
        {
          "output_type": "stream",
          "name": "stderr",
          "text": [
            "Epoch [5/3000]: 100%|██████████| 10/10 [00:00<00:00, 51.37it/s]\n"
          ]
        },
        {
          "output_type": "stream",
          "name": "stdout",
          "text": [
            "Epoch [5/3000]: Train loss: 5.0313, Valid loss: 4.6289\n",
            "Saving model with loss 4.629...\n"
          ]
        },
        {
          "output_type": "stream",
          "name": "stderr",
          "text": [
            "Epoch [6/3000]: 100%|██████████| 10/10 [00:00<00:00, 48.54it/s]\n"
          ]
        },
        {
          "output_type": "stream",
          "name": "stdout",
          "text": [
            "Epoch [6/3000]: Train loss: 4.4539, Valid loss: 4.1809\n",
            "Saving model with loss 4.181...\n"
          ]
        },
        {
          "output_type": "stream",
          "name": "stderr",
          "text": [
            "Epoch [7/3000]: 100%|██████████| 10/10 [00:00<00:00, 55.46it/s]\n"
          ]
        },
        {
          "output_type": "stream",
          "name": "stdout",
          "text": [
            "Epoch [7/3000]: Train loss: 4.0650, Valid loss: 3.8688\n",
            "Saving model with loss 3.869...\n"
          ]
        },
        {
          "output_type": "stream",
          "name": "stderr",
          "text": [
            "Epoch [8/3000]: 100%|██████████| 10/10 [00:00<00:00, 50.49it/s]\n"
          ]
        },
        {
          "output_type": "stream",
          "name": "stdout",
          "text": [
            "Epoch [8/3000]: Train loss: 3.7192, Valid loss: 3.6096\n",
            "Saving model with loss 3.610...\n"
          ]
        },
        {
          "output_type": "stream",
          "name": "stderr",
          "text": [
            "Epoch [9/3000]: 100%|██████████| 10/10 [00:00<00:00, 44.04it/s]\n"
          ]
        },
        {
          "output_type": "stream",
          "name": "stdout",
          "text": [
            "Epoch [9/3000]: Train loss: 3.4427, Valid loss: 3.3078\n",
            "Saving model with loss 3.308...\n"
          ]
        },
        {
          "output_type": "stream",
          "name": "stderr",
          "text": [
            "Epoch [10/3000]: 100%|██████████| 10/10 [00:00<00:00, 45.58it/s]\n"
          ]
        },
        {
          "output_type": "stream",
          "name": "stdout",
          "text": [
            "Epoch [10/3000]: Train loss: 3.1692, Valid loss: 3.0902\n",
            "Saving model with loss 3.090...\n"
          ]
        },
        {
          "output_type": "stream",
          "name": "stderr",
          "text": [
            "Epoch [11/3000]: 100%|██████████| 10/10 [00:00<00:00, 45.16it/s]\n"
          ]
        },
        {
          "output_type": "stream",
          "name": "stdout",
          "text": [
            "Epoch [11/3000]: Train loss: 2.9602, Valid loss: 2.7982\n",
            "Saving model with loss 2.798...\n"
          ]
        },
        {
          "output_type": "stream",
          "name": "stderr",
          "text": [
            "Epoch [12/3000]: 100%|██████████| 10/10 [00:00<00:00, 47.21it/s]\n"
          ]
        },
        {
          "output_type": "stream",
          "name": "stdout",
          "text": [
            "Epoch [12/3000]: Train loss: 2.8480, Valid loss: 2.9278\n"
          ]
        },
        {
          "output_type": "stream",
          "name": "stderr",
          "text": [
            "Epoch [13/3000]: 100%|██████████| 10/10 [00:00<00:00, 51.74it/s]\n"
          ]
        },
        {
          "output_type": "stream",
          "name": "stdout",
          "text": [
            "Epoch [13/3000]: Train loss: 2.7947, Valid loss: 2.7235\n",
            "Saving model with loss 2.723...\n"
          ]
        },
        {
          "output_type": "stream",
          "name": "stderr",
          "text": [
            "Epoch [14/3000]: 100%|██████████| 10/10 [00:00<00:00, 43.49it/s]\n"
          ]
        },
        {
          "output_type": "stream",
          "name": "stdout",
          "text": [
            "Epoch [14/3000]: Train loss: 2.6998, Valid loss: 2.5707\n",
            "Saving model with loss 2.571...\n"
          ]
        },
        {
          "output_type": "stream",
          "name": "stderr",
          "text": [
            "Epoch [15/3000]: 100%|██████████| 10/10 [00:00<00:00, 44.35it/s]\n"
          ]
        },
        {
          "output_type": "stream",
          "name": "stdout",
          "text": [
            "Epoch [15/3000]: Train loss: 2.5816, Valid loss: 2.5083\n",
            "Saving model with loss 2.508...\n"
          ]
        },
        {
          "output_type": "stream",
          "name": "stderr",
          "text": [
            "Epoch [16/3000]: 100%|██████████| 10/10 [00:00<00:00, 45.25it/s]\n"
          ]
        },
        {
          "output_type": "stream",
          "name": "stdout",
          "text": [
            "Epoch [16/3000]: Train loss: 2.4869, Valid loss: 2.4777\n",
            "Saving model with loss 2.478...\n"
          ]
        },
        {
          "output_type": "stream",
          "name": "stderr",
          "text": [
            "Epoch [17/3000]: 100%|██████████| 10/10 [00:00<00:00, 44.48it/s]\n"
          ]
        },
        {
          "output_type": "stream",
          "name": "stdout",
          "text": [
            "Epoch [17/3000]: Train loss: 2.4503, Valid loss: 2.4289\n",
            "Saving model with loss 2.429...\n"
          ]
        },
        {
          "output_type": "stream",
          "name": "stderr",
          "text": [
            "Epoch [18/3000]: 100%|██████████| 10/10 [00:00<00:00, 42.28it/s]\n"
          ]
        },
        {
          "output_type": "stream",
          "name": "stdout",
          "text": [
            "Epoch [18/3000]: Train loss: 2.4060, Valid loss: 2.3806\n",
            "Saving model with loss 2.381...\n"
          ]
        },
        {
          "output_type": "stream",
          "name": "stderr",
          "text": [
            "Epoch [19/3000]: 100%|██████████| 10/10 [00:00<00:00, 48.84it/s]\n"
          ]
        },
        {
          "output_type": "stream",
          "name": "stdout",
          "text": [
            "Epoch [19/3000]: Train loss: 2.3520, Valid loss: 2.4056\n"
          ]
        },
        {
          "output_type": "stream",
          "name": "stderr",
          "text": [
            "Epoch [20/3000]: 100%|██████████| 10/10 [00:00<00:00, 55.27it/s]\n"
          ]
        },
        {
          "output_type": "stream",
          "name": "stdout",
          "text": [
            "Epoch [20/3000]: Train loss: 2.3375, Valid loss: 2.4364\n"
          ]
        },
        {
          "output_type": "stream",
          "name": "stderr",
          "text": [
            "Epoch [21/3000]: 100%|██████████| 10/10 [00:00<00:00, 58.37it/s]\n"
          ]
        },
        {
          "output_type": "stream",
          "name": "stdout",
          "text": [
            "Epoch [21/3000]: Train loss: 2.2771, Valid loss: 2.5041\n"
          ]
        },
        {
          "output_type": "stream",
          "name": "stderr",
          "text": [
            "Epoch [22/3000]: 100%|██████████| 10/10 [00:00<00:00, 64.90it/s]\n"
          ]
        },
        {
          "output_type": "stream",
          "name": "stdout",
          "text": [
            "Epoch [22/3000]: Train loss: 2.3195, Valid loss: 2.2814\n",
            "Saving model with loss 2.281...\n"
          ]
        },
        {
          "output_type": "stream",
          "name": "stderr",
          "text": [
            "Epoch [23/3000]: 100%|██████████| 10/10 [00:00<00:00, 81.73it/s]\n"
          ]
        },
        {
          "output_type": "stream",
          "name": "stdout",
          "text": [
            "Epoch [23/3000]: Train loss: 2.2508, Valid loss: 2.2595\n",
            "Saving model with loss 2.260...\n"
          ]
        },
        {
          "output_type": "stream",
          "name": "stderr",
          "text": [
            "Epoch [24/3000]: 100%|██████████| 10/10 [00:00<00:00, 75.74it/s]\n"
          ]
        },
        {
          "output_type": "stream",
          "name": "stdout",
          "text": [
            "Epoch [24/3000]: Train loss: 2.2322, Valid loss: 2.2202\n",
            "Saving model with loss 2.220...\n"
          ]
        },
        {
          "output_type": "stream",
          "name": "stderr",
          "text": [
            "Epoch [25/3000]: 100%|██████████| 10/10 [00:00<00:00, 88.21it/s]\n"
          ]
        },
        {
          "output_type": "stream",
          "name": "stdout",
          "text": [
            "Epoch [25/3000]: Train loss: 2.1764, Valid loss: 2.2071\n",
            "Saving model with loss 2.207...\n"
          ]
        },
        {
          "output_type": "stream",
          "name": "stderr",
          "text": [
            "Epoch [26/3000]: 100%|██████████| 10/10 [00:00<00:00, 88.34it/s]\n"
          ]
        },
        {
          "output_type": "stream",
          "name": "stdout",
          "text": [
            "Epoch [26/3000]: Train loss: 2.2044, Valid loss: 2.1598\n",
            "Saving model with loss 2.160...\n"
          ]
        },
        {
          "output_type": "stream",
          "name": "stderr",
          "text": [
            "Epoch [27/3000]: 100%|██████████| 10/10 [00:00<00:00, 88.25it/s]\n"
          ]
        },
        {
          "output_type": "stream",
          "name": "stdout",
          "text": [
            "Epoch [27/3000]: Train loss: 2.1481, Valid loss: 2.1949\n"
          ]
        },
        {
          "output_type": "stream",
          "name": "stderr",
          "text": [
            "Epoch [28/3000]: 100%|██████████| 10/10 [00:00<00:00, 83.83it/s]\n"
          ]
        },
        {
          "output_type": "stream",
          "name": "stdout",
          "text": [
            "Epoch [28/3000]: Train loss: 2.1292, Valid loss: 2.1818\n"
          ]
        },
        {
          "output_type": "stream",
          "name": "stderr",
          "text": [
            "Epoch [29/3000]: 100%|██████████| 10/10 [00:00<00:00, 86.73it/s]\n"
          ]
        },
        {
          "output_type": "stream",
          "name": "stdout",
          "text": [
            "Epoch [29/3000]: Train loss: 2.1212, Valid loss: 2.3520\n"
          ]
        },
        {
          "output_type": "stream",
          "name": "stderr",
          "text": [
            "Epoch [30/3000]: 100%|██████████| 10/10 [00:00<00:00, 84.36it/s]\n"
          ]
        },
        {
          "output_type": "stream",
          "name": "stdout",
          "text": [
            "Epoch [30/3000]: Train loss: 2.1441, Valid loss: 2.2116\n"
          ]
        },
        {
          "output_type": "stream",
          "name": "stderr",
          "text": [
            "Epoch [31/3000]: 100%|██████████| 10/10 [00:00<00:00, 77.47it/s]\n"
          ]
        },
        {
          "output_type": "stream",
          "name": "stdout",
          "text": [
            "Epoch [31/3000]: Train loss: 2.0875, Valid loss: 2.1239\n",
            "Saving model with loss 2.124...\n"
          ]
        },
        {
          "output_type": "stream",
          "name": "stderr",
          "text": [
            "Epoch [32/3000]: 100%|██████████| 10/10 [00:00<00:00, 85.45it/s]\n"
          ]
        },
        {
          "output_type": "stream",
          "name": "stdout",
          "text": [
            "Epoch [32/3000]: Train loss: 2.0507, Valid loss: 2.1337\n"
          ]
        },
        {
          "output_type": "stream",
          "name": "stderr",
          "text": [
            "Epoch [33/3000]: 100%|██████████| 10/10 [00:00<00:00, 90.87it/s]\n"
          ]
        },
        {
          "output_type": "stream",
          "name": "stdout",
          "text": [
            "Epoch [33/3000]: Train loss: 2.0990, Valid loss: 2.1379\n"
          ]
        },
        {
          "output_type": "stream",
          "name": "stderr",
          "text": [
            "Epoch [34/3000]: 100%|██████████| 10/10 [00:00<00:00, 80.61it/s]\n"
          ]
        },
        {
          "output_type": "stream",
          "name": "stdout",
          "text": [
            "Epoch [34/3000]: Train loss: 2.0782, Valid loss: 2.1355\n"
          ]
        },
        {
          "output_type": "stream",
          "name": "stderr",
          "text": [
            "Epoch [35/3000]: 100%|██████████| 10/10 [00:00<00:00, 85.84it/s]\n"
          ]
        },
        {
          "output_type": "stream",
          "name": "stdout",
          "text": [
            "Epoch [35/3000]: Train loss: 2.0003, Valid loss: 2.0882\n",
            "Saving model with loss 2.088...\n"
          ]
        },
        {
          "output_type": "stream",
          "name": "stderr",
          "text": [
            "Epoch [36/3000]: 100%|██████████| 10/10 [00:00<00:00, 92.88it/s]\n"
          ]
        },
        {
          "output_type": "stream",
          "name": "stdout",
          "text": [
            "Epoch [36/3000]: Train loss: 2.0011, Valid loss: 2.0316\n",
            "Saving model with loss 2.032...\n"
          ]
        },
        {
          "output_type": "stream",
          "name": "stderr",
          "text": [
            "Epoch [37/3000]: 100%|██████████| 10/10 [00:00<00:00, 85.99it/s]\n"
          ]
        },
        {
          "output_type": "stream",
          "name": "stdout",
          "text": [
            "Epoch [37/3000]: Train loss: 1.9836, Valid loss: 2.0036\n",
            "Saving model with loss 2.004...\n"
          ]
        },
        {
          "output_type": "stream",
          "name": "stderr",
          "text": [
            "Epoch [38/3000]: 100%|██████████| 10/10 [00:00<00:00, 73.97it/s]\n"
          ]
        },
        {
          "output_type": "stream",
          "name": "stdout",
          "text": [
            "Epoch [38/3000]: Train loss: 1.9876, Valid loss: 2.1114\n"
          ]
        },
        {
          "output_type": "stream",
          "name": "stderr",
          "text": [
            "Epoch [39/3000]: 100%|██████████| 10/10 [00:00<00:00, 89.85it/s]\n"
          ]
        },
        {
          "output_type": "stream",
          "name": "stdout",
          "text": [
            "Epoch [39/3000]: Train loss: 1.9362, Valid loss: 1.9899\n",
            "Saving model with loss 1.990...\n"
          ]
        },
        {
          "output_type": "stream",
          "name": "stderr",
          "text": [
            "Epoch [40/3000]: 100%|██████████| 10/10 [00:00<00:00, 87.27it/s]\n"
          ]
        },
        {
          "output_type": "stream",
          "name": "stdout",
          "text": [
            "Epoch [40/3000]: Train loss: 1.9175, Valid loss: 2.0506\n"
          ]
        },
        {
          "output_type": "stream",
          "name": "stderr",
          "text": [
            "Epoch [41/3000]: 100%|██████████| 10/10 [00:00<00:00, 85.95it/s]\n"
          ]
        },
        {
          "output_type": "stream",
          "name": "stdout",
          "text": [
            "Epoch [41/3000]: Train loss: 1.9843, Valid loss: 2.0656\n"
          ]
        },
        {
          "output_type": "stream",
          "name": "stderr",
          "text": [
            "Epoch [42/3000]: 100%|██████████| 10/10 [00:00<00:00, 83.92it/s]\n"
          ]
        },
        {
          "output_type": "stream",
          "name": "stdout",
          "text": [
            "Epoch [42/3000]: Train loss: 1.9185, Valid loss: 1.9674\n",
            "Saving model with loss 1.967...\n"
          ]
        },
        {
          "output_type": "stream",
          "name": "stderr",
          "text": [
            "Epoch [43/3000]: 100%|██████████| 10/10 [00:00<00:00, 85.54it/s]\n"
          ]
        },
        {
          "output_type": "stream",
          "name": "stdout",
          "text": [
            "Epoch [43/3000]: Train loss: 1.8980, Valid loss: 1.9460\n",
            "Saving model with loss 1.946...\n"
          ]
        },
        {
          "output_type": "stream",
          "name": "stderr",
          "text": [
            "Epoch [44/3000]: 100%|██████████| 10/10 [00:00<00:00, 86.11it/s]\n"
          ]
        },
        {
          "output_type": "stream",
          "name": "stdout",
          "text": [
            "Epoch [44/3000]: Train loss: 1.8647, Valid loss: 2.1535\n"
          ]
        },
        {
          "output_type": "stream",
          "name": "stderr",
          "text": [
            "Epoch [45/3000]: 100%|██████████| 10/10 [00:00<00:00, 77.16it/s]\n"
          ]
        },
        {
          "output_type": "stream",
          "name": "stdout",
          "text": [
            "Epoch [45/3000]: Train loss: 1.8969, Valid loss: 1.9483\n"
          ]
        },
        {
          "output_type": "stream",
          "name": "stderr",
          "text": [
            "Epoch [46/3000]: 100%|██████████| 10/10 [00:00<00:00, 86.66it/s]\n"
          ]
        },
        {
          "output_type": "stream",
          "name": "stdout",
          "text": [
            "Epoch [46/3000]: Train loss: 1.8702, Valid loss: 1.9276\n",
            "Saving model with loss 1.928...\n"
          ]
        },
        {
          "output_type": "stream",
          "name": "stderr",
          "text": [
            "Epoch [47/3000]: 100%|██████████| 10/10 [00:00<00:00, 84.31it/s]\n"
          ]
        },
        {
          "output_type": "stream",
          "name": "stdout",
          "text": [
            "Epoch [47/3000]: Train loss: 1.8745, Valid loss: 1.9699\n"
          ]
        },
        {
          "output_type": "stream",
          "name": "stderr",
          "text": [
            "Epoch [48/3000]: 100%|██████████| 10/10 [00:00<00:00, 85.33it/s]\n"
          ]
        },
        {
          "output_type": "stream",
          "name": "stdout",
          "text": [
            "Epoch [48/3000]: Train loss: 1.8679, Valid loss: 2.0242\n"
          ]
        },
        {
          "output_type": "stream",
          "name": "stderr",
          "text": [
            "Epoch [49/3000]: 100%|██████████| 10/10 [00:00<00:00, 89.72it/s]\n"
          ]
        },
        {
          "output_type": "stream",
          "name": "stdout",
          "text": [
            "Epoch [49/3000]: Train loss: 1.8254, Valid loss: 1.9350\n"
          ]
        },
        {
          "output_type": "stream",
          "name": "stderr",
          "text": [
            "Epoch [50/3000]: 100%|██████████| 10/10 [00:00<00:00, 84.80it/s]\n"
          ]
        },
        {
          "output_type": "stream",
          "name": "stdout",
          "text": [
            "Epoch [50/3000]: Train loss: 1.8232, Valid loss: 1.8810\n",
            "Saving model with loss 1.881...\n"
          ]
        },
        {
          "output_type": "stream",
          "name": "stderr",
          "text": [
            "Epoch [51/3000]: 100%|██████████| 10/10 [00:00<00:00, 93.52it/s]\n"
          ]
        },
        {
          "output_type": "stream",
          "name": "stdout",
          "text": [
            "Epoch [51/3000]: Train loss: 1.8187, Valid loss: 1.8787\n",
            "Saving model with loss 1.879...\n"
          ]
        },
        {
          "output_type": "stream",
          "name": "stderr",
          "text": [
            "Epoch [52/3000]: 100%|██████████| 10/10 [00:00<00:00, 77.19it/s]\n"
          ]
        },
        {
          "output_type": "stream",
          "name": "stdout",
          "text": [
            "Epoch [52/3000]: Train loss: 1.8260, Valid loss: 1.9392\n"
          ]
        },
        {
          "output_type": "stream",
          "name": "stderr",
          "text": [
            "Epoch [53/3000]: 100%|██████████| 10/10 [00:00<00:00, 89.74it/s]\n"
          ]
        },
        {
          "output_type": "stream",
          "name": "stdout",
          "text": [
            "Epoch [53/3000]: Train loss: 1.8828, Valid loss: 2.0637\n"
          ]
        },
        {
          "output_type": "stream",
          "name": "stderr",
          "text": [
            "Epoch [54/3000]: 100%|██████████| 10/10 [00:00<00:00, 84.64it/s]\n"
          ]
        },
        {
          "output_type": "stream",
          "name": "stdout",
          "text": [
            "Epoch [54/3000]: Train loss: 1.8186, Valid loss: 1.8935\n"
          ]
        },
        {
          "output_type": "stream",
          "name": "stderr",
          "text": [
            "Epoch [55/3000]: 100%|██████████| 10/10 [00:00<00:00, 92.65it/s]\n"
          ]
        },
        {
          "output_type": "stream",
          "name": "stdout",
          "text": [
            "Epoch [55/3000]: Train loss: 1.7717, Valid loss: 2.0658\n"
          ]
        },
        {
          "output_type": "stream",
          "name": "stderr",
          "text": [
            "Epoch [56/3000]: 100%|██████████| 10/10 [00:00<00:00, 83.52it/s]\n"
          ]
        },
        {
          "output_type": "stream",
          "name": "stdout",
          "text": [
            "Epoch [56/3000]: Train loss: 1.8296, Valid loss: 1.8560\n",
            "Saving model with loss 1.856...\n"
          ]
        },
        {
          "output_type": "stream",
          "name": "stderr",
          "text": [
            "Epoch [57/3000]: 100%|██████████| 10/10 [00:00<00:00, 81.00it/s]\n"
          ]
        },
        {
          "output_type": "stream",
          "name": "stdout",
          "text": [
            "Epoch [57/3000]: Train loss: 1.8113, Valid loss: 1.9326\n"
          ]
        },
        {
          "output_type": "stream",
          "name": "stderr",
          "text": [
            "Epoch [58/3000]: 100%|██████████| 10/10 [00:00<00:00, 82.61it/s]\n"
          ]
        },
        {
          "output_type": "stream",
          "name": "stdout",
          "text": [
            "Epoch [58/3000]: Train loss: 1.8597, Valid loss: 1.8483\n",
            "Saving model with loss 1.848...\n"
          ]
        },
        {
          "output_type": "stream",
          "name": "stderr",
          "text": [
            "Epoch [59/3000]: 100%|██████████| 10/10 [00:00<00:00, 75.86it/s]\n"
          ]
        },
        {
          "output_type": "stream",
          "name": "stdout",
          "text": [
            "Epoch [59/3000]: Train loss: 1.7794, Valid loss: 1.9113\n"
          ]
        },
        {
          "output_type": "stream",
          "name": "stderr",
          "text": [
            "Epoch [60/3000]: 100%|██████████| 10/10 [00:00<00:00, 83.28it/s]\n"
          ]
        },
        {
          "output_type": "stream",
          "name": "stdout",
          "text": [
            "Epoch [60/3000]: Train loss: 1.7255, Valid loss: 1.8246\n",
            "Saving model with loss 1.825...\n"
          ]
        },
        {
          "output_type": "stream",
          "name": "stderr",
          "text": [
            "Epoch [61/3000]: 100%|██████████| 10/10 [00:00<00:00, 90.94it/s]\n"
          ]
        },
        {
          "output_type": "stream",
          "name": "stdout",
          "text": [
            "Epoch [61/3000]: Train loss: 1.7465, Valid loss: 1.9283\n"
          ]
        },
        {
          "output_type": "stream",
          "name": "stderr",
          "text": [
            "Epoch [62/3000]: 100%|██████████| 10/10 [00:00<00:00, 85.43it/s]\n"
          ]
        },
        {
          "output_type": "stream",
          "name": "stdout",
          "text": [
            "Epoch [62/3000]: Train loss: 1.7611, Valid loss: 1.8226\n",
            "Saving model with loss 1.823...\n"
          ]
        },
        {
          "output_type": "stream",
          "name": "stderr",
          "text": [
            "Epoch [63/3000]: 100%|██████████| 10/10 [00:00<00:00, 86.69it/s]\n"
          ]
        },
        {
          "output_type": "stream",
          "name": "stdout",
          "text": [
            "Epoch [63/3000]: Train loss: 1.7493, Valid loss: 1.7893\n",
            "Saving model with loss 1.789...\n"
          ]
        },
        {
          "output_type": "stream",
          "name": "stderr",
          "text": [
            "Epoch [64/3000]: 100%|██████████| 10/10 [00:00<00:00, 84.87it/s]\n"
          ]
        },
        {
          "output_type": "stream",
          "name": "stdout",
          "text": [
            "Epoch [64/3000]: Train loss: 1.7237, Valid loss: 1.9423\n"
          ]
        },
        {
          "output_type": "stream",
          "name": "stderr",
          "text": [
            "Epoch [65/3000]: 100%|██████████| 10/10 [00:00<00:00, 90.41it/s]\n"
          ]
        },
        {
          "output_type": "stream",
          "name": "stdout",
          "text": [
            "Epoch [65/3000]: Train loss: 1.7468, Valid loss: 1.8029\n"
          ]
        },
        {
          "output_type": "stream",
          "name": "stderr",
          "text": [
            "Epoch [66/3000]: 100%|██████████| 10/10 [00:00<00:00, 77.43it/s]\n"
          ]
        },
        {
          "output_type": "stream",
          "name": "stdout",
          "text": [
            "Epoch [66/3000]: Train loss: 1.7485, Valid loss: 1.7945\n"
          ]
        },
        {
          "output_type": "stream",
          "name": "stderr",
          "text": [
            "Epoch [67/3000]: 100%|██████████| 10/10 [00:00<00:00, 88.40it/s]\n"
          ]
        },
        {
          "output_type": "stream",
          "name": "stdout",
          "text": [
            "Epoch [67/3000]: Train loss: 1.7477, Valid loss: 1.7939\n"
          ]
        },
        {
          "output_type": "stream",
          "name": "stderr",
          "text": [
            "Epoch [68/3000]: 100%|██████████| 10/10 [00:00<00:00, 87.13it/s]\n"
          ]
        },
        {
          "output_type": "stream",
          "name": "stdout",
          "text": [
            "Epoch [68/3000]: Train loss: 1.7570, Valid loss: 1.8601\n"
          ]
        },
        {
          "output_type": "stream",
          "name": "stderr",
          "text": [
            "Epoch [69/3000]: 100%|██████████| 10/10 [00:00<00:00, 88.29it/s]\n"
          ]
        },
        {
          "output_type": "stream",
          "name": "stdout",
          "text": [
            "Epoch [69/3000]: Train loss: 1.6774, Valid loss: 1.7731\n",
            "Saving model with loss 1.773...\n"
          ]
        },
        {
          "output_type": "stream",
          "name": "stderr",
          "text": [
            "Epoch [70/3000]: 100%|██████████| 10/10 [00:00<00:00, 86.80it/s]\n"
          ]
        },
        {
          "output_type": "stream",
          "name": "stdout",
          "text": [
            "Epoch [70/3000]: Train loss: 1.6793, Valid loss: 1.7880\n"
          ]
        },
        {
          "output_type": "stream",
          "name": "stderr",
          "text": [
            "Epoch [71/3000]: 100%|██████████| 10/10 [00:00<00:00, 89.40it/s]\n"
          ]
        },
        {
          "output_type": "stream",
          "name": "stdout",
          "text": [
            "Epoch [71/3000]: Train loss: 1.6666, Valid loss: 1.7871\n"
          ]
        },
        {
          "output_type": "stream",
          "name": "stderr",
          "text": [
            "Epoch [72/3000]: 100%|██████████| 10/10 [00:00<00:00, 89.28it/s]\n"
          ]
        },
        {
          "output_type": "stream",
          "name": "stdout",
          "text": [
            "Epoch [72/3000]: Train loss: 1.6825, Valid loss: 1.7809\n"
          ]
        },
        {
          "output_type": "stream",
          "name": "stderr",
          "text": [
            "Epoch [73/3000]: 100%|██████████| 10/10 [00:00<00:00, 24.58it/s]\n"
          ]
        },
        {
          "output_type": "stream",
          "name": "stdout",
          "text": [
            "Epoch [73/3000]: Train loss: 1.6290, Valid loss: 1.8267\n"
          ]
        },
        {
          "output_type": "stream",
          "name": "stderr",
          "text": [
            "Epoch [74/3000]: 100%|██████████| 10/10 [00:00<00:00, 83.57it/s]\n"
          ]
        },
        {
          "output_type": "stream",
          "name": "stdout",
          "text": [
            "Epoch [74/3000]: Train loss: 1.6407, Valid loss: 1.9060\n"
          ]
        },
        {
          "output_type": "stream",
          "name": "stderr",
          "text": [
            "Epoch [75/3000]: 100%|██████████| 10/10 [00:00<00:00, 82.77it/s]\n"
          ]
        },
        {
          "output_type": "stream",
          "name": "stdout",
          "text": [
            "Epoch [75/3000]: Train loss: 1.6676, Valid loss: 1.7743\n"
          ]
        },
        {
          "output_type": "stream",
          "name": "stderr",
          "text": [
            "Epoch [76/3000]: 100%|██████████| 10/10 [00:00<00:00, 72.87it/s]\n"
          ]
        },
        {
          "output_type": "stream",
          "name": "stdout",
          "text": [
            "Epoch [76/3000]: Train loss: 1.6602, Valid loss: 1.7690\n",
            "Saving model with loss 1.769...\n"
          ]
        },
        {
          "output_type": "stream",
          "name": "stderr",
          "text": [
            "Epoch [77/3000]: 100%|██████████| 10/10 [00:00<00:00, 24.02it/s]\n"
          ]
        },
        {
          "output_type": "stream",
          "name": "stdout",
          "text": [
            "Epoch [77/3000]: Train loss: 1.6389, Valid loss: 1.7475\n",
            "Saving model with loss 1.748...\n"
          ]
        },
        {
          "output_type": "stream",
          "name": "stderr",
          "text": [
            "Epoch [78/3000]: 100%|██████████| 10/10 [00:00<00:00, 88.00it/s]\n"
          ]
        },
        {
          "output_type": "stream",
          "name": "stdout",
          "text": [
            "Epoch [78/3000]: Train loss: 1.6126, Valid loss: 1.8178\n"
          ]
        },
        {
          "output_type": "stream",
          "name": "stderr",
          "text": [
            "Epoch [79/3000]: 100%|██████████| 10/10 [00:00<00:00, 68.07it/s]\n"
          ]
        },
        {
          "output_type": "stream",
          "name": "stdout",
          "text": [
            "Epoch [79/3000]: Train loss: 1.6140, Valid loss: 1.8302\n"
          ]
        },
        {
          "output_type": "stream",
          "name": "stderr",
          "text": [
            "Epoch [80/3000]: 100%|██████████| 10/10 [00:00<00:00, 71.62it/s]\n"
          ]
        },
        {
          "output_type": "stream",
          "name": "stdout",
          "text": [
            "Epoch [80/3000]: Train loss: 1.6449, Valid loss: 1.6986\n",
            "Saving model with loss 1.699...\n"
          ]
        },
        {
          "output_type": "stream",
          "name": "stderr",
          "text": [
            "Epoch [81/3000]: 100%|██████████| 10/10 [00:00<00:00, 14.36it/s]\n"
          ]
        },
        {
          "output_type": "stream",
          "name": "stdout",
          "text": [
            "Epoch [81/3000]: Train loss: 1.5890, Valid loss: 1.8282\n"
          ]
        },
        {
          "output_type": "stream",
          "name": "stderr",
          "text": [
            "Epoch [82/3000]: 100%|██████████| 10/10 [00:00<00:00, 59.27it/s]\n"
          ]
        },
        {
          "output_type": "stream",
          "name": "stdout",
          "text": [
            "Epoch [82/3000]: Train loss: 1.5656, Valid loss: 1.7149\n"
          ]
        },
        {
          "output_type": "stream",
          "name": "stderr",
          "text": [
            "Epoch [83/3000]: 100%|██████████| 10/10 [00:00<00:00, 60.34it/s]\n"
          ]
        },
        {
          "output_type": "stream",
          "name": "stdout",
          "text": [
            "Epoch [83/3000]: Train loss: 1.5539, Valid loss: 1.7957\n"
          ]
        },
        {
          "output_type": "stream",
          "name": "stderr",
          "text": [
            "Epoch [84/3000]: 100%|██████████| 10/10 [00:00<00:00, 62.68it/s]\n"
          ]
        },
        {
          "output_type": "stream",
          "name": "stdout",
          "text": [
            "Epoch [84/3000]: Train loss: 1.6164, Valid loss: 1.7623\n"
          ]
        },
        {
          "output_type": "stream",
          "name": "stderr",
          "text": [
            "Epoch [85/3000]: 100%|██████████| 10/10 [00:00<00:00, 64.40it/s]\n"
          ]
        },
        {
          "output_type": "stream",
          "name": "stdout",
          "text": [
            "Epoch [85/3000]: Train loss: 1.5800, Valid loss: 1.6960\n",
            "Saving model with loss 1.696...\n"
          ]
        },
        {
          "output_type": "stream",
          "name": "stderr",
          "text": [
            "Epoch [86/3000]: 100%|██████████| 10/10 [00:00<00:00, 63.29it/s]"
          ]
        },
        {
          "output_type": "stream",
          "name": "stdout",
          "text": [
            "Epoch [86/3000]: Train loss: 1.5677, Valid loss: 1.6593\n"
          ]
        },
        {
          "output_type": "stream",
          "name": "stderr",
          "text": [
            "\n"
          ]
        },
        {
          "output_type": "stream",
          "name": "stdout",
          "text": [
            "Saving model with loss 1.659...\n"
          ]
        },
        {
          "output_type": "stream",
          "name": "stderr",
          "text": [
            "Epoch [87/3000]: 100%|██████████| 10/10 [00:00<00:00, 63.43it/s]\n"
          ]
        },
        {
          "output_type": "stream",
          "name": "stdout",
          "text": [
            "Epoch [87/3000]: Train loss: 1.5478, Valid loss: 1.6916\n"
          ]
        },
        {
          "output_type": "stream",
          "name": "stderr",
          "text": [
            "Epoch [88/3000]: 100%|██████████| 10/10 [00:00<00:00, 61.64it/s]\n"
          ]
        },
        {
          "output_type": "stream",
          "name": "stdout",
          "text": [
            "Epoch [88/3000]: Train loss: 1.6023, Valid loss: 1.8152\n"
          ]
        },
        {
          "output_type": "stream",
          "name": "stderr",
          "text": [
            "Epoch [89/3000]: 100%|██████████| 10/10 [00:00<00:00, 61.43it/s]\n"
          ]
        },
        {
          "output_type": "stream",
          "name": "stdout",
          "text": [
            "Epoch [89/3000]: Train loss: 1.5850, Valid loss: 1.7082\n"
          ]
        },
        {
          "output_type": "stream",
          "name": "stderr",
          "text": [
            "Epoch [90/3000]: 100%|██████████| 10/10 [00:00<00:00, 55.71it/s]\n"
          ]
        },
        {
          "output_type": "stream",
          "name": "stdout",
          "text": [
            "Epoch [90/3000]: Train loss: 1.5780, Valid loss: 1.6470\n",
            "Saving model with loss 1.647...\n"
          ]
        },
        {
          "output_type": "stream",
          "name": "stderr",
          "text": [
            "Epoch [91/3000]: 100%|██████████| 10/10 [00:00<00:00, 64.25it/s]\n"
          ]
        },
        {
          "output_type": "stream",
          "name": "stdout",
          "text": [
            "Epoch [91/3000]: Train loss: 1.5532, Valid loss: 1.6571\n"
          ]
        },
        {
          "output_type": "stream",
          "name": "stderr",
          "text": [
            "Epoch [92/3000]: 100%|██████████| 10/10 [00:00<00:00, 66.60it/s]\n"
          ]
        },
        {
          "output_type": "stream",
          "name": "stdout",
          "text": [
            "Epoch [92/3000]: Train loss: 1.5619, Valid loss: 1.6654\n"
          ]
        },
        {
          "output_type": "stream",
          "name": "stderr",
          "text": [
            "Epoch [93/3000]: 100%|██████████| 10/10 [00:00<00:00, 58.74it/s]\n"
          ]
        },
        {
          "output_type": "stream",
          "name": "stdout",
          "text": [
            "Epoch [93/3000]: Train loss: 1.5493, Valid loss: 1.8257\n"
          ]
        },
        {
          "output_type": "stream",
          "name": "stderr",
          "text": [
            "Epoch [94/3000]: 100%|██████████| 10/10 [00:00<00:00, 59.15it/s]\n"
          ]
        },
        {
          "output_type": "stream",
          "name": "stdout",
          "text": [
            "Epoch [94/3000]: Train loss: 1.6925, Valid loss: 1.9652\n"
          ]
        },
        {
          "output_type": "stream",
          "name": "stderr",
          "text": [
            "Epoch [95/3000]: 100%|██████████| 10/10 [00:00<00:00, 54.87it/s]\n"
          ]
        },
        {
          "output_type": "stream",
          "name": "stdout",
          "text": [
            "Epoch [95/3000]: Train loss: 1.5810, Valid loss: 1.6904\n"
          ]
        },
        {
          "output_type": "stream",
          "name": "stderr",
          "text": [
            "Epoch [96/3000]: 100%|██████████| 10/10 [00:00<00:00, 63.14it/s]\n"
          ]
        },
        {
          "output_type": "stream",
          "name": "stdout",
          "text": [
            "Epoch [96/3000]: Train loss: 1.5542, Valid loss: 1.7813\n"
          ]
        },
        {
          "output_type": "stream",
          "name": "stderr",
          "text": [
            "Epoch [97/3000]: 100%|██████████| 10/10 [00:00<00:00, 57.46it/s]\n"
          ]
        },
        {
          "output_type": "stream",
          "name": "stdout",
          "text": [
            "Epoch [97/3000]: Train loss: 1.5307, Valid loss: 1.6605\n"
          ]
        },
        {
          "output_type": "stream",
          "name": "stderr",
          "text": [
            "Epoch [98/3000]: 100%|██████████| 10/10 [00:00<00:00, 57.66it/s]\n"
          ]
        },
        {
          "output_type": "stream",
          "name": "stdout",
          "text": [
            "Epoch [98/3000]: Train loss: 1.5203, Valid loss: 1.6651\n"
          ]
        },
        {
          "output_type": "stream",
          "name": "stderr",
          "text": [
            "Epoch [99/3000]: 100%|██████████| 10/10 [00:00<00:00, 55.45it/s]\n"
          ]
        },
        {
          "output_type": "stream",
          "name": "stdout",
          "text": [
            "Epoch [99/3000]: Train loss: 1.5526, Valid loss: 1.7024\n"
          ]
        },
        {
          "output_type": "stream",
          "name": "stderr",
          "text": [
            "Epoch [100/3000]: 100%|██████████| 10/10 [00:00<00:00, 84.60it/s]\n"
          ]
        },
        {
          "output_type": "stream",
          "name": "stdout",
          "text": [
            "Epoch [100/3000]: Train loss: 1.5393, Valid loss: 1.6047\n",
            "Saving model with loss 1.605...\n"
          ]
        },
        {
          "output_type": "stream",
          "name": "stderr",
          "text": [
            "Epoch [101/3000]: 100%|██████████| 10/10 [00:00<00:00, 76.82it/s]\n"
          ]
        },
        {
          "output_type": "stream",
          "name": "stdout",
          "text": [
            "Epoch [101/3000]: Train loss: 1.4482, Valid loss: 1.6259\n"
          ]
        },
        {
          "output_type": "stream",
          "name": "stderr",
          "text": [
            "Epoch [102/3000]: 100%|██████████| 10/10 [00:00<00:00, 86.14it/s]\n"
          ]
        },
        {
          "output_type": "stream",
          "name": "stdout",
          "text": [
            "Epoch [102/3000]: Train loss: 1.4410, Valid loss: 1.6009\n",
            "Saving model with loss 1.601...\n"
          ]
        },
        {
          "output_type": "stream",
          "name": "stderr",
          "text": [
            "Epoch [103/3000]: 100%|██████████| 10/10 [00:00<00:00, 85.91it/s]\n"
          ]
        },
        {
          "output_type": "stream",
          "name": "stdout",
          "text": [
            "Epoch [103/3000]: Train loss: 1.4686, Valid loss: 1.7594\n"
          ]
        },
        {
          "output_type": "stream",
          "name": "stderr",
          "text": [
            "Epoch [104/3000]: 100%|██████████| 10/10 [00:00<00:00, 84.20it/s]\n"
          ]
        },
        {
          "output_type": "stream",
          "name": "stdout",
          "text": [
            "Epoch [104/3000]: Train loss: 1.5196, Valid loss: 1.6863\n"
          ]
        },
        {
          "output_type": "stream",
          "name": "stderr",
          "text": [
            "Epoch [105/3000]: 100%|██████████| 10/10 [00:00<00:00, 85.34it/s]\n"
          ]
        },
        {
          "output_type": "stream",
          "name": "stdout",
          "text": [
            "Epoch [105/3000]: Train loss: 1.5189, Valid loss: 1.6743\n"
          ]
        },
        {
          "output_type": "stream",
          "name": "stderr",
          "text": [
            "Epoch [106/3000]: 100%|██████████| 10/10 [00:00<00:00, 88.80it/s]\n"
          ]
        },
        {
          "output_type": "stream",
          "name": "stdout",
          "text": [
            "Epoch [106/3000]: Train loss: 1.4691, Valid loss: 1.6635\n"
          ]
        },
        {
          "output_type": "stream",
          "name": "stderr",
          "text": [
            "Epoch [107/3000]: 100%|██████████| 10/10 [00:00<00:00, 89.68it/s]\n"
          ]
        },
        {
          "output_type": "stream",
          "name": "stdout",
          "text": [
            "Epoch [107/3000]: Train loss: 1.4600, Valid loss: 1.6496\n"
          ]
        },
        {
          "output_type": "stream",
          "name": "stderr",
          "text": [
            "Epoch [108/3000]: 100%|██████████| 10/10 [00:00<00:00, 76.91it/s]\n"
          ]
        },
        {
          "output_type": "stream",
          "name": "stdout",
          "text": [
            "Epoch [108/3000]: Train loss: 1.4833, Valid loss: 1.6540\n"
          ]
        },
        {
          "output_type": "stream",
          "name": "stderr",
          "text": [
            "Epoch [109/3000]: 100%|██████████| 10/10 [00:00<00:00, 88.12it/s]\n"
          ]
        },
        {
          "output_type": "stream",
          "name": "stdout",
          "text": [
            "Epoch [109/3000]: Train loss: 1.4737, Valid loss: 1.5794\n",
            "Saving model with loss 1.579...\n"
          ]
        },
        {
          "output_type": "stream",
          "name": "stderr",
          "text": [
            "Epoch [110/3000]: 100%|██████████| 10/10 [00:00<00:00, 85.83it/s]\n"
          ]
        },
        {
          "output_type": "stream",
          "name": "stdout",
          "text": [
            "Epoch [110/3000]: Train loss: 1.4374, Valid loss: 1.6651\n"
          ]
        },
        {
          "output_type": "stream",
          "name": "stderr",
          "text": [
            "Epoch [111/3000]: 100%|██████████| 10/10 [00:00<00:00, 78.68it/s]\n"
          ]
        },
        {
          "output_type": "stream",
          "name": "stdout",
          "text": [
            "Epoch [111/3000]: Train loss: 1.4758, Valid loss: 1.7008\n"
          ]
        },
        {
          "output_type": "stream",
          "name": "stderr",
          "text": [
            "Epoch [112/3000]: 100%|██████████| 10/10 [00:00<00:00, 82.74it/s]\n"
          ]
        },
        {
          "output_type": "stream",
          "name": "stdout",
          "text": [
            "Epoch [112/3000]: Train loss: 1.4811, Valid loss: 1.6409\n"
          ]
        },
        {
          "output_type": "stream",
          "name": "stderr",
          "text": [
            "Epoch [113/3000]: 100%|██████████| 10/10 [00:00<00:00, 84.40it/s]\n"
          ]
        },
        {
          "output_type": "stream",
          "name": "stdout",
          "text": [
            "Epoch [113/3000]: Train loss: 1.4993, Valid loss: 1.6335\n"
          ]
        },
        {
          "output_type": "stream",
          "name": "stderr",
          "text": [
            "Epoch [114/3000]: 100%|██████████| 10/10 [00:00<00:00, 85.46it/s]\n"
          ]
        },
        {
          "output_type": "stream",
          "name": "stdout",
          "text": [
            "Epoch [114/3000]: Train loss: 1.4507, Valid loss: 1.5656\n",
            "Saving model with loss 1.566...\n"
          ]
        },
        {
          "output_type": "stream",
          "name": "stderr",
          "text": [
            "Epoch [115/3000]: 100%|██████████| 10/10 [00:00<00:00, 73.10it/s]\n"
          ]
        },
        {
          "output_type": "stream",
          "name": "stdout",
          "text": [
            "Epoch [115/3000]: Train loss: 1.5066, Valid loss: 1.8024\n"
          ]
        },
        {
          "output_type": "stream",
          "name": "stderr",
          "text": [
            "Epoch [116/3000]: 100%|██████████| 10/10 [00:00<00:00, 87.90it/s]\n"
          ]
        },
        {
          "output_type": "stream",
          "name": "stdout",
          "text": [
            "Epoch [116/3000]: Train loss: 1.4964, Valid loss: 1.6311\n"
          ]
        },
        {
          "output_type": "stream",
          "name": "stderr",
          "text": [
            "Epoch [117/3000]: 100%|██████████| 10/10 [00:00<00:00, 85.41it/s]\n"
          ]
        },
        {
          "output_type": "stream",
          "name": "stdout",
          "text": [
            "Epoch [117/3000]: Train loss: 1.4491, Valid loss: 1.6920\n"
          ]
        },
        {
          "output_type": "stream",
          "name": "stderr",
          "text": [
            "Epoch [118/3000]: 100%|██████████| 10/10 [00:00<00:00, 89.03it/s]\n"
          ]
        },
        {
          "output_type": "stream",
          "name": "stdout",
          "text": [
            "Epoch [118/3000]: Train loss: 1.4978, Valid loss: 1.6742\n"
          ]
        },
        {
          "output_type": "stream",
          "name": "stderr",
          "text": [
            "Epoch [119/3000]: 100%|██████████| 10/10 [00:00<00:00, 86.27it/s]\n"
          ]
        },
        {
          "output_type": "stream",
          "name": "stdout",
          "text": [
            "Epoch [119/3000]: Train loss: 1.4441, Valid loss: 1.6722\n"
          ]
        },
        {
          "output_type": "stream",
          "name": "stderr",
          "text": [
            "Epoch [120/3000]: 100%|██████████| 10/10 [00:00<00:00, 79.11it/s]\n"
          ]
        },
        {
          "output_type": "stream",
          "name": "stdout",
          "text": [
            "Epoch [120/3000]: Train loss: 1.4907, Valid loss: 1.5652\n",
            "Saving model with loss 1.565...\n"
          ]
        },
        {
          "output_type": "stream",
          "name": "stderr",
          "text": [
            "Epoch [121/3000]: 100%|██████████| 10/10 [00:00<00:00, 89.32it/s]\n"
          ]
        },
        {
          "output_type": "stream",
          "name": "stdout",
          "text": [
            "Epoch [121/3000]: Train loss: 1.3843, Valid loss: 1.5503\n",
            "Saving model with loss 1.550...\n"
          ]
        },
        {
          "output_type": "stream",
          "name": "stderr",
          "text": [
            "Epoch [122/3000]: 100%|██████████| 10/10 [00:00<00:00, 87.81it/s]\n"
          ]
        },
        {
          "output_type": "stream",
          "name": "stdout",
          "text": [
            "Epoch [122/3000]: Train loss: 1.3573, Valid loss: 1.5681\n"
          ]
        },
        {
          "output_type": "stream",
          "name": "stderr",
          "text": [
            "Epoch [123/3000]: 100%|██████████| 10/10 [00:00<00:00, 87.25it/s]\n"
          ]
        },
        {
          "output_type": "stream",
          "name": "stdout",
          "text": [
            "Epoch [123/3000]: Train loss: 1.3939, Valid loss: 1.5603\n"
          ]
        },
        {
          "output_type": "stream",
          "name": "stderr",
          "text": [
            "Epoch [124/3000]: 100%|██████████| 10/10 [00:00<00:00, 86.55it/s]\n"
          ]
        },
        {
          "output_type": "stream",
          "name": "stdout",
          "text": [
            "Epoch [124/3000]: Train loss: 1.3755, Valid loss: 1.5632\n"
          ]
        },
        {
          "output_type": "stream",
          "name": "stderr",
          "text": [
            "Epoch [125/3000]: 100%|██████████| 10/10 [00:00<00:00, 84.64it/s]\n"
          ]
        },
        {
          "output_type": "stream",
          "name": "stdout",
          "text": [
            "Epoch [125/3000]: Train loss: 1.3916, Valid loss: 1.5382\n",
            "Saving model with loss 1.538...\n"
          ]
        },
        {
          "output_type": "stream",
          "name": "stderr",
          "text": [
            "Epoch [126/3000]: 100%|██████████| 10/10 [00:00<00:00, 87.83it/s]\n"
          ]
        },
        {
          "output_type": "stream",
          "name": "stdout",
          "text": [
            "Epoch [126/3000]: Train loss: 1.3448, Valid loss: 1.5497\n"
          ]
        },
        {
          "output_type": "stream",
          "name": "stderr",
          "text": [
            "Epoch [127/3000]: 100%|██████████| 10/10 [00:00<00:00, 76.24it/s]\n"
          ]
        },
        {
          "output_type": "stream",
          "name": "stdout",
          "text": [
            "Epoch [127/3000]: Train loss: 1.3391, Valid loss: 1.5526\n"
          ]
        },
        {
          "output_type": "stream",
          "name": "stderr",
          "text": [
            "Epoch [128/3000]: 100%|██████████| 10/10 [00:00<00:00, 90.25it/s]\n"
          ]
        },
        {
          "output_type": "stream",
          "name": "stdout",
          "text": [
            "Epoch [128/3000]: Train loss: 1.3495, Valid loss: 1.5460\n"
          ]
        },
        {
          "output_type": "stream",
          "name": "stderr",
          "text": [
            "Epoch [129/3000]: 100%|██████████| 10/10 [00:00<00:00, 85.08it/s]\n"
          ]
        },
        {
          "output_type": "stream",
          "name": "stdout",
          "text": [
            "Epoch [129/3000]: Train loss: 1.3293, Valid loss: 1.5131\n",
            "Saving model with loss 1.513...\n"
          ]
        },
        {
          "output_type": "stream",
          "name": "stderr",
          "text": [
            "Epoch [130/3000]: 100%|██████████| 10/10 [00:00<00:00, 85.13it/s]\n"
          ]
        },
        {
          "output_type": "stream",
          "name": "stdout",
          "text": [
            "Epoch [130/3000]: Train loss: 1.3181, Valid loss: 1.5414\n"
          ]
        },
        {
          "output_type": "stream",
          "name": "stderr",
          "text": [
            "Epoch [131/3000]: 100%|██████████| 10/10 [00:00<00:00, 87.93it/s]\n"
          ]
        },
        {
          "output_type": "stream",
          "name": "stdout",
          "text": [
            "Epoch [131/3000]: Train loss: 1.3410, Valid loss: 1.5196\n"
          ]
        },
        {
          "output_type": "stream",
          "name": "stderr",
          "text": [
            "Epoch [132/3000]: 100%|██████████| 10/10 [00:00<00:00, 87.83it/s]\n"
          ]
        },
        {
          "output_type": "stream",
          "name": "stdout",
          "text": [
            "Epoch [132/3000]: Train loss: 1.3369, Valid loss: 1.5468\n"
          ]
        },
        {
          "output_type": "stream",
          "name": "stderr",
          "text": [
            "Epoch [133/3000]: 100%|██████████| 10/10 [00:00<00:00, 83.92it/s]\n"
          ]
        },
        {
          "output_type": "stream",
          "name": "stdout",
          "text": [
            "Epoch [133/3000]: Train loss: 1.3382, Valid loss: 1.6878\n"
          ]
        },
        {
          "output_type": "stream",
          "name": "stderr",
          "text": [
            "Epoch [134/3000]: 100%|██████████| 10/10 [00:00<00:00, 75.52it/s]\n"
          ]
        },
        {
          "output_type": "stream",
          "name": "stdout",
          "text": [
            "Epoch [134/3000]: Train loss: 1.4182, Valid loss: 1.6822\n"
          ]
        },
        {
          "output_type": "stream",
          "name": "stderr",
          "text": [
            "Epoch [135/3000]: 100%|██████████| 10/10 [00:00<00:00, 86.64it/s]\n"
          ]
        },
        {
          "output_type": "stream",
          "name": "stdout",
          "text": [
            "Epoch [135/3000]: Train loss: 1.3906, Valid loss: 1.5476\n"
          ]
        },
        {
          "output_type": "stream",
          "name": "stderr",
          "text": [
            "Epoch [136/3000]: 100%|██████████| 10/10 [00:00<00:00, 82.60it/s]\n"
          ]
        },
        {
          "output_type": "stream",
          "name": "stdout",
          "text": [
            "Epoch [136/3000]: Train loss: 1.3467, Valid loss: 1.5483\n"
          ]
        },
        {
          "output_type": "stream",
          "name": "stderr",
          "text": [
            "Epoch [137/3000]: 100%|██████████| 10/10 [00:00<00:00, 81.70it/s]\n"
          ]
        },
        {
          "output_type": "stream",
          "name": "stdout",
          "text": [
            "Epoch [137/3000]: Train loss: 1.3377, Valid loss: 1.6289\n"
          ]
        },
        {
          "output_type": "stream",
          "name": "stderr",
          "text": [
            "Epoch [138/3000]: 100%|██████████| 10/10 [00:00<00:00, 84.62it/s]\n"
          ]
        },
        {
          "output_type": "stream",
          "name": "stdout",
          "text": [
            "Epoch [138/3000]: Train loss: 1.3832, Valid loss: 1.5042\n",
            "Saving model with loss 1.504...\n"
          ]
        },
        {
          "output_type": "stream",
          "name": "stderr",
          "text": [
            "Epoch [139/3000]: 100%|██████████| 10/10 [00:00<00:00, 85.61it/s]\n"
          ]
        },
        {
          "output_type": "stream",
          "name": "stdout",
          "text": [
            "Epoch [139/3000]: Train loss: 1.2905, Valid loss: 1.5771\n"
          ]
        },
        {
          "output_type": "stream",
          "name": "stderr",
          "text": [
            "Epoch [140/3000]: 100%|██████████| 10/10 [00:00<00:00, 86.97it/s]\n"
          ]
        },
        {
          "output_type": "stream",
          "name": "stdout",
          "text": [
            "Epoch [140/3000]: Train loss: 1.3450, Valid loss: 1.5130\n"
          ]
        },
        {
          "output_type": "stream",
          "name": "stderr",
          "text": [
            "Epoch [141/3000]: 100%|██████████| 10/10 [00:00<00:00, 74.03it/s]\n"
          ]
        },
        {
          "output_type": "stream",
          "name": "stdout",
          "text": [
            "Epoch [141/3000]: Train loss: 1.2905, Valid loss: 1.5224\n"
          ]
        },
        {
          "output_type": "stream",
          "name": "stderr",
          "text": [
            "Epoch [142/3000]: 100%|██████████| 10/10 [00:00<00:00, 85.82it/s]\n"
          ]
        },
        {
          "output_type": "stream",
          "name": "stdout",
          "text": [
            "Epoch [142/3000]: Train loss: 1.2990, Valid loss: 1.6042\n"
          ]
        },
        {
          "output_type": "stream",
          "name": "stderr",
          "text": [
            "Epoch [143/3000]: 100%|██████████| 10/10 [00:00<00:00, 85.12it/s]\n"
          ]
        },
        {
          "output_type": "stream",
          "name": "stdout",
          "text": [
            "Epoch [143/3000]: Train loss: 1.3869, Valid loss: 1.7576\n"
          ]
        },
        {
          "output_type": "stream",
          "name": "stderr",
          "text": [
            "Epoch [144/3000]: 100%|██████████| 10/10 [00:00<00:00, 83.58it/s]\n"
          ]
        },
        {
          "output_type": "stream",
          "name": "stdout",
          "text": [
            "Epoch [144/3000]: Train loss: 1.4085, Valid loss: 1.5236\n"
          ]
        },
        {
          "output_type": "stream",
          "name": "stderr",
          "text": [
            "Epoch [145/3000]: 100%|██████████| 10/10 [00:00<00:00, 85.80it/s]\n"
          ]
        },
        {
          "output_type": "stream",
          "name": "stdout",
          "text": [
            "Epoch [145/3000]: Train loss: 1.2882, Valid loss: 1.4992\n",
            "Saving model with loss 1.499...\n"
          ]
        },
        {
          "output_type": "stream",
          "name": "stderr",
          "text": [
            "Epoch [146/3000]: 100%|██████████| 10/10 [00:00<00:00, 85.22it/s]\n"
          ]
        },
        {
          "output_type": "stream",
          "name": "stdout",
          "text": [
            "Epoch [146/3000]: Train loss: 1.3063, Valid loss: 1.5464\n"
          ]
        },
        {
          "output_type": "stream",
          "name": "stderr",
          "text": [
            "Epoch [147/3000]: 100%|██████████| 10/10 [00:00<00:00, 81.98it/s]\n"
          ]
        },
        {
          "output_type": "stream",
          "name": "stdout",
          "text": [
            "Epoch [147/3000]: Train loss: 1.3282, Valid loss: 1.5271\n"
          ]
        },
        {
          "output_type": "stream",
          "name": "stderr",
          "text": [
            "Epoch [148/3000]: 100%|██████████| 10/10 [00:00<00:00, 73.54it/s]\n"
          ]
        },
        {
          "output_type": "stream",
          "name": "stdout",
          "text": [
            "Epoch [148/3000]: Train loss: 1.2821, Valid loss: 1.4695\n",
            "Saving model with loss 1.469...\n"
          ]
        },
        {
          "output_type": "stream",
          "name": "stderr",
          "text": [
            "Epoch [149/3000]: 100%|██████████| 10/10 [00:00<00:00, 85.64it/s]\n"
          ]
        },
        {
          "output_type": "stream",
          "name": "stdout",
          "text": [
            "Epoch [149/3000]: Train loss: 1.3301, Valid loss: 1.4697\n"
          ]
        },
        {
          "output_type": "stream",
          "name": "stderr",
          "text": [
            "Epoch [150/3000]: 100%|██████████| 10/10 [00:00<00:00, 86.82it/s]\n"
          ]
        },
        {
          "output_type": "stream",
          "name": "stdout",
          "text": [
            "Epoch [150/3000]: Train loss: 1.3033, Valid loss: 1.5118\n"
          ]
        },
        {
          "output_type": "stream",
          "name": "stderr",
          "text": [
            "Epoch [151/3000]: 100%|██████████| 10/10 [00:00<00:00, 83.54it/s]\n"
          ]
        },
        {
          "output_type": "stream",
          "name": "stdout",
          "text": [
            "Epoch [151/3000]: Train loss: 1.2442, Valid loss: 1.4683\n",
            "Saving model with loss 1.468...\n"
          ]
        },
        {
          "output_type": "stream",
          "name": "stderr",
          "text": [
            "Epoch [152/3000]: 100%|██████████| 10/10 [00:00<00:00, 88.18it/s]\n"
          ]
        },
        {
          "output_type": "stream",
          "name": "stdout",
          "text": [
            "Epoch [152/3000]: Train loss: 1.2530, Valid loss: 1.5957\n"
          ]
        },
        {
          "output_type": "stream",
          "name": "stderr",
          "text": [
            "Epoch [153/3000]: 100%|██████████| 10/10 [00:00<00:00, 84.54it/s]\n"
          ]
        },
        {
          "output_type": "stream",
          "name": "stdout",
          "text": [
            "Epoch [153/3000]: Train loss: 1.3110, Valid loss: 1.5426\n"
          ]
        },
        {
          "output_type": "stream",
          "name": "stderr",
          "text": [
            "Epoch [154/3000]: 100%|██████████| 10/10 [00:00<00:00, 88.16it/s]\n"
          ]
        },
        {
          "output_type": "stream",
          "name": "stdout",
          "text": [
            "Epoch [154/3000]: Train loss: 1.2766, Valid loss: 1.4928\n"
          ]
        },
        {
          "output_type": "stream",
          "name": "stderr",
          "text": [
            "Epoch [155/3000]: 100%|██████████| 10/10 [00:00<00:00, 74.50it/s]\n"
          ]
        },
        {
          "output_type": "stream",
          "name": "stdout",
          "text": [
            "Epoch [155/3000]: Train loss: 1.2439, Valid loss: 1.5617\n"
          ]
        },
        {
          "output_type": "stream",
          "name": "stderr",
          "text": [
            "Epoch [156/3000]: 100%|██████████| 10/10 [00:00<00:00, 85.12it/s]\n"
          ]
        },
        {
          "output_type": "stream",
          "name": "stdout",
          "text": [
            "Epoch [156/3000]: Train loss: 1.2572, Valid loss: 1.5336\n"
          ]
        },
        {
          "output_type": "stream",
          "name": "stderr",
          "text": [
            "Epoch [157/3000]: 100%|██████████| 10/10 [00:00<00:00, 89.41it/s]\n"
          ]
        },
        {
          "output_type": "stream",
          "name": "stdout",
          "text": [
            "Epoch [157/3000]: Train loss: 1.3020, Valid loss: 1.5299\n"
          ]
        },
        {
          "output_type": "stream",
          "name": "stderr",
          "text": [
            "Epoch [158/3000]: 100%|██████████| 10/10 [00:00<00:00, 87.51it/s]\n"
          ]
        },
        {
          "output_type": "stream",
          "name": "stdout",
          "text": [
            "Epoch [158/3000]: Train loss: 1.2855, Valid loss: 1.5434\n"
          ]
        },
        {
          "output_type": "stream",
          "name": "stderr",
          "text": [
            "Epoch [159/3000]: 100%|██████████| 10/10 [00:00<00:00, 92.87it/s]\n"
          ]
        },
        {
          "output_type": "stream",
          "name": "stdout",
          "text": [
            "Epoch [159/3000]: Train loss: 1.2235, Valid loss: 1.4611\n",
            "Saving model with loss 1.461...\n"
          ]
        },
        {
          "output_type": "stream",
          "name": "stderr",
          "text": [
            "Epoch [160/3000]: 100%|██████████| 10/10 [00:00<00:00, 84.42it/s]\n"
          ]
        },
        {
          "output_type": "stream",
          "name": "stdout",
          "text": [
            "Epoch [160/3000]: Train loss: 1.2060, Valid loss: 1.4449\n",
            "Saving model with loss 1.445...\n"
          ]
        },
        {
          "output_type": "stream",
          "name": "stderr",
          "text": [
            "Epoch [161/3000]: 100%|██████████| 10/10 [00:00<00:00, 86.99it/s]\n"
          ]
        },
        {
          "output_type": "stream",
          "name": "stdout",
          "text": [
            "Epoch [161/3000]: Train loss: 1.2113, Valid loss: 1.4688\n"
          ]
        },
        {
          "output_type": "stream",
          "name": "stderr",
          "text": [
            "Epoch [162/3000]: 100%|██████████| 10/10 [00:00<00:00, 78.06it/s]\n"
          ]
        },
        {
          "output_type": "stream",
          "name": "stdout",
          "text": [
            "Epoch [162/3000]: Train loss: 1.2559, Valid loss: 1.5609\n"
          ]
        },
        {
          "output_type": "stream",
          "name": "stderr",
          "text": [
            "Epoch [163/3000]: 100%|██████████| 10/10 [00:00<00:00, 85.56it/s]\n"
          ]
        },
        {
          "output_type": "stream",
          "name": "stdout",
          "text": [
            "Epoch [163/3000]: Train loss: 1.2810, Valid loss: 1.4734\n"
          ]
        },
        {
          "output_type": "stream",
          "name": "stderr",
          "text": [
            "Epoch [164/3000]: 100%|██████████| 10/10 [00:00<00:00, 83.45it/s]\n"
          ]
        },
        {
          "output_type": "stream",
          "name": "stdout",
          "text": [
            "Epoch [164/3000]: Train loss: 1.2186, Valid loss: 1.4488\n"
          ]
        },
        {
          "output_type": "stream",
          "name": "stderr",
          "text": [
            "Epoch [165/3000]: 100%|██████████| 10/10 [00:00<00:00, 68.58it/s]\n"
          ]
        },
        {
          "output_type": "stream",
          "name": "stdout",
          "text": [
            "Epoch [165/3000]: Train loss: 1.1995, Valid loss: 1.4936\n"
          ]
        },
        {
          "output_type": "stream",
          "name": "stderr",
          "text": [
            "Epoch [166/3000]: 100%|██████████| 10/10 [00:00<00:00, 62.46it/s]\n"
          ]
        },
        {
          "output_type": "stream",
          "name": "stdout",
          "text": [
            "Epoch [166/3000]: Train loss: 1.1924, Valid loss: 1.4563\n"
          ]
        },
        {
          "output_type": "stream",
          "name": "stderr",
          "text": [
            "Epoch [167/3000]: 100%|██████████| 10/10 [00:00<00:00, 54.15it/s]\n"
          ]
        },
        {
          "output_type": "stream",
          "name": "stdout",
          "text": [
            "Epoch [167/3000]: Train loss: 1.2151, Valid loss: 1.4866\n"
          ]
        },
        {
          "output_type": "stream",
          "name": "stderr",
          "text": [
            "Epoch [168/3000]: 100%|██████████| 10/10 [00:00<00:00, 51.57it/s]\n"
          ]
        },
        {
          "output_type": "stream",
          "name": "stdout",
          "text": [
            "Epoch [168/3000]: Train loss: 1.2245, Valid loss: 1.5222\n"
          ]
        },
        {
          "output_type": "stream",
          "name": "stderr",
          "text": [
            "Epoch [169/3000]: 100%|██████████| 10/10 [00:00<00:00, 61.63it/s]\n"
          ]
        },
        {
          "output_type": "stream",
          "name": "stdout",
          "text": [
            "Epoch [169/3000]: Train loss: 1.1879, Valid loss: 1.4769\n"
          ]
        },
        {
          "output_type": "stream",
          "name": "stderr",
          "text": [
            "Epoch [170/3000]: 100%|██████████| 10/10 [00:00<00:00, 61.54it/s]\n"
          ]
        },
        {
          "output_type": "stream",
          "name": "stdout",
          "text": [
            "Epoch [170/3000]: Train loss: 1.1925, Valid loss: 1.4798\n"
          ]
        },
        {
          "output_type": "stream",
          "name": "stderr",
          "text": [
            "Epoch [171/3000]: 100%|██████████| 10/10 [00:00<00:00, 61.13it/s]\n"
          ]
        },
        {
          "output_type": "stream",
          "name": "stdout",
          "text": [
            "Epoch [171/3000]: Train loss: 1.2087, Valid loss: 1.5889\n"
          ]
        },
        {
          "output_type": "stream",
          "name": "stderr",
          "text": [
            "Epoch [172/3000]: 100%|██████████| 10/10 [00:00<00:00, 61.03it/s]\n"
          ]
        },
        {
          "output_type": "stream",
          "name": "stdout",
          "text": [
            "Epoch [172/3000]: Train loss: 1.2046, Valid loss: 1.4458\n"
          ]
        },
        {
          "output_type": "stream",
          "name": "stderr",
          "text": [
            "Epoch [173/3000]: 100%|██████████| 10/10 [00:00<00:00, 57.01it/s]\n"
          ]
        },
        {
          "output_type": "stream",
          "name": "stdout",
          "text": [
            "Epoch [173/3000]: Train loss: 1.1729, Valid loss: 1.4783\n"
          ]
        },
        {
          "output_type": "stream",
          "name": "stderr",
          "text": [
            "Epoch [174/3000]: 100%|██████████| 10/10 [00:00<00:00, 60.22it/s]\n"
          ]
        },
        {
          "output_type": "stream",
          "name": "stdout",
          "text": [
            "Epoch [174/3000]: Train loss: 1.1885, Valid loss: 1.4611\n"
          ]
        },
        {
          "output_type": "stream",
          "name": "stderr",
          "text": [
            "Epoch [175/3000]: 100%|██████████| 10/10 [00:00<00:00, 57.38it/s]\n"
          ]
        },
        {
          "output_type": "stream",
          "name": "stdout",
          "text": [
            "Epoch [175/3000]: Train loss: 1.1685, Valid loss: 1.4231\n",
            "Saving model with loss 1.423...\n"
          ]
        },
        {
          "output_type": "stream",
          "name": "stderr",
          "text": [
            "Epoch [176/3000]: 100%|██████████| 10/10 [00:00<00:00, 59.94it/s]\n"
          ]
        },
        {
          "output_type": "stream",
          "name": "stdout",
          "text": [
            "Epoch [176/3000]: Train loss: 1.1955, Valid loss: 1.5064\n"
          ]
        },
        {
          "output_type": "stream",
          "name": "stderr",
          "text": [
            "Epoch [177/3000]: 100%|██████████| 10/10 [00:00<00:00, 58.76it/s]"
          ]
        },
        {
          "output_type": "stream",
          "name": "stdout",
          "text": [
            "Epoch [177/3000]: Train loss: 1.1960, Valid loss: 1.4026"
          ]
        },
        {
          "output_type": "stream",
          "name": "stderr",
          "text": [
            "\n"
          ]
        },
        {
          "output_type": "stream",
          "name": "stdout",
          "text": [
            "\n",
            "Saving model with loss 1.403...\n"
          ]
        },
        {
          "output_type": "stream",
          "name": "stderr",
          "text": [
            "Epoch [178/3000]: 100%|██████████| 10/10 [00:00<00:00, 54.52it/s]\n"
          ]
        },
        {
          "output_type": "stream",
          "name": "stdout",
          "text": [
            "Epoch [178/3000]: Train loss: 1.2142, Valid loss: 1.6302\n"
          ]
        },
        {
          "output_type": "stream",
          "name": "stderr",
          "text": [
            "Epoch [179/3000]: 100%|██████████| 10/10 [00:00<00:00, 61.33it/s]\n"
          ]
        },
        {
          "output_type": "stream",
          "name": "stdout",
          "text": [
            "Epoch [179/3000]: Train loss: 1.2892, Valid loss: 1.6370\n"
          ]
        },
        {
          "output_type": "stream",
          "name": "stderr",
          "text": [
            "Epoch [180/3000]: 100%|██████████| 10/10 [00:00<00:00, 57.94it/s]\n"
          ]
        },
        {
          "output_type": "stream",
          "name": "stdout",
          "text": [
            "Epoch [180/3000]: Train loss: 1.2515, Valid loss: 1.7345\n"
          ]
        },
        {
          "output_type": "stream",
          "name": "stderr",
          "text": [
            "Epoch [181/3000]: 100%|██████████| 10/10 [00:00<00:00, 58.92it/s]\n"
          ]
        },
        {
          "output_type": "stream",
          "name": "stdout",
          "text": [
            "Epoch [181/3000]: Train loss: 1.2898, Valid loss: 1.5855\n"
          ]
        },
        {
          "output_type": "stream",
          "name": "stderr",
          "text": [
            "Epoch [182/3000]: 100%|██████████| 10/10 [00:00<00:00, 55.00it/s]\n"
          ]
        },
        {
          "output_type": "stream",
          "name": "stdout",
          "text": [
            "Epoch [182/3000]: Train loss: 1.2231, Valid loss: 1.4601\n"
          ]
        },
        {
          "output_type": "stream",
          "name": "stderr",
          "text": [
            "Epoch [183/3000]: 100%|██████████| 10/10 [00:00<00:00, 60.06it/s]\n"
          ]
        },
        {
          "output_type": "stream",
          "name": "stdout",
          "text": [
            "Epoch [183/3000]: Train loss: 1.1778, Valid loss: 1.4826\n"
          ]
        },
        {
          "output_type": "stream",
          "name": "stderr",
          "text": [
            "Epoch [184/3000]: 100%|██████████| 10/10 [00:00<00:00, 54.75it/s]\n"
          ]
        },
        {
          "output_type": "stream",
          "name": "stdout",
          "text": [
            "Epoch [184/3000]: Train loss: 1.1647, Valid loss: 1.4396\n"
          ]
        },
        {
          "output_type": "stream",
          "name": "stderr",
          "text": [
            "Epoch [185/3000]: 100%|██████████| 10/10 [00:00<00:00, 57.41it/s]\n"
          ]
        },
        {
          "output_type": "stream",
          "name": "stdout",
          "text": [
            "Epoch [185/3000]: Train loss: 1.1691, Valid loss: 1.6277\n"
          ]
        },
        {
          "output_type": "stream",
          "name": "stderr",
          "text": [
            "Epoch [186/3000]: 100%|██████████| 10/10 [00:00<00:00, 56.69it/s]\n"
          ]
        },
        {
          "output_type": "stream",
          "name": "stdout",
          "text": [
            "Epoch [186/3000]: Train loss: 1.2567, Valid loss: 1.4979\n"
          ]
        },
        {
          "output_type": "stream",
          "name": "stderr",
          "text": [
            "Epoch [187/3000]: 100%|██████████| 10/10 [00:00<00:00, 85.29it/s]\n"
          ]
        },
        {
          "output_type": "stream",
          "name": "stdout",
          "text": [
            "Epoch [187/3000]: Train loss: 1.1623, Valid loss: 1.5328\n"
          ]
        },
        {
          "output_type": "stream",
          "name": "stderr",
          "text": [
            "Epoch [188/3000]: 100%|██████████| 10/10 [00:00<00:00, 87.72it/s]\n"
          ]
        },
        {
          "output_type": "stream",
          "name": "stdout",
          "text": [
            "Epoch [188/3000]: Train loss: 1.1487, Valid loss: 1.4193\n"
          ]
        },
        {
          "output_type": "stream",
          "name": "stderr",
          "text": [
            "Epoch [189/3000]: 100%|██████████| 10/10 [00:00<00:00, 84.74it/s]\n"
          ]
        },
        {
          "output_type": "stream",
          "name": "stdout",
          "text": [
            "Epoch [189/3000]: Train loss: 1.1260, Valid loss: 1.4409\n"
          ]
        },
        {
          "output_type": "stream",
          "name": "stderr",
          "text": [
            "Epoch [190/3000]: 100%|██████████| 10/10 [00:00<00:00, 76.90it/s]\n"
          ]
        },
        {
          "output_type": "stream",
          "name": "stdout",
          "text": [
            "Epoch [190/3000]: Train loss: 1.1871, Valid loss: 1.4070\n"
          ]
        },
        {
          "output_type": "stream",
          "name": "stderr",
          "text": [
            "Epoch [191/3000]: 100%|██████████| 10/10 [00:00<00:00, 85.79it/s]\n"
          ]
        },
        {
          "output_type": "stream",
          "name": "stdout",
          "text": [
            "Epoch [191/3000]: Train loss: 1.1755, Valid loss: 1.6032\n"
          ]
        },
        {
          "output_type": "stream",
          "name": "stderr",
          "text": [
            "Epoch [192/3000]: 100%|██████████| 10/10 [00:00<00:00, 86.28it/s]\n"
          ]
        },
        {
          "output_type": "stream",
          "name": "stdout",
          "text": [
            "Epoch [192/3000]: Train loss: 1.2198, Valid loss: 1.5764\n"
          ]
        },
        {
          "output_type": "stream",
          "name": "stderr",
          "text": [
            "Epoch [193/3000]: 100%|██████████| 10/10 [00:00<00:00, 85.31it/s]\n"
          ]
        },
        {
          "output_type": "stream",
          "name": "stdout",
          "text": [
            "Epoch [193/3000]: Train loss: 1.2380, Valid loss: 1.4060\n"
          ]
        },
        {
          "output_type": "stream",
          "name": "stderr",
          "text": [
            "Epoch [194/3000]: 100%|██████████| 10/10 [00:00<00:00, 82.00it/s]\n"
          ]
        },
        {
          "output_type": "stream",
          "name": "stdout",
          "text": [
            "Epoch [194/3000]: Train loss: 1.1354, Valid loss: 1.4234\n"
          ]
        },
        {
          "output_type": "stream",
          "name": "stderr",
          "text": [
            "Epoch [195/3000]: 100%|██████████| 10/10 [00:00<00:00, 82.03it/s]\n"
          ]
        },
        {
          "output_type": "stream",
          "name": "stdout",
          "text": [
            "Epoch [195/3000]: Train loss: 1.1216, Valid loss: 1.4020\n",
            "Saving model with loss 1.402...\n"
          ]
        },
        {
          "output_type": "stream",
          "name": "stderr",
          "text": [
            "Epoch [196/3000]: 100%|██████████| 10/10 [00:00<00:00, 86.13it/s]\n"
          ]
        },
        {
          "output_type": "stream",
          "name": "stdout",
          "text": [
            "Epoch [196/3000]: Train loss: 1.2166, Valid loss: 1.4815\n"
          ]
        },
        {
          "output_type": "stream",
          "name": "stderr",
          "text": [
            "Epoch [197/3000]: 100%|██████████| 10/10 [00:00<00:00, 76.62it/s]\n"
          ]
        },
        {
          "output_type": "stream",
          "name": "stdout",
          "text": [
            "Epoch [197/3000]: Train loss: 1.1657, Valid loss: 1.5129\n"
          ]
        },
        {
          "output_type": "stream",
          "name": "stderr",
          "text": [
            "Epoch [198/3000]: 100%|██████████| 10/10 [00:00<00:00, 86.11it/s]\n"
          ]
        },
        {
          "output_type": "stream",
          "name": "stdout",
          "text": [
            "Epoch [198/3000]: Train loss: 1.1902, Valid loss: 1.5003\n"
          ]
        },
        {
          "output_type": "stream",
          "name": "stderr",
          "text": [
            "Epoch [199/3000]: 100%|██████████| 10/10 [00:00<00:00, 84.23it/s]\n"
          ]
        },
        {
          "output_type": "stream",
          "name": "stdout",
          "text": [
            "Epoch [199/3000]: Train loss: 1.1345, Valid loss: 1.3905\n",
            "Saving model with loss 1.390...\n"
          ]
        },
        {
          "output_type": "stream",
          "name": "stderr",
          "text": [
            "Epoch [200/3000]: 100%|██████████| 10/10 [00:00<00:00, 77.88it/s]\n"
          ]
        },
        {
          "output_type": "stream",
          "name": "stdout",
          "text": [
            "Epoch [200/3000]: Train loss: 1.1456, Valid loss: 1.3713\n",
            "Saving model with loss 1.371...\n"
          ]
        },
        {
          "output_type": "stream",
          "name": "stderr",
          "text": [
            "Epoch [201/3000]: 100%|██████████| 10/10 [00:00<00:00, 82.17it/s]\n"
          ]
        },
        {
          "output_type": "stream",
          "name": "stdout",
          "text": [
            "Epoch [201/3000]: Train loss: 1.1104, Valid loss: 1.4167\n"
          ]
        },
        {
          "output_type": "stream",
          "name": "stderr",
          "text": [
            "Epoch [202/3000]: 100%|██████████| 10/10 [00:00<00:00, 83.70it/s]\n"
          ]
        },
        {
          "output_type": "stream",
          "name": "stdout",
          "text": [
            "Epoch [202/3000]: Train loss: 1.1837, Valid loss: 1.3777\n"
          ]
        },
        {
          "output_type": "stream",
          "name": "stderr",
          "text": [
            "Epoch [203/3000]: 100%|██████████| 10/10 [00:00<00:00, 84.22it/s]\n"
          ]
        },
        {
          "output_type": "stream",
          "name": "stdout",
          "text": [
            "Epoch [203/3000]: Train loss: 1.1455, Valid loss: 1.3698\n",
            "Saving model with loss 1.370...\n"
          ]
        },
        {
          "output_type": "stream",
          "name": "stderr",
          "text": [
            "Epoch [204/3000]: 100%|██████████| 10/10 [00:00<00:00, 78.65it/s]\n"
          ]
        },
        {
          "output_type": "stream",
          "name": "stdout",
          "text": [
            "Epoch [204/3000]: Train loss: 1.0902, Valid loss: 1.4076\n"
          ]
        },
        {
          "output_type": "stream",
          "name": "stderr",
          "text": [
            "Epoch [205/3000]: 100%|██████████| 10/10 [00:00<00:00, 81.15it/s]\n"
          ]
        },
        {
          "output_type": "stream",
          "name": "stdout",
          "text": [
            "Epoch [205/3000]: Train loss: 1.0955, Valid loss: 1.3718\n"
          ]
        },
        {
          "output_type": "stream",
          "name": "stderr",
          "text": [
            "Epoch [206/3000]: 100%|██████████| 10/10 [00:00<00:00, 84.78it/s]\n"
          ]
        },
        {
          "output_type": "stream",
          "name": "stdout",
          "text": [
            "Epoch [206/3000]: Train loss: 1.1002, Valid loss: 1.3867\n"
          ]
        },
        {
          "output_type": "stream",
          "name": "stderr",
          "text": [
            "Epoch [207/3000]: 100%|██████████| 10/10 [00:00<00:00, 80.41it/s]\n"
          ]
        },
        {
          "output_type": "stream",
          "name": "stdout",
          "text": [
            "Epoch [207/3000]: Train loss: 1.0992, Valid loss: 1.3986\n"
          ]
        },
        {
          "output_type": "stream",
          "name": "stderr",
          "text": [
            "Epoch [208/3000]: 100%|██████████| 10/10 [00:00<00:00, 79.13it/s]\n"
          ]
        },
        {
          "output_type": "stream",
          "name": "stdout",
          "text": [
            "Epoch [208/3000]: Train loss: 1.2281, Valid loss: 1.4636\n"
          ]
        },
        {
          "output_type": "stream",
          "name": "stderr",
          "text": [
            "Epoch [209/3000]: 100%|██████████| 10/10 [00:00<00:00, 77.49it/s]\n"
          ]
        },
        {
          "output_type": "stream",
          "name": "stdout",
          "text": [
            "Epoch [209/3000]: Train loss: 1.2212, Valid loss: 1.5765\n"
          ]
        },
        {
          "output_type": "stream",
          "name": "stderr",
          "text": [
            "Epoch [210/3000]: 100%|██████████| 10/10 [00:00<00:00, 81.48it/s]\n"
          ]
        },
        {
          "output_type": "stream",
          "name": "stdout",
          "text": [
            "Epoch [210/3000]: Train loss: 1.2140, Valid loss: 1.5623\n"
          ]
        },
        {
          "output_type": "stream",
          "name": "stderr",
          "text": [
            "Epoch [211/3000]: 100%|██████████| 10/10 [00:00<00:00, 79.58it/s]\n"
          ]
        },
        {
          "output_type": "stream",
          "name": "stdout",
          "text": [
            "Epoch [211/3000]: Train loss: 1.2255, Valid loss: 1.4041\n"
          ]
        },
        {
          "output_type": "stream",
          "name": "stderr",
          "text": [
            "Epoch [212/3000]: 100%|██████████| 10/10 [00:00<00:00, 83.75it/s]\n"
          ]
        },
        {
          "output_type": "stream",
          "name": "stdout",
          "text": [
            "Epoch [212/3000]: Train loss: 1.1374, Valid loss: 1.4456\n"
          ]
        },
        {
          "output_type": "stream",
          "name": "stderr",
          "text": [
            "Epoch [213/3000]: 100%|██████████| 10/10 [00:00<00:00, 85.25it/s]\n"
          ]
        },
        {
          "output_type": "stream",
          "name": "stdout",
          "text": [
            "Epoch [213/3000]: Train loss: 1.1617, Valid loss: 1.6101\n"
          ]
        },
        {
          "output_type": "stream",
          "name": "stderr",
          "text": [
            "Epoch [214/3000]: 100%|██████████| 10/10 [00:00<00:00, 83.42it/s]\n"
          ]
        },
        {
          "output_type": "stream",
          "name": "stdout",
          "text": [
            "Epoch [214/3000]: Train loss: 1.1897, Valid loss: 1.4583\n"
          ]
        },
        {
          "output_type": "stream",
          "name": "stderr",
          "text": [
            "Epoch [215/3000]: 100%|██████████| 10/10 [00:00<00:00, 82.19it/s]\n"
          ]
        },
        {
          "output_type": "stream",
          "name": "stdout",
          "text": [
            "Epoch [215/3000]: Train loss: 1.1538, Valid loss: 1.6218\n"
          ]
        },
        {
          "output_type": "stream",
          "name": "stderr",
          "text": [
            "Epoch [216/3000]: 100%|██████████| 10/10 [00:00<00:00, 80.03it/s]\n"
          ]
        },
        {
          "output_type": "stream",
          "name": "stdout",
          "text": [
            "Epoch [216/3000]: Train loss: 1.1531, Valid loss: 1.3552\n",
            "Saving model with loss 1.355...\n"
          ]
        },
        {
          "output_type": "stream",
          "name": "stderr",
          "text": [
            "Epoch [217/3000]: 100%|██████████| 10/10 [00:00<00:00, 83.17it/s]\n"
          ]
        },
        {
          "output_type": "stream",
          "name": "stdout",
          "text": [
            "Epoch [217/3000]: Train loss: 1.1049, Valid loss: 1.3467\n",
            "Saving model with loss 1.347...\n"
          ]
        },
        {
          "output_type": "stream",
          "name": "stderr",
          "text": [
            "Epoch [218/3000]: 100%|██████████| 10/10 [00:00<00:00, 75.07it/s]\n"
          ]
        },
        {
          "output_type": "stream",
          "name": "stdout",
          "text": [
            "Epoch [218/3000]: Train loss: 1.0721, Valid loss: 1.3480\n"
          ]
        },
        {
          "output_type": "stream",
          "name": "stderr",
          "text": [
            "Epoch [219/3000]: 100%|██████████| 10/10 [00:00<00:00, 87.94it/s]\n"
          ]
        },
        {
          "output_type": "stream",
          "name": "stdout",
          "text": [
            "Epoch [219/3000]: Train loss: 1.1075, Valid loss: 1.3716\n"
          ]
        },
        {
          "output_type": "stream",
          "name": "stderr",
          "text": [
            "Epoch [220/3000]: 100%|██████████| 10/10 [00:00<00:00, 84.22it/s]\n"
          ]
        },
        {
          "output_type": "stream",
          "name": "stdout",
          "text": [
            "Epoch [220/3000]: Train loss: 1.0824, Valid loss: 1.4144\n"
          ]
        },
        {
          "output_type": "stream",
          "name": "stderr",
          "text": [
            "Epoch [221/3000]: 100%|██████████| 10/10 [00:00<00:00, 83.40it/s]\n"
          ]
        },
        {
          "output_type": "stream",
          "name": "stdout",
          "text": [
            "Epoch [221/3000]: Train loss: 1.1144, Valid loss: 1.4317\n"
          ]
        },
        {
          "output_type": "stream",
          "name": "stderr",
          "text": [
            "Epoch [222/3000]: 100%|██████████| 10/10 [00:00<00:00, 82.68it/s]\n"
          ]
        },
        {
          "output_type": "stream",
          "name": "stdout",
          "text": [
            "Epoch [222/3000]: Train loss: 1.0897, Valid loss: 1.3889\n"
          ]
        },
        {
          "output_type": "stream",
          "name": "stderr",
          "text": [
            "Epoch [223/3000]: 100%|██████████| 10/10 [00:00<00:00, 85.61it/s]\n"
          ]
        },
        {
          "output_type": "stream",
          "name": "stdout",
          "text": [
            "Epoch [223/3000]: Train loss: 1.0823, Valid loss: 1.4059\n"
          ]
        },
        {
          "output_type": "stream",
          "name": "stderr",
          "text": [
            "Epoch [224/3000]: 100%|██████████| 10/10 [00:00<00:00, 82.82it/s]\n"
          ]
        },
        {
          "output_type": "stream",
          "name": "stdout",
          "text": [
            "Epoch [224/3000]: Train loss: 1.0717, Valid loss: 1.3847\n"
          ]
        },
        {
          "output_type": "stream",
          "name": "stderr",
          "text": [
            "Epoch [225/3000]: 100%|██████████| 10/10 [00:00<00:00, 71.91it/s]\n"
          ]
        },
        {
          "output_type": "stream",
          "name": "stdout",
          "text": [
            "Epoch [225/3000]: Train loss: 1.0653, Valid loss: 1.3809\n"
          ]
        },
        {
          "output_type": "stream",
          "name": "stderr",
          "text": [
            "Epoch [226/3000]: 100%|██████████| 10/10 [00:00<00:00, 80.56it/s]\n"
          ]
        },
        {
          "output_type": "stream",
          "name": "stdout",
          "text": [
            "Epoch [226/3000]: Train loss: 1.0862, Valid loss: 1.3853\n"
          ]
        },
        {
          "output_type": "stream",
          "name": "stderr",
          "text": [
            "Epoch [227/3000]: 100%|██████████| 10/10 [00:00<00:00, 82.76it/s]\n"
          ]
        },
        {
          "output_type": "stream",
          "name": "stdout",
          "text": [
            "Epoch [227/3000]: Train loss: 1.0673, Valid loss: 1.3303\n",
            "Saving model with loss 1.330...\n"
          ]
        },
        {
          "output_type": "stream",
          "name": "stderr",
          "text": [
            "Epoch [228/3000]: 100%|██████████| 10/10 [00:00<00:00, 80.06it/s]\n"
          ]
        },
        {
          "output_type": "stream",
          "name": "stdout",
          "text": [
            "Epoch [228/3000]: Train loss: 1.0604, Valid loss: 1.3962\n"
          ]
        },
        {
          "output_type": "stream",
          "name": "stderr",
          "text": [
            "Epoch [229/3000]: 100%|██████████| 10/10 [00:00<00:00, 87.11it/s]\n"
          ]
        },
        {
          "output_type": "stream",
          "name": "stdout",
          "text": [
            "Epoch [229/3000]: Train loss: 1.0558, Valid loss: 1.3489\n"
          ]
        },
        {
          "output_type": "stream",
          "name": "stderr",
          "text": [
            "Epoch [230/3000]: 100%|██████████| 10/10 [00:00<00:00, 80.66it/s]\n"
          ]
        },
        {
          "output_type": "stream",
          "name": "stdout",
          "text": [
            "Epoch [230/3000]: Train loss: 1.0722, Valid loss: 1.4389\n"
          ]
        },
        {
          "output_type": "stream",
          "name": "stderr",
          "text": [
            "Epoch [231/3000]: 100%|██████████| 10/10 [00:00<00:00, 86.19it/s]\n"
          ]
        },
        {
          "output_type": "stream",
          "name": "stdout",
          "text": [
            "Epoch [231/3000]: Train loss: 1.0747, Valid loss: 1.3860\n"
          ]
        },
        {
          "output_type": "stream",
          "name": "stderr",
          "text": [
            "Epoch [232/3000]: 100%|██████████| 10/10 [00:00<00:00, 76.50it/s]\n"
          ]
        },
        {
          "output_type": "stream",
          "name": "stdout",
          "text": [
            "Epoch [232/3000]: Train loss: 1.1372, Valid loss: 1.3473\n"
          ]
        },
        {
          "output_type": "stream",
          "name": "stderr",
          "text": [
            "Epoch [233/3000]: 100%|██████████| 10/10 [00:00<00:00, 88.20it/s]\n"
          ]
        },
        {
          "output_type": "stream",
          "name": "stdout",
          "text": [
            "Epoch [233/3000]: Train loss: 1.0669, Valid loss: 1.4339\n"
          ]
        },
        {
          "output_type": "stream",
          "name": "stderr",
          "text": [
            "Epoch [234/3000]: 100%|██████████| 10/10 [00:00<00:00, 85.53it/s]\n"
          ]
        },
        {
          "output_type": "stream",
          "name": "stdout",
          "text": [
            "Epoch [234/3000]: Train loss: 1.0725, Valid loss: 1.3962\n"
          ]
        },
        {
          "output_type": "stream",
          "name": "stderr",
          "text": [
            "Epoch [235/3000]: 100%|██████████| 10/10 [00:00<00:00, 84.04it/s]\n"
          ]
        },
        {
          "output_type": "stream",
          "name": "stdout",
          "text": [
            "Epoch [235/3000]: Train loss: 1.0755, Valid loss: 1.4863\n"
          ]
        },
        {
          "output_type": "stream",
          "name": "stderr",
          "text": [
            "Epoch [236/3000]: 100%|██████████| 10/10 [00:00<00:00, 83.99it/s]\n"
          ]
        },
        {
          "output_type": "stream",
          "name": "stdout",
          "text": [
            "Epoch [236/3000]: Train loss: 1.1170, Valid loss: 1.3904\n"
          ]
        },
        {
          "output_type": "stream",
          "name": "stderr",
          "text": [
            "Epoch [237/3000]: 100%|██████████| 10/10 [00:00<00:00, 86.20it/s]\n"
          ]
        },
        {
          "output_type": "stream",
          "name": "stdout",
          "text": [
            "Epoch [237/3000]: Train loss: 1.0599, Valid loss: 1.4357\n"
          ]
        },
        {
          "output_type": "stream",
          "name": "stderr",
          "text": [
            "Epoch [238/3000]: 100%|██████████| 10/10 [00:00<00:00, 83.12it/s]\n"
          ]
        },
        {
          "output_type": "stream",
          "name": "stdout",
          "text": [
            "Epoch [238/3000]: Train loss: 1.0723, Valid loss: 1.3297\n",
            "Saving model with loss 1.330...\n"
          ]
        },
        {
          "output_type": "stream",
          "name": "stderr",
          "text": [
            "Epoch [239/3000]: 100%|██████████| 10/10 [00:00<00:00, 73.06it/s]\n"
          ]
        },
        {
          "output_type": "stream",
          "name": "stdout",
          "text": [
            "Epoch [239/3000]: Train loss: 1.0085, Valid loss: 1.3373\n"
          ]
        },
        {
          "output_type": "stream",
          "name": "stderr",
          "text": [
            "Epoch [240/3000]: 100%|██████████| 10/10 [00:00<00:00, 84.33it/s]\n"
          ]
        },
        {
          "output_type": "stream",
          "name": "stdout",
          "text": [
            "Epoch [240/3000]: Train loss: 1.0166, Valid loss: 1.3808\n"
          ]
        },
        {
          "output_type": "stream",
          "name": "stderr",
          "text": [
            "Epoch [241/3000]: 100%|██████████| 10/10 [00:00<00:00, 85.39it/s]\n"
          ]
        },
        {
          "output_type": "stream",
          "name": "stdout",
          "text": [
            "Epoch [241/3000]: Train loss: 1.0346, Valid loss: 1.3516\n"
          ]
        },
        {
          "output_type": "stream",
          "name": "stderr",
          "text": [
            "Epoch [242/3000]: 100%|██████████| 10/10 [00:00<00:00, 81.02it/s]\n"
          ]
        },
        {
          "output_type": "stream",
          "name": "stdout",
          "text": [
            "Epoch [242/3000]: Train loss: 1.0249, Valid loss: 1.4106\n"
          ]
        },
        {
          "output_type": "stream",
          "name": "stderr",
          "text": [
            "Epoch [243/3000]: 100%|██████████| 10/10 [00:00<00:00, 84.97it/s]\n"
          ]
        },
        {
          "output_type": "stream",
          "name": "stdout",
          "text": [
            "Epoch [243/3000]: Train loss: 1.0517, Valid loss: 1.3660\n"
          ]
        },
        {
          "output_type": "stream",
          "name": "stderr",
          "text": [
            "Epoch [244/3000]: 100%|██████████| 10/10 [00:00<00:00, 85.29it/s]\n"
          ]
        },
        {
          "output_type": "stream",
          "name": "stdout",
          "text": [
            "Epoch [244/3000]: Train loss: 1.0419, Valid loss: 1.4175\n"
          ]
        },
        {
          "output_type": "stream",
          "name": "stderr",
          "text": [
            "Epoch [245/3000]: 100%|██████████| 10/10 [00:00<00:00, 82.18it/s]\n"
          ]
        },
        {
          "output_type": "stream",
          "name": "stdout",
          "text": [
            "Epoch [245/3000]: Train loss: 1.0644, Valid loss: 1.3427\n"
          ]
        },
        {
          "output_type": "stream",
          "name": "stderr",
          "text": [
            "Epoch [246/3000]: 100%|██████████| 10/10 [00:00<00:00, 72.60it/s]\n"
          ]
        },
        {
          "output_type": "stream",
          "name": "stdout",
          "text": [
            "Epoch [246/3000]: Train loss: 1.0674, Valid loss: 1.3976\n"
          ]
        },
        {
          "output_type": "stream",
          "name": "stderr",
          "text": [
            "Epoch [247/3000]: 100%|██████████| 10/10 [00:00<00:00, 82.65it/s]\n"
          ]
        },
        {
          "output_type": "stream",
          "name": "stdout",
          "text": [
            "Epoch [247/3000]: Train loss: 1.0575, Valid loss: 1.4378\n"
          ]
        },
        {
          "output_type": "stream",
          "name": "stderr",
          "text": [
            "Epoch [248/3000]: 100%|██████████| 10/10 [00:00<00:00, 81.30it/s]\n"
          ]
        },
        {
          "output_type": "stream",
          "name": "stdout",
          "text": [
            "Epoch [248/3000]: Train loss: 1.0862, Valid loss: 1.3477\n"
          ]
        },
        {
          "output_type": "stream",
          "name": "stderr",
          "text": [
            "Epoch [249/3000]: 100%|██████████| 10/10 [00:00<00:00, 84.68it/s]\n"
          ]
        },
        {
          "output_type": "stream",
          "name": "stdout",
          "text": [
            "Epoch [249/3000]: Train loss: 1.0068, Valid loss: 1.3289\n",
            "Saving model with loss 1.329...\n"
          ]
        },
        {
          "output_type": "stream",
          "name": "stderr",
          "text": [
            "Epoch [250/3000]: 100%|██████████| 10/10 [00:00<00:00, 83.17it/s]\n"
          ]
        },
        {
          "output_type": "stream",
          "name": "stdout",
          "text": [
            "Epoch [250/3000]: Train loss: 1.0178, Valid loss: 1.4303\n"
          ]
        },
        {
          "output_type": "stream",
          "name": "stderr",
          "text": [
            "Epoch [251/3000]: 100%|██████████| 10/10 [00:00<00:00, 82.94it/s]\n"
          ]
        },
        {
          "output_type": "stream",
          "name": "stdout",
          "text": [
            "Epoch [251/3000]: Train loss: 1.0119, Valid loss: 1.3847\n"
          ]
        },
        {
          "output_type": "stream",
          "name": "stderr",
          "text": [
            "Epoch [252/3000]: 100%|██████████| 10/10 [00:00<00:00, 80.33it/s]\n"
          ]
        },
        {
          "output_type": "stream",
          "name": "stdout",
          "text": [
            "Epoch [252/3000]: Train loss: 1.0119, Valid loss: 1.3093\n",
            "Saving model with loss 1.309...\n"
          ]
        },
        {
          "output_type": "stream",
          "name": "stderr",
          "text": [
            "Epoch [253/3000]: 100%|██████████| 10/10 [00:00<00:00, 72.03it/s]\n"
          ]
        },
        {
          "output_type": "stream",
          "name": "stdout",
          "text": [
            "Epoch [253/3000]: Train loss: 1.0105, Valid loss: 1.3307\n"
          ]
        },
        {
          "output_type": "stream",
          "name": "stderr",
          "text": [
            "Epoch [254/3000]: 100%|██████████| 10/10 [00:00<00:00, 56.29it/s]\n"
          ]
        },
        {
          "output_type": "stream",
          "name": "stdout",
          "text": [
            "Epoch [254/3000]: Train loss: 1.0186, Valid loss: 1.3802\n"
          ]
        },
        {
          "output_type": "stream",
          "name": "stderr",
          "text": [
            "Epoch [255/3000]: 100%|██████████| 10/10 [00:00<00:00, 59.50it/s]"
          ]
        },
        {
          "output_type": "stream",
          "name": "stdout",
          "text": [
            "Epoch [255/3000]: Train loss: 1.0486, Valid loss: 1.4479"
          ]
        },
        {
          "output_type": "stream",
          "name": "stderr",
          "text": [
            "\n"
          ]
        },
        {
          "output_type": "stream",
          "name": "stdout",
          "text": [
            "\n"
          ]
        },
        {
          "output_type": "stream",
          "name": "stderr",
          "text": [
            "Epoch [256/3000]: 100%|██████████| 10/10 [00:00<00:00, 61.84it/s]\n"
          ]
        },
        {
          "output_type": "stream",
          "name": "stdout",
          "text": [
            "Epoch [256/3000]: Train loss: 1.1161, Valid loss: 1.4110\n"
          ]
        },
        {
          "output_type": "stream",
          "name": "stderr",
          "text": [
            "Epoch [257/3000]: 100%|██████████| 10/10 [00:00<00:00, 59.15it/s]"
          ]
        },
        {
          "output_type": "stream",
          "name": "stdout",
          "text": [
            "Epoch [257/3000]: Train loss: 1.0768, Valid loss: 1.3988"
          ]
        },
        {
          "output_type": "stream",
          "name": "stderr",
          "text": [
            "\n"
          ]
        },
        {
          "output_type": "stream",
          "name": "stdout",
          "text": [
            "\n"
          ]
        },
        {
          "output_type": "stream",
          "name": "stderr",
          "text": [
            "Epoch [258/3000]: 100%|██████████| 10/10 [00:00<00:00, 57.92it/s]\n"
          ]
        },
        {
          "output_type": "stream",
          "name": "stdout",
          "text": [
            "Epoch [258/3000]: Train loss: 1.1133, Valid loss: 1.3114\n"
          ]
        },
        {
          "output_type": "stream",
          "name": "stderr",
          "text": [
            "Epoch [259/3000]: 100%|██████████| 10/10 [00:00<00:00, 61.68it/s]\n"
          ]
        },
        {
          "output_type": "stream",
          "name": "stdout",
          "text": [
            "Epoch [259/3000]: Train loss: 1.0275, Valid loss: 1.3226\n"
          ]
        },
        {
          "output_type": "stream",
          "name": "stderr",
          "text": [
            "Epoch [260/3000]: 100%|██████████| 10/10 [00:00<00:00, 60.23it/s]\n"
          ]
        },
        {
          "output_type": "stream",
          "name": "stdout",
          "text": [
            "Epoch [260/3000]: Train loss: 0.9798, Valid loss: 1.3339\n"
          ]
        },
        {
          "output_type": "stream",
          "name": "stderr",
          "text": [
            "Epoch [261/3000]: 100%|██████████| 10/10 [00:00<00:00, 60.55it/s]\n"
          ]
        },
        {
          "output_type": "stream",
          "name": "stdout",
          "text": [
            "Epoch [261/3000]: Train loss: 0.9975, Valid loss: 1.3673\n"
          ]
        },
        {
          "output_type": "stream",
          "name": "stderr",
          "text": [
            "Epoch [262/3000]: 100%|██████████| 10/10 [00:00<00:00, 57.49it/s]\n"
          ]
        },
        {
          "output_type": "stream",
          "name": "stdout",
          "text": [
            "Epoch [262/3000]: Train loss: 1.0136, Valid loss: 1.4070\n"
          ]
        },
        {
          "output_type": "stream",
          "name": "stderr",
          "text": [
            "Epoch [263/3000]: 100%|██████████| 10/10 [00:00<00:00, 61.76it/s]\n"
          ]
        },
        {
          "output_type": "stream",
          "name": "stdout",
          "text": [
            "Epoch [263/3000]: Train loss: 1.0426, Valid loss: 1.4426\n"
          ]
        },
        {
          "output_type": "stream",
          "name": "stderr",
          "text": [
            "Epoch [264/3000]: 100%|██████████| 10/10 [00:00<00:00, 58.35it/s]\n"
          ]
        },
        {
          "output_type": "stream",
          "name": "stdout",
          "text": [
            "Epoch [264/3000]: Train loss: 1.0681, Valid loss: 1.4623\n"
          ]
        },
        {
          "output_type": "stream",
          "name": "stderr",
          "text": [
            "Epoch [265/3000]: 100%|██████████| 10/10 [00:00<00:00, 58.08it/s]\n"
          ]
        },
        {
          "output_type": "stream",
          "name": "stdout",
          "text": [
            "Epoch [265/3000]: Train loss: 1.0238, Valid loss: 1.3344\n"
          ]
        },
        {
          "output_type": "stream",
          "name": "stderr",
          "text": [
            "Epoch [266/3000]: 100%|██████████| 10/10 [00:00<00:00, 60.25it/s]\n"
          ]
        },
        {
          "output_type": "stream",
          "name": "stdout",
          "text": [
            "Epoch [266/3000]: Train loss: 0.9764, Valid loss: 1.3083\n",
            "Saving model with loss 1.308...\n"
          ]
        },
        {
          "output_type": "stream",
          "name": "stderr",
          "text": [
            "Epoch [267/3000]: 100%|██████████| 10/10 [00:00<00:00, 55.63it/s]\n"
          ]
        },
        {
          "output_type": "stream",
          "name": "stdout",
          "text": [
            "Epoch [267/3000]: Train loss: 0.9909, Valid loss: 1.3886\n"
          ]
        },
        {
          "output_type": "stream",
          "name": "stderr",
          "text": [
            "Epoch [268/3000]: 100%|██████████| 10/10 [00:00<00:00, 53.37it/s]\n"
          ]
        },
        {
          "output_type": "stream",
          "name": "stdout",
          "text": [
            "Epoch [268/3000]: Train loss: 1.0626, Valid loss: 1.2850\n",
            "Saving model with loss 1.285...\n"
          ]
        },
        {
          "output_type": "stream",
          "name": "stderr",
          "text": [
            "Epoch [269/3000]: 100%|██████████| 10/10 [00:00<00:00, 56.70it/s]\n"
          ]
        },
        {
          "output_type": "stream",
          "name": "stdout",
          "text": [
            "Epoch [269/3000]: Train loss: 0.9762, Valid loss: 1.3340\n"
          ]
        },
        {
          "output_type": "stream",
          "name": "stderr",
          "text": [
            "Epoch [270/3000]: 100%|██████████| 10/10 [00:00<00:00, 58.48it/s]\n"
          ]
        },
        {
          "output_type": "stream",
          "name": "stdout",
          "text": [
            "Epoch [270/3000]: Train loss: 1.0158, Valid loss: 1.3085\n"
          ]
        },
        {
          "output_type": "stream",
          "name": "stderr",
          "text": [
            "Epoch [271/3000]: 100%|██████████| 10/10 [00:00<00:00, 54.62it/s]\n"
          ]
        },
        {
          "output_type": "stream",
          "name": "stdout",
          "text": [
            "Epoch [271/3000]: Train loss: 1.0119, Valid loss: 1.3833\n"
          ]
        },
        {
          "output_type": "stream",
          "name": "stderr",
          "text": [
            "Epoch [272/3000]: 100%|██████████| 10/10 [00:00<00:00, 57.23it/s]\n"
          ]
        },
        {
          "output_type": "stream",
          "name": "stdout",
          "text": [
            "Epoch [272/3000]: Train loss: 1.1060, Valid loss: 1.3209\n"
          ]
        },
        {
          "output_type": "stream",
          "name": "stderr",
          "text": [
            "Epoch [273/3000]: 100%|██████████| 10/10 [00:00<00:00, 60.95it/s]\n"
          ]
        },
        {
          "output_type": "stream",
          "name": "stdout",
          "text": [
            "Epoch [273/3000]: Train loss: 1.0847, Valid loss: 1.4967\n"
          ]
        },
        {
          "output_type": "stream",
          "name": "stderr",
          "text": [
            "Epoch [274/3000]: 100%|██████████| 10/10 [00:00<00:00, 52.26it/s]\n"
          ]
        },
        {
          "output_type": "stream",
          "name": "stdout",
          "text": [
            "Epoch [274/3000]: Train loss: 1.1001, Valid loss: 1.3392\n"
          ]
        },
        {
          "output_type": "stream",
          "name": "stderr",
          "text": [
            "Epoch [275/3000]: 100%|██████████| 10/10 [00:00<00:00, 56.73it/s]\n"
          ]
        },
        {
          "output_type": "stream",
          "name": "stdout",
          "text": [
            "Epoch [275/3000]: Train loss: 1.0437, Valid loss: 1.4200\n"
          ]
        },
        {
          "output_type": "stream",
          "name": "stderr",
          "text": [
            "Epoch [276/3000]: 100%|██████████| 10/10 [00:00<00:00, 53.21it/s]\n"
          ]
        },
        {
          "output_type": "stream",
          "name": "stdout",
          "text": [
            "Epoch [276/3000]: Train loss: 0.9799, Valid loss: 1.3329\n"
          ]
        },
        {
          "output_type": "stream",
          "name": "stderr",
          "text": [
            "Epoch [277/3000]: 100%|██████████| 10/10 [00:00<00:00, 76.74it/s]\n"
          ]
        },
        {
          "output_type": "stream",
          "name": "stdout",
          "text": [
            "Epoch [277/3000]: Train loss: 0.9850, Valid loss: 1.3169\n"
          ]
        },
        {
          "output_type": "stream",
          "name": "stderr",
          "text": [
            "Epoch [278/3000]: 100%|██████████| 10/10 [00:00<00:00, 87.15it/s]\n"
          ]
        },
        {
          "output_type": "stream",
          "name": "stdout",
          "text": [
            "Epoch [278/3000]: Train loss: 0.9780, Valid loss: 1.3316\n"
          ]
        },
        {
          "output_type": "stream",
          "name": "stderr",
          "text": [
            "Epoch [279/3000]: 100%|██████████| 10/10 [00:00<00:00, 81.55it/s]\n"
          ]
        },
        {
          "output_type": "stream",
          "name": "stdout",
          "text": [
            "Epoch [279/3000]: Train loss: 1.0052, Valid loss: 1.4200\n"
          ]
        },
        {
          "output_type": "stream",
          "name": "stderr",
          "text": [
            "Epoch [280/3000]: 100%|██████████| 10/10 [00:00<00:00, 86.05it/s]\n"
          ]
        },
        {
          "output_type": "stream",
          "name": "stdout",
          "text": [
            "Epoch [280/3000]: Train loss: 1.0287, Valid loss: 1.4249\n"
          ]
        },
        {
          "output_type": "stream",
          "name": "stderr",
          "text": [
            "Epoch [281/3000]: 100%|██████████| 10/10 [00:00<00:00, 80.23it/s]\n"
          ]
        },
        {
          "output_type": "stream",
          "name": "stdout",
          "text": [
            "Epoch [281/3000]: Train loss: 1.0407, Valid loss: 1.2941\n"
          ]
        },
        {
          "output_type": "stream",
          "name": "stderr",
          "text": [
            "Epoch [282/3000]: 100%|██████████| 10/10 [00:00<00:00, 82.30it/s]\n"
          ]
        },
        {
          "output_type": "stream",
          "name": "stdout",
          "text": [
            "Epoch [282/3000]: Train loss: 0.9603, Valid loss: 1.2921\n"
          ]
        },
        {
          "output_type": "stream",
          "name": "stderr",
          "text": [
            "Epoch [283/3000]: 100%|██████████| 10/10 [00:00<00:00, 83.46it/s]\n"
          ]
        },
        {
          "output_type": "stream",
          "name": "stdout",
          "text": [
            "Epoch [283/3000]: Train loss: 0.9572, Valid loss: 1.3702\n"
          ]
        },
        {
          "output_type": "stream",
          "name": "stderr",
          "text": [
            "Epoch [284/3000]: 100%|██████████| 10/10 [00:00<00:00, 83.55it/s]\n"
          ]
        },
        {
          "output_type": "stream",
          "name": "stdout",
          "text": [
            "Epoch [284/3000]: Train loss: 0.9981, Valid loss: 1.3995\n"
          ]
        },
        {
          "output_type": "stream",
          "name": "stderr",
          "text": [
            "Epoch [285/3000]: 100%|██████████| 10/10 [00:00<00:00, 79.03it/s]\n"
          ]
        },
        {
          "output_type": "stream",
          "name": "stdout",
          "text": [
            "Epoch [285/3000]: Train loss: 1.0255, Valid loss: 1.4099\n"
          ]
        },
        {
          "output_type": "stream",
          "name": "stderr",
          "text": [
            "Epoch [286/3000]: 100%|██████████| 10/10 [00:00<00:00, 74.74it/s]\n"
          ]
        },
        {
          "output_type": "stream",
          "name": "stdout",
          "text": [
            "Epoch [286/3000]: Train loss: 1.0386, Valid loss: 1.4068\n"
          ]
        },
        {
          "output_type": "stream",
          "name": "stderr",
          "text": [
            "Epoch [287/3000]: 100%|██████████| 10/10 [00:00<00:00, 82.45it/s]\n"
          ]
        },
        {
          "output_type": "stream",
          "name": "stdout",
          "text": [
            "Epoch [287/3000]: Train loss: 1.0238, Valid loss: 1.2836\n",
            "Saving model with loss 1.284...\n"
          ]
        },
        {
          "output_type": "stream",
          "name": "stderr",
          "text": [
            "Epoch [288/3000]: 100%|██████████| 10/10 [00:00<00:00, 83.36it/s]\n"
          ]
        },
        {
          "output_type": "stream",
          "name": "stdout",
          "text": [
            "Epoch [288/3000]: Train loss: 0.9771, Valid loss: 1.3254\n"
          ]
        },
        {
          "output_type": "stream",
          "name": "stderr",
          "text": [
            "Epoch [289/3000]: 100%|██████████| 10/10 [00:00<00:00, 81.69it/s]\n"
          ]
        },
        {
          "output_type": "stream",
          "name": "stdout",
          "text": [
            "Epoch [289/3000]: Train loss: 1.0463, Valid loss: 1.4177\n"
          ]
        },
        {
          "output_type": "stream",
          "name": "stderr",
          "text": [
            "Epoch [290/3000]: 100%|██████████| 10/10 [00:00<00:00, 86.26it/s]\n"
          ]
        },
        {
          "output_type": "stream",
          "name": "stdout",
          "text": [
            "Epoch [290/3000]: Train loss: 0.9855, Valid loss: 1.2743\n",
            "Saving model with loss 1.274...\n"
          ]
        },
        {
          "output_type": "stream",
          "name": "stderr",
          "text": [
            "Epoch [291/3000]: 100%|██████████| 10/10 [00:00<00:00, 80.26it/s]\n"
          ]
        },
        {
          "output_type": "stream",
          "name": "stdout",
          "text": [
            "Epoch [291/3000]: Train loss: 0.9618, Valid loss: 1.3493\n"
          ]
        },
        {
          "output_type": "stream",
          "name": "stderr",
          "text": [
            "Epoch [292/3000]: 100%|██████████| 10/10 [00:00<00:00, 81.97it/s]\n"
          ]
        },
        {
          "output_type": "stream",
          "name": "stdout",
          "text": [
            "Epoch [292/3000]: Train loss: 0.9992, Valid loss: 1.3436\n"
          ]
        },
        {
          "output_type": "stream",
          "name": "stderr",
          "text": [
            "Epoch [293/3000]: 100%|██████████| 10/10 [00:00<00:00, 72.02it/s]\n"
          ]
        },
        {
          "output_type": "stream",
          "name": "stdout",
          "text": [
            "Epoch [293/3000]: Train loss: 0.9738, Valid loss: 1.2646\n",
            "Saving model with loss 1.265...\n"
          ]
        },
        {
          "output_type": "stream",
          "name": "stderr",
          "text": [
            "Epoch [294/3000]: 100%|██████████| 10/10 [00:00<00:00, 85.24it/s]\n"
          ]
        },
        {
          "output_type": "stream",
          "name": "stdout",
          "text": [
            "Epoch [294/3000]: Train loss: 0.9301, Valid loss: 1.4653\n"
          ]
        },
        {
          "output_type": "stream",
          "name": "stderr",
          "text": [
            "Epoch [295/3000]: 100%|██████████| 10/10 [00:00<00:00, 81.39it/s]\n"
          ]
        },
        {
          "output_type": "stream",
          "name": "stdout",
          "text": [
            "Epoch [295/3000]: Train loss: 1.0372, Valid loss: 1.3663\n"
          ]
        },
        {
          "output_type": "stream",
          "name": "stderr",
          "text": [
            "Epoch [296/3000]: 100%|██████████| 10/10 [00:00<00:00, 84.72it/s]\n"
          ]
        },
        {
          "output_type": "stream",
          "name": "stdout",
          "text": [
            "Epoch [296/3000]: Train loss: 1.0081, Valid loss: 1.3756\n"
          ]
        },
        {
          "output_type": "stream",
          "name": "stderr",
          "text": [
            "Epoch [297/3000]: 100%|██████████| 10/10 [00:00<00:00, 84.30it/s]\n"
          ]
        },
        {
          "output_type": "stream",
          "name": "stdout",
          "text": [
            "Epoch [297/3000]: Train loss: 0.9961, Valid loss: 1.2915\n"
          ]
        },
        {
          "output_type": "stream",
          "name": "stderr",
          "text": [
            "Epoch [298/3000]: 100%|██████████| 10/10 [00:00<00:00, 85.86it/s]\n"
          ]
        },
        {
          "output_type": "stream",
          "name": "stdout",
          "text": [
            "Epoch [298/3000]: Train loss: 0.9163, Valid loss: 1.2901\n"
          ]
        },
        {
          "output_type": "stream",
          "name": "stderr",
          "text": [
            "Epoch [299/3000]: 100%|██████████| 10/10 [00:00<00:00, 82.91it/s]\n"
          ]
        },
        {
          "output_type": "stream",
          "name": "stdout",
          "text": [
            "Epoch [299/3000]: Train loss: 0.9488, Valid loss: 1.3082\n"
          ]
        },
        {
          "output_type": "stream",
          "name": "stderr",
          "text": [
            "Epoch [300/3000]: 100%|██████████| 10/10 [00:00<00:00, 72.23it/s]\n"
          ]
        },
        {
          "output_type": "stream",
          "name": "stdout",
          "text": [
            "Epoch [300/3000]: Train loss: 0.9696, Valid loss: 1.4422\n"
          ]
        },
        {
          "output_type": "stream",
          "name": "stderr",
          "text": [
            "Epoch [301/3000]: 100%|██████████| 10/10 [00:00<00:00, 22.57it/s]\n"
          ]
        },
        {
          "output_type": "stream",
          "name": "stdout",
          "text": [
            "Epoch [301/3000]: Train loss: 1.0118, Valid loss: 1.4534\n"
          ]
        },
        {
          "output_type": "stream",
          "name": "stderr",
          "text": [
            "Epoch [302/3000]: 100%|██████████| 10/10 [00:00<00:00, 79.39it/s]\n"
          ]
        },
        {
          "output_type": "stream",
          "name": "stdout",
          "text": [
            "Epoch [302/3000]: Train loss: 1.0632, Valid loss: 1.4316\n"
          ]
        },
        {
          "output_type": "stream",
          "name": "stderr",
          "text": [
            "Epoch [303/3000]: 100%|██████████| 10/10 [00:00<00:00, 82.85it/s]\n"
          ]
        },
        {
          "output_type": "stream",
          "name": "stdout",
          "text": [
            "Epoch [303/3000]: Train loss: 1.0307, Valid loss: 1.3186\n"
          ]
        },
        {
          "output_type": "stream",
          "name": "stderr",
          "text": [
            "Epoch [304/3000]: 100%|██████████| 10/10 [00:00<00:00, 80.28it/s]\n"
          ]
        },
        {
          "output_type": "stream",
          "name": "stdout",
          "text": [
            "Epoch [304/3000]: Train loss: 0.9996, Valid loss: 1.3456\n"
          ]
        },
        {
          "output_type": "stream",
          "name": "stderr",
          "text": [
            "Epoch [305/3000]: 100%|██████████| 10/10 [00:00<00:00, 73.19it/s]\n"
          ]
        },
        {
          "output_type": "stream",
          "name": "stdout",
          "text": [
            "Epoch [305/3000]: Train loss: 0.9513, Valid loss: 1.2955\n"
          ]
        },
        {
          "output_type": "stream",
          "name": "stderr",
          "text": [
            "Epoch [306/3000]: 100%|██████████| 10/10 [00:00<00:00, 84.08it/s]\n"
          ]
        },
        {
          "output_type": "stream",
          "name": "stdout",
          "text": [
            "Epoch [306/3000]: Train loss: 0.9204, Valid loss: 1.2955\n"
          ]
        },
        {
          "output_type": "stream",
          "name": "stderr",
          "text": [
            "Epoch [307/3000]: 100%|██████████| 10/10 [00:00<00:00, 85.90it/s]\n"
          ]
        },
        {
          "output_type": "stream",
          "name": "stdout",
          "text": [
            "Epoch [307/3000]: Train loss: 0.9453, Valid loss: 1.3032\n"
          ]
        },
        {
          "output_type": "stream",
          "name": "stderr",
          "text": [
            "Epoch [308/3000]: 100%|██████████| 10/10 [00:00<00:00, 79.00it/s]\n"
          ]
        },
        {
          "output_type": "stream",
          "name": "stdout",
          "text": [
            "Epoch [308/3000]: Train loss: 0.9680, Valid loss: 1.2768\n"
          ]
        },
        {
          "output_type": "stream",
          "name": "stderr",
          "text": [
            "Epoch [309/3000]: 100%|██████████| 10/10 [00:00<00:00, 83.26it/s]\n"
          ]
        },
        {
          "output_type": "stream",
          "name": "stdout",
          "text": [
            "Epoch [309/3000]: Train loss: 0.9094, Valid loss: 1.2930\n"
          ]
        },
        {
          "output_type": "stream",
          "name": "stderr",
          "text": [
            "Epoch [310/3000]: 100%|██████████| 10/10 [00:00<00:00, 83.36it/s]\n"
          ]
        },
        {
          "output_type": "stream",
          "name": "stdout",
          "text": [
            "Epoch [310/3000]: Train loss: 0.9074, Valid loss: 1.3526\n"
          ]
        },
        {
          "output_type": "stream",
          "name": "stderr",
          "text": [
            "Epoch [311/3000]: 100%|██████████| 10/10 [00:00<00:00, 78.20it/s]\n"
          ]
        },
        {
          "output_type": "stream",
          "name": "stdout",
          "text": [
            "Epoch [311/3000]: Train loss: 0.9274, Valid loss: 1.2717\n"
          ]
        },
        {
          "output_type": "stream",
          "name": "stderr",
          "text": [
            "Epoch [312/3000]: 100%|██████████| 10/10 [00:00<00:00, 73.22it/s]\n"
          ]
        },
        {
          "output_type": "stream",
          "name": "stdout",
          "text": [
            "Epoch [312/3000]: Train loss: 0.9048, Valid loss: 1.2717\n"
          ]
        },
        {
          "output_type": "stream",
          "name": "stderr",
          "text": [
            "Epoch [313/3000]: 100%|██████████| 10/10 [00:00<00:00, 83.67it/s]\n"
          ]
        },
        {
          "output_type": "stream",
          "name": "stdout",
          "text": [
            "Epoch [313/3000]: Train loss: 0.9437, Valid loss: 1.2747\n"
          ]
        },
        {
          "output_type": "stream",
          "name": "stderr",
          "text": [
            "Epoch [314/3000]: 100%|██████████| 10/10 [00:00<00:00, 81.00it/s]\n"
          ]
        },
        {
          "output_type": "stream",
          "name": "stdout",
          "text": [
            "Epoch [314/3000]: Train loss: 0.8998, Valid loss: 1.3899\n"
          ]
        },
        {
          "output_type": "stream",
          "name": "stderr",
          "text": [
            "Epoch [315/3000]: 100%|██████████| 10/10 [00:00<00:00, 83.40it/s]\n"
          ]
        },
        {
          "output_type": "stream",
          "name": "stdout",
          "text": [
            "Epoch [315/3000]: Train loss: 1.0397, Valid loss: 1.3521\n"
          ]
        },
        {
          "output_type": "stream",
          "name": "stderr",
          "text": [
            "Epoch [316/3000]: 100%|██████████| 10/10 [00:00<00:00, 82.08it/s]\n"
          ]
        },
        {
          "output_type": "stream",
          "name": "stdout",
          "text": [
            "Epoch [316/3000]: Train loss: 0.9741, Valid loss: 1.2535\n",
            "Saving model with loss 1.253...\n"
          ]
        },
        {
          "output_type": "stream",
          "name": "stderr",
          "text": [
            "Epoch [317/3000]: 100%|██████████| 10/10 [00:00<00:00, 80.77it/s]\n"
          ]
        },
        {
          "output_type": "stream",
          "name": "stdout",
          "text": [
            "Epoch [317/3000]: Train loss: 0.9071, Valid loss: 1.3043\n"
          ]
        },
        {
          "output_type": "stream",
          "name": "stderr",
          "text": [
            "Epoch [318/3000]: 100%|██████████| 10/10 [00:00<00:00, 78.72it/s]\n"
          ]
        },
        {
          "output_type": "stream",
          "name": "stdout",
          "text": [
            "Epoch [318/3000]: Train loss: 0.9312, Valid loss: 1.2942\n"
          ]
        },
        {
          "output_type": "stream",
          "name": "stderr",
          "text": [
            "Epoch [319/3000]: 100%|██████████| 10/10 [00:00<00:00, 74.91it/s]\n"
          ]
        },
        {
          "output_type": "stream",
          "name": "stdout",
          "text": [
            "Epoch [319/3000]: Train loss: 0.9410, Valid loss: 1.3461\n"
          ]
        },
        {
          "output_type": "stream",
          "name": "stderr",
          "text": [
            "Epoch [320/3000]: 100%|██████████| 10/10 [00:00<00:00, 84.97it/s]\n"
          ]
        },
        {
          "output_type": "stream",
          "name": "stdout",
          "text": [
            "Epoch [320/3000]: Train loss: 0.9006, Valid loss: 1.2991\n"
          ]
        },
        {
          "output_type": "stream",
          "name": "stderr",
          "text": [
            "Epoch [321/3000]: 100%|██████████| 10/10 [00:00<00:00, 83.42it/s]\n"
          ]
        },
        {
          "output_type": "stream",
          "name": "stdout",
          "text": [
            "Epoch [321/3000]: Train loss: 0.9296, Valid loss: 1.2870\n"
          ]
        },
        {
          "output_type": "stream",
          "name": "stderr",
          "text": [
            "Epoch [322/3000]: 100%|██████████| 10/10 [00:00<00:00, 82.30it/s]\n"
          ]
        },
        {
          "output_type": "stream",
          "name": "stdout",
          "text": [
            "Epoch [322/3000]: Train loss: 0.9032, Valid loss: 1.2602\n"
          ]
        },
        {
          "output_type": "stream",
          "name": "stderr",
          "text": [
            "Epoch [323/3000]: 100%|██████████| 10/10 [00:00<00:00, 84.36it/s]\n"
          ]
        },
        {
          "output_type": "stream",
          "name": "stdout",
          "text": [
            "Epoch [323/3000]: Train loss: 0.8998, Valid loss: 1.2739\n"
          ]
        },
        {
          "output_type": "stream",
          "name": "stderr",
          "text": [
            "Epoch [324/3000]: 100%|██████████| 10/10 [00:00<00:00, 79.90it/s]\n"
          ]
        },
        {
          "output_type": "stream",
          "name": "stdout",
          "text": [
            "Epoch [324/3000]: Train loss: 0.9195, Valid loss: 1.3172\n"
          ]
        },
        {
          "output_type": "stream",
          "name": "stderr",
          "text": [
            "Epoch [325/3000]: 100%|██████████| 10/10 [00:00<00:00, 81.52it/s]\n"
          ]
        },
        {
          "output_type": "stream",
          "name": "stdout",
          "text": [
            "Epoch [325/3000]: Train loss: 0.9579, Valid loss: 1.3828\n"
          ]
        },
        {
          "output_type": "stream",
          "name": "stderr",
          "text": [
            "Epoch [326/3000]: 100%|██████████| 10/10 [00:00<00:00, 74.79it/s]\n"
          ]
        },
        {
          "output_type": "stream",
          "name": "stdout",
          "text": [
            "Epoch [326/3000]: Train loss: 0.9918, Valid loss: 1.3367\n"
          ]
        },
        {
          "output_type": "stream",
          "name": "stderr",
          "text": [
            "Epoch [327/3000]: 100%|██████████| 10/10 [00:00<00:00, 78.65it/s]\n"
          ]
        },
        {
          "output_type": "stream",
          "name": "stdout",
          "text": [
            "Epoch [327/3000]: Train loss: 0.9171, Valid loss: 1.3383\n"
          ]
        },
        {
          "output_type": "stream",
          "name": "stderr",
          "text": [
            "Epoch [328/3000]: 100%|██████████| 10/10 [00:00<00:00, 82.43it/s]\n"
          ]
        },
        {
          "output_type": "stream",
          "name": "stdout",
          "text": [
            "Epoch [328/3000]: Train loss: 0.9687, Valid loss: 1.2850\n"
          ]
        },
        {
          "output_type": "stream",
          "name": "stderr",
          "text": [
            "Epoch [329/3000]: 100%|██████████| 10/10 [00:00<00:00, 82.54it/s]\n"
          ]
        },
        {
          "output_type": "stream",
          "name": "stdout",
          "text": [
            "Epoch [329/3000]: Train loss: 0.8693, Valid loss: 1.3013\n"
          ]
        },
        {
          "output_type": "stream",
          "name": "stderr",
          "text": [
            "Epoch [330/3000]: 100%|██████████| 10/10 [00:00<00:00, 82.10it/s]\n"
          ]
        },
        {
          "output_type": "stream",
          "name": "stdout",
          "text": [
            "Epoch [330/3000]: Train loss: 0.9050, Valid loss: 1.2866\n"
          ]
        },
        {
          "output_type": "stream",
          "name": "stderr",
          "text": [
            "Epoch [331/3000]: 100%|██████████| 10/10 [00:00<00:00, 79.27it/s]\n"
          ]
        },
        {
          "output_type": "stream",
          "name": "stdout",
          "text": [
            "Epoch [331/3000]: Train loss: 0.9072, Valid loss: 1.2998\n"
          ]
        },
        {
          "output_type": "stream",
          "name": "stderr",
          "text": [
            "Epoch [332/3000]: 100%|██████████| 10/10 [00:00<00:00, 76.99it/s]\n"
          ]
        },
        {
          "output_type": "stream",
          "name": "stdout",
          "text": [
            "Epoch [332/3000]: Train loss: 0.8928, Valid loss: 1.2573\n"
          ]
        },
        {
          "output_type": "stream",
          "name": "stderr",
          "text": [
            "Epoch [333/3000]: 100%|██████████| 10/10 [00:00<00:00, 85.04it/s]\n"
          ]
        },
        {
          "output_type": "stream",
          "name": "stdout",
          "text": [
            "Epoch [333/3000]: Train loss: 0.9416, Valid loss: 1.2870\n"
          ]
        },
        {
          "output_type": "stream",
          "name": "stderr",
          "text": [
            "Epoch [334/3000]: 100%|██████████| 10/10 [00:00<00:00, 81.14it/s]\n"
          ]
        },
        {
          "output_type": "stream",
          "name": "stdout",
          "text": [
            "Epoch [334/3000]: Train loss: 0.9594, Valid loss: 1.2863\n"
          ]
        },
        {
          "output_type": "stream",
          "name": "stderr",
          "text": [
            "Epoch [335/3000]: 100%|██████████| 10/10 [00:00<00:00, 82.80it/s]\n"
          ]
        },
        {
          "output_type": "stream",
          "name": "stdout",
          "text": [
            "Epoch [335/3000]: Train loss: 0.9155, Valid loss: 1.2702\n"
          ]
        },
        {
          "output_type": "stream",
          "name": "stderr",
          "text": [
            "Epoch [336/3000]: 100%|██████████| 10/10 [00:00<00:00, 84.81it/s]\n"
          ]
        },
        {
          "output_type": "stream",
          "name": "stdout",
          "text": [
            "Epoch [336/3000]: Train loss: 0.9381, Valid loss: 1.6427\n"
          ]
        },
        {
          "output_type": "stream",
          "name": "stderr",
          "text": [
            "Epoch [337/3000]: 100%|██████████| 10/10 [00:00<00:00, 78.45it/s]\n"
          ]
        },
        {
          "output_type": "stream",
          "name": "stdout",
          "text": [
            "Epoch [337/3000]: Train loss: 1.0752, Valid loss: 1.7070\n"
          ]
        },
        {
          "output_type": "stream",
          "name": "stderr",
          "text": [
            "Epoch [338/3000]: 100%|██████████| 10/10 [00:00<00:00, 86.25it/s]\n"
          ]
        },
        {
          "output_type": "stream",
          "name": "stdout",
          "text": [
            "Epoch [338/3000]: Train loss: 1.0199, Valid loss: 1.4809\n"
          ]
        },
        {
          "output_type": "stream",
          "name": "stderr",
          "text": [
            "Epoch [339/3000]: 100%|██████████| 10/10 [00:00<00:00, 78.52it/s]\n"
          ]
        },
        {
          "output_type": "stream",
          "name": "stdout",
          "text": [
            "Epoch [339/3000]: Train loss: 0.9817, Valid loss: 1.3063\n"
          ]
        },
        {
          "output_type": "stream",
          "name": "stderr",
          "text": [
            "Epoch [340/3000]: 100%|██████████| 10/10 [00:00<00:00, 77.89it/s]\n"
          ]
        },
        {
          "output_type": "stream",
          "name": "stdout",
          "text": [
            "Epoch [340/3000]: Train loss: 0.9336, Valid loss: 1.3301\n"
          ]
        },
        {
          "output_type": "stream",
          "name": "stderr",
          "text": [
            "Epoch [341/3000]: 100%|██████████| 10/10 [00:00<00:00, 56.48it/s]\n"
          ]
        },
        {
          "output_type": "stream",
          "name": "stdout",
          "text": [
            "Epoch [341/3000]: Train loss: 0.8866, Valid loss: 1.3382\n"
          ]
        },
        {
          "output_type": "stream",
          "name": "stderr",
          "text": [
            "Epoch [342/3000]: 100%|██████████| 10/10 [00:00<00:00, 53.58it/s]\n"
          ]
        },
        {
          "output_type": "stream",
          "name": "stdout",
          "text": [
            "Epoch [342/3000]: Train loss: 0.9108, Valid loss: 1.2748\n"
          ]
        },
        {
          "output_type": "stream",
          "name": "stderr",
          "text": [
            "Epoch [343/3000]: 100%|██████████| 10/10 [00:00<00:00, 61.06it/s]\n"
          ]
        },
        {
          "output_type": "stream",
          "name": "stdout",
          "text": [
            "Epoch [343/3000]: Train loss: 0.8648, Valid loss: 1.2405\n",
            "Saving model with loss 1.241...\n"
          ]
        },
        {
          "output_type": "stream",
          "name": "stderr",
          "text": [
            "Epoch [344/3000]: 100%|██████████| 10/10 [00:00<00:00, 58.83it/s]\n"
          ]
        },
        {
          "output_type": "stream",
          "name": "stdout",
          "text": [
            "Epoch [344/3000]: Train loss: 0.8775, Valid loss: 1.2804\n"
          ]
        },
        {
          "output_type": "stream",
          "name": "stderr",
          "text": [
            "Epoch [345/3000]: 100%|██████████| 10/10 [00:00<00:00, 54.76it/s]\n"
          ]
        },
        {
          "output_type": "stream",
          "name": "stdout",
          "text": [
            "Epoch [345/3000]: Train loss: 0.9211, Valid loss: 1.3506\n"
          ]
        },
        {
          "output_type": "stream",
          "name": "stderr",
          "text": [
            "Epoch [346/3000]: 100%|██████████| 10/10 [00:00<00:00, 55.66it/s]\n"
          ]
        },
        {
          "output_type": "stream",
          "name": "stdout",
          "text": [
            "Epoch [346/3000]: Train loss: 0.9641, Valid loss: 1.2991\n"
          ]
        },
        {
          "output_type": "stream",
          "name": "stderr",
          "text": [
            "Epoch [347/3000]: 100%|██████████| 10/10 [00:00<00:00, 57.57it/s]\n"
          ]
        },
        {
          "output_type": "stream",
          "name": "stdout",
          "text": [
            "Epoch [347/3000]: Train loss: 0.8759, Valid loss: 1.2634\n"
          ]
        },
        {
          "output_type": "stream",
          "name": "stderr",
          "text": [
            "Epoch [348/3000]: 100%|██████████| 10/10 [00:00<00:00, 58.44it/s]\n"
          ]
        },
        {
          "output_type": "stream",
          "name": "stdout",
          "text": [
            "Epoch [348/3000]: Train loss: 0.8517, Valid loss: 1.2812\n"
          ]
        },
        {
          "output_type": "stream",
          "name": "stderr",
          "text": [
            "Epoch [349/3000]: 100%|██████████| 10/10 [00:00<00:00, 60.92it/s]\n"
          ]
        },
        {
          "output_type": "stream",
          "name": "stdout",
          "text": [
            "Epoch [349/3000]: Train loss: 0.9146, Valid loss: 1.3225\n"
          ]
        },
        {
          "output_type": "stream",
          "name": "stderr",
          "text": [
            "Epoch [350/3000]: 100%|██████████| 10/10 [00:00<00:00, 57.55it/s]\n"
          ]
        },
        {
          "output_type": "stream",
          "name": "stdout",
          "text": [
            "Epoch [350/3000]: Train loss: 0.8980, Valid loss: 1.2475\n"
          ]
        },
        {
          "output_type": "stream",
          "name": "stderr",
          "text": [
            "Epoch [351/3000]: 100%|██████████| 10/10 [00:00<00:00, 60.87it/s]\n"
          ]
        },
        {
          "output_type": "stream",
          "name": "stdout",
          "text": [
            "Epoch [351/3000]: Train loss: 0.8966, Valid loss: 1.2680\n"
          ]
        },
        {
          "output_type": "stream",
          "name": "stderr",
          "text": [
            "Epoch [352/3000]: 100%|██████████| 10/10 [00:00<00:00, 54.96it/s]\n"
          ]
        },
        {
          "output_type": "stream",
          "name": "stdout",
          "text": [
            "Epoch [352/3000]: Train loss: 0.8704, Valid loss: 1.3816\n"
          ]
        },
        {
          "output_type": "stream",
          "name": "stderr",
          "text": [
            "Epoch [353/3000]: 100%|██████████| 10/10 [00:00<00:00, 59.75it/s]"
          ]
        },
        {
          "output_type": "stream",
          "name": "stdout",
          "text": [
            "Epoch [353/3000]: Train loss: 0.9592, Valid loss: 1.2815"
          ]
        },
        {
          "output_type": "stream",
          "name": "stderr",
          "text": [
            "\n"
          ]
        },
        {
          "output_type": "stream",
          "name": "stdout",
          "text": [
            "\n"
          ]
        },
        {
          "output_type": "stream",
          "name": "stderr",
          "text": [
            "Epoch [354/3000]: 100%|██████████| 10/10 [00:00<00:00, 54.69it/s]\n"
          ]
        },
        {
          "output_type": "stream",
          "name": "stdout",
          "text": [
            "Epoch [354/3000]: Train loss: 0.9838, Valid loss: 1.3012\n"
          ]
        },
        {
          "output_type": "stream",
          "name": "stderr",
          "text": [
            "Epoch [355/3000]: 100%|██████████| 10/10 [00:00<00:00, 59.54it/s]\n"
          ]
        },
        {
          "output_type": "stream",
          "name": "stdout",
          "text": [
            "Epoch [355/3000]: Train loss: 1.0259, Valid loss: 1.3132\n"
          ]
        },
        {
          "output_type": "stream",
          "name": "stderr",
          "text": [
            "Epoch [356/3000]: 100%|██████████| 10/10 [00:00<00:00, 64.01it/s]\n"
          ]
        },
        {
          "output_type": "stream",
          "name": "stdout",
          "text": [
            "Epoch [356/3000]: Train loss: 0.9248, Valid loss: 1.2490\n"
          ]
        },
        {
          "output_type": "stream",
          "name": "stderr",
          "text": [
            "Epoch [357/3000]: 100%|██████████| 10/10 [00:00<00:00, 62.58it/s]\n"
          ]
        },
        {
          "output_type": "stream",
          "name": "stdout",
          "text": [
            "Epoch [357/3000]: Train loss: 0.8916, Valid loss: 1.2685\n"
          ]
        },
        {
          "output_type": "stream",
          "name": "stderr",
          "text": [
            "Epoch [358/3000]: 100%|██████████| 10/10 [00:00<00:00, 54.65it/s]\n"
          ]
        },
        {
          "output_type": "stream",
          "name": "stdout",
          "text": [
            "Epoch [358/3000]: Train loss: 0.8583, Valid loss: 1.2947\n"
          ]
        },
        {
          "output_type": "stream",
          "name": "stderr",
          "text": [
            "Epoch [359/3000]: 100%|██████████| 10/10 [00:00<00:00, 53.33it/s]\n"
          ]
        },
        {
          "output_type": "stream",
          "name": "stdout",
          "text": [
            "Epoch [359/3000]: Train loss: 0.8696, Valid loss: 1.2483\n"
          ]
        },
        {
          "output_type": "stream",
          "name": "stderr",
          "text": [
            "Epoch [360/3000]: 100%|██████████| 10/10 [00:00<00:00, 51.09it/s]\n"
          ]
        },
        {
          "output_type": "stream",
          "name": "stdout",
          "text": [
            "Epoch [360/3000]: Train loss: 0.8405, Valid loss: 1.2443\n"
          ]
        },
        {
          "output_type": "stream",
          "name": "stderr",
          "text": [
            "Epoch [361/3000]: 100%|██████████| 10/10 [00:00<00:00, 54.08it/s]\n"
          ]
        },
        {
          "output_type": "stream",
          "name": "stdout",
          "text": [
            "Epoch [361/3000]: Train loss: 0.8370, Valid loss: 1.2263\n",
            "Saving model with loss 1.226...\n"
          ]
        },
        {
          "output_type": "stream",
          "name": "stderr",
          "text": [
            "Epoch [362/3000]: 100%|██████████| 10/10 [00:00<00:00, 53.32it/s]\n"
          ]
        },
        {
          "output_type": "stream",
          "name": "stdout",
          "text": [
            "Epoch [362/3000]: Train loss: 0.8464, Valid loss: 1.2533\n"
          ]
        },
        {
          "output_type": "stream",
          "name": "stderr",
          "text": [
            "Epoch [363/3000]: 100%|██████████| 10/10 [00:00<00:00, 53.60it/s]\n"
          ]
        },
        {
          "output_type": "stream",
          "name": "stdout",
          "text": [
            "Epoch [363/3000]: Train loss: 0.8143, Valid loss: 1.2297\n"
          ]
        },
        {
          "output_type": "stream",
          "name": "stderr",
          "text": [
            "Epoch [364/3000]: 100%|██████████| 10/10 [00:00<00:00, 79.95it/s]\n"
          ]
        },
        {
          "output_type": "stream",
          "name": "stdout",
          "text": [
            "Epoch [364/3000]: Train loss: 0.8671, Valid loss: 1.3796\n"
          ]
        },
        {
          "output_type": "stream",
          "name": "stderr",
          "text": [
            "Epoch [365/3000]: 100%|██████████| 10/10 [00:00<00:00, 71.52it/s]\n"
          ]
        },
        {
          "output_type": "stream",
          "name": "stdout",
          "text": [
            "Epoch [365/3000]: Train loss: 0.8988, Valid loss: 1.2848\n"
          ]
        },
        {
          "output_type": "stream",
          "name": "stderr",
          "text": [
            "Epoch [366/3000]: 100%|██████████| 10/10 [00:00<00:00, 84.58it/s]\n"
          ]
        },
        {
          "output_type": "stream",
          "name": "stdout",
          "text": [
            "Epoch [366/3000]: Train loss: 0.8910, Valid loss: 1.2937\n"
          ]
        },
        {
          "output_type": "stream",
          "name": "stderr",
          "text": [
            "Epoch [367/3000]: 100%|██████████| 10/10 [00:00<00:00, 83.21it/s]\n"
          ]
        },
        {
          "output_type": "stream",
          "name": "stdout",
          "text": [
            "Epoch [367/3000]: Train loss: 0.8740, Valid loss: 1.2577\n"
          ]
        },
        {
          "output_type": "stream",
          "name": "stderr",
          "text": [
            "Epoch [368/3000]: 100%|██████████| 10/10 [00:00<00:00, 84.07it/s]\n"
          ]
        },
        {
          "output_type": "stream",
          "name": "stdout",
          "text": [
            "Epoch [368/3000]: Train loss: 0.8413, Valid loss: 1.2450\n"
          ]
        },
        {
          "output_type": "stream",
          "name": "stderr",
          "text": [
            "Epoch [369/3000]: 100%|██████████| 10/10 [00:00<00:00, 78.48it/s]\n"
          ]
        },
        {
          "output_type": "stream",
          "name": "stdout",
          "text": [
            "Epoch [369/3000]: Train loss: 0.8463, Valid loss: 1.2487\n"
          ]
        },
        {
          "output_type": "stream",
          "name": "stderr",
          "text": [
            "Epoch [370/3000]: 100%|██████████| 10/10 [00:00<00:00, 84.44it/s]\n"
          ]
        },
        {
          "output_type": "stream",
          "name": "stdout",
          "text": [
            "Epoch [370/3000]: Train loss: 0.8498, Valid loss: 1.2830\n"
          ]
        },
        {
          "output_type": "stream",
          "name": "stderr",
          "text": [
            "Epoch [371/3000]: 100%|██████████| 10/10 [00:00<00:00, 82.60it/s]\n"
          ]
        },
        {
          "output_type": "stream",
          "name": "stdout",
          "text": [
            "Epoch [371/3000]: Train loss: 0.8640, Valid loss: 1.2577\n"
          ]
        },
        {
          "output_type": "stream",
          "name": "stderr",
          "text": [
            "Epoch [372/3000]: 100%|██████████| 10/10 [00:00<00:00, 72.86it/s]\n"
          ]
        },
        {
          "output_type": "stream",
          "name": "stdout",
          "text": [
            "Epoch [372/3000]: Train loss: 0.8577, Valid loss: 1.2947\n"
          ]
        },
        {
          "output_type": "stream",
          "name": "stderr",
          "text": [
            "Epoch [373/3000]: 100%|██████████| 10/10 [00:00<00:00, 81.48it/s]\n"
          ]
        },
        {
          "output_type": "stream",
          "name": "stdout",
          "text": [
            "Epoch [373/3000]: Train loss: 0.8385, Valid loss: 1.2828\n"
          ]
        },
        {
          "output_type": "stream",
          "name": "stderr",
          "text": [
            "Epoch [374/3000]: 100%|██████████| 10/10 [00:00<00:00, 81.22it/s]\n"
          ]
        },
        {
          "output_type": "stream",
          "name": "stdout",
          "text": [
            "Epoch [374/3000]: Train loss: 0.8508, Valid loss: 1.2201\n",
            "Saving model with loss 1.220...\n"
          ]
        },
        {
          "output_type": "stream",
          "name": "stderr",
          "text": [
            "Epoch [375/3000]: 100%|██████████| 10/10 [00:00<00:00, 81.87it/s]\n"
          ]
        },
        {
          "output_type": "stream",
          "name": "stdout",
          "text": [
            "Epoch [375/3000]: Train loss: 0.8251, Valid loss: 1.2732\n"
          ]
        },
        {
          "output_type": "stream",
          "name": "stderr",
          "text": [
            "Epoch [376/3000]: 100%|██████████| 10/10 [00:00<00:00, 83.92it/s]\n"
          ]
        },
        {
          "output_type": "stream",
          "name": "stdout",
          "text": [
            "Epoch [376/3000]: Train loss: 0.9026, Valid loss: 1.3002\n"
          ]
        },
        {
          "output_type": "stream",
          "name": "stderr",
          "text": [
            "Epoch [377/3000]: 100%|██████████| 10/10 [00:00<00:00, 77.39it/s]\n"
          ]
        },
        {
          "output_type": "stream",
          "name": "stdout",
          "text": [
            "Epoch [377/3000]: Train loss: 0.8992, Valid loss: 1.2973\n"
          ]
        },
        {
          "output_type": "stream",
          "name": "stderr",
          "text": [
            "Epoch [378/3000]: 100%|██████████| 10/10 [00:00<00:00, 80.02it/s]\n"
          ]
        },
        {
          "output_type": "stream",
          "name": "stdout",
          "text": [
            "Epoch [378/3000]: Train loss: 0.8546, Valid loss: 1.2966\n"
          ]
        },
        {
          "output_type": "stream",
          "name": "stderr",
          "text": [
            "Epoch [379/3000]: 100%|██████████| 10/10 [00:00<00:00, 68.38it/s]\n"
          ]
        },
        {
          "output_type": "stream",
          "name": "stdout",
          "text": [
            "Epoch [379/3000]: Train loss: 0.8379, Valid loss: 1.2963\n"
          ]
        },
        {
          "output_type": "stream",
          "name": "stderr",
          "text": [
            "Epoch [380/3000]: 100%|██████████| 10/10 [00:00<00:00, 76.87it/s]\n"
          ]
        },
        {
          "output_type": "stream",
          "name": "stdout",
          "text": [
            "Epoch [380/3000]: Train loss: 0.8690, Valid loss: 1.2820\n"
          ]
        },
        {
          "output_type": "stream",
          "name": "stderr",
          "text": [
            "Epoch [381/3000]: 100%|██████████| 10/10 [00:00<00:00, 81.79it/s]\n"
          ]
        },
        {
          "output_type": "stream",
          "name": "stdout",
          "text": [
            "Epoch [381/3000]: Train loss: 0.8308, Valid loss: 1.2277\n"
          ]
        },
        {
          "output_type": "stream",
          "name": "stderr",
          "text": [
            "Epoch [382/3000]: 100%|██████████| 10/10 [00:00<00:00, 80.00it/s]\n"
          ]
        },
        {
          "output_type": "stream",
          "name": "stdout",
          "text": [
            "Epoch [382/3000]: Train loss: 0.8068, Valid loss: 1.2406\n"
          ]
        },
        {
          "output_type": "stream",
          "name": "stderr",
          "text": [
            "Epoch [383/3000]: 100%|██████████| 10/10 [00:00<00:00, 74.89it/s]\n"
          ]
        },
        {
          "output_type": "stream",
          "name": "stdout",
          "text": [
            "Epoch [383/3000]: Train loss: 0.7929, Valid loss: 1.2291\n"
          ]
        },
        {
          "output_type": "stream",
          "name": "stderr",
          "text": [
            "Epoch [384/3000]: 100%|██████████| 10/10 [00:00<00:00, 78.17it/s]\n"
          ]
        },
        {
          "output_type": "stream",
          "name": "stdout",
          "text": [
            "Epoch [384/3000]: Train loss: 0.8060, Valid loss: 1.2148\n",
            "Saving model with loss 1.215...\n"
          ]
        },
        {
          "output_type": "stream",
          "name": "stderr",
          "text": [
            "Epoch [385/3000]: 100%|██████████| 10/10 [00:00<00:00, 82.49it/s]\n"
          ]
        },
        {
          "output_type": "stream",
          "name": "stdout",
          "text": [
            "Epoch [385/3000]: Train loss: 0.7964, Valid loss: 1.2130\n",
            "Saving model with loss 1.213...\n"
          ]
        },
        {
          "output_type": "stream",
          "name": "stderr",
          "text": [
            "Epoch [386/3000]: 100%|██████████| 10/10 [00:00<00:00, 74.51it/s]\n"
          ]
        },
        {
          "output_type": "stream",
          "name": "stdout",
          "text": [
            "Epoch [386/3000]: Train loss: 0.8188, Valid loss: 1.2623\n"
          ]
        },
        {
          "output_type": "stream",
          "name": "stderr",
          "text": [
            "Epoch [387/3000]: 100%|██████████| 10/10 [00:00<00:00, 73.82it/s]\n"
          ]
        },
        {
          "output_type": "stream",
          "name": "stdout",
          "text": [
            "Epoch [387/3000]: Train loss: 0.8459, Valid loss: 1.2857\n"
          ]
        },
        {
          "output_type": "stream",
          "name": "stderr",
          "text": [
            "Epoch [388/3000]: 100%|██████████| 10/10 [00:00<00:00, 79.24it/s]\n"
          ]
        },
        {
          "output_type": "stream",
          "name": "stdout",
          "text": [
            "Epoch [388/3000]: Train loss: 0.8529, Valid loss: 1.2498\n"
          ]
        },
        {
          "output_type": "stream",
          "name": "stderr",
          "text": [
            "Epoch [389/3000]: 100%|██████████| 10/10 [00:00<00:00, 76.51it/s]\n"
          ]
        },
        {
          "output_type": "stream",
          "name": "stdout",
          "text": [
            "Epoch [389/3000]: Train loss: 0.8845, Valid loss: 1.2878\n"
          ]
        },
        {
          "output_type": "stream",
          "name": "stderr",
          "text": [
            "Epoch [390/3000]: 100%|██████████| 10/10 [00:00<00:00, 81.46it/s]\n"
          ]
        },
        {
          "output_type": "stream",
          "name": "stdout",
          "text": [
            "Epoch [390/3000]: Train loss: 0.8403, Valid loss: 1.3160\n"
          ]
        },
        {
          "output_type": "stream",
          "name": "stderr",
          "text": [
            "Epoch [391/3000]: 100%|██████████| 10/10 [00:00<00:00, 77.20it/s]\n"
          ]
        },
        {
          "output_type": "stream",
          "name": "stdout",
          "text": [
            "Epoch [391/3000]: Train loss: 0.8605, Valid loss: 1.2709\n"
          ]
        },
        {
          "output_type": "stream",
          "name": "stderr",
          "text": [
            "Epoch [392/3000]: 100%|██████████| 10/10 [00:00<00:00, 69.80it/s]\n"
          ]
        },
        {
          "output_type": "stream",
          "name": "stdout",
          "text": [
            "Epoch [392/3000]: Train loss: 0.8075, Valid loss: 1.2344\n"
          ]
        },
        {
          "output_type": "stream",
          "name": "stderr",
          "text": [
            "Epoch [393/3000]: 100%|██████████| 10/10 [00:00<00:00, 79.52it/s]\n"
          ]
        },
        {
          "output_type": "stream",
          "name": "stdout",
          "text": [
            "Epoch [393/3000]: Train loss: 0.8056, Valid loss: 1.2572\n"
          ]
        },
        {
          "output_type": "stream",
          "name": "stderr",
          "text": [
            "Epoch [394/3000]: 100%|██████████| 10/10 [00:00<00:00, 80.23it/s]\n"
          ]
        },
        {
          "output_type": "stream",
          "name": "stdout",
          "text": [
            "Epoch [394/3000]: Train loss: 0.8351, Valid loss: 1.2776\n"
          ]
        },
        {
          "output_type": "stream",
          "name": "stderr",
          "text": [
            "Epoch [395/3000]: 100%|██████████| 10/10 [00:00<00:00, 76.65it/s]\n"
          ]
        },
        {
          "output_type": "stream",
          "name": "stdout",
          "text": [
            "Epoch [395/3000]: Train loss: 0.9018, Valid loss: 1.2412\n"
          ]
        },
        {
          "output_type": "stream",
          "name": "stderr",
          "text": [
            "Epoch [396/3000]: 100%|██████████| 10/10 [00:00<00:00, 83.39it/s]\n"
          ]
        },
        {
          "output_type": "stream",
          "name": "stdout",
          "text": [
            "Epoch [396/3000]: Train loss: 0.9397, Valid loss: 1.3840\n"
          ]
        },
        {
          "output_type": "stream",
          "name": "stderr",
          "text": [
            "Epoch [397/3000]: 100%|██████████| 10/10 [00:00<00:00, 80.29it/s]\n"
          ]
        },
        {
          "output_type": "stream",
          "name": "stdout",
          "text": [
            "Epoch [397/3000]: Train loss: 0.9980, Valid loss: 1.2977\n"
          ]
        },
        {
          "output_type": "stream",
          "name": "stderr",
          "text": [
            "Epoch [398/3000]: 100%|██████████| 10/10 [00:00<00:00, 82.25it/s]\n"
          ]
        },
        {
          "output_type": "stream",
          "name": "stdout",
          "text": [
            "Epoch [398/3000]: Train loss: 0.8392, Valid loss: 1.3127\n"
          ]
        },
        {
          "output_type": "stream",
          "name": "stderr",
          "text": [
            "Epoch [399/3000]: 100%|██████████| 10/10 [00:00<00:00, 66.98it/s]\n"
          ]
        },
        {
          "output_type": "stream",
          "name": "stdout",
          "text": [
            "Epoch [399/3000]: Train loss: 0.9056, Valid loss: 1.2750\n"
          ]
        },
        {
          "output_type": "stream",
          "name": "stderr",
          "text": [
            "Epoch [400/3000]: 100%|██████████| 10/10 [00:00<00:00, 83.13it/s]\n"
          ]
        },
        {
          "output_type": "stream",
          "name": "stdout",
          "text": [
            "Epoch [400/3000]: Train loss: 0.8945, Valid loss: 1.2337\n"
          ]
        },
        {
          "output_type": "stream",
          "name": "stderr",
          "text": [
            "Epoch [401/3000]: 100%|██████████| 10/10 [00:00<00:00, 75.20it/s]\n"
          ]
        },
        {
          "output_type": "stream",
          "name": "stdout",
          "text": [
            "Epoch [401/3000]: Train loss: 0.8614, Valid loss: 1.2639\n"
          ]
        },
        {
          "output_type": "stream",
          "name": "stderr",
          "text": [
            "Epoch [402/3000]: 100%|██████████| 10/10 [00:00<00:00, 76.72it/s]\n"
          ]
        },
        {
          "output_type": "stream",
          "name": "stdout",
          "text": [
            "Epoch [402/3000]: Train loss: 0.8419, Valid loss: 1.2268\n"
          ]
        },
        {
          "output_type": "stream",
          "name": "stderr",
          "text": [
            "Epoch [403/3000]: 100%|██████████| 10/10 [00:00<00:00, 79.93it/s]\n"
          ]
        },
        {
          "output_type": "stream",
          "name": "stdout",
          "text": [
            "Epoch [403/3000]: Train loss: 0.7957, Valid loss: 1.2091\n",
            "Saving model with loss 1.209...\n"
          ]
        },
        {
          "output_type": "stream",
          "name": "stderr",
          "text": [
            "Epoch [404/3000]: 100%|██████████| 10/10 [00:00<00:00, 82.85it/s]\n"
          ]
        },
        {
          "output_type": "stream",
          "name": "stdout",
          "text": [
            "Epoch [404/3000]: Train loss: 0.8059, Valid loss: 1.2223\n"
          ]
        },
        {
          "output_type": "stream",
          "name": "stderr",
          "text": [
            "Epoch [405/3000]: 100%|██████████| 10/10 [00:00<00:00, 66.29it/s]\n"
          ]
        },
        {
          "output_type": "stream",
          "name": "stdout",
          "text": [
            "Epoch [405/3000]: Train loss: 0.7927, Valid loss: 1.2135\n"
          ]
        },
        {
          "output_type": "stream",
          "name": "stderr",
          "text": [
            "Epoch [406/3000]: 100%|██████████| 10/10 [00:00<00:00, 76.29it/s]\n"
          ]
        },
        {
          "output_type": "stream",
          "name": "stdout",
          "text": [
            "Epoch [406/3000]: Train loss: 0.7710, Valid loss: 1.2133\n"
          ]
        },
        {
          "output_type": "stream",
          "name": "stderr",
          "text": [
            "Epoch [407/3000]: 100%|██████████| 10/10 [00:00<00:00, 72.55it/s]\n"
          ]
        },
        {
          "output_type": "stream",
          "name": "stdout",
          "text": [
            "Epoch [407/3000]: Train loss: 0.7635, Valid loss: 1.2249\n"
          ]
        },
        {
          "output_type": "stream",
          "name": "stderr",
          "text": [
            "Epoch [408/3000]: 100%|██████████| 10/10 [00:00<00:00, 83.07it/s]\n"
          ]
        },
        {
          "output_type": "stream",
          "name": "stdout",
          "text": [
            "Epoch [408/3000]: Train loss: 0.8187, Valid loss: 1.2353\n"
          ]
        },
        {
          "output_type": "stream",
          "name": "stderr",
          "text": [
            "Epoch [409/3000]: 100%|██████████| 10/10 [00:00<00:00, 82.84it/s]\n"
          ]
        },
        {
          "output_type": "stream",
          "name": "stdout",
          "text": [
            "Epoch [409/3000]: Train loss: 0.8203, Valid loss: 1.1963\n",
            "Saving model with loss 1.196...\n"
          ]
        },
        {
          "output_type": "stream",
          "name": "stderr",
          "text": [
            "Epoch [410/3000]: 100%|██████████| 10/10 [00:00<00:00, 77.17it/s]\n"
          ]
        },
        {
          "output_type": "stream",
          "name": "stdout",
          "text": [
            "Epoch [410/3000]: Train loss: 0.7722, Valid loss: 1.2200\n"
          ]
        },
        {
          "output_type": "stream",
          "name": "stderr",
          "text": [
            "Epoch [411/3000]: 100%|██████████| 10/10 [00:00<00:00, 81.50it/s]\n"
          ]
        },
        {
          "output_type": "stream",
          "name": "stdout",
          "text": [
            "Epoch [411/3000]: Train loss: 0.7938, Valid loss: 1.2418\n"
          ]
        },
        {
          "output_type": "stream",
          "name": "stderr",
          "text": [
            "Epoch [412/3000]: 100%|██████████| 10/10 [00:00<00:00, 68.61it/s]\n"
          ]
        },
        {
          "output_type": "stream",
          "name": "stdout",
          "text": [
            "Epoch [412/3000]: Train loss: 0.8630, Valid loss: 1.2713\n"
          ]
        },
        {
          "output_type": "stream",
          "name": "stderr",
          "text": [
            "Epoch [413/3000]: 100%|██████████| 10/10 [00:00<00:00, 73.06it/s]\n"
          ]
        },
        {
          "output_type": "stream",
          "name": "stdout",
          "text": [
            "Epoch [413/3000]: Train loss: 0.9534, Valid loss: 1.2874\n"
          ]
        },
        {
          "output_type": "stream",
          "name": "stderr",
          "text": [
            "Epoch [414/3000]: 100%|██████████| 10/10 [00:00<00:00, 77.84it/s]\n"
          ]
        },
        {
          "output_type": "stream",
          "name": "stdout",
          "text": [
            "Epoch [414/3000]: Train loss: 0.9674, Valid loss: 1.2969\n"
          ]
        },
        {
          "output_type": "stream",
          "name": "stderr",
          "text": [
            "Epoch [415/3000]: 100%|██████████| 10/10 [00:00<00:00, 78.35it/s]\n"
          ]
        },
        {
          "output_type": "stream",
          "name": "stdout",
          "text": [
            "Epoch [415/3000]: Train loss: 0.8961, Valid loss: 1.2771\n"
          ]
        },
        {
          "output_type": "stream",
          "name": "stderr",
          "text": [
            "Epoch [416/3000]: 100%|██████████| 10/10 [00:00<00:00, 80.06it/s]\n"
          ]
        },
        {
          "output_type": "stream",
          "name": "stdout",
          "text": [
            "Epoch [416/3000]: Train loss: 0.8881, Valid loss: 1.2134\n"
          ]
        },
        {
          "output_type": "stream",
          "name": "stderr",
          "text": [
            "Epoch [417/3000]: 100%|██████████| 10/10 [00:00<00:00, 79.35it/s]\n"
          ]
        },
        {
          "output_type": "stream",
          "name": "stdout",
          "text": [
            "Epoch [417/3000]: Train loss: 0.7981, Valid loss: 1.2279\n"
          ]
        },
        {
          "output_type": "stream",
          "name": "stderr",
          "text": [
            "Epoch [418/3000]: 100%|██████████| 10/10 [00:00<00:00, 73.47it/s]\n"
          ]
        },
        {
          "output_type": "stream",
          "name": "stdout",
          "text": [
            "Epoch [418/3000]: Train loss: 0.7776, Valid loss: 1.3151\n"
          ]
        },
        {
          "output_type": "stream",
          "name": "stderr",
          "text": [
            "Epoch [419/3000]: 100%|██████████| 10/10 [00:00<00:00, 77.94it/s]\n"
          ]
        },
        {
          "output_type": "stream",
          "name": "stdout",
          "text": [
            "Epoch [419/3000]: Train loss: 0.9000, Valid loss: 1.2643\n"
          ]
        },
        {
          "output_type": "stream",
          "name": "stderr",
          "text": [
            "Epoch [420/3000]: 100%|██████████| 10/10 [00:00<00:00, 80.63it/s]\n"
          ]
        },
        {
          "output_type": "stream",
          "name": "stdout",
          "text": [
            "Epoch [420/3000]: Train loss: 0.9026, Valid loss: 1.4386\n"
          ]
        },
        {
          "output_type": "stream",
          "name": "stderr",
          "text": [
            "Epoch [421/3000]: 100%|██████████| 10/10 [00:00<00:00, 75.74it/s]\n"
          ]
        },
        {
          "output_type": "stream",
          "name": "stdout",
          "text": [
            "Epoch [421/3000]: Train loss: 0.9911, Valid loss: 1.4830\n"
          ]
        },
        {
          "output_type": "stream",
          "name": "stderr",
          "text": [
            "Epoch [422/3000]: 100%|██████████| 10/10 [00:00<00:00, 81.40it/s]\n"
          ]
        },
        {
          "output_type": "stream",
          "name": "stdout",
          "text": [
            "Epoch [422/3000]: Train loss: 0.9996, Valid loss: 1.3921\n"
          ]
        },
        {
          "output_type": "stream",
          "name": "stderr",
          "text": [
            "Epoch [423/3000]: 100%|██████████| 10/10 [00:00<00:00, 77.37it/s]\n"
          ]
        },
        {
          "output_type": "stream",
          "name": "stdout",
          "text": [
            "Epoch [423/3000]: Train loss: 0.9075, Valid loss: 1.2736\n"
          ]
        },
        {
          "output_type": "stream",
          "name": "stderr",
          "text": [
            "Epoch [424/3000]: 100%|██████████| 10/10 [00:00<00:00, 77.40it/s]\n"
          ]
        },
        {
          "output_type": "stream",
          "name": "stdout",
          "text": [
            "Epoch [424/3000]: Train loss: 0.8358, Valid loss: 1.2955\n"
          ]
        },
        {
          "output_type": "stream",
          "name": "stderr",
          "text": [
            "Epoch [425/3000]: 100%|██████████| 10/10 [00:00<00:00, 66.84it/s]\n"
          ]
        },
        {
          "output_type": "stream",
          "name": "stdout",
          "text": [
            "Epoch [425/3000]: Train loss: 0.8208, Valid loss: 1.2941\n"
          ]
        },
        {
          "output_type": "stream",
          "name": "stderr",
          "text": [
            "Epoch [426/3000]: 100%|██████████| 10/10 [00:00<00:00, 79.18it/s]\n"
          ]
        },
        {
          "output_type": "stream",
          "name": "stdout",
          "text": [
            "Epoch [426/3000]: Train loss: 0.8624, Valid loss: 1.2091\n"
          ]
        },
        {
          "output_type": "stream",
          "name": "stderr",
          "text": [
            "Epoch [427/3000]: 100%|██████████| 10/10 [00:00<00:00, 55.14it/s]\n"
          ]
        },
        {
          "output_type": "stream",
          "name": "stdout",
          "text": [
            "Epoch [427/3000]: Train loss: 0.8019, Valid loss: 1.2767\n"
          ]
        },
        {
          "output_type": "stream",
          "name": "stderr",
          "text": [
            "Epoch [428/3000]: 100%|██████████| 10/10 [00:00<00:00, 56.18it/s]\n"
          ]
        },
        {
          "output_type": "stream",
          "name": "stdout",
          "text": [
            "Epoch [428/3000]: Train loss: 0.8296, Valid loss: 1.2376\n"
          ]
        },
        {
          "output_type": "stream",
          "name": "stderr",
          "text": [
            "Epoch [429/3000]: 100%|██████████| 10/10 [00:00<00:00, 53.42it/s]\n"
          ]
        },
        {
          "output_type": "stream",
          "name": "stdout",
          "text": [
            "Epoch [429/3000]: Train loss: 0.8564, Valid loss: 1.2747\n"
          ]
        },
        {
          "output_type": "stream",
          "name": "stderr",
          "text": [
            "Epoch [430/3000]: 100%|██████████| 10/10 [00:00<00:00, 47.88it/s]\n"
          ]
        },
        {
          "output_type": "stream",
          "name": "stdout",
          "text": [
            "Epoch [430/3000]: Train loss: 0.7827, Valid loss: 1.2468\n"
          ]
        },
        {
          "output_type": "stream",
          "name": "stderr",
          "text": [
            "Epoch [431/3000]: 100%|██████████| 10/10 [00:00<00:00, 60.16it/s]\n"
          ]
        },
        {
          "output_type": "stream",
          "name": "stdout",
          "text": [
            "Epoch [431/3000]: Train loss: 0.7867, Valid loss: 1.1875\n",
            "Saving model with loss 1.188...\n"
          ]
        },
        {
          "output_type": "stream",
          "name": "stderr",
          "text": [
            "Epoch [432/3000]: 100%|██████████| 10/10 [00:00<00:00, 52.96it/s]\n"
          ]
        },
        {
          "output_type": "stream",
          "name": "stdout",
          "text": [
            "Epoch [432/3000]: Train loss: 0.7548, Valid loss: 1.2235\n"
          ]
        },
        {
          "output_type": "stream",
          "name": "stderr",
          "text": [
            "Epoch [433/3000]: 100%|██████████| 10/10 [00:00<00:00, 60.29it/s]\n"
          ]
        },
        {
          "output_type": "stream",
          "name": "stdout",
          "text": [
            "Epoch [433/3000]: Train loss: 0.8336, Valid loss: 1.2956\n"
          ]
        },
        {
          "output_type": "stream",
          "name": "stderr",
          "text": [
            "Epoch [434/3000]: 100%|██████████| 10/10 [00:00<00:00, 58.78it/s]"
          ]
        },
        {
          "output_type": "stream",
          "name": "stdout",
          "text": [
            "Epoch [434/3000]: Train loss: 0.8682, Valid loss: 1.3435"
          ]
        },
        {
          "output_type": "stream",
          "name": "stderr",
          "text": [
            "\n"
          ]
        },
        {
          "output_type": "stream",
          "name": "stdout",
          "text": [
            "\n"
          ]
        },
        {
          "output_type": "stream",
          "name": "stderr",
          "text": [
            "Epoch [435/3000]: 100%|██████████| 10/10 [00:00<00:00, 52.92it/s]\n"
          ]
        },
        {
          "output_type": "stream",
          "name": "stdout",
          "text": [
            "Epoch [435/3000]: Train loss: 0.9480, Valid loss: 1.2774\n"
          ]
        },
        {
          "output_type": "stream",
          "name": "stderr",
          "text": [
            "Epoch [436/3000]: 100%|██████████| 10/10 [00:00<00:00, 63.79it/s]\n"
          ]
        },
        {
          "output_type": "stream",
          "name": "stdout",
          "text": [
            "Epoch [436/3000]: Train loss: 0.8640, Valid loss: 1.2426\n"
          ]
        },
        {
          "output_type": "stream",
          "name": "stderr",
          "text": [
            "Epoch [437/3000]: 100%|██████████| 10/10 [00:00<00:00, 61.41it/s]\n"
          ]
        },
        {
          "output_type": "stream",
          "name": "stdout",
          "text": [
            "Epoch [437/3000]: Train loss: 0.8643, Valid loss: 1.1874\n",
            "Saving model with loss 1.187...\n"
          ]
        },
        {
          "output_type": "stream",
          "name": "stderr",
          "text": [
            "Epoch [438/3000]: 100%|██████████| 10/10 [00:00<00:00, 58.60it/s]\n"
          ]
        },
        {
          "output_type": "stream",
          "name": "stdout",
          "text": [
            "Epoch [438/3000]: Train loss: 0.7525, Valid loss: 1.1971\n"
          ]
        },
        {
          "output_type": "stream",
          "name": "stderr",
          "text": [
            "Epoch [439/3000]: 100%|██████████| 10/10 [00:00<00:00, 55.25it/s]\n"
          ]
        },
        {
          "output_type": "stream",
          "name": "stdout",
          "text": [
            "Epoch [439/3000]: Train loss: 0.7624, Valid loss: 1.2163\n"
          ]
        },
        {
          "output_type": "stream",
          "name": "stderr",
          "text": [
            "Epoch [440/3000]: 100%|██████████| 10/10 [00:00<00:00, 57.38it/s]\n"
          ]
        },
        {
          "output_type": "stream",
          "name": "stdout",
          "text": [
            "Epoch [440/3000]: Train loss: 0.7514, Valid loss: 1.2099\n"
          ]
        },
        {
          "output_type": "stream",
          "name": "stderr",
          "text": [
            "Epoch [441/3000]: 100%|██████████| 10/10 [00:00<00:00, 58.06it/s]\n"
          ]
        },
        {
          "output_type": "stream",
          "name": "stdout",
          "text": [
            "Epoch [441/3000]: Train loss: 0.8406, Valid loss: 1.2685\n"
          ]
        },
        {
          "output_type": "stream",
          "name": "stderr",
          "text": [
            "Epoch [442/3000]: 100%|██████████| 10/10 [00:00<00:00, 56.68it/s]\n"
          ]
        },
        {
          "output_type": "stream",
          "name": "stdout",
          "text": [
            "Epoch [442/3000]: Train loss: 0.8298, Valid loss: 1.3202\n"
          ]
        },
        {
          "output_type": "stream",
          "name": "stderr",
          "text": [
            "Epoch [443/3000]: 100%|██████████| 10/10 [00:00<00:00, 57.38it/s]\n"
          ]
        },
        {
          "output_type": "stream",
          "name": "stdout",
          "text": [
            "Epoch [443/3000]: Train loss: 0.8142, Valid loss: 1.2240\n"
          ]
        },
        {
          "output_type": "stream",
          "name": "stderr",
          "text": [
            "Epoch [444/3000]: 100%|██████████| 10/10 [00:00<00:00, 56.21it/s]\n"
          ]
        },
        {
          "output_type": "stream",
          "name": "stdout",
          "text": [
            "Epoch [444/3000]: Train loss: 0.7614, Valid loss: 1.2238\n"
          ]
        },
        {
          "output_type": "stream",
          "name": "stderr",
          "text": [
            "Epoch [445/3000]: 100%|██████████| 10/10 [00:00<00:00, 54.66it/s]\n"
          ]
        },
        {
          "output_type": "stream",
          "name": "stdout",
          "text": [
            "Epoch [445/3000]: Train loss: 0.7482, Valid loss: 1.2491\n"
          ]
        },
        {
          "output_type": "stream",
          "name": "stderr",
          "text": [
            "Epoch [446/3000]: 100%|██████████| 10/10 [00:00<00:00, 54.87it/s]\n"
          ]
        },
        {
          "output_type": "stream",
          "name": "stdout",
          "text": [
            "Epoch [446/3000]: Train loss: 0.7596, Valid loss: 1.1858\n",
            "Saving model with loss 1.186...\n"
          ]
        },
        {
          "output_type": "stream",
          "name": "stderr",
          "text": [
            "Epoch [447/3000]: 100%|██████████| 10/10 [00:00<00:00, 50.60it/s]\n"
          ]
        },
        {
          "output_type": "stream",
          "name": "stdout",
          "text": [
            "Epoch [447/3000]: Train loss: 0.7758, Valid loss: 1.2348\n"
          ]
        },
        {
          "output_type": "stream",
          "name": "stderr",
          "text": [
            "Epoch [448/3000]: 100%|██████████| 10/10 [00:00<00:00, 59.18it/s]\n"
          ]
        },
        {
          "output_type": "stream",
          "name": "stdout",
          "text": [
            "Epoch [448/3000]: Train loss: 0.7769, Valid loss: 1.2040\n"
          ]
        },
        {
          "output_type": "stream",
          "name": "stderr",
          "text": [
            "Epoch [449/3000]: 100%|██████████| 10/10 [00:00<00:00, 51.56it/s]\n"
          ]
        },
        {
          "output_type": "stream",
          "name": "stdout",
          "text": [
            "Epoch [449/3000]: Train loss: 0.7366, Valid loss: 1.2801\n"
          ]
        },
        {
          "output_type": "stream",
          "name": "stderr",
          "text": [
            "Epoch [450/3000]: 100%|██████████| 10/10 [00:00<00:00, 47.63it/s]\n"
          ]
        },
        {
          "output_type": "stream",
          "name": "stdout",
          "text": [
            "Epoch [450/3000]: Train loss: 0.8374, Valid loss: 1.2540\n"
          ]
        },
        {
          "output_type": "stream",
          "name": "stderr",
          "text": [
            "Epoch [451/3000]: 100%|██████████| 10/10 [00:00<00:00, 50.72it/s]\n"
          ]
        },
        {
          "output_type": "stream",
          "name": "stdout",
          "text": [
            "Epoch [451/3000]: Train loss: 0.7874, Valid loss: 1.1989\n"
          ]
        },
        {
          "output_type": "stream",
          "name": "stderr",
          "text": [
            "Epoch [452/3000]: 100%|██████████| 10/10 [00:00<00:00, 77.11it/s]\n"
          ]
        },
        {
          "output_type": "stream",
          "name": "stdout",
          "text": [
            "Epoch [452/3000]: Train loss: 0.8003, Valid loss: 1.2129\n"
          ]
        },
        {
          "output_type": "stream",
          "name": "stderr",
          "text": [
            "Epoch [453/3000]: 100%|██████████| 10/10 [00:00<00:00, 76.51it/s]\n"
          ]
        },
        {
          "output_type": "stream",
          "name": "stdout",
          "text": [
            "Epoch [453/3000]: Train loss: 0.7720, Valid loss: 1.2411\n"
          ]
        },
        {
          "output_type": "stream",
          "name": "stderr",
          "text": [
            "Epoch [454/3000]: 100%|██████████| 10/10 [00:00<00:00, 79.96it/s]\n"
          ]
        },
        {
          "output_type": "stream",
          "name": "stdout",
          "text": [
            "Epoch [454/3000]: Train loss: 0.8072, Valid loss: 1.1834\n",
            "Saving model with loss 1.183...\n"
          ]
        },
        {
          "output_type": "stream",
          "name": "stderr",
          "text": [
            "Epoch [455/3000]: 100%|██████████| 10/10 [00:00<00:00, 78.57it/s]\n"
          ]
        },
        {
          "output_type": "stream",
          "name": "stdout",
          "text": [
            "Epoch [455/3000]: Train loss: 0.7623, Valid loss: 1.2121\n"
          ]
        },
        {
          "output_type": "stream",
          "name": "stderr",
          "text": [
            "Epoch [456/3000]: 100%|██████████| 10/10 [00:00<00:00, 67.04it/s]\n"
          ]
        },
        {
          "output_type": "stream",
          "name": "stdout",
          "text": [
            "Epoch [456/3000]: Train loss: 0.7841, Valid loss: 1.2675\n"
          ]
        },
        {
          "output_type": "stream",
          "name": "stderr",
          "text": [
            "Epoch [457/3000]: 100%|██████████| 10/10 [00:00<00:00, 73.23it/s]\n"
          ]
        },
        {
          "output_type": "stream",
          "name": "stdout",
          "text": [
            "Epoch [457/3000]: Train loss: 0.7542, Valid loss: 1.1899\n"
          ]
        },
        {
          "output_type": "stream",
          "name": "stderr",
          "text": [
            "Epoch [458/3000]: 100%|██████████| 10/10 [00:00<00:00, 72.18it/s]\n"
          ]
        },
        {
          "output_type": "stream",
          "name": "stdout",
          "text": [
            "Epoch [458/3000]: Train loss: 0.7432, Valid loss: 1.2414\n"
          ]
        },
        {
          "output_type": "stream",
          "name": "stderr",
          "text": [
            "Epoch [459/3000]: 100%|██████████| 10/10 [00:00<00:00, 76.55it/s]\n"
          ]
        },
        {
          "output_type": "stream",
          "name": "stdout",
          "text": [
            "Epoch [459/3000]: Train loss: 0.7545, Valid loss: 1.2327\n"
          ]
        },
        {
          "output_type": "stream",
          "name": "stderr",
          "text": [
            "Epoch [460/3000]: 100%|██████████| 10/10 [00:00<00:00, 78.39it/s]\n"
          ]
        },
        {
          "output_type": "stream",
          "name": "stdout",
          "text": [
            "Epoch [460/3000]: Train loss: 0.8479, Valid loss: 1.2500\n"
          ]
        },
        {
          "output_type": "stream",
          "name": "stderr",
          "text": [
            "Epoch [461/3000]: 100%|██████████| 10/10 [00:00<00:00, 75.62it/s]\n"
          ]
        },
        {
          "output_type": "stream",
          "name": "stdout",
          "text": [
            "Epoch [461/3000]: Train loss: 0.7702, Valid loss: 1.2258\n"
          ]
        },
        {
          "output_type": "stream",
          "name": "stderr",
          "text": [
            "Epoch [462/3000]: 100%|██████████| 10/10 [00:00<00:00, 78.63it/s]\n"
          ]
        },
        {
          "output_type": "stream",
          "name": "stdout",
          "text": [
            "Epoch [462/3000]: Train loss: 0.7559, Valid loss: 1.2371\n"
          ]
        },
        {
          "output_type": "stream",
          "name": "stderr",
          "text": [
            "Epoch [463/3000]: 100%|██████████| 10/10 [00:00<00:00, 76.06it/s]\n"
          ]
        },
        {
          "output_type": "stream",
          "name": "stdout",
          "text": [
            "Epoch [463/3000]: Train loss: 0.7414, Valid loss: 1.2189\n"
          ]
        },
        {
          "output_type": "stream",
          "name": "stderr",
          "text": [
            "Epoch [464/3000]: 100%|██████████| 10/10 [00:00<00:00, 74.92it/s]\n"
          ]
        },
        {
          "output_type": "stream",
          "name": "stdout",
          "text": [
            "Epoch [464/3000]: Train loss: 0.8025, Valid loss: 1.2565\n"
          ]
        },
        {
          "output_type": "stream",
          "name": "stderr",
          "text": [
            "Epoch [465/3000]: 100%|██████████| 10/10 [00:00<00:00, 75.67it/s]\n"
          ]
        },
        {
          "output_type": "stream",
          "name": "stdout",
          "text": [
            "Epoch [465/3000]: Train loss: 0.8036, Valid loss: 1.1994\n"
          ]
        },
        {
          "output_type": "stream",
          "name": "stderr",
          "text": [
            "Epoch [466/3000]: 100%|██████████| 10/10 [00:00<00:00, 78.61it/s]\n"
          ]
        },
        {
          "output_type": "stream",
          "name": "stdout",
          "text": [
            "Epoch [466/3000]: Train loss: 0.7906, Valid loss: 1.3264\n"
          ]
        },
        {
          "output_type": "stream",
          "name": "stderr",
          "text": [
            "Epoch [467/3000]: 100%|██████████| 10/10 [00:00<00:00, 76.18it/s]\n"
          ]
        },
        {
          "output_type": "stream",
          "name": "stdout",
          "text": [
            "Epoch [467/3000]: Train loss: 0.7912, Valid loss: 1.2180\n"
          ]
        },
        {
          "output_type": "stream",
          "name": "stderr",
          "text": [
            "Epoch [468/3000]: 100%|██████████| 10/10 [00:00<00:00, 76.99it/s]\n"
          ]
        },
        {
          "output_type": "stream",
          "name": "stdout",
          "text": [
            "Epoch [468/3000]: Train loss: 0.7598, Valid loss: 1.2392\n"
          ]
        },
        {
          "output_type": "stream",
          "name": "stderr",
          "text": [
            "Epoch [469/3000]: 100%|██████████| 10/10 [00:00<00:00, 67.86it/s]\n"
          ]
        },
        {
          "output_type": "stream",
          "name": "stdout",
          "text": [
            "Epoch [469/3000]: Train loss: 0.8585, Valid loss: 1.2748\n"
          ]
        },
        {
          "output_type": "stream",
          "name": "stderr",
          "text": [
            "Epoch [470/3000]: 100%|██████████| 10/10 [00:00<00:00, 77.61it/s]\n"
          ]
        },
        {
          "output_type": "stream",
          "name": "stdout",
          "text": [
            "Epoch [470/3000]: Train loss: 0.8511, Valid loss: 1.3972\n"
          ]
        },
        {
          "output_type": "stream",
          "name": "stderr",
          "text": [
            "Epoch [471/3000]: 100%|██████████| 10/10 [00:00<00:00, 81.67it/s]\n"
          ]
        },
        {
          "output_type": "stream",
          "name": "stdout",
          "text": [
            "Epoch [471/3000]: Train loss: 0.9106, Valid loss: 1.4374\n"
          ]
        },
        {
          "output_type": "stream",
          "name": "stderr",
          "text": [
            "Epoch [472/3000]: 100%|██████████| 10/10 [00:00<00:00, 78.78it/s]\n"
          ]
        },
        {
          "output_type": "stream",
          "name": "stdout",
          "text": [
            "Epoch [472/3000]: Train loss: 0.8859, Valid loss: 1.3322\n"
          ]
        },
        {
          "output_type": "stream",
          "name": "stderr",
          "text": [
            "Epoch [473/3000]: 100%|██████████| 10/10 [00:00<00:00, 81.75it/s]\n"
          ]
        },
        {
          "output_type": "stream",
          "name": "stdout",
          "text": [
            "Epoch [473/3000]: Train loss: 0.9031, Valid loss: 1.2335\n"
          ]
        },
        {
          "output_type": "stream",
          "name": "stderr",
          "text": [
            "Epoch [474/3000]: 100%|██████████| 10/10 [00:00<00:00, 78.31it/s]\n"
          ]
        },
        {
          "output_type": "stream",
          "name": "stdout",
          "text": [
            "Epoch [474/3000]: Train loss: 0.8224, Valid loss: 1.2854\n"
          ]
        },
        {
          "output_type": "stream",
          "name": "stderr",
          "text": [
            "Epoch [475/3000]: 100%|██████████| 10/10 [00:00<00:00, 67.05it/s]\n"
          ]
        },
        {
          "output_type": "stream",
          "name": "stdout",
          "text": [
            "Epoch [475/3000]: Train loss: 0.8148, Valid loss: 1.2096\n"
          ]
        },
        {
          "output_type": "stream",
          "name": "stderr",
          "text": [
            "Epoch [476/3000]: 100%|██████████| 10/10 [00:00<00:00, 72.18it/s]\n"
          ]
        },
        {
          "output_type": "stream",
          "name": "stdout",
          "text": [
            "Epoch [476/3000]: Train loss: 0.7829, Valid loss: 1.1963\n"
          ]
        },
        {
          "output_type": "stream",
          "name": "stderr",
          "text": [
            "Epoch [477/3000]: 100%|██████████| 10/10 [00:00<00:00, 74.79it/s]\n"
          ]
        },
        {
          "output_type": "stream",
          "name": "stdout",
          "text": [
            "Epoch [477/3000]: Train loss: 0.8505, Valid loss: 1.3448\n"
          ]
        },
        {
          "output_type": "stream",
          "name": "stderr",
          "text": [
            "Epoch [478/3000]: 100%|██████████| 10/10 [00:00<00:00, 76.11it/s]\n"
          ]
        },
        {
          "output_type": "stream",
          "name": "stdout",
          "text": [
            "Epoch [478/3000]: Train loss: 0.7885, Valid loss: 1.2240\n"
          ]
        },
        {
          "output_type": "stream",
          "name": "stderr",
          "text": [
            "Epoch [479/3000]: 100%|██████████| 10/10 [00:00<00:00, 75.66it/s]\n"
          ]
        },
        {
          "output_type": "stream",
          "name": "stdout",
          "text": [
            "Epoch [479/3000]: Train loss: 0.7739, Valid loss: 1.1891\n"
          ]
        },
        {
          "output_type": "stream",
          "name": "stderr",
          "text": [
            "Epoch [480/3000]: 100%|██████████| 10/10 [00:00<00:00, 77.38it/s]\n"
          ]
        },
        {
          "output_type": "stream",
          "name": "stdout",
          "text": [
            "Epoch [480/3000]: Train loss: 0.7935, Valid loss: 1.2393\n"
          ]
        },
        {
          "output_type": "stream",
          "name": "stderr",
          "text": [
            "Epoch [481/3000]: 100%|██████████| 10/10 [00:00<00:00, 79.24it/s]\n"
          ]
        },
        {
          "output_type": "stream",
          "name": "stdout",
          "text": [
            "Epoch [481/3000]: Train loss: 0.7916, Valid loss: 1.2093\n"
          ]
        },
        {
          "output_type": "stream",
          "name": "stderr",
          "text": [
            "Epoch [482/3000]: 100%|██████████| 10/10 [00:00<00:00, 20.54it/s]\n"
          ]
        },
        {
          "output_type": "stream",
          "name": "stdout",
          "text": [
            "Epoch [482/3000]: Train loss: 0.8104, Valid loss: 1.2216\n"
          ]
        },
        {
          "output_type": "stream",
          "name": "stderr",
          "text": [
            "Epoch [483/3000]: 100%|██████████| 10/10 [00:00<00:00, 80.42it/s]\n"
          ]
        },
        {
          "output_type": "stream",
          "name": "stdout",
          "text": [
            "Epoch [483/3000]: Train loss: 0.7512, Valid loss: 1.2505\n"
          ]
        },
        {
          "output_type": "stream",
          "name": "stderr",
          "text": [
            "Epoch [484/3000]: 100%|██████████| 10/10 [00:00<00:00, 72.50it/s]\n"
          ]
        },
        {
          "output_type": "stream",
          "name": "stdout",
          "text": [
            "Epoch [484/3000]: Train loss: 0.7611, Valid loss: 1.2106\n"
          ]
        },
        {
          "output_type": "stream",
          "name": "stderr",
          "text": [
            "Epoch [485/3000]: 100%|██████████| 10/10 [00:00<00:00, 79.01it/s]\n"
          ]
        },
        {
          "output_type": "stream",
          "name": "stdout",
          "text": [
            "Epoch [485/3000]: Train loss: 0.7169, Valid loss: 1.1981\n"
          ]
        },
        {
          "output_type": "stream",
          "name": "stderr",
          "text": [
            "Epoch [486/3000]: 100%|██████████| 10/10 [00:00<00:00, 69.23it/s]\n"
          ]
        },
        {
          "output_type": "stream",
          "name": "stdout",
          "text": [
            "Epoch [486/3000]: Train loss: 0.7843, Valid loss: 1.2312\n"
          ]
        },
        {
          "output_type": "stream",
          "name": "stderr",
          "text": [
            "Epoch [487/3000]: 100%|██████████| 10/10 [00:00<00:00, 76.57it/s]\n"
          ]
        },
        {
          "output_type": "stream",
          "name": "stdout",
          "text": [
            "Epoch [487/3000]: Train loss: 0.7663, Valid loss: 1.2005\n"
          ]
        },
        {
          "output_type": "stream",
          "name": "stderr",
          "text": [
            "Epoch [488/3000]: 100%|██████████| 10/10 [00:00<00:00, 74.26it/s]\n"
          ]
        },
        {
          "output_type": "stream",
          "name": "stdout",
          "text": [
            "Epoch [488/3000]: Train loss: 0.7696, Valid loss: 1.2132\n"
          ]
        },
        {
          "output_type": "stream",
          "name": "stderr",
          "text": [
            "Epoch [489/3000]: 100%|██████████| 10/10 [00:00<00:00, 74.77it/s]\n"
          ]
        },
        {
          "output_type": "stream",
          "name": "stdout",
          "text": [
            "Epoch [489/3000]: Train loss: 0.7768, Valid loss: 1.2349\n"
          ]
        },
        {
          "output_type": "stream",
          "name": "stderr",
          "text": [
            "Epoch [490/3000]: 100%|██████████| 10/10 [00:00<00:00, 78.40it/s]\n"
          ]
        },
        {
          "output_type": "stream",
          "name": "stdout",
          "text": [
            "Epoch [490/3000]: Train loss: 0.7296, Valid loss: 1.2018\n"
          ]
        },
        {
          "output_type": "stream",
          "name": "stderr",
          "text": [
            "Epoch [491/3000]: 100%|██████████| 10/10 [00:00<00:00, 78.33it/s]\n"
          ]
        },
        {
          "output_type": "stream",
          "name": "stdout",
          "text": [
            "Epoch [491/3000]: Train loss: 0.7219, Valid loss: 1.1936\n"
          ]
        },
        {
          "output_type": "stream",
          "name": "stderr",
          "text": [
            "Epoch [492/3000]: 100%|██████████| 10/10 [00:00<00:00, 74.02it/s]\n"
          ]
        },
        {
          "output_type": "stream",
          "name": "stdout",
          "text": [
            "Epoch [492/3000]: Train loss: 0.7408, Valid loss: 1.2310\n"
          ]
        },
        {
          "output_type": "stream",
          "name": "stderr",
          "text": [
            "Epoch [493/3000]: 100%|██████████| 10/10 [00:00<00:00, 79.28it/s]\n"
          ]
        },
        {
          "output_type": "stream",
          "name": "stdout",
          "text": [
            "Epoch [493/3000]: Train loss: 0.7558, Valid loss: 1.2490\n"
          ]
        },
        {
          "output_type": "stream",
          "name": "stderr",
          "text": [
            "Epoch [494/3000]: 100%|██████████| 10/10 [00:00<00:00, 77.56it/s]\n"
          ]
        },
        {
          "output_type": "stream",
          "name": "stdout",
          "text": [
            "Epoch [494/3000]: Train loss: 0.8255, Valid loss: 1.2204\n"
          ]
        },
        {
          "output_type": "stream",
          "name": "stderr",
          "text": [
            "Epoch [495/3000]: 100%|██████████| 10/10 [00:00<00:00, 76.86it/s]\n"
          ]
        },
        {
          "output_type": "stream",
          "name": "stdout",
          "text": [
            "Epoch [495/3000]: Train loss: 0.7587, Valid loss: 1.2788\n"
          ]
        },
        {
          "output_type": "stream",
          "name": "stderr",
          "text": [
            "Epoch [496/3000]: 100%|██████████| 10/10 [00:00<00:00, 78.83it/s]\n"
          ]
        },
        {
          "output_type": "stream",
          "name": "stdout",
          "text": [
            "Epoch [496/3000]: Train loss: 0.8405, Valid loss: 1.1933\n"
          ]
        },
        {
          "output_type": "stream",
          "name": "stderr",
          "text": [
            "Epoch [497/3000]: 100%|██████████| 10/10 [00:00<00:00, 77.98it/s]\n"
          ]
        },
        {
          "output_type": "stream",
          "name": "stdout",
          "text": [
            "Epoch [497/3000]: Train loss: 0.8035, Valid loss: 1.3133\n"
          ]
        },
        {
          "output_type": "stream",
          "name": "stderr",
          "text": [
            "Epoch [498/3000]: 100%|██████████| 10/10 [00:00<00:00, 76.56it/s]\n"
          ]
        },
        {
          "output_type": "stream",
          "name": "stdout",
          "text": [
            "Epoch [498/3000]: Train loss: 0.8032, Valid loss: 1.2633\n"
          ]
        },
        {
          "output_type": "stream",
          "name": "stderr",
          "text": [
            "Epoch [499/3000]: 100%|██████████| 10/10 [00:00<00:00, 69.63it/s]\n"
          ]
        },
        {
          "output_type": "stream",
          "name": "stdout",
          "text": [
            "Epoch [499/3000]: Train loss: 0.7600, Valid loss: 1.2415\n"
          ]
        },
        {
          "output_type": "stream",
          "name": "stderr",
          "text": [
            "Epoch [500/3000]: 100%|██████████| 10/10 [00:00<00:00, 75.79it/s]\n"
          ]
        },
        {
          "output_type": "stream",
          "name": "stdout",
          "text": [
            "Epoch [500/3000]: Train loss: 0.7903, Valid loss: 1.2362\n"
          ]
        },
        {
          "output_type": "stream",
          "name": "stderr",
          "text": [
            "Epoch [501/3000]: 100%|██████████| 10/10 [00:00<00:00, 78.06it/s]\n"
          ]
        },
        {
          "output_type": "stream",
          "name": "stdout",
          "text": [
            "Epoch [501/3000]: Train loss: 0.7420, Valid loss: 1.2104\n"
          ]
        },
        {
          "output_type": "stream",
          "name": "stderr",
          "text": [
            "Epoch [502/3000]: 100%|██████████| 10/10 [00:00<00:00, 78.40it/s]\n"
          ]
        },
        {
          "output_type": "stream",
          "name": "stdout",
          "text": [
            "Epoch [502/3000]: Train loss: 0.7385, Valid loss: 1.1891\n"
          ]
        },
        {
          "output_type": "stream",
          "name": "stderr",
          "text": [
            "Epoch [503/3000]: 100%|██████████| 10/10 [00:00<00:00, 76.15it/s]\n"
          ]
        },
        {
          "output_type": "stream",
          "name": "stdout",
          "text": [
            "Epoch [503/3000]: Train loss: 0.6894, Valid loss: 1.1919\n"
          ]
        },
        {
          "output_type": "stream",
          "name": "stderr",
          "text": [
            "Epoch [504/3000]: 100%|██████████| 10/10 [00:00<00:00, 77.79it/s]\n"
          ]
        },
        {
          "output_type": "stream",
          "name": "stdout",
          "text": [
            "Epoch [504/3000]: Train loss: 0.7619, Valid loss: 1.2265\n"
          ]
        },
        {
          "output_type": "stream",
          "name": "stderr",
          "text": [
            "Epoch [505/3000]: 100%|██████████| 10/10 [00:00<00:00, 68.88it/s]\n"
          ]
        },
        {
          "output_type": "stream",
          "name": "stdout",
          "text": [
            "Epoch [505/3000]: Train loss: 0.7752, Valid loss: 1.1895\n"
          ]
        },
        {
          "output_type": "stream",
          "name": "stderr",
          "text": [
            "Epoch [506/3000]: 100%|██████████| 10/10 [00:00<00:00, 72.57it/s]\n"
          ]
        },
        {
          "output_type": "stream",
          "name": "stdout",
          "text": [
            "Epoch [506/3000]: Train loss: 0.8075, Valid loss: 1.3152\n"
          ]
        },
        {
          "output_type": "stream",
          "name": "stderr",
          "text": [
            "Epoch [507/3000]: 100%|██████████| 10/10 [00:00<00:00, 72.06it/s]\n"
          ]
        },
        {
          "output_type": "stream",
          "name": "stdout",
          "text": [
            "Epoch [507/3000]: Train loss: 0.8224, Valid loss: 1.4142\n"
          ]
        },
        {
          "output_type": "stream",
          "name": "stderr",
          "text": [
            "Epoch [508/3000]: 100%|██████████| 10/10 [00:00<00:00, 75.84it/s]\n"
          ]
        },
        {
          "output_type": "stream",
          "name": "stdout",
          "text": [
            "Epoch [508/3000]: Train loss: 0.9192, Valid loss: 1.3489\n"
          ]
        },
        {
          "output_type": "stream",
          "name": "stderr",
          "text": [
            "Epoch [509/3000]: 100%|██████████| 10/10 [00:00<00:00, 74.02it/s]\n"
          ]
        },
        {
          "output_type": "stream",
          "name": "stdout",
          "text": [
            "Epoch [509/3000]: Train loss: 0.7932, Valid loss: 1.1825\n",
            "Saving model with loss 1.182...\n"
          ]
        },
        {
          "output_type": "stream",
          "name": "stderr",
          "text": [
            "Epoch [510/3000]: 100%|██████████| 10/10 [00:00<00:00, 76.11it/s]\n"
          ]
        },
        {
          "output_type": "stream",
          "name": "stdout",
          "text": [
            "Epoch [510/3000]: Train loss: 0.7844, Valid loss: 1.1829\n"
          ]
        },
        {
          "output_type": "stream",
          "name": "stderr",
          "text": [
            "Epoch [511/3000]: 100%|██████████| 10/10 [00:00<00:00, 54.64it/s]\n"
          ]
        },
        {
          "output_type": "stream",
          "name": "stdout",
          "text": [
            "Epoch [511/3000]: Train loss: 0.7293, Valid loss: 1.2362\n"
          ]
        },
        {
          "output_type": "stream",
          "name": "stderr",
          "text": [
            "Epoch [512/3000]: 100%|██████████| 10/10 [00:00<00:00, 52.22it/s]\n"
          ]
        },
        {
          "output_type": "stream",
          "name": "stdout",
          "text": [
            "Epoch [512/3000]: Train loss: 0.7213, Valid loss: 1.1765\n",
            "Saving model with loss 1.176...\n"
          ]
        },
        {
          "output_type": "stream",
          "name": "stderr",
          "text": [
            "Epoch [513/3000]: 100%|██████████| 10/10 [00:00<00:00, 58.24it/s]\n"
          ]
        },
        {
          "output_type": "stream",
          "name": "stdout",
          "text": [
            "Epoch [513/3000]: Train loss: 0.7039, Valid loss: 1.2198\n"
          ]
        },
        {
          "output_type": "stream",
          "name": "stderr",
          "text": [
            "Epoch [514/3000]: 100%|██████████| 10/10 [00:00<00:00, 60.32it/s]"
          ]
        },
        {
          "output_type": "stream",
          "name": "stdout",
          "text": [
            "Epoch [514/3000]: Train loss: 0.7349, Valid loss: 1.2090"
          ]
        },
        {
          "output_type": "stream",
          "name": "stderr",
          "text": [
            "\n"
          ]
        },
        {
          "output_type": "stream",
          "name": "stdout",
          "text": [
            "\n"
          ]
        },
        {
          "output_type": "stream",
          "name": "stderr",
          "text": [
            "Epoch [515/3000]: 100%|██████████| 10/10 [00:00<00:00, 57.30it/s]\n"
          ]
        },
        {
          "output_type": "stream",
          "name": "stdout",
          "text": [
            "Epoch [515/3000]: Train loss: 0.7006, Valid loss: 1.1853\n"
          ]
        },
        {
          "output_type": "stream",
          "name": "stderr",
          "text": [
            "Epoch [516/3000]: 100%|██████████| 10/10 [00:00<00:00, 45.49it/s]\n"
          ]
        },
        {
          "output_type": "stream",
          "name": "stdout",
          "text": [
            "Epoch [516/3000]: Train loss: 0.7013, Valid loss: 1.3186\n"
          ]
        },
        {
          "output_type": "stream",
          "name": "stderr",
          "text": [
            "Epoch [517/3000]: 100%|██████████| 10/10 [00:00<00:00, 58.16it/s]\n"
          ]
        },
        {
          "output_type": "stream",
          "name": "stdout",
          "text": [
            "Epoch [517/3000]: Train loss: 0.7972, Valid loss: 1.1744\n",
            "Saving model with loss 1.174...\n"
          ]
        },
        {
          "output_type": "stream",
          "name": "stderr",
          "text": [
            "Epoch [518/3000]: 100%|██████████| 10/10 [00:00<00:00, 51.95it/s]\n"
          ]
        },
        {
          "output_type": "stream",
          "name": "stdout",
          "text": [
            "Epoch [518/3000]: Train loss: 0.7402, Valid loss: 1.1758\n"
          ]
        },
        {
          "output_type": "stream",
          "name": "stderr",
          "text": [
            "Epoch [519/3000]: 100%|██████████| 10/10 [00:00<00:00, 55.94it/s]\n"
          ]
        },
        {
          "output_type": "stream",
          "name": "stdout",
          "text": [
            "Epoch [519/3000]: Train loss: 0.6872, Valid loss: 1.2515\n"
          ]
        },
        {
          "output_type": "stream",
          "name": "stderr",
          "text": [
            "Epoch [520/3000]: 100%|██████████| 10/10 [00:00<00:00, 60.49it/s]\n"
          ]
        },
        {
          "output_type": "stream",
          "name": "stdout",
          "text": [
            "Epoch [520/3000]: Train loss: 0.8115, Valid loss: 1.2133\n"
          ]
        },
        {
          "output_type": "stream",
          "name": "stderr",
          "text": [
            "Epoch [521/3000]: 100%|██████████| 10/10 [00:00<00:00, 50.66it/s]\n"
          ]
        },
        {
          "output_type": "stream",
          "name": "stdout",
          "text": [
            "Epoch [521/3000]: Train loss: 0.7614, Valid loss: 1.2884\n"
          ]
        },
        {
          "output_type": "stream",
          "name": "stderr",
          "text": [
            "Epoch [522/3000]: 100%|██████████| 10/10 [00:00<00:00, 54.38it/s]\n"
          ]
        },
        {
          "output_type": "stream",
          "name": "stdout",
          "text": [
            "Epoch [522/3000]: Train loss: 0.7608, Valid loss: 1.1767\n"
          ]
        },
        {
          "output_type": "stream",
          "name": "stderr",
          "text": [
            "Epoch [523/3000]: 100%|██████████| 10/10 [00:00<00:00, 57.73it/s]\n"
          ]
        },
        {
          "output_type": "stream",
          "name": "stdout",
          "text": [
            "Epoch [523/3000]: Train loss: 0.6838, Valid loss: 1.1680\n",
            "Saving model with loss 1.168...\n"
          ]
        },
        {
          "output_type": "stream",
          "name": "stderr",
          "text": [
            "Epoch [524/3000]: 100%|██████████| 10/10 [00:00<00:00, 55.94it/s]\n"
          ]
        },
        {
          "output_type": "stream",
          "name": "stdout",
          "text": [
            "Epoch [524/3000]: Train loss: 0.6944, Valid loss: 1.1609\n",
            "Saving model with loss 1.161...\n"
          ]
        },
        {
          "output_type": "stream",
          "name": "stderr",
          "text": [
            "Epoch [525/3000]: 100%|██████████| 10/10 [00:00<00:00, 51.08it/s]\n"
          ]
        },
        {
          "output_type": "stream",
          "name": "stdout",
          "text": [
            "Epoch [525/3000]: Train loss: 0.7455, Valid loss: 1.1872\n"
          ]
        },
        {
          "output_type": "stream",
          "name": "stderr",
          "text": [
            "Epoch [526/3000]: 100%|██████████| 10/10 [00:00<00:00, 55.85it/s]\n"
          ]
        },
        {
          "output_type": "stream",
          "name": "stdout",
          "text": [
            "Epoch [526/3000]: Train loss: 0.8085, Valid loss: 1.1553\n",
            "Saving model with loss 1.155...\n"
          ]
        },
        {
          "output_type": "stream",
          "name": "stderr",
          "text": [
            "Epoch [527/3000]: 100%|██████████| 10/10 [00:00<00:00, 48.64it/s]\n"
          ]
        },
        {
          "output_type": "stream",
          "name": "stdout",
          "text": [
            "Epoch [527/3000]: Train loss: 0.7600, Valid loss: 1.1942\n"
          ]
        },
        {
          "output_type": "stream",
          "name": "stderr",
          "text": [
            "Epoch [528/3000]: 100%|██████████| 10/10 [00:00<00:00, 51.67it/s]\n"
          ]
        },
        {
          "output_type": "stream",
          "name": "stdout",
          "text": [
            "Epoch [528/3000]: Train loss: 0.7099, Valid loss: 1.1758\n"
          ]
        },
        {
          "output_type": "stream",
          "name": "stderr",
          "text": [
            "Epoch [529/3000]: 100%|██████████| 10/10 [00:00<00:00, 48.82it/s]\n"
          ]
        },
        {
          "output_type": "stream",
          "name": "stdout",
          "text": [
            "Epoch [529/3000]: Train loss: 0.6851, Valid loss: 1.1926\n"
          ]
        },
        {
          "output_type": "stream",
          "name": "stderr",
          "text": [
            "Epoch [530/3000]: 100%|██████████| 10/10 [00:00<00:00, 49.15it/s]\n"
          ]
        },
        {
          "output_type": "stream",
          "name": "stdout",
          "text": [
            "Epoch [530/3000]: Train loss: 0.6846, Valid loss: 1.1668\n"
          ]
        },
        {
          "output_type": "stream",
          "name": "stderr",
          "text": [
            "Epoch [531/3000]: 100%|██████████| 10/10 [00:00<00:00, 51.54it/s]\n"
          ]
        },
        {
          "output_type": "stream",
          "name": "stdout",
          "text": [
            "Epoch [531/3000]: Train loss: 0.6683, Valid loss: 1.2334\n"
          ]
        },
        {
          "output_type": "stream",
          "name": "stderr",
          "text": [
            "Epoch [532/3000]: 100%|██████████| 10/10 [00:00<00:00, 53.32it/s]\n"
          ]
        },
        {
          "output_type": "stream",
          "name": "stdout",
          "text": [
            "Epoch [532/3000]: Train loss: 0.7199, Valid loss: 1.2095\n"
          ]
        },
        {
          "output_type": "stream",
          "name": "stderr",
          "text": [
            "Epoch [533/3000]: 100%|██████████| 10/10 [00:00<00:00, 50.04it/s]\n"
          ]
        },
        {
          "output_type": "stream",
          "name": "stdout",
          "text": [
            "Epoch [533/3000]: Train loss: 0.7582, Valid loss: 1.1722\n"
          ]
        },
        {
          "output_type": "stream",
          "name": "stderr",
          "text": [
            "Epoch [534/3000]: 100%|██████████| 10/10 [00:00<00:00, 76.52it/s]\n"
          ]
        },
        {
          "output_type": "stream",
          "name": "stdout",
          "text": [
            "Epoch [534/3000]: Train loss: 0.7256, Valid loss: 1.2287\n"
          ]
        },
        {
          "output_type": "stream",
          "name": "stderr",
          "text": [
            "Epoch [535/3000]: 100%|██████████| 10/10 [00:00<00:00, 74.67it/s]\n"
          ]
        },
        {
          "output_type": "stream",
          "name": "stdout",
          "text": [
            "Epoch [535/3000]: Train loss: 0.7659, Valid loss: 1.2339\n"
          ]
        },
        {
          "output_type": "stream",
          "name": "stderr",
          "text": [
            "Epoch [536/3000]: 100%|██████████| 10/10 [00:00<00:00, 70.26it/s]\n"
          ]
        },
        {
          "output_type": "stream",
          "name": "stdout",
          "text": [
            "Epoch [536/3000]: Train loss: 0.8476, Valid loss: 1.3226\n"
          ]
        },
        {
          "output_type": "stream",
          "name": "stderr",
          "text": [
            "Epoch [537/3000]: 100%|██████████| 10/10 [00:00<00:00, 75.08it/s]\n"
          ]
        },
        {
          "output_type": "stream",
          "name": "stdout",
          "text": [
            "Epoch [537/3000]: Train loss: 0.7959, Valid loss: 1.2002\n"
          ]
        },
        {
          "output_type": "stream",
          "name": "stderr",
          "text": [
            "Epoch [538/3000]: 100%|██████████| 10/10 [00:00<00:00, 75.12it/s]\n"
          ]
        },
        {
          "output_type": "stream",
          "name": "stdout",
          "text": [
            "Epoch [538/3000]: Train loss: 0.7201, Valid loss: 1.2395\n"
          ]
        },
        {
          "output_type": "stream",
          "name": "stderr",
          "text": [
            "Epoch [539/3000]: 100%|██████████| 10/10 [00:00<00:00, 75.81it/s]\n"
          ]
        },
        {
          "output_type": "stream",
          "name": "stdout",
          "text": [
            "Epoch [539/3000]: Train loss: 0.7312, Valid loss: 1.2440\n"
          ]
        },
        {
          "output_type": "stream",
          "name": "stderr",
          "text": [
            "Epoch [540/3000]: 100%|██████████| 10/10 [00:00<00:00, 74.00it/s]\n"
          ]
        },
        {
          "output_type": "stream",
          "name": "stdout",
          "text": [
            "Epoch [540/3000]: Train loss: 0.7769, Valid loss: 1.2025\n"
          ]
        },
        {
          "output_type": "stream",
          "name": "stderr",
          "text": [
            "Epoch [541/3000]: 100%|██████████| 10/10 [00:00<00:00, 74.79it/s]\n"
          ]
        },
        {
          "output_type": "stream",
          "name": "stdout",
          "text": [
            "Epoch [541/3000]: Train loss: 0.7688, Valid loss: 1.1954\n"
          ]
        },
        {
          "output_type": "stream",
          "name": "stderr",
          "text": [
            "Epoch [542/3000]: 100%|██████████| 10/10 [00:00<00:00, 63.34it/s]\n"
          ]
        },
        {
          "output_type": "stream",
          "name": "stdout",
          "text": [
            "Epoch [542/3000]: Train loss: 0.7137, Valid loss: 1.1671\n"
          ]
        },
        {
          "output_type": "stream",
          "name": "stderr",
          "text": [
            "Epoch [543/3000]: 100%|██████████| 10/10 [00:00<00:00, 74.63it/s]\n"
          ]
        },
        {
          "output_type": "stream",
          "name": "stdout",
          "text": [
            "Epoch [543/3000]: Train loss: 0.7238, Valid loss: 1.3850\n"
          ]
        },
        {
          "output_type": "stream",
          "name": "stderr",
          "text": [
            "Epoch [544/3000]: 100%|██████████| 10/10 [00:00<00:00, 71.51it/s]\n"
          ]
        },
        {
          "output_type": "stream",
          "name": "stdout",
          "text": [
            "Epoch [544/3000]: Train loss: 0.7957, Valid loss: 1.2193\n"
          ]
        },
        {
          "output_type": "stream",
          "name": "stderr",
          "text": [
            "Epoch [545/3000]: 100%|██████████| 10/10 [00:00<00:00, 74.05it/s]\n"
          ]
        },
        {
          "output_type": "stream",
          "name": "stdout",
          "text": [
            "Epoch [545/3000]: Train loss: 0.7195, Valid loss: 1.2162\n"
          ]
        },
        {
          "output_type": "stream",
          "name": "stderr",
          "text": [
            "Epoch [546/3000]: 100%|██████████| 10/10 [00:00<00:00, 71.14it/s]\n"
          ]
        },
        {
          "output_type": "stream",
          "name": "stdout",
          "text": [
            "Epoch [546/3000]: Train loss: 0.7166, Valid loss: 1.1931\n"
          ]
        },
        {
          "output_type": "stream",
          "name": "stderr",
          "text": [
            "Epoch [547/3000]: 100%|██████████| 10/10 [00:00<00:00, 77.76it/s]\n"
          ]
        },
        {
          "output_type": "stream",
          "name": "stdout",
          "text": [
            "Epoch [547/3000]: Train loss: 0.7202, Valid loss: 1.2337\n"
          ]
        },
        {
          "output_type": "stream",
          "name": "stderr",
          "text": [
            "Epoch [548/3000]: 100%|██████████| 10/10 [00:00<00:00, 67.82it/s]\n"
          ]
        },
        {
          "output_type": "stream",
          "name": "stdout",
          "text": [
            "Epoch [548/3000]: Train loss: 0.7180, Valid loss: 1.1928\n"
          ]
        },
        {
          "output_type": "stream",
          "name": "stderr",
          "text": [
            "Epoch [549/3000]: 100%|██████████| 10/10 [00:00<00:00, 72.76it/s]\n"
          ]
        },
        {
          "output_type": "stream",
          "name": "stdout",
          "text": [
            "Epoch [549/3000]: Train loss: 0.7181, Valid loss: 1.2792\n"
          ]
        },
        {
          "output_type": "stream",
          "name": "stderr",
          "text": [
            "Epoch [550/3000]: 100%|██████████| 10/10 [00:00<00:00, 74.36it/s]\n"
          ]
        },
        {
          "output_type": "stream",
          "name": "stdout",
          "text": [
            "Epoch [550/3000]: Train loss: 0.7592, Valid loss: 1.2089\n"
          ]
        },
        {
          "output_type": "stream",
          "name": "stderr",
          "text": [
            "Epoch [551/3000]: 100%|██████████| 10/10 [00:00<00:00, 73.73it/s]\n"
          ]
        },
        {
          "output_type": "stream",
          "name": "stdout",
          "text": [
            "Epoch [551/3000]: Train loss: 0.7210, Valid loss: 1.1767\n"
          ]
        },
        {
          "output_type": "stream",
          "name": "stderr",
          "text": [
            "Epoch [552/3000]: 100%|██████████| 10/10 [00:00<00:00, 71.38it/s]\n"
          ]
        },
        {
          "output_type": "stream",
          "name": "stdout",
          "text": [
            "Epoch [552/3000]: Train loss: 0.7107, Valid loss: 1.1617\n"
          ]
        },
        {
          "output_type": "stream",
          "name": "stderr",
          "text": [
            "Epoch [553/3000]: 100%|██████████| 10/10 [00:00<00:00, 72.05it/s]\n"
          ]
        },
        {
          "output_type": "stream",
          "name": "stdout",
          "text": [
            "Epoch [553/3000]: Train loss: 0.6532, Valid loss: 1.1927\n"
          ]
        },
        {
          "output_type": "stream",
          "name": "stderr",
          "text": [
            "Epoch [554/3000]: 100%|██████████| 10/10 [00:00<00:00, 62.84it/s]\n"
          ]
        },
        {
          "output_type": "stream",
          "name": "stdout",
          "text": [
            "Epoch [554/3000]: Train loss: 0.6870, Valid loss: 1.1907\n"
          ]
        },
        {
          "output_type": "stream",
          "name": "stderr",
          "text": [
            "Epoch [555/3000]: 100%|██████████| 10/10 [00:00<00:00, 76.37it/s]\n"
          ]
        },
        {
          "output_type": "stream",
          "name": "stdout",
          "text": [
            "Epoch [555/3000]: Train loss: 0.6987, Valid loss: 1.2174\n"
          ]
        },
        {
          "output_type": "stream",
          "name": "stderr",
          "text": [
            "Epoch [556/3000]: 100%|██████████| 10/10 [00:00<00:00, 74.81it/s]\n"
          ]
        },
        {
          "output_type": "stream",
          "name": "stdout",
          "text": [
            "Epoch [556/3000]: Train loss: 0.7048, Valid loss: 1.1788\n"
          ]
        },
        {
          "output_type": "stream",
          "name": "stderr",
          "text": [
            "Epoch [557/3000]: 100%|██████████| 10/10 [00:00<00:00, 74.84it/s]\n"
          ]
        },
        {
          "output_type": "stream",
          "name": "stdout",
          "text": [
            "Epoch [557/3000]: Train loss: 0.7171, Valid loss: 1.2224\n"
          ]
        },
        {
          "output_type": "stream",
          "name": "stderr",
          "text": [
            "Epoch [558/3000]: 100%|██████████| 10/10 [00:00<00:00, 71.95it/s]\n"
          ]
        },
        {
          "output_type": "stream",
          "name": "stdout",
          "text": [
            "Epoch [558/3000]: Train loss: 0.7835, Valid loss: 1.2068\n"
          ]
        },
        {
          "output_type": "stream",
          "name": "stderr",
          "text": [
            "Epoch [559/3000]: 100%|██████████| 10/10 [00:00<00:00, 75.25it/s]\n"
          ]
        },
        {
          "output_type": "stream",
          "name": "stdout",
          "text": [
            "Epoch [559/3000]: Train loss: 0.7321, Valid loss: 1.2167\n"
          ]
        },
        {
          "output_type": "stream",
          "name": "stderr",
          "text": [
            "Epoch [560/3000]: 100%|██████████| 10/10 [00:00<00:00, 65.58it/s]\n"
          ]
        },
        {
          "output_type": "stream",
          "name": "stdout",
          "text": [
            "Epoch [560/3000]: Train loss: 0.6888, Valid loss: 1.1460\n",
            "Saving model with loss 1.146...\n"
          ]
        },
        {
          "output_type": "stream",
          "name": "stderr",
          "text": [
            "Epoch [561/3000]: 100%|██████████| 10/10 [00:00<00:00, 77.30it/s]\n"
          ]
        },
        {
          "output_type": "stream",
          "name": "stdout",
          "text": [
            "Epoch [561/3000]: Train loss: 0.6738, Valid loss: 1.2584\n"
          ]
        },
        {
          "output_type": "stream",
          "name": "stderr",
          "text": [
            "Epoch [562/3000]: 100%|██████████| 10/10 [00:00<00:00, 76.33it/s]\n"
          ]
        },
        {
          "output_type": "stream",
          "name": "stdout",
          "text": [
            "Epoch [562/3000]: Train loss: 0.7776, Valid loss: 1.2423\n"
          ]
        },
        {
          "output_type": "stream",
          "name": "stderr",
          "text": [
            "Epoch [563/3000]: 100%|██████████| 10/10 [00:00<00:00, 73.19it/s]\n"
          ]
        },
        {
          "output_type": "stream",
          "name": "stdout",
          "text": [
            "Epoch [563/3000]: Train loss: 0.7237, Valid loss: 1.1629\n"
          ]
        },
        {
          "output_type": "stream",
          "name": "stderr",
          "text": [
            "Epoch [564/3000]: 100%|██████████| 10/10 [00:00<00:00, 74.98it/s]\n"
          ]
        },
        {
          "output_type": "stream",
          "name": "stdout",
          "text": [
            "Epoch [564/3000]: Train loss: 0.6719, Valid loss: 1.1545\n"
          ]
        },
        {
          "output_type": "stream",
          "name": "stderr",
          "text": [
            "Epoch [565/3000]: 100%|██████████| 10/10 [00:00<00:00, 79.02it/s]\n"
          ]
        },
        {
          "output_type": "stream",
          "name": "stdout",
          "text": [
            "Epoch [565/3000]: Train loss: 0.6817, Valid loss: 1.2261\n"
          ]
        },
        {
          "output_type": "stream",
          "name": "stderr",
          "text": [
            "Epoch [566/3000]: 100%|██████████| 10/10 [00:00<00:00, 70.34it/s]\n"
          ]
        },
        {
          "output_type": "stream",
          "name": "stdout",
          "text": [
            "Epoch [566/3000]: Train loss: 0.6956, Valid loss: 1.1884\n"
          ]
        },
        {
          "output_type": "stream",
          "name": "stderr",
          "text": [
            "Epoch [567/3000]: 100%|██████████| 10/10 [00:00<00:00, 70.79it/s]\n"
          ]
        },
        {
          "output_type": "stream",
          "name": "stdout",
          "text": [
            "Epoch [567/3000]: Train loss: 0.7337, Valid loss: 1.1704\n"
          ]
        },
        {
          "output_type": "stream",
          "name": "stderr",
          "text": [
            "Epoch [568/3000]: 100%|██████████| 10/10 [00:00<00:00, 78.30it/s]\n"
          ]
        },
        {
          "output_type": "stream",
          "name": "stdout",
          "text": [
            "Epoch [568/3000]: Train loss: 0.7071, Valid loss: 1.2192\n"
          ]
        },
        {
          "output_type": "stream",
          "name": "stderr",
          "text": [
            "Epoch [569/3000]: 100%|██████████| 10/10 [00:00<00:00, 75.11it/s]\n"
          ]
        },
        {
          "output_type": "stream",
          "name": "stdout",
          "text": [
            "Epoch [569/3000]: Train loss: 0.6931, Valid loss: 1.1753\n"
          ]
        },
        {
          "output_type": "stream",
          "name": "stderr",
          "text": [
            "Epoch [570/3000]: 100%|██████████| 10/10 [00:00<00:00, 75.12it/s]\n"
          ]
        },
        {
          "output_type": "stream",
          "name": "stdout",
          "text": [
            "Epoch [570/3000]: Train loss: 0.6817, Valid loss: 1.1819\n"
          ]
        },
        {
          "output_type": "stream",
          "name": "stderr",
          "text": [
            "Epoch [571/3000]: 100%|██████████| 10/10 [00:00<00:00, 78.21it/s]\n"
          ]
        },
        {
          "output_type": "stream",
          "name": "stdout",
          "text": [
            "Epoch [571/3000]: Train loss: 0.6824, Valid loss: 1.2741\n"
          ]
        },
        {
          "output_type": "stream",
          "name": "stderr",
          "text": [
            "Epoch [572/3000]: 100%|██████████| 10/10 [00:00<00:00, 75.85it/s]\n"
          ]
        },
        {
          "output_type": "stream",
          "name": "stdout",
          "text": [
            "Epoch [572/3000]: Train loss: 0.7387, Valid loss: 1.2041\n"
          ]
        },
        {
          "output_type": "stream",
          "name": "stderr",
          "text": [
            "Epoch [573/3000]: 100%|██████████| 10/10 [00:00<00:00, 69.44it/s]\n"
          ]
        },
        {
          "output_type": "stream",
          "name": "stdout",
          "text": [
            "Epoch [573/3000]: Train loss: 0.6573, Valid loss: 1.2196\n"
          ]
        },
        {
          "output_type": "stream",
          "name": "stderr",
          "text": [
            "Epoch [574/3000]: 100%|██████████| 10/10 [00:00<00:00, 75.76it/s]\n"
          ]
        },
        {
          "output_type": "stream",
          "name": "stdout",
          "text": [
            "Epoch [574/3000]: Train loss: 0.6964, Valid loss: 1.2190\n"
          ]
        },
        {
          "output_type": "stream",
          "name": "stderr",
          "text": [
            "Epoch [575/3000]: 100%|██████████| 10/10 [00:00<00:00, 74.08it/s]\n"
          ]
        },
        {
          "output_type": "stream",
          "name": "stdout",
          "text": [
            "Epoch [575/3000]: Train loss: 0.7048, Valid loss: 1.1715\n"
          ]
        },
        {
          "output_type": "stream",
          "name": "stderr",
          "text": [
            "Epoch [576/3000]: 100%|██████████| 10/10 [00:00<00:00, 76.56it/s]\n"
          ]
        },
        {
          "output_type": "stream",
          "name": "stdout",
          "text": [
            "Epoch [576/3000]: Train loss: 0.6615, Valid loss: 1.1759\n"
          ]
        },
        {
          "output_type": "stream",
          "name": "stderr",
          "text": [
            "Epoch [577/3000]: 100%|██████████| 10/10 [00:00<00:00, 79.52it/s]\n"
          ]
        },
        {
          "output_type": "stream",
          "name": "stdout",
          "text": [
            "Epoch [577/3000]: Train loss: 0.7106, Valid loss: 1.1840\n"
          ]
        },
        {
          "output_type": "stream",
          "name": "stderr",
          "text": [
            "Epoch [578/3000]: 100%|██████████| 10/10 [00:00<00:00, 75.44it/s]\n"
          ]
        },
        {
          "output_type": "stream",
          "name": "stdout",
          "text": [
            "Epoch [578/3000]: Train loss: 0.6708, Valid loss: 1.1761\n"
          ]
        },
        {
          "output_type": "stream",
          "name": "stderr",
          "text": [
            "Epoch [579/3000]: 100%|██████████| 10/10 [00:00<00:00, 69.88it/s]\n"
          ]
        },
        {
          "output_type": "stream",
          "name": "stdout",
          "text": [
            "Epoch [579/3000]: Train loss: 0.6627, Valid loss: 1.2076\n"
          ]
        },
        {
          "output_type": "stream",
          "name": "stderr",
          "text": [
            "Epoch [580/3000]: 100%|██████████| 10/10 [00:00<00:00, 77.28it/s]\n"
          ]
        },
        {
          "output_type": "stream",
          "name": "stdout",
          "text": [
            "Epoch [580/3000]: Train loss: 0.7377, Valid loss: 1.1632\n"
          ]
        },
        {
          "output_type": "stream",
          "name": "stderr",
          "text": [
            "Epoch [581/3000]: 100%|██████████| 10/10 [00:00<00:00, 76.77it/s]\n"
          ]
        },
        {
          "output_type": "stream",
          "name": "stdout",
          "text": [
            "Epoch [581/3000]: Train loss: 0.6552, Valid loss: 1.2047\n"
          ]
        },
        {
          "output_type": "stream",
          "name": "stderr",
          "text": [
            "Epoch [582/3000]: 100%|██████████| 10/10 [00:00<00:00, 74.28it/s]\n"
          ]
        },
        {
          "output_type": "stream",
          "name": "stdout",
          "text": [
            "Epoch [582/3000]: Train loss: 0.7069, Valid loss: 1.1710\n"
          ]
        },
        {
          "output_type": "stream",
          "name": "stderr",
          "text": [
            "Epoch [583/3000]: 100%|██████████| 10/10 [00:00<00:00, 78.05it/s]\n"
          ]
        },
        {
          "output_type": "stream",
          "name": "stdout",
          "text": [
            "Epoch [583/3000]: Train loss: 0.6683, Valid loss: 1.1751\n"
          ]
        },
        {
          "output_type": "stream",
          "name": "stderr",
          "text": [
            "Epoch [584/3000]: 100%|██████████| 10/10 [00:00<00:00, 78.64it/s]\n"
          ]
        },
        {
          "output_type": "stream",
          "name": "stdout",
          "text": [
            "Epoch [584/3000]: Train loss: 0.7107, Valid loss: 1.1438\n",
            "Saving model with loss 1.144...\n"
          ]
        },
        {
          "output_type": "stream",
          "name": "stderr",
          "text": [
            "Epoch [585/3000]: 100%|██████████| 10/10 [00:00<00:00, 75.55it/s]\n"
          ]
        },
        {
          "output_type": "stream",
          "name": "stdout",
          "text": [
            "Epoch [585/3000]: Train loss: 0.6552, Valid loss: 1.1785\n"
          ]
        },
        {
          "output_type": "stream",
          "name": "stderr",
          "text": [
            "Epoch [586/3000]: 100%|██████████| 10/10 [00:00<00:00, 70.62it/s]\n"
          ]
        },
        {
          "output_type": "stream",
          "name": "stdout",
          "text": [
            "Epoch [586/3000]: Train loss: 0.6586, Valid loss: 1.1604\n"
          ]
        },
        {
          "output_type": "stream",
          "name": "stderr",
          "text": [
            "Epoch [587/3000]: 100%|██████████| 10/10 [00:00<00:00, 71.49it/s]\n"
          ]
        },
        {
          "output_type": "stream",
          "name": "stdout",
          "text": [
            "Epoch [587/3000]: Train loss: 0.6637, Valid loss: 1.1494\n"
          ]
        },
        {
          "output_type": "stream",
          "name": "stderr",
          "text": [
            "Epoch [588/3000]: 100%|██████████| 10/10 [00:00<00:00, 71.45it/s]\n"
          ]
        },
        {
          "output_type": "stream",
          "name": "stdout",
          "text": [
            "Epoch [588/3000]: Train loss: 0.6497, Valid loss: 1.1379\n",
            "Saving model with loss 1.138...\n"
          ]
        },
        {
          "output_type": "stream",
          "name": "stderr",
          "text": [
            "Epoch [589/3000]: 100%|██████████| 10/10 [00:00<00:00, 76.22it/s]\n"
          ]
        },
        {
          "output_type": "stream",
          "name": "stdout",
          "text": [
            "Epoch [589/3000]: Train loss: 0.6459, Valid loss: 1.1629\n"
          ]
        },
        {
          "output_type": "stream",
          "name": "stderr",
          "text": [
            "Epoch [590/3000]: 100%|██████████| 10/10 [00:00<00:00, 73.32it/s]\n"
          ]
        },
        {
          "output_type": "stream",
          "name": "stdout",
          "text": [
            "Epoch [590/3000]: Train loss: 0.6349, Valid loss: 1.1725\n"
          ]
        },
        {
          "output_type": "stream",
          "name": "stderr",
          "text": [
            "Epoch [591/3000]: 100%|██████████| 10/10 [00:00<00:00, 75.47it/s]\n"
          ]
        },
        {
          "output_type": "stream",
          "name": "stdout",
          "text": [
            "Epoch [591/3000]: Train loss: 0.6950, Valid loss: 1.2073\n"
          ]
        },
        {
          "output_type": "stream",
          "name": "stderr",
          "text": [
            "Epoch [592/3000]: 100%|██████████| 10/10 [00:00<00:00, 68.31it/s]\n"
          ]
        },
        {
          "output_type": "stream",
          "name": "stdout",
          "text": [
            "Epoch [592/3000]: Train loss: 0.6997, Valid loss: 1.2060\n"
          ]
        },
        {
          "output_type": "stream",
          "name": "stderr",
          "text": [
            "Epoch [593/3000]: 100%|██████████| 10/10 [00:00<00:00, 56.86it/s]\n"
          ]
        },
        {
          "output_type": "stream",
          "name": "stdout",
          "text": [
            "Epoch [593/3000]: Train loss: 0.6636, Valid loss: 1.1452\n"
          ]
        },
        {
          "output_type": "stream",
          "name": "stderr",
          "text": [
            "Epoch [594/3000]: 100%|██████████| 10/10 [00:00<00:00, 54.03it/s]\n"
          ]
        },
        {
          "output_type": "stream",
          "name": "stdout",
          "text": [
            "Epoch [594/3000]: Train loss: 0.6321, Valid loss: 1.2075\n"
          ]
        },
        {
          "output_type": "stream",
          "name": "stderr",
          "text": [
            "Epoch [595/3000]: 100%|██████████| 10/10 [00:00<00:00, 51.56it/s]\n"
          ]
        },
        {
          "output_type": "stream",
          "name": "stdout",
          "text": [
            "Epoch [595/3000]: Train loss: 0.6800, Valid loss: 1.2537\n"
          ]
        },
        {
          "output_type": "stream",
          "name": "stderr",
          "text": [
            "Epoch [596/3000]: 100%|██████████| 10/10 [00:00<00:00, 55.63it/s]\n"
          ]
        },
        {
          "output_type": "stream",
          "name": "stdout",
          "text": [
            "Epoch [596/3000]: Train loss: 0.7750, Valid loss: 1.2404\n"
          ]
        },
        {
          "output_type": "stream",
          "name": "stderr",
          "text": [
            "Epoch [597/3000]: 100%|██████████| 10/10 [00:00<00:00, 55.19it/s]\n"
          ]
        },
        {
          "output_type": "stream",
          "name": "stdout",
          "text": [
            "Epoch [597/3000]: Train loss: 0.6695, Valid loss: 1.1982\n"
          ]
        },
        {
          "output_type": "stream",
          "name": "stderr",
          "text": [
            "Epoch [598/3000]: 100%|██████████| 10/10 [00:00<00:00, 58.97it/s]\n"
          ]
        },
        {
          "output_type": "stream",
          "name": "stdout",
          "text": [
            "Epoch [598/3000]: Train loss: 0.7090, Valid loss: 1.1574\n"
          ]
        },
        {
          "output_type": "stream",
          "name": "stderr",
          "text": [
            "Epoch [599/3000]: 100%|██████████| 10/10 [00:00<00:00, 61.31it/s]\n"
          ]
        },
        {
          "output_type": "stream",
          "name": "stdout",
          "text": [
            "Epoch [599/3000]: Train loss: 0.6399, Valid loss: 1.1603\n"
          ]
        },
        {
          "output_type": "stream",
          "name": "stderr",
          "text": [
            "Epoch [600/3000]: 100%|██████████| 10/10 [00:00<00:00, 44.70it/s]\n"
          ]
        },
        {
          "output_type": "stream",
          "name": "stdout",
          "text": [
            "Epoch [600/3000]: Train loss: 0.6506, Valid loss: 1.1532\n"
          ]
        },
        {
          "output_type": "stream",
          "name": "stderr",
          "text": [
            "Epoch [601/3000]: 100%|██████████| 10/10 [00:00<00:00, 56.88it/s]\n"
          ]
        },
        {
          "output_type": "stream",
          "name": "stdout",
          "text": [
            "Epoch [601/3000]: Train loss: 0.7052, Valid loss: 1.2443\n"
          ]
        },
        {
          "output_type": "stream",
          "name": "stderr",
          "text": [
            "Epoch [602/3000]: 100%|██████████| 10/10 [00:00<00:00, 47.64it/s]\n"
          ]
        },
        {
          "output_type": "stream",
          "name": "stdout",
          "text": [
            "Epoch [602/3000]: Train loss: 0.7744, Valid loss: 1.2273\n"
          ]
        },
        {
          "output_type": "stream",
          "name": "stderr",
          "text": [
            "Epoch [603/3000]: 100%|██████████| 10/10 [00:00<00:00, 55.45it/s]\n"
          ]
        },
        {
          "output_type": "stream",
          "name": "stdout",
          "text": [
            "Epoch [603/3000]: Train loss: 0.7031, Valid loss: 1.2820\n"
          ]
        },
        {
          "output_type": "stream",
          "name": "stderr",
          "text": [
            "Epoch [604/3000]: 100%|██████████| 10/10 [00:00<00:00, 57.64it/s]\n"
          ]
        },
        {
          "output_type": "stream",
          "name": "stdout",
          "text": [
            "Epoch [604/3000]: Train loss: 0.7684, Valid loss: 1.2187\n"
          ]
        },
        {
          "output_type": "stream",
          "name": "stderr",
          "text": [
            "Epoch [605/3000]: 100%|██████████| 10/10 [00:00<00:00, 53.06it/s]\n"
          ]
        },
        {
          "output_type": "stream",
          "name": "stdout",
          "text": [
            "Epoch [605/3000]: Train loss: 0.7657, Valid loss: 1.2420\n"
          ]
        },
        {
          "output_type": "stream",
          "name": "stderr",
          "text": [
            "Epoch [606/3000]: 100%|██████████| 10/10 [00:00<00:00, 57.23it/s]\n"
          ]
        },
        {
          "output_type": "stream",
          "name": "stdout",
          "text": [
            "Epoch [606/3000]: Train loss: 0.6999, Valid loss: 1.1918\n"
          ]
        },
        {
          "output_type": "stream",
          "name": "stderr",
          "text": [
            "Epoch [607/3000]: 100%|██████████| 10/10 [00:00<00:00, 50.68it/s]\n"
          ]
        },
        {
          "output_type": "stream",
          "name": "stdout",
          "text": [
            "Epoch [607/3000]: Train loss: 0.6629, Valid loss: 1.2056\n"
          ]
        },
        {
          "output_type": "stream",
          "name": "stderr",
          "text": [
            "Epoch [608/3000]: 100%|██████████| 10/10 [00:00<00:00, 53.23it/s]\n"
          ]
        },
        {
          "output_type": "stream",
          "name": "stdout",
          "text": [
            "Epoch [608/3000]: Train loss: 0.6817, Valid loss: 1.1837\n"
          ]
        },
        {
          "output_type": "stream",
          "name": "stderr",
          "text": [
            "Epoch [609/3000]: 100%|██████████| 10/10 [00:00<00:00, 59.43it/s]\n"
          ]
        },
        {
          "output_type": "stream",
          "name": "stdout",
          "text": [
            "Epoch [609/3000]: Train loss: 0.7003, Valid loss: 1.1846\n"
          ]
        },
        {
          "output_type": "stream",
          "name": "stderr",
          "text": [
            "Epoch [610/3000]: 100%|██████████| 10/10 [00:00<00:00, 61.70it/s]\n"
          ]
        },
        {
          "output_type": "stream",
          "name": "stdout",
          "text": [
            "Epoch [610/3000]: Train loss: 0.6890, Valid loss: 1.2308\n"
          ]
        },
        {
          "output_type": "stream",
          "name": "stderr",
          "text": [
            "Epoch [611/3000]: 100%|██████████| 10/10 [00:00<00:00, 58.53it/s]\n"
          ]
        },
        {
          "output_type": "stream",
          "name": "stdout",
          "text": [
            "Epoch [611/3000]: Train loss: 0.7809, Valid loss: 1.2030\n"
          ]
        },
        {
          "output_type": "stream",
          "name": "stderr",
          "text": [
            "Epoch [612/3000]: 100%|██████████| 10/10 [00:00<00:00, 48.83it/s]\n"
          ]
        },
        {
          "output_type": "stream",
          "name": "stdout",
          "text": [
            "Epoch [612/3000]: Train loss: 0.7429, Valid loss: 1.2590\n"
          ]
        },
        {
          "output_type": "stream",
          "name": "stderr",
          "text": [
            "Epoch [613/3000]: 100%|██████████| 10/10 [00:00<00:00, 51.03it/s]\n"
          ]
        },
        {
          "output_type": "stream",
          "name": "stdout",
          "text": [
            "Epoch [613/3000]: Train loss: 0.7337, Valid loss: 1.2105\n"
          ]
        },
        {
          "output_type": "stream",
          "name": "stderr",
          "text": [
            "Epoch [614/3000]: 100%|██████████| 10/10 [00:00<00:00, 48.82it/s]\n"
          ]
        },
        {
          "output_type": "stream",
          "name": "stdout",
          "text": [
            "Epoch [614/3000]: Train loss: 0.6890, Valid loss: 1.2262\n"
          ]
        },
        {
          "output_type": "stream",
          "name": "stderr",
          "text": [
            "Epoch [615/3000]: 100%|██████████| 10/10 [00:00<00:00, 54.17it/s]\n"
          ]
        },
        {
          "output_type": "stream",
          "name": "stdout",
          "text": [
            "Epoch [615/3000]: Train loss: 0.6830, Valid loss: 1.1881\n"
          ]
        },
        {
          "output_type": "stream",
          "name": "stderr",
          "text": [
            "Epoch [616/3000]: 100%|██████████| 10/10 [00:00<00:00, 48.34it/s]\n"
          ]
        },
        {
          "output_type": "stream",
          "name": "stdout",
          "text": [
            "Epoch [616/3000]: Train loss: 0.6447, Valid loss: 1.1413\n"
          ]
        },
        {
          "output_type": "stream",
          "name": "stderr",
          "text": [
            "Epoch [617/3000]: 100%|██████████| 10/10 [00:00<00:00, 49.36it/s]\n"
          ]
        },
        {
          "output_type": "stream",
          "name": "stdout",
          "text": [
            "Epoch [617/3000]: Train loss: 0.6587, Valid loss: 1.1775\n"
          ]
        },
        {
          "output_type": "stream",
          "name": "stderr",
          "text": [
            "Epoch [618/3000]: 100%|██████████| 10/10 [00:00<00:00, 49.73it/s]\n"
          ]
        },
        {
          "output_type": "stream",
          "name": "stdout",
          "text": [
            "Epoch [618/3000]: Train loss: 0.6561, Valid loss: 1.1876\n"
          ]
        },
        {
          "output_type": "stream",
          "name": "stderr",
          "text": [
            "Epoch [619/3000]: 100%|██████████| 10/10 [00:00<00:00, 66.25it/s]\n"
          ]
        },
        {
          "output_type": "stream",
          "name": "stdout",
          "text": [
            "Epoch [619/3000]: Train loss: 0.6601, Valid loss: 1.1830\n"
          ]
        },
        {
          "output_type": "stream",
          "name": "stderr",
          "text": [
            "Epoch [620/3000]: 100%|██████████| 10/10 [00:00<00:00, 73.01it/s]\n"
          ]
        },
        {
          "output_type": "stream",
          "name": "stdout",
          "text": [
            "Epoch [620/3000]: Train loss: 0.6439, Valid loss: 1.1346\n",
            "Saving model with loss 1.135...\n"
          ]
        },
        {
          "output_type": "stream",
          "name": "stderr",
          "text": [
            "Epoch [621/3000]: 100%|██████████| 10/10 [00:00<00:00, 72.83it/s]\n"
          ]
        },
        {
          "output_type": "stream",
          "name": "stdout",
          "text": [
            "Epoch [621/3000]: Train loss: 0.6738, Valid loss: 1.2677\n"
          ]
        },
        {
          "output_type": "stream",
          "name": "stderr",
          "text": [
            "Epoch [622/3000]: 100%|██████████| 10/10 [00:00<00:00, 59.62it/s]\n"
          ]
        },
        {
          "output_type": "stream",
          "name": "stdout",
          "text": [
            "Epoch [622/3000]: Train loss: 0.7084, Valid loss: 1.2006\n"
          ]
        },
        {
          "output_type": "stream",
          "name": "stderr",
          "text": [
            "Epoch [623/3000]: 100%|██████████| 10/10 [00:00<00:00, 70.63it/s]\n"
          ]
        },
        {
          "output_type": "stream",
          "name": "stdout",
          "text": [
            "Epoch [623/3000]: Train loss: 0.7627, Valid loss: 1.1519\n"
          ]
        },
        {
          "output_type": "stream",
          "name": "stderr",
          "text": [
            "Epoch [624/3000]: 100%|██████████| 10/10 [00:00<00:00, 71.38it/s]\n"
          ]
        },
        {
          "output_type": "stream",
          "name": "stdout",
          "text": [
            "Epoch [624/3000]: Train loss: 0.6773, Valid loss: 1.1978\n"
          ]
        },
        {
          "output_type": "stream",
          "name": "stderr",
          "text": [
            "Epoch [625/3000]: 100%|██████████| 10/10 [00:00<00:00, 70.37it/s]\n"
          ]
        },
        {
          "output_type": "stream",
          "name": "stdout",
          "text": [
            "Epoch [625/3000]: Train loss: 0.6891, Valid loss: 1.2014\n"
          ]
        },
        {
          "output_type": "stream",
          "name": "stderr",
          "text": [
            "Epoch [626/3000]: 100%|██████████| 10/10 [00:00<00:00, 73.70it/s]\n"
          ]
        },
        {
          "output_type": "stream",
          "name": "stdout",
          "text": [
            "Epoch [626/3000]: Train loss: 0.6433, Valid loss: 1.1606\n"
          ]
        },
        {
          "output_type": "stream",
          "name": "stderr",
          "text": [
            "Epoch [627/3000]: 100%|██████████| 10/10 [00:00<00:00, 68.24it/s]\n"
          ]
        },
        {
          "output_type": "stream",
          "name": "stdout",
          "text": [
            "Epoch [627/3000]: Train loss: 0.7373, Valid loss: 1.2551\n"
          ]
        },
        {
          "output_type": "stream",
          "name": "stderr",
          "text": [
            "Epoch [628/3000]: 100%|██████████| 10/10 [00:00<00:00, 62.14it/s]\n"
          ]
        },
        {
          "output_type": "stream",
          "name": "stdout",
          "text": [
            "Epoch [628/3000]: Train loss: 0.8139, Valid loss: 1.5402\n"
          ]
        },
        {
          "output_type": "stream",
          "name": "stderr",
          "text": [
            "Epoch [629/3000]: 100%|██████████| 10/10 [00:00<00:00, 70.51it/s]\n"
          ]
        },
        {
          "output_type": "stream",
          "name": "stdout",
          "text": [
            "Epoch [629/3000]: Train loss: 0.9733, Valid loss: 1.5543\n"
          ]
        },
        {
          "output_type": "stream",
          "name": "stderr",
          "text": [
            "Epoch [630/3000]: 100%|██████████| 10/10 [00:00<00:00, 69.11it/s]\n"
          ]
        },
        {
          "output_type": "stream",
          "name": "stdout",
          "text": [
            "Epoch [630/3000]: Train loss: 0.9552, Valid loss: 1.2972\n"
          ]
        },
        {
          "output_type": "stream",
          "name": "stderr",
          "text": [
            "Epoch [631/3000]: 100%|██████████| 10/10 [00:00<00:00, 69.08it/s]\n"
          ]
        },
        {
          "output_type": "stream",
          "name": "stdout",
          "text": [
            "Epoch [631/3000]: Train loss: 0.8013, Valid loss: 1.2068\n"
          ]
        },
        {
          "output_type": "stream",
          "name": "stderr",
          "text": [
            "Epoch [632/3000]: 100%|██████████| 10/10 [00:00<00:00, 67.82it/s]\n"
          ]
        },
        {
          "output_type": "stream",
          "name": "stdout",
          "text": [
            "Epoch [632/3000]: Train loss: 0.7396, Valid loss: 1.1631\n"
          ]
        },
        {
          "output_type": "stream",
          "name": "stderr",
          "text": [
            "Epoch [633/3000]: 100%|██████████| 10/10 [00:00<00:00, 71.72it/s]\n"
          ]
        },
        {
          "output_type": "stream",
          "name": "stdout",
          "text": [
            "Epoch [633/3000]: Train loss: 0.6779, Valid loss: 1.1824\n"
          ]
        },
        {
          "output_type": "stream",
          "name": "stderr",
          "text": [
            "Epoch [634/3000]: 100%|██████████| 10/10 [00:00<00:00, 63.03it/s]\n"
          ]
        },
        {
          "output_type": "stream",
          "name": "stdout",
          "text": [
            "Epoch [634/3000]: Train loss: 0.7102, Valid loss: 1.2068\n"
          ]
        },
        {
          "output_type": "stream",
          "name": "stderr",
          "text": [
            "Epoch [635/3000]: 100%|██████████| 10/10 [00:00<00:00, 73.86it/s]\n"
          ]
        },
        {
          "output_type": "stream",
          "name": "stdout",
          "text": [
            "Epoch [635/3000]: Train loss: 0.7375, Valid loss: 1.1786\n"
          ]
        },
        {
          "output_type": "stream",
          "name": "stderr",
          "text": [
            "Epoch [636/3000]: 100%|██████████| 10/10 [00:00<00:00, 70.44it/s]\n"
          ]
        },
        {
          "output_type": "stream",
          "name": "stdout",
          "text": [
            "Epoch [636/3000]: Train loss: 0.6965, Valid loss: 1.1728\n"
          ]
        },
        {
          "output_type": "stream",
          "name": "stderr",
          "text": [
            "Epoch [637/3000]: 100%|██████████| 10/10 [00:00<00:00, 73.38it/s]\n"
          ]
        },
        {
          "output_type": "stream",
          "name": "stdout",
          "text": [
            "Epoch [637/3000]: Train loss: 0.6867, Valid loss: 1.1471\n"
          ]
        },
        {
          "output_type": "stream",
          "name": "stderr",
          "text": [
            "Epoch [638/3000]: 100%|██████████| 10/10 [00:00<00:00, 68.94it/s]\n"
          ]
        },
        {
          "output_type": "stream",
          "name": "stdout",
          "text": [
            "Epoch [638/3000]: Train loss: 0.6664, Valid loss: 1.1748\n"
          ]
        },
        {
          "output_type": "stream",
          "name": "stderr",
          "text": [
            "Epoch [639/3000]: 100%|██████████| 10/10 [00:00<00:00, 70.55it/s]\n"
          ]
        },
        {
          "output_type": "stream",
          "name": "stdout",
          "text": [
            "Epoch [639/3000]: Train loss: 0.6946, Valid loss: 1.1505\n"
          ]
        },
        {
          "output_type": "stream",
          "name": "stderr",
          "text": [
            "Epoch [640/3000]: 100%|██████████| 10/10 [00:00<00:00, 65.21it/s]\n"
          ]
        },
        {
          "output_type": "stream",
          "name": "stdout",
          "text": [
            "Epoch [640/3000]: Train loss: 0.6529, Valid loss: 1.1894\n"
          ]
        },
        {
          "output_type": "stream",
          "name": "stderr",
          "text": [
            "Epoch [641/3000]: 100%|██████████| 10/10 [00:00<00:00, 77.35it/s]\n"
          ]
        },
        {
          "output_type": "stream",
          "name": "stdout",
          "text": [
            "Epoch [641/3000]: Train loss: 0.6455, Valid loss: 1.1689\n"
          ]
        },
        {
          "output_type": "stream",
          "name": "stderr",
          "text": [
            "Epoch [642/3000]: 100%|██████████| 10/10 [00:00<00:00, 70.34it/s]\n"
          ]
        },
        {
          "output_type": "stream",
          "name": "stdout",
          "text": [
            "Epoch [642/3000]: Train loss: 0.6383, Valid loss: 1.1599\n"
          ]
        },
        {
          "output_type": "stream",
          "name": "stderr",
          "text": [
            "Epoch [643/3000]: 100%|██████████| 10/10 [00:00<00:00, 75.57it/s]\n"
          ]
        },
        {
          "output_type": "stream",
          "name": "stdout",
          "text": [
            "Epoch [643/3000]: Train loss: 0.7300, Valid loss: 1.2123\n"
          ]
        },
        {
          "output_type": "stream",
          "name": "stderr",
          "text": [
            "Epoch [644/3000]: 100%|██████████| 10/10 [00:00<00:00, 71.66it/s]\n"
          ]
        },
        {
          "output_type": "stream",
          "name": "stdout",
          "text": [
            "Epoch [644/3000]: Train loss: 0.6224, Valid loss: 1.1382\n"
          ]
        },
        {
          "output_type": "stream",
          "name": "stderr",
          "text": [
            "Epoch [645/3000]: 100%|██████████| 10/10 [00:00<00:00, 71.90it/s]\n"
          ]
        },
        {
          "output_type": "stream",
          "name": "stdout",
          "text": [
            "Epoch [645/3000]: Train loss: 0.6324, Valid loss: 1.1924\n"
          ]
        },
        {
          "output_type": "stream",
          "name": "stderr",
          "text": [
            "Epoch [646/3000]: 100%|██████████| 10/10 [00:00<00:00, 64.51it/s]\n"
          ]
        },
        {
          "output_type": "stream",
          "name": "stdout",
          "text": [
            "Epoch [646/3000]: Train loss: 0.6471, Valid loss: 1.1662\n"
          ]
        },
        {
          "output_type": "stream",
          "name": "stderr",
          "text": [
            "Epoch [647/3000]: 100%|██████████| 10/10 [00:00<00:00, 70.33it/s]\n"
          ]
        },
        {
          "output_type": "stream",
          "name": "stdout",
          "text": [
            "Epoch [647/3000]: Train loss: 0.6574, Valid loss: 1.1920\n"
          ]
        },
        {
          "output_type": "stream",
          "name": "stderr",
          "text": [
            "Epoch [648/3000]: 100%|██████████| 10/10 [00:00<00:00, 70.08it/s]\n"
          ]
        },
        {
          "output_type": "stream",
          "name": "stdout",
          "text": [
            "Epoch [648/3000]: Train loss: 0.6969, Valid loss: 1.1613\n"
          ]
        },
        {
          "output_type": "stream",
          "name": "stderr",
          "text": [
            "Epoch [649/3000]: 100%|██████████| 10/10 [00:00<00:00, 71.75it/s]\n"
          ]
        },
        {
          "output_type": "stream",
          "name": "stdout",
          "text": [
            "Epoch [649/3000]: Train loss: 0.6935, Valid loss: 1.1819\n"
          ]
        },
        {
          "output_type": "stream",
          "name": "stderr",
          "text": [
            "Epoch [650/3000]: 100%|██████████| 10/10 [00:00<00:00, 72.98it/s]\n"
          ]
        },
        {
          "output_type": "stream",
          "name": "stdout",
          "text": [
            "Epoch [650/3000]: Train loss: 0.6578, Valid loss: 1.1678\n"
          ]
        },
        {
          "output_type": "stream",
          "name": "stderr",
          "text": [
            "Epoch [651/3000]: 100%|██████████| 10/10 [00:00<00:00, 72.19it/s]\n"
          ]
        },
        {
          "output_type": "stream",
          "name": "stdout",
          "text": [
            "Epoch [651/3000]: Train loss: 0.6046, Valid loss: 1.1700\n"
          ]
        },
        {
          "output_type": "stream",
          "name": "stderr",
          "text": [
            "Epoch [652/3000]: 100%|██████████| 10/10 [00:00<00:00, 65.21it/s]\n"
          ]
        },
        {
          "output_type": "stream",
          "name": "stdout",
          "text": [
            "Epoch [652/3000]: Train loss: 0.6295, Valid loss: 1.2373\n"
          ]
        },
        {
          "output_type": "stream",
          "name": "stderr",
          "text": [
            "Epoch [653/3000]: 100%|██████████| 10/10 [00:00<00:00, 72.69it/s]\n"
          ]
        },
        {
          "output_type": "stream",
          "name": "stdout",
          "text": [
            "Epoch [653/3000]: Train loss: 0.6885, Valid loss: 1.1728\n"
          ]
        },
        {
          "output_type": "stream",
          "name": "stderr",
          "text": [
            "Epoch [654/3000]: 100%|██████████| 10/10 [00:00<00:00, 70.69it/s]\n"
          ]
        },
        {
          "output_type": "stream",
          "name": "stdout",
          "text": [
            "Epoch [654/3000]: Train loss: 0.6718, Valid loss: 1.1577\n"
          ]
        },
        {
          "output_type": "stream",
          "name": "stderr",
          "text": [
            "Epoch [655/3000]: 100%|██████████| 10/10 [00:00<00:00, 71.96it/s]\n"
          ]
        },
        {
          "output_type": "stream",
          "name": "stdout",
          "text": [
            "Epoch [655/3000]: Train loss: 0.6190, Valid loss: 1.1304\n",
            "Saving model with loss 1.130...\n"
          ]
        },
        {
          "output_type": "stream",
          "name": "stderr",
          "text": [
            "Epoch [656/3000]: 100%|██████████| 10/10 [00:00<00:00, 69.87it/s]\n"
          ]
        },
        {
          "output_type": "stream",
          "name": "stdout",
          "text": [
            "Epoch [656/3000]: Train loss: 0.6020, Valid loss: 1.1428\n"
          ]
        },
        {
          "output_type": "stream",
          "name": "stderr",
          "text": [
            "Epoch [657/3000]: 100%|██████████| 10/10 [00:00<00:00, 69.16it/s]\n"
          ]
        },
        {
          "output_type": "stream",
          "name": "stdout",
          "text": [
            "Epoch [657/3000]: Train loss: 0.6081, Valid loss: 1.1918\n"
          ]
        },
        {
          "output_type": "stream",
          "name": "stderr",
          "text": [
            "Epoch [658/3000]: 100%|██████████| 10/10 [00:00<00:00, 67.33it/s]\n"
          ]
        },
        {
          "output_type": "stream",
          "name": "stdout",
          "text": [
            "Epoch [658/3000]: Train loss: 0.7307, Valid loss: 1.3063\n"
          ]
        },
        {
          "output_type": "stream",
          "name": "stderr",
          "text": [
            "Epoch [659/3000]: 100%|██████████| 10/10 [00:00<00:00, 71.42it/s]\n"
          ]
        },
        {
          "output_type": "stream",
          "name": "stdout",
          "text": [
            "Epoch [659/3000]: Train loss: 0.7315, Valid loss: 1.1731\n"
          ]
        },
        {
          "output_type": "stream",
          "name": "stderr",
          "text": [
            "Epoch [660/3000]: 100%|██████████| 10/10 [00:00<00:00, 71.35it/s]\n"
          ]
        },
        {
          "output_type": "stream",
          "name": "stdout",
          "text": [
            "Epoch [660/3000]: Train loss: 0.7678, Valid loss: 1.2282\n"
          ]
        },
        {
          "output_type": "stream",
          "name": "stderr",
          "text": [
            "Epoch [661/3000]: 100%|██████████| 10/10 [00:00<00:00, 72.19it/s]\n"
          ]
        },
        {
          "output_type": "stream",
          "name": "stdout",
          "text": [
            "Epoch [661/3000]: Train loss: 0.6657, Valid loss: 1.1904\n"
          ]
        },
        {
          "output_type": "stream",
          "name": "stderr",
          "text": [
            "Epoch [662/3000]: 100%|██████████| 10/10 [00:00<00:00, 72.50it/s]\n"
          ]
        },
        {
          "output_type": "stream",
          "name": "stdout",
          "text": [
            "Epoch [662/3000]: Train loss: 0.6662, Valid loss: 1.2264\n"
          ]
        },
        {
          "output_type": "stream",
          "name": "stderr",
          "text": [
            "Epoch [663/3000]: 100%|██████████| 10/10 [00:00<00:00, 20.30it/s]\n"
          ]
        },
        {
          "output_type": "stream",
          "name": "stdout",
          "text": [
            "Epoch [663/3000]: Train loss: 0.6781, Valid loss: 1.2238\n"
          ]
        },
        {
          "output_type": "stream",
          "name": "stderr",
          "text": [
            "Epoch [664/3000]: 100%|██████████| 10/10 [00:00<00:00, 70.33it/s]\n"
          ]
        },
        {
          "output_type": "stream",
          "name": "stdout",
          "text": [
            "Epoch [664/3000]: Train loss: 0.6897, Valid loss: 1.2223\n"
          ]
        },
        {
          "output_type": "stream",
          "name": "stderr",
          "text": [
            "Epoch [665/3000]: 100%|██████████| 10/10 [00:00<00:00, 66.90it/s]\n"
          ]
        },
        {
          "output_type": "stream",
          "name": "stdout",
          "text": [
            "Epoch [665/3000]: Train loss: 0.6661, Valid loss: 1.1484\n"
          ]
        },
        {
          "output_type": "stream",
          "name": "stderr",
          "text": [
            "Epoch [666/3000]: 100%|██████████| 10/10 [00:00<00:00, 66.76it/s]\n"
          ]
        },
        {
          "output_type": "stream",
          "name": "stdout",
          "text": [
            "Epoch [666/3000]: Train loss: 0.6254, Valid loss: 1.1669\n"
          ]
        },
        {
          "output_type": "stream",
          "name": "stderr",
          "text": [
            "Epoch [667/3000]: 100%|██████████| 10/10 [00:00<00:00, 74.51it/s]\n"
          ]
        },
        {
          "output_type": "stream",
          "name": "stdout",
          "text": [
            "Epoch [667/3000]: Train loss: 0.6216, Valid loss: 1.1775\n"
          ]
        },
        {
          "output_type": "stream",
          "name": "stderr",
          "text": [
            "Epoch [668/3000]: 100%|██████████| 10/10 [00:00<00:00, 61.02it/s]\n"
          ]
        },
        {
          "output_type": "stream",
          "name": "stdout",
          "text": [
            "Epoch [668/3000]: Train loss: 0.6686, Valid loss: 1.1883\n"
          ]
        },
        {
          "output_type": "stream",
          "name": "stderr",
          "text": [
            "Epoch [669/3000]: 100%|██████████| 10/10 [00:00<00:00, 71.38it/s]\n"
          ]
        },
        {
          "output_type": "stream",
          "name": "stdout",
          "text": [
            "Epoch [669/3000]: Train loss: 0.6392, Valid loss: 1.2214\n"
          ]
        },
        {
          "output_type": "stream",
          "name": "stderr",
          "text": [
            "Epoch [670/3000]: 100%|██████████| 10/10 [00:00<00:00, 68.69it/s]\n"
          ]
        },
        {
          "output_type": "stream",
          "name": "stdout",
          "text": [
            "Epoch [670/3000]: Train loss: 0.6837, Valid loss: 1.1903\n"
          ]
        },
        {
          "output_type": "stream",
          "name": "stderr",
          "text": [
            "Epoch [671/3000]: 100%|██████████| 10/10 [00:00<00:00, 69.60it/s]\n"
          ]
        },
        {
          "output_type": "stream",
          "name": "stdout",
          "text": [
            "Epoch [671/3000]: Train loss: 0.6513, Valid loss: 1.1510\n"
          ]
        },
        {
          "output_type": "stream",
          "name": "stderr",
          "text": [
            "Epoch [672/3000]: 100%|██████████| 10/10 [00:00<00:00, 67.50it/s]\n"
          ]
        },
        {
          "output_type": "stream",
          "name": "stdout",
          "text": [
            "Epoch [672/3000]: Train loss: 0.6288, Valid loss: 1.2016\n"
          ]
        },
        {
          "output_type": "stream",
          "name": "stderr",
          "text": [
            "Epoch [673/3000]: 100%|██████████| 10/10 [00:00<00:00, 73.08it/s]\n"
          ]
        },
        {
          "output_type": "stream",
          "name": "stdout",
          "text": [
            "Epoch [673/3000]: Train loss: 0.6434, Valid loss: 1.1354\n"
          ]
        },
        {
          "output_type": "stream",
          "name": "stderr",
          "text": [
            "Epoch [674/3000]: 100%|██████████| 10/10 [00:00<00:00, 49.57it/s]\n"
          ]
        },
        {
          "output_type": "stream",
          "name": "stdout",
          "text": [
            "Epoch [674/3000]: Train loss: 0.5839, Valid loss: 1.1434\n"
          ]
        },
        {
          "output_type": "stream",
          "name": "stderr",
          "text": [
            "Epoch [675/3000]: 100%|██████████| 10/10 [00:00<00:00, 50.88it/s]\n"
          ]
        },
        {
          "output_type": "stream",
          "name": "stdout",
          "text": [
            "Epoch [675/3000]: Train loss: 0.6146, Valid loss: 1.1337\n"
          ]
        },
        {
          "output_type": "stream",
          "name": "stderr",
          "text": [
            "Epoch [676/3000]: 100%|██████████| 10/10 [00:00<00:00, 51.75it/s]\n"
          ]
        },
        {
          "output_type": "stream",
          "name": "stdout",
          "text": [
            "Epoch [676/3000]: Train loss: 0.6416, Valid loss: 1.1595\n"
          ]
        },
        {
          "output_type": "stream",
          "name": "stderr",
          "text": [
            "Epoch [677/3000]: 100%|██████████| 10/10 [00:00<00:00, 52.41it/s]\n"
          ]
        },
        {
          "output_type": "stream",
          "name": "stdout",
          "text": [
            "Epoch [677/3000]: Train loss: 0.6282, Valid loss: 1.2034\n"
          ]
        },
        {
          "output_type": "stream",
          "name": "stderr",
          "text": [
            "Epoch [678/3000]: 100%|██████████| 10/10 [00:00<00:00, 55.95it/s]\n"
          ]
        },
        {
          "output_type": "stream",
          "name": "stdout",
          "text": [
            "Epoch [678/3000]: Train loss: 0.6753, Valid loss: 1.1933\n"
          ]
        },
        {
          "output_type": "stream",
          "name": "stderr",
          "text": [
            "Epoch [679/3000]: 100%|██████████| 10/10 [00:00<00:00, 51.01it/s]\n"
          ]
        },
        {
          "output_type": "stream",
          "name": "stdout",
          "text": [
            "Epoch [679/3000]: Train loss: 0.6622, Valid loss: 1.1490\n"
          ]
        },
        {
          "output_type": "stream",
          "name": "stderr",
          "text": [
            "Epoch [680/3000]: 100%|██████████| 10/10 [00:00<00:00, 58.07it/s]\n"
          ]
        },
        {
          "output_type": "stream",
          "name": "stdout",
          "text": [
            "Epoch [680/3000]: Train loss: 0.6144, Valid loss: 1.3062\n"
          ]
        },
        {
          "output_type": "stream",
          "name": "stderr",
          "text": [
            "Epoch [681/3000]: 100%|██████████| 10/10 [00:00<00:00, 54.82it/s]\n"
          ]
        },
        {
          "output_type": "stream",
          "name": "stdout",
          "text": [
            "Epoch [681/3000]: Train loss: 0.7289, Valid loss: 1.1642\n"
          ]
        },
        {
          "output_type": "stream",
          "name": "stderr",
          "text": [
            "Epoch [682/3000]: 100%|██████████| 10/10 [00:00<00:00, 50.65it/s]\n"
          ]
        },
        {
          "output_type": "stream",
          "name": "stdout",
          "text": [
            "Epoch [682/3000]: Train loss: 0.6131, Valid loss: 1.1400\n"
          ]
        },
        {
          "output_type": "stream",
          "name": "stderr",
          "text": [
            "Epoch [683/3000]: 100%|██████████| 10/10 [00:00<00:00, 52.04it/s]\n"
          ]
        },
        {
          "output_type": "stream",
          "name": "stdout",
          "text": [
            "Epoch [683/3000]: Train loss: 0.6271, Valid loss: 1.1522\n"
          ]
        },
        {
          "output_type": "stream",
          "name": "stderr",
          "text": [
            "Epoch [684/3000]: 100%|██████████| 10/10 [00:00<00:00, 53.67it/s]\n"
          ]
        },
        {
          "output_type": "stream",
          "name": "stdout",
          "text": [
            "Epoch [684/3000]: Train loss: 0.6023, Valid loss: 1.1746\n"
          ]
        },
        {
          "output_type": "stream",
          "name": "stderr",
          "text": [
            "Epoch [685/3000]: 100%|██████████| 10/10 [00:00<00:00, 58.07it/s]\n"
          ]
        },
        {
          "output_type": "stream",
          "name": "stdout",
          "text": [
            "Epoch [685/3000]: Train loss: 0.6139, Valid loss: 1.2646\n"
          ]
        },
        {
          "output_type": "stream",
          "name": "stderr",
          "text": [
            "Epoch [686/3000]: 100%|██████████| 10/10 [00:00<00:00, 51.33it/s]\n"
          ]
        },
        {
          "output_type": "stream",
          "name": "stdout",
          "text": [
            "Epoch [686/3000]: Train loss: 0.7055, Valid loss: 1.2815\n"
          ]
        },
        {
          "output_type": "stream",
          "name": "stderr",
          "text": [
            "Epoch [687/3000]: 100%|██████████| 10/10 [00:00<00:00, 59.72it/s]\n"
          ]
        },
        {
          "output_type": "stream",
          "name": "stdout",
          "text": [
            "Epoch [687/3000]: Train loss: 0.7085, Valid loss: 1.1741\n"
          ]
        },
        {
          "output_type": "stream",
          "name": "stderr",
          "text": [
            "Epoch [688/3000]: 100%|██████████| 10/10 [00:00<00:00, 57.30it/s]\n"
          ]
        },
        {
          "output_type": "stream",
          "name": "stdout",
          "text": [
            "Epoch [688/3000]: Train loss: 0.6858, Valid loss: 1.1814\n"
          ]
        },
        {
          "output_type": "stream",
          "name": "stderr",
          "text": [
            "Epoch [689/3000]: 100%|██████████| 10/10 [00:00<00:00, 53.64it/s]\n"
          ]
        },
        {
          "output_type": "stream",
          "name": "stdout",
          "text": [
            "Epoch [689/3000]: Train loss: 0.6615, Valid loss: 1.2445\n"
          ]
        },
        {
          "output_type": "stream",
          "name": "stderr",
          "text": [
            "Epoch [690/3000]: 100%|██████████| 10/10 [00:00<00:00, 53.72it/s]\n"
          ]
        },
        {
          "output_type": "stream",
          "name": "stdout",
          "text": [
            "Epoch [690/3000]: Train loss: 0.7059, Valid loss: 1.1621\n"
          ]
        },
        {
          "output_type": "stream",
          "name": "stderr",
          "text": [
            "Epoch [691/3000]: 100%|██████████| 10/10 [00:00<00:00, 53.59it/s]\n"
          ]
        },
        {
          "output_type": "stream",
          "name": "stdout",
          "text": [
            "Epoch [691/3000]: Train loss: 0.6949, Valid loss: 1.1368\n"
          ]
        },
        {
          "output_type": "stream",
          "name": "stderr",
          "text": [
            "Epoch [692/3000]: 100%|██████████| 10/10 [00:00<00:00, 59.71it/s]\n"
          ]
        },
        {
          "output_type": "stream",
          "name": "stdout",
          "text": [
            "Epoch [692/3000]: Train loss: 0.6297, Valid loss: 1.1855\n"
          ]
        },
        {
          "output_type": "stream",
          "name": "stderr",
          "text": [
            "Epoch [693/3000]: 100%|██████████| 10/10 [00:00<00:00, 55.94it/s]\n"
          ]
        },
        {
          "output_type": "stream",
          "name": "stdout",
          "text": [
            "Epoch [693/3000]: Train loss: 0.7076, Valid loss: 1.1843\n"
          ]
        },
        {
          "output_type": "stream",
          "name": "stderr",
          "text": [
            "Epoch [694/3000]: 100%|██████████| 10/10 [00:00<00:00, 49.60it/s]\n"
          ]
        },
        {
          "output_type": "stream",
          "name": "stdout",
          "text": [
            "Epoch [694/3000]: Train loss: 0.6072, Valid loss: 1.2058\n"
          ]
        },
        {
          "output_type": "stream",
          "name": "stderr",
          "text": [
            "Epoch [695/3000]: 100%|██████████| 10/10 [00:00<00:00, 50.89it/s]\n"
          ]
        },
        {
          "output_type": "stream",
          "name": "stdout",
          "text": [
            "Epoch [695/3000]: Train loss: 0.7239, Valid loss: 1.1655\n"
          ]
        },
        {
          "output_type": "stream",
          "name": "stderr",
          "text": [
            "Epoch [696/3000]: 100%|██████████| 10/10 [00:00<00:00, 49.15it/s]\n"
          ]
        },
        {
          "output_type": "stream",
          "name": "stdout",
          "text": [
            "Epoch [696/3000]: Train loss: 0.7322, Valid loss: 1.1637\n"
          ]
        },
        {
          "output_type": "stream",
          "name": "stderr",
          "text": [
            "Epoch [697/3000]: 100%|██████████| 10/10 [00:00<00:00, 56.89it/s]\n"
          ]
        },
        {
          "output_type": "stream",
          "name": "stdout",
          "text": [
            "Epoch [697/3000]: Train loss: 0.6202, Valid loss: 1.1410\n"
          ]
        },
        {
          "output_type": "stream",
          "name": "stderr",
          "text": [
            "Epoch [698/3000]: 100%|██████████| 10/10 [00:00<00:00, 50.19it/s]\n"
          ]
        },
        {
          "output_type": "stream",
          "name": "stdout",
          "text": [
            "Epoch [698/3000]: Train loss: 0.6003, Valid loss: 1.1234\n",
            "Saving model with loss 1.123...\n"
          ]
        },
        {
          "output_type": "stream",
          "name": "stderr",
          "text": [
            "Epoch [699/3000]: 100%|██████████| 10/10 [00:00<00:00, 50.17it/s]\n"
          ]
        },
        {
          "output_type": "stream",
          "name": "stdout",
          "text": [
            "Epoch [699/3000]: Train loss: 0.5924, Valid loss: 1.1693\n"
          ]
        },
        {
          "output_type": "stream",
          "name": "stderr",
          "text": [
            "Epoch [700/3000]: 100%|██████████| 10/10 [00:00<00:00, 54.47it/s]\n"
          ]
        },
        {
          "output_type": "stream",
          "name": "stdout",
          "text": [
            "Epoch [700/3000]: Train loss: 0.5887, Valid loss: 1.1412\n"
          ]
        },
        {
          "output_type": "stream",
          "name": "stderr",
          "text": [
            "Epoch [701/3000]: 100%|██████████| 10/10 [00:00<00:00, 60.92it/s]\n"
          ]
        },
        {
          "output_type": "stream",
          "name": "stdout",
          "text": [
            "Epoch [701/3000]: Train loss: 0.6037, Valid loss: 1.1498\n"
          ]
        },
        {
          "output_type": "stream",
          "name": "stderr",
          "text": [
            "Epoch [702/3000]: 100%|██████████| 10/10 [00:00<00:00, 69.03it/s]\n"
          ]
        },
        {
          "output_type": "stream",
          "name": "stdout",
          "text": [
            "Epoch [702/3000]: Train loss: 0.6098, Valid loss: 1.1550\n"
          ]
        },
        {
          "output_type": "stream",
          "name": "stderr",
          "text": [
            "Epoch [703/3000]: 100%|██████████| 10/10 [00:00<00:00, 72.71it/s]\n"
          ]
        },
        {
          "output_type": "stream",
          "name": "stdout",
          "text": [
            "Epoch [703/3000]: Train loss: 0.6198, Valid loss: 1.1325\n"
          ]
        },
        {
          "output_type": "stream",
          "name": "stderr",
          "text": [
            "Epoch [704/3000]: 100%|██████████| 10/10 [00:00<00:00, 64.79it/s]\n"
          ]
        },
        {
          "output_type": "stream",
          "name": "stdout",
          "text": [
            "Epoch [704/3000]: Train loss: 0.5839, Valid loss: 1.1735\n"
          ]
        },
        {
          "output_type": "stream",
          "name": "stderr",
          "text": [
            "Epoch [705/3000]: 100%|██████████| 10/10 [00:00<00:00, 72.03it/s]\n"
          ]
        },
        {
          "output_type": "stream",
          "name": "stdout",
          "text": [
            "Epoch [705/3000]: Train loss: 0.6174, Valid loss: 1.1365\n"
          ]
        },
        {
          "output_type": "stream",
          "name": "stderr",
          "text": [
            "Epoch [706/3000]: 100%|██████████| 10/10 [00:00<00:00, 73.23it/s]\n"
          ]
        },
        {
          "output_type": "stream",
          "name": "stdout",
          "text": [
            "Epoch [706/3000]: Train loss: 0.6163, Valid loss: 1.1523\n"
          ]
        },
        {
          "output_type": "stream",
          "name": "stderr",
          "text": [
            "Epoch [707/3000]: 100%|██████████| 10/10 [00:00<00:00, 72.18it/s]\n"
          ]
        },
        {
          "output_type": "stream",
          "name": "stdout",
          "text": [
            "Epoch [707/3000]: Train loss: 0.5997, Valid loss: 1.1553\n"
          ]
        },
        {
          "output_type": "stream",
          "name": "stderr",
          "text": [
            "Epoch [708/3000]: 100%|██████████| 10/10 [00:00<00:00, 73.71it/s]\n"
          ]
        },
        {
          "output_type": "stream",
          "name": "stdout",
          "text": [
            "Epoch [708/3000]: Train loss: 0.6135, Valid loss: 1.1485\n"
          ]
        },
        {
          "output_type": "stream",
          "name": "stderr",
          "text": [
            "Epoch [709/3000]: 100%|██████████| 10/10 [00:00<00:00, 74.10it/s]\n"
          ]
        },
        {
          "output_type": "stream",
          "name": "stdout",
          "text": [
            "Epoch [709/3000]: Train loss: 0.6180, Valid loss: 1.2207\n"
          ]
        },
        {
          "output_type": "stream",
          "name": "stderr",
          "text": [
            "Epoch [710/3000]: 100%|██████████| 10/10 [00:00<00:00, 65.03it/s]\n"
          ]
        },
        {
          "output_type": "stream",
          "name": "stdout",
          "text": [
            "Epoch [710/3000]: Train loss: 0.6679, Valid loss: 1.1321\n"
          ]
        },
        {
          "output_type": "stream",
          "name": "stderr",
          "text": [
            "Epoch [711/3000]: 100%|██████████| 10/10 [00:00<00:00, 73.37it/s]\n"
          ]
        },
        {
          "output_type": "stream",
          "name": "stdout",
          "text": [
            "Epoch [711/3000]: Train loss: 0.5976, Valid loss: 1.1335\n"
          ]
        },
        {
          "output_type": "stream",
          "name": "stderr",
          "text": [
            "Epoch [712/3000]: 100%|██████████| 10/10 [00:00<00:00, 71.69it/s]\n"
          ]
        },
        {
          "output_type": "stream",
          "name": "stdout",
          "text": [
            "Epoch [712/3000]: Train loss: 0.6489, Valid loss: 1.2301\n"
          ]
        },
        {
          "output_type": "stream",
          "name": "stderr",
          "text": [
            "Epoch [713/3000]: 100%|██████████| 10/10 [00:00<00:00, 69.57it/s]\n"
          ]
        },
        {
          "output_type": "stream",
          "name": "stdout",
          "text": [
            "Epoch [713/3000]: Train loss: 0.6734, Valid loss: 1.1506\n"
          ]
        },
        {
          "output_type": "stream",
          "name": "stderr",
          "text": [
            "Epoch [714/3000]: 100%|██████████| 10/10 [00:00<00:00, 73.67it/s]\n"
          ]
        },
        {
          "output_type": "stream",
          "name": "stdout",
          "text": [
            "Epoch [714/3000]: Train loss: 0.5988, Valid loss: 1.1659\n"
          ]
        },
        {
          "output_type": "stream",
          "name": "stderr",
          "text": [
            "Epoch [715/3000]: 100%|██████████| 10/10 [00:00<00:00, 70.25it/s]\n"
          ]
        },
        {
          "output_type": "stream",
          "name": "stdout",
          "text": [
            "Epoch [715/3000]: Train loss: 0.6089, Valid loss: 1.1501\n"
          ]
        },
        {
          "output_type": "stream",
          "name": "stderr",
          "text": [
            "Epoch [716/3000]: 100%|██████████| 10/10 [00:00<00:00, 66.53it/s]\n"
          ]
        },
        {
          "output_type": "stream",
          "name": "stdout",
          "text": [
            "Epoch [716/3000]: Train loss: 0.5983, Valid loss: 1.1595\n"
          ]
        },
        {
          "output_type": "stream",
          "name": "stderr",
          "text": [
            "Epoch [717/3000]: 100%|██████████| 10/10 [00:00<00:00, 71.78it/s]\n"
          ]
        },
        {
          "output_type": "stream",
          "name": "stdout",
          "text": [
            "Epoch [717/3000]: Train loss: 0.6426, Valid loss: 1.2317\n"
          ]
        },
        {
          "output_type": "stream",
          "name": "stderr",
          "text": [
            "Epoch [718/3000]: 100%|██████████| 10/10 [00:00<00:00, 70.98it/s]\n"
          ]
        },
        {
          "output_type": "stream",
          "name": "stdout",
          "text": [
            "Epoch [718/3000]: Train loss: 0.6667, Valid loss: 1.1499\n"
          ]
        },
        {
          "output_type": "stream",
          "name": "stderr",
          "text": [
            "Epoch [719/3000]: 100%|██████████| 10/10 [00:00<00:00, 73.63it/s]\n"
          ]
        },
        {
          "output_type": "stream",
          "name": "stdout",
          "text": [
            "Epoch [719/3000]: Train loss: 0.6889, Valid loss: 1.2200\n"
          ]
        },
        {
          "output_type": "stream",
          "name": "stderr",
          "text": [
            "Epoch [720/3000]: 100%|██████████| 10/10 [00:00<00:00, 68.18it/s]\n"
          ]
        },
        {
          "output_type": "stream",
          "name": "stdout",
          "text": [
            "Epoch [720/3000]: Train loss: 0.6572, Valid loss: 1.1234\n"
          ]
        },
        {
          "output_type": "stream",
          "name": "stderr",
          "text": [
            "Epoch [721/3000]: 100%|██████████| 10/10 [00:00<00:00, 71.26it/s]\n"
          ]
        },
        {
          "output_type": "stream",
          "name": "stdout",
          "text": [
            "Epoch [721/3000]: Train loss: 0.6304, Valid loss: 1.1776\n"
          ]
        },
        {
          "output_type": "stream",
          "name": "stderr",
          "text": [
            "Epoch [722/3000]: 100%|██████████| 10/10 [00:00<00:00, 57.22it/s]\n"
          ]
        },
        {
          "output_type": "stream",
          "name": "stdout",
          "text": [
            "Epoch [722/3000]: Train loss: 0.6093, Valid loss: 1.1761\n"
          ]
        },
        {
          "output_type": "stream",
          "name": "stderr",
          "text": [
            "Epoch [723/3000]: 100%|██████████| 10/10 [00:00<00:00, 65.51it/s]\n"
          ]
        },
        {
          "output_type": "stream",
          "name": "stdout",
          "text": [
            "Epoch [723/3000]: Train loss: 0.6202, Valid loss: 1.1479\n"
          ]
        },
        {
          "output_type": "stream",
          "name": "stderr",
          "text": [
            "Epoch [724/3000]: 100%|██████████| 10/10 [00:00<00:00, 71.57it/s]\n"
          ]
        },
        {
          "output_type": "stream",
          "name": "stdout",
          "text": [
            "Epoch [724/3000]: Train loss: 0.6127, Valid loss: 1.1306\n"
          ]
        },
        {
          "output_type": "stream",
          "name": "stderr",
          "text": [
            "Epoch [725/3000]: 100%|██████████| 10/10 [00:00<00:00, 69.24it/s]\n"
          ]
        },
        {
          "output_type": "stream",
          "name": "stdout",
          "text": [
            "Epoch [725/3000]: Train loss: 0.6084, Valid loss: 1.1844\n"
          ]
        },
        {
          "output_type": "stream",
          "name": "stderr",
          "text": [
            "Epoch [726/3000]: 100%|██████████| 10/10 [00:00<00:00, 65.75it/s]\n"
          ]
        },
        {
          "output_type": "stream",
          "name": "stdout",
          "text": [
            "Epoch [726/3000]: Train loss: 0.6590, Valid loss: 1.1884\n"
          ]
        },
        {
          "output_type": "stream",
          "name": "stderr",
          "text": [
            "Epoch [727/3000]: 100%|██████████| 10/10 [00:00<00:00, 65.72it/s]\n"
          ]
        },
        {
          "output_type": "stream",
          "name": "stdout",
          "text": [
            "Epoch [727/3000]: Train loss: 0.7523, Valid loss: 1.2445\n"
          ]
        },
        {
          "output_type": "stream",
          "name": "stderr",
          "text": [
            "Epoch [728/3000]: 100%|██████████| 10/10 [00:00<00:00, 62.10it/s]\n"
          ]
        },
        {
          "output_type": "stream",
          "name": "stdout",
          "text": [
            "Epoch [728/3000]: Train loss: 0.6989, Valid loss: 1.1321\n"
          ]
        },
        {
          "output_type": "stream",
          "name": "stderr",
          "text": [
            "Epoch [729/3000]: 100%|██████████| 10/10 [00:00<00:00, 67.65it/s]\n"
          ]
        },
        {
          "output_type": "stream",
          "name": "stdout",
          "text": [
            "Epoch [729/3000]: Train loss: 0.5624, Valid loss: 1.1201\n",
            "Saving model with loss 1.120...\n"
          ]
        },
        {
          "output_type": "stream",
          "name": "stderr",
          "text": [
            "Epoch [730/3000]: 100%|██████████| 10/10 [00:00<00:00, 69.98it/s]\n"
          ]
        },
        {
          "output_type": "stream",
          "name": "stdout",
          "text": [
            "Epoch [730/3000]: Train loss: 0.5536, Valid loss: 1.1666\n"
          ]
        },
        {
          "output_type": "stream",
          "name": "stderr",
          "text": [
            "Epoch [731/3000]: 100%|██████████| 10/10 [00:00<00:00, 72.82it/s]\n"
          ]
        },
        {
          "output_type": "stream",
          "name": "stdout",
          "text": [
            "Epoch [731/3000]: Train loss: 0.5763, Valid loss: 1.1333\n"
          ]
        },
        {
          "output_type": "stream",
          "name": "stderr",
          "text": [
            "Epoch [732/3000]: 100%|██████████| 10/10 [00:00<00:00, 72.14it/s]\n"
          ]
        },
        {
          "output_type": "stream",
          "name": "stdout",
          "text": [
            "Epoch [732/3000]: Train loss: 0.6060, Valid loss: 1.1724\n"
          ]
        },
        {
          "output_type": "stream",
          "name": "stderr",
          "text": [
            "Epoch [733/3000]: 100%|██████████| 10/10 [00:00<00:00, 66.00it/s]\n"
          ]
        },
        {
          "output_type": "stream",
          "name": "stdout",
          "text": [
            "Epoch [733/3000]: Train loss: 0.6157, Valid loss: 1.1387\n"
          ]
        },
        {
          "output_type": "stream",
          "name": "stderr",
          "text": [
            "Epoch [734/3000]: 100%|██████████| 10/10 [00:00<00:00, 70.56it/s]\n"
          ]
        },
        {
          "output_type": "stream",
          "name": "stdout",
          "text": [
            "Epoch [734/3000]: Train loss: 0.5895, Valid loss: 1.2132\n"
          ]
        },
        {
          "output_type": "stream",
          "name": "stderr",
          "text": [
            "Epoch [735/3000]: 100%|██████████| 10/10 [00:00<00:00, 69.79it/s]\n"
          ]
        },
        {
          "output_type": "stream",
          "name": "stdout",
          "text": [
            "Epoch [735/3000]: Train loss: 0.6628, Valid loss: 1.2226\n"
          ]
        },
        {
          "output_type": "stream",
          "name": "stderr",
          "text": [
            "Epoch [736/3000]: 100%|██████████| 10/10 [00:00<00:00, 71.26it/s]\n"
          ]
        },
        {
          "output_type": "stream",
          "name": "stdout",
          "text": [
            "Epoch [736/3000]: Train loss: 0.6876, Valid loss: 1.1581\n"
          ]
        },
        {
          "output_type": "stream",
          "name": "stderr",
          "text": [
            "Epoch [737/3000]: 100%|██████████| 10/10 [00:00<00:00, 70.06it/s]\n"
          ]
        },
        {
          "output_type": "stream",
          "name": "stdout",
          "text": [
            "Epoch [737/3000]: Train loss: 0.6314, Valid loss: 1.1304\n"
          ]
        },
        {
          "output_type": "stream",
          "name": "stderr",
          "text": [
            "Epoch [738/3000]: 100%|██████████| 10/10 [00:00<00:00, 72.13it/s]\n"
          ]
        },
        {
          "output_type": "stream",
          "name": "stdout",
          "text": [
            "Epoch [738/3000]: Train loss: 0.5729, Valid loss: 1.1438\n"
          ]
        },
        {
          "output_type": "stream",
          "name": "stderr",
          "text": [
            "Epoch [739/3000]: 100%|██████████| 10/10 [00:00<00:00, 61.95it/s]\n"
          ]
        },
        {
          "output_type": "stream",
          "name": "stdout",
          "text": [
            "Epoch [739/3000]: Train loss: 0.6047, Valid loss: 1.1854\n"
          ]
        },
        {
          "output_type": "stream",
          "name": "stderr",
          "text": [
            "Epoch [740/3000]: 100%|██████████| 10/10 [00:00<00:00, 65.51it/s]\n"
          ]
        },
        {
          "output_type": "stream",
          "name": "stdout",
          "text": [
            "Epoch [740/3000]: Train loss: 0.5582, Valid loss: 1.1996\n"
          ]
        },
        {
          "output_type": "stream",
          "name": "stderr",
          "text": [
            "Epoch [741/3000]: 100%|██████████| 10/10 [00:00<00:00, 67.46it/s]\n"
          ]
        },
        {
          "output_type": "stream",
          "name": "stdout",
          "text": [
            "Epoch [741/3000]: Train loss: 0.5842, Valid loss: 1.1290\n"
          ]
        },
        {
          "output_type": "stream",
          "name": "stderr",
          "text": [
            "Epoch [742/3000]: 100%|██████████| 10/10 [00:00<00:00, 69.75it/s]\n"
          ]
        },
        {
          "output_type": "stream",
          "name": "stdout",
          "text": [
            "Epoch [742/3000]: Train loss: 0.6675, Valid loss: 1.1808\n"
          ]
        },
        {
          "output_type": "stream",
          "name": "stderr",
          "text": [
            "Epoch [743/3000]: 100%|██████████| 10/10 [00:00<00:00, 72.65it/s]\n"
          ]
        },
        {
          "output_type": "stream",
          "name": "stdout",
          "text": [
            "Epoch [743/3000]: Train loss: 0.6401, Valid loss: 1.2040\n"
          ]
        },
        {
          "output_type": "stream",
          "name": "stderr",
          "text": [
            "Epoch [744/3000]: 100%|██████████| 10/10 [00:00<00:00, 68.34it/s]\n"
          ]
        },
        {
          "output_type": "stream",
          "name": "stdout",
          "text": [
            "Epoch [744/3000]: Train loss: 0.6533, Valid loss: 1.1379\n"
          ]
        },
        {
          "output_type": "stream",
          "name": "stderr",
          "text": [
            "Epoch [745/3000]: 100%|██████████| 10/10 [00:00<00:00, 62.70it/s]\n"
          ]
        },
        {
          "output_type": "stream",
          "name": "stdout",
          "text": [
            "Epoch [745/3000]: Train loss: 0.6003, Valid loss: 1.1416\n"
          ]
        },
        {
          "output_type": "stream",
          "name": "stderr",
          "text": [
            "Epoch [746/3000]: 100%|██████████| 10/10 [00:00<00:00, 70.31it/s]\n"
          ]
        },
        {
          "output_type": "stream",
          "name": "stdout",
          "text": [
            "Epoch [746/3000]: Train loss: 0.5845, Valid loss: 1.2365\n"
          ]
        },
        {
          "output_type": "stream",
          "name": "stderr",
          "text": [
            "Epoch [747/3000]: 100%|██████████| 10/10 [00:00<00:00, 69.50it/s]\n"
          ]
        },
        {
          "output_type": "stream",
          "name": "stdout",
          "text": [
            "Epoch [747/3000]: Train loss: 0.6513, Valid loss: 1.1909\n"
          ]
        },
        {
          "output_type": "stream",
          "name": "stderr",
          "text": [
            "Epoch [748/3000]: 100%|██████████| 10/10 [00:00<00:00, 71.46it/s]\n"
          ]
        },
        {
          "output_type": "stream",
          "name": "stdout",
          "text": [
            "Epoch [748/3000]: Train loss: 0.6037, Valid loss: 1.1926\n"
          ]
        },
        {
          "output_type": "stream",
          "name": "stderr",
          "text": [
            "Epoch [749/3000]: 100%|██████████| 10/10 [00:00<00:00, 63.10it/s]\n"
          ]
        },
        {
          "output_type": "stream",
          "name": "stdout",
          "text": [
            "Epoch [749/3000]: Train loss: 0.6343, Valid loss: 1.1736\n"
          ]
        },
        {
          "output_type": "stream",
          "name": "stderr",
          "text": [
            "Epoch [750/3000]: 100%|██████████| 10/10 [00:00<00:00, 68.79it/s]\n"
          ]
        },
        {
          "output_type": "stream",
          "name": "stdout",
          "text": [
            "Epoch [750/3000]: Train loss: 0.6013, Valid loss: 1.1290\n"
          ]
        },
        {
          "output_type": "stream",
          "name": "stderr",
          "text": [
            "Epoch [751/3000]: 100%|██████████| 10/10 [00:00<00:00, 65.07it/s]\n"
          ]
        },
        {
          "output_type": "stream",
          "name": "stdout",
          "text": [
            "Epoch [751/3000]: Train loss: 0.5780, Valid loss: 1.1665\n"
          ]
        },
        {
          "output_type": "stream",
          "name": "stderr",
          "text": [
            "Epoch [752/3000]: 100%|██████████| 10/10 [00:00<00:00, 70.49it/s]\n"
          ]
        },
        {
          "output_type": "stream",
          "name": "stdout",
          "text": [
            "Epoch [752/3000]: Train loss: 0.5686, Valid loss: 1.1589\n"
          ]
        },
        {
          "output_type": "stream",
          "name": "stderr",
          "text": [
            "Epoch [753/3000]: 100%|██████████| 10/10 [00:00<00:00, 68.22it/s]\n"
          ]
        },
        {
          "output_type": "stream",
          "name": "stdout",
          "text": [
            "Epoch [753/3000]: Train loss: 0.6055, Valid loss: 1.1569\n"
          ]
        },
        {
          "output_type": "stream",
          "name": "stderr",
          "text": [
            "Epoch [754/3000]: 100%|██████████| 10/10 [00:00<00:00, 69.27it/s]\n"
          ]
        },
        {
          "output_type": "stream",
          "name": "stdout",
          "text": [
            "Epoch [754/3000]: Train loss: 0.5903, Valid loss: 1.1295\n"
          ]
        },
        {
          "output_type": "stream",
          "name": "stderr",
          "text": [
            "Epoch [755/3000]: 100%|██████████| 10/10 [00:00<00:00, 73.47it/s]\n"
          ]
        },
        {
          "output_type": "stream",
          "name": "stdout",
          "text": [
            "Epoch [755/3000]: Train loss: 0.5506, Valid loss: 1.1592\n"
          ]
        },
        {
          "output_type": "stream",
          "name": "stderr",
          "text": [
            "Epoch [756/3000]: 100%|██████████| 10/10 [00:00<00:00, 67.63it/s]\n"
          ]
        },
        {
          "output_type": "stream",
          "name": "stdout",
          "text": [
            "Epoch [756/3000]: Train loss: 0.5797, Valid loss: 1.1240\n"
          ]
        },
        {
          "output_type": "stream",
          "name": "stderr",
          "text": [
            "Epoch [757/3000]: 100%|██████████| 10/10 [00:00<00:00, 52.21it/s]\n"
          ]
        },
        {
          "output_type": "stream",
          "name": "stdout",
          "text": [
            "Epoch [757/3000]: Train loss: 0.5951, Valid loss: 1.1281\n"
          ]
        },
        {
          "output_type": "stream",
          "name": "stderr",
          "text": [
            "Epoch [758/3000]: 100%|██████████| 10/10 [00:00<00:00, 53.58it/s]\n"
          ]
        },
        {
          "output_type": "stream",
          "name": "stdout",
          "text": [
            "Epoch [758/3000]: Train loss: 0.6339, Valid loss: 1.1962\n"
          ]
        },
        {
          "output_type": "stream",
          "name": "stderr",
          "text": [
            "Epoch [759/3000]: 100%|██████████| 10/10 [00:00<00:00, 54.21it/s]\n"
          ]
        },
        {
          "output_type": "stream",
          "name": "stdout",
          "text": [
            "Epoch [759/3000]: Train loss: 0.6558, Valid loss: 1.1908\n"
          ]
        },
        {
          "output_type": "stream",
          "name": "stderr",
          "text": [
            "Epoch [760/3000]: 100%|██████████| 10/10 [00:00<00:00, 52.90it/s]\n"
          ]
        },
        {
          "output_type": "stream",
          "name": "stdout",
          "text": [
            "Epoch [760/3000]: Train loss: 0.6313, Valid loss: 1.1188\n",
            "Saving model with loss 1.119...\n"
          ]
        },
        {
          "output_type": "stream",
          "name": "stderr",
          "text": [
            "Epoch [761/3000]: 100%|██████████| 10/10 [00:00<00:00, 50.84it/s]\n"
          ]
        },
        {
          "output_type": "stream",
          "name": "stdout",
          "text": [
            "Epoch [761/3000]: Train loss: 0.5562, Valid loss: 1.1237\n"
          ]
        },
        {
          "output_type": "stream",
          "name": "stderr",
          "text": [
            "Epoch [762/3000]: 100%|██████████| 10/10 [00:00<00:00, 59.85it/s]\n"
          ]
        },
        {
          "output_type": "stream",
          "name": "stdout",
          "text": [
            "Epoch [762/3000]: Train loss: 0.5660, Valid loss: 1.1998\n"
          ]
        },
        {
          "output_type": "stream",
          "name": "stderr",
          "text": [
            "Epoch [763/3000]: 100%|██████████| 10/10 [00:00<00:00, 60.71it/s]\n"
          ]
        },
        {
          "output_type": "stream",
          "name": "stdout",
          "text": [
            "Epoch [763/3000]: Train loss: 0.6183, Valid loss: 1.2252\n"
          ]
        },
        {
          "output_type": "stream",
          "name": "stderr",
          "text": [
            "Epoch [764/3000]: 100%|██████████| 10/10 [00:00<00:00, 50.32it/s]\n"
          ]
        },
        {
          "output_type": "stream",
          "name": "stdout",
          "text": [
            "Epoch [764/3000]: Train loss: 0.6987, Valid loss: 1.2344\n"
          ]
        },
        {
          "output_type": "stream",
          "name": "stderr",
          "text": [
            "Epoch [765/3000]: 100%|██████████| 10/10 [00:00<00:00, 52.57it/s]\n"
          ]
        },
        {
          "output_type": "stream",
          "name": "stdout",
          "text": [
            "Epoch [765/3000]: Train loss: 0.7060, Valid loss: 1.1590\n"
          ]
        },
        {
          "output_type": "stream",
          "name": "stderr",
          "text": [
            "Epoch [766/3000]: 100%|██████████| 10/10 [00:00<00:00, 46.94it/s]\n"
          ]
        },
        {
          "output_type": "stream",
          "name": "stdout",
          "text": [
            "Epoch [766/3000]: Train loss: 0.6161, Valid loss: 1.1493\n"
          ]
        },
        {
          "output_type": "stream",
          "name": "stderr",
          "text": [
            "Epoch [767/3000]: 100%|██████████| 10/10 [00:00<00:00, 55.82it/s]\n"
          ]
        },
        {
          "output_type": "stream",
          "name": "stdout",
          "text": [
            "Epoch [767/3000]: Train loss: 0.6495, Valid loss: 1.1827\n"
          ]
        },
        {
          "output_type": "stream",
          "name": "stderr",
          "text": [
            "Epoch [768/3000]: 100%|██████████| 10/10 [00:00<00:00, 50.87it/s]\n"
          ]
        },
        {
          "output_type": "stream",
          "name": "stdout",
          "text": [
            "Epoch [768/3000]: Train loss: 0.6188, Valid loss: 1.2012\n"
          ]
        },
        {
          "output_type": "stream",
          "name": "stderr",
          "text": [
            "Epoch [769/3000]: 100%|██████████| 10/10 [00:00<00:00, 54.44it/s]\n"
          ]
        },
        {
          "output_type": "stream",
          "name": "stdout",
          "text": [
            "Epoch [769/3000]: Train loss: 0.6774, Valid loss: 1.2173\n"
          ]
        },
        {
          "output_type": "stream",
          "name": "stderr",
          "text": [
            "Epoch [770/3000]: 100%|██████████| 10/10 [00:00<00:00, 59.74it/s]\n"
          ]
        },
        {
          "output_type": "stream",
          "name": "stdout",
          "text": [
            "Epoch [770/3000]: Train loss: 0.6471, Valid loss: 1.1652\n"
          ]
        },
        {
          "output_type": "stream",
          "name": "stderr",
          "text": [
            "Epoch [771/3000]: 100%|██████████| 10/10 [00:00<00:00, 55.00it/s]\n"
          ]
        },
        {
          "output_type": "stream",
          "name": "stdout",
          "text": [
            "Epoch [771/3000]: Train loss: 0.5928, Valid loss: 1.1342\n"
          ]
        },
        {
          "output_type": "stream",
          "name": "stderr",
          "text": [
            "Epoch [772/3000]: 100%|██████████| 10/10 [00:00<00:00, 58.03it/s]\n"
          ]
        },
        {
          "output_type": "stream",
          "name": "stdout",
          "text": [
            "Epoch [772/3000]: Train loss: 0.5655, Valid loss: 1.1228\n"
          ]
        },
        {
          "output_type": "stream",
          "name": "stderr",
          "text": [
            "Epoch [773/3000]: 100%|██████████| 10/10 [00:00<00:00, 53.71it/s]\n"
          ]
        },
        {
          "output_type": "stream",
          "name": "stdout",
          "text": [
            "Epoch [773/3000]: Train loss: 0.5946, Valid loss: 1.1227\n"
          ]
        },
        {
          "output_type": "stream",
          "name": "stderr",
          "text": [
            "Epoch [774/3000]: 100%|██████████| 10/10 [00:00<00:00, 59.41it/s]"
          ]
        },
        {
          "output_type": "stream",
          "name": "stdout",
          "text": [
            "Epoch [774/3000]: Train loss: 0.5825, Valid loss: 1.1359"
          ]
        },
        {
          "output_type": "stream",
          "name": "stderr",
          "text": [
            "\n"
          ]
        },
        {
          "output_type": "stream",
          "name": "stdout",
          "text": [
            "\n"
          ]
        },
        {
          "output_type": "stream",
          "name": "stderr",
          "text": [
            "Epoch [775/3000]: 100%|██████████| 10/10 [00:00<00:00, 55.95it/s]\n"
          ]
        },
        {
          "output_type": "stream",
          "name": "stdout",
          "text": [
            "Epoch [775/3000]: Train loss: 0.5593, Valid loss: 1.1136\n",
            "Saving model with loss 1.114...\n"
          ]
        },
        {
          "output_type": "stream",
          "name": "stderr",
          "text": [
            "Epoch [776/3000]: 100%|██████████| 10/10 [00:00<00:00, 50.89it/s]\n"
          ]
        },
        {
          "output_type": "stream",
          "name": "stdout",
          "text": [
            "Epoch [776/3000]: Train loss: 0.5429, Valid loss: 1.1568\n"
          ]
        },
        {
          "output_type": "stream",
          "name": "stderr",
          "text": [
            "Epoch [777/3000]: 100%|██████████| 10/10 [00:00<00:00, 50.95it/s]\n"
          ]
        },
        {
          "output_type": "stream",
          "name": "stdout",
          "text": [
            "Epoch [777/3000]: Train loss: 0.5973, Valid loss: 1.1588\n"
          ]
        },
        {
          "output_type": "stream",
          "name": "stderr",
          "text": [
            "Epoch [778/3000]: 100%|██████████| 10/10 [00:00<00:00, 51.93it/s]\n"
          ]
        },
        {
          "output_type": "stream",
          "name": "stdout",
          "text": [
            "Epoch [778/3000]: Train loss: 0.5904, Valid loss: 1.1718\n"
          ]
        },
        {
          "output_type": "stream",
          "name": "stderr",
          "text": [
            "Epoch [779/3000]: 100%|██████████| 10/10 [00:00<00:00, 46.93it/s]\n"
          ]
        },
        {
          "output_type": "stream",
          "name": "stdout",
          "text": [
            "Epoch [779/3000]: Train loss: 0.6529, Valid loss: 1.1752\n"
          ]
        },
        {
          "output_type": "stream",
          "name": "stderr",
          "text": [
            "Epoch [780/3000]: 100%|██████████| 10/10 [00:00<00:00, 53.97it/s]\n"
          ]
        },
        {
          "output_type": "stream",
          "name": "stdout",
          "text": [
            "Epoch [780/3000]: Train loss: 0.6168, Valid loss: 1.1489\n"
          ]
        },
        {
          "output_type": "stream",
          "name": "stderr",
          "text": [
            "Epoch [781/3000]: 100%|██████████| 10/10 [00:00<00:00, 46.41it/s]\n"
          ]
        },
        {
          "output_type": "stream",
          "name": "stdout",
          "text": [
            "Epoch [781/3000]: Train loss: 0.5699, Valid loss: 1.1348\n"
          ]
        },
        {
          "output_type": "stream",
          "name": "stderr",
          "text": [
            "Epoch [782/3000]: 100%|██████████| 10/10 [00:00<00:00, 54.49it/s]\n"
          ]
        },
        {
          "output_type": "stream",
          "name": "stdout",
          "text": [
            "Epoch [782/3000]: Train loss: 0.5478, Valid loss: 1.1550\n"
          ]
        },
        {
          "output_type": "stream",
          "name": "stderr",
          "text": [
            "Epoch [783/3000]: 100%|██████████| 10/10 [00:00<00:00, 48.21it/s]\n"
          ]
        },
        {
          "output_type": "stream",
          "name": "stdout",
          "text": [
            "Epoch [783/3000]: Train loss: 0.5726, Valid loss: 1.1896\n"
          ]
        },
        {
          "output_type": "stream",
          "name": "stderr",
          "text": [
            "Epoch [784/3000]: 100%|██████████| 10/10 [00:00<00:00, 52.70it/s]\n"
          ]
        },
        {
          "output_type": "stream",
          "name": "stdout",
          "text": [
            "Epoch [784/3000]: Train loss: 0.6232, Valid loss: 1.1289\n"
          ]
        },
        {
          "output_type": "stream",
          "name": "stderr",
          "text": [
            "Epoch [785/3000]: 100%|██████████| 10/10 [00:00<00:00, 66.85it/s]\n"
          ]
        },
        {
          "output_type": "stream",
          "name": "stdout",
          "text": [
            "Epoch [785/3000]: Train loss: 0.5910, Valid loss: 1.2183\n"
          ]
        },
        {
          "output_type": "stream",
          "name": "stderr",
          "text": [
            "Epoch [786/3000]: 100%|██████████| 10/10 [00:00<00:00, 57.81it/s]\n"
          ]
        },
        {
          "output_type": "stream",
          "name": "stdout",
          "text": [
            "Epoch [786/3000]: Train loss: 0.6667, Valid loss: 1.1433\n"
          ]
        },
        {
          "output_type": "stream",
          "name": "stderr",
          "text": [
            "Epoch [787/3000]: 100%|██████████| 10/10 [00:00<00:00, 67.81it/s]\n"
          ]
        },
        {
          "output_type": "stream",
          "name": "stdout",
          "text": [
            "Epoch [787/3000]: Train loss: 0.7330, Valid loss: 1.2722\n"
          ]
        },
        {
          "output_type": "stream",
          "name": "stderr",
          "text": [
            "Epoch [788/3000]: 100%|██████████| 10/10 [00:00<00:00, 66.39it/s]\n"
          ]
        },
        {
          "output_type": "stream",
          "name": "stdout",
          "text": [
            "Epoch [788/3000]: Train loss: 0.6452, Valid loss: 1.1523\n"
          ]
        },
        {
          "output_type": "stream",
          "name": "stderr",
          "text": [
            "Epoch [789/3000]: 100%|██████████| 10/10 [00:00<00:00, 70.74it/s]\n"
          ]
        },
        {
          "output_type": "stream",
          "name": "stdout",
          "text": [
            "Epoch [789/3000]: Train loss: 0.6592, Valid loss: 1.1418\n"
          ]
        },
        {
          "output_type": "stream",
          "name": "stderr",
          "text": [
            "Epoch [790/3000]: 100%|██████████| 10/10 [00:00<00:00, 71.77it/s]\n"
          ]
        },
        {
          "output_type": "stream",
          "name": "stdout",
          "text": [
            "Epoch [790/3000]: Train loss: 0.5890, Valid loss: 1.1295\n"
          ]
        },
        {
          "output_type": "stream",
          "name": "stderr",
          "text": [
            "Epoch [791/3000]: 100%|██████████| 10/10 [00:00<00:00, 67.37it/s]\n"
          ]
        },
        {
          "output_type": "stream",
          "name": "stdout",
          "text": [
            "Epoch [791/3000]: Train loss: 0.5501, Valid loss: 1.1768\n"
          ]
        },
        {
          "output_type": "stream",
          "name": "stderr",
          "text": [
            "Epoch [792/3000]: 100%|██████████| 10/10 [00:00<00:00, 67.34it/s]\n"
          ]
        },
        {
          "output_type": "stream",
          "name": "stdout",
          "text": [
            "Epoch [792/3000]: Train loss: 0.6443, Valid loss: 1.1240\n"
          ]
        },
        {
          "output_type": "stream",
          "name": "stderr",
          "text": [
            "Epoch [793/3000]: 100%|██████████| 10/10 [00:00<00:00, 68.93it/s]\n"
          ]
        },
        {
          "output_type": "stream",
          "name": "stdout",
          "text": [
            "Epoch [793/3000]: Train loss: 0.6353, Valid loss: 1.2389\n"
          ]
        },
        {
          "output_type": "stream",
          "name": "stderr",
          "text": [
            "Epoch [794/3000]: 100%|██████████| 10/10 [00:00<00:00, 71.77it/s]\n"
          ]
        },
        {
          "output_type": "stream",
          "name": "stdout",
          "text": [
            "Epoch [794/3000]: Train loss: 0.6657, Valid loss: 1.1631\n"
          ]
        },
        {
          "output_type": "stream",
          "name": "stderr",
          "text": [
            "Epoch [795/3000]: 100%|██████████| 10/10 [00:00<00:00, 72.06it/s]\n"
          ]
        },
        {
          "output_type": "stream",
          "name": "stdout",
          "text": [
            "Epoch [795/3000]: Train loss: 0.6295, Valid loss: 1.1810\n"
          ]
        },
        {
          "output_type": "stream",
          "name": "stderr",
          "text": [
            "Epoch [796/3000]: 100%|██████████| 10/10 [00:00<00:00, 70.01it/s]\n"
          ]
        },
        {
          "output_type": "stream",
          "name": "stdout",
          "text": [
            "Epoch [796/3000]: Train loss: 0.7094, Valid loss: 1.4298\n"
          ]
        },
        {
          "output_type": "stream",
          "name": "stderr",
          "text": [
            "Epoch [797/3000]: 100%|██████████| 10/10 [00:00<00:00, 72.62it/s]\n"
          ]
        },
        {
          "output_type": "stream",
          "name": "stdout",
          "text": [
            "Epoch [797/3000]: Train loss: 0.8251, Valid loss: 1.2252\n"
          ]
        },
        {
          "output_type": "stream",
          "name": "stderr",
          "text": [
            "Epoch [798/3000]: 100%|██████████| 10/10 [00:00<00:00, 64.49it/s]\n"
          ]
        },
        {
          "output_type": "stream",
          "name": "stdout",
          "text": [
            "Epoch [798/3000]: Train loss: 0.6366, Valid loss: 1.1716\n"
          ]
        },
        {
          "output_type": "stream",
          "name": "stderr",
          "text": [
            "Epoch [799/3000]: 100%|██████████| 10/10 [00:00<00:00, 72.41it/s]\n"
          ]
        },
        {
          "output_type": "stream",
          "name": "stdout",
          "text": [
            "Epoch [799/3000]: Train loss: 0.6335, Valid loss: 1.3254\n"
          ]
        },
        {
          "output_type": "stream",
          "name": "stderr",
          "text": [
            "Epoch [800/3000]: 100%|██████████| 10/10 [00:00<00:00, 70.91it/s]\n"
          ]
        },
        {
          "output_type": "stream",
          "name": "stdout",
          "text": [
            "Epoch [800/3000]: Train loss: 0.6925, Valid loss: 1.2126\n"
          ]
        },
        {
          "output_type": "stream",
          "name": "stderr",
          "text": [
            "Epoch [801/3000]: 100%|██████████| 10/10 [00:00<00:00, 70.14it/s]\n"
          ]
        },
        {
          "output_type": "stream",
          "name": "stdout",
          "text": [
            "Epoch [801/3000]: Train loss: 0.6801, Valid loss: 1.1428\n"
          ]
        },
        {
          "output_type": "stream",
          "name": "stderr",
          "text": [
            "Epoch [802/3000]: 100%|██████████| 10/10 [00:00<00:00, 69.49it/s]\n"
          ]
        },
        {
          "output_type": "stream",
          "name": "stdout",
          "text": [
            "Epoch [802/3000]: Train loss: 0.6104, Valid loss: 1.1525\n"
          ]
        },
        {
          "output_type": "stream",
          "name": "stderr",
          "text": [
            "Epoch [803/3000]: 100%|██████████| 10/10 [00:00<00:00, 71.98it/s]\n"
          ]
        },
        {
          "output_type": "stream",
          "name": "stdout",
          "text": [
            "Epoch [803/3000]: Train loss: 0.5982, Valid loss: 1.2038\n"
          ]
        },
        {
          "output_type": "stream",
          "name": "stderr",
          "text": [
            "Epoch [804/3000]: 100%|██████████| 10/10 [00:00<00:00, 63.89it/s]\n"
          ]
        },
        {
          "output_type": "stream",
          "name": "stdout",
          "text": [
            "Epoch [804/3000]: Train loss: 0.6948, Valid loss: 1.2009\n"
          ]
        },
        {
          "output_type": "stream",
          "name": "stderr",
          "text": [
            "Epoch [805/3000]: 100%|██████████| 10/10 [00:00<00:00, 71.24it/s]\n"
          ]
        },
        {
          "output_type": "stream",
          "name": "stdout",
          "text": [
            "Epoch [805/3000]: Train loss: 0.6922, Valid loss: 1.2713\n"
          ]
        },
        {
          "output_type": "stream",
          "name": "stderr",
          "text": [
            "Epoch [806/3000]: 100%|██████████| 10/10 [00:00<00:00, 66.02it/s]\n"
          ]
        },
        {
          "output_type": "stream",
          "name": "stdout",
          "text": [
            "Epoch [806/3000]: Train loss: 0.6842, Valid loss: 1.2300\n"
          ]
        },
        {
          "output_type": "stream",
          "name": "stderr",
          "text": [
            "Epoch [807/3000]: 100%|██████████| 10/10 [00:00<00:00, 69.30it/s]\n"
          ]
        },
        {
          "output_type": "stream",
          "name": "stdout",
          "text": [
            "Epoch [807/3000]: Train loss: 0.6943, Valid loss: 1.2879\n"
          ]
        },
        {
          "output_type": "stream",
          "name": "stderr",
          "text": [
            "Epoch [808/3000]: 100%|██████████| 10/10 [00:00<00:00, 67.14it/s]\n"
          ]
        },
        {
          "output_type": "stream",
          "name": "stdout",
          "text": [
            "Epoch [808/3000]: Train loss: 0.7037, Valid loss: 1.2139\n"
          ]
        },
        {
          "output_type": "stream",
          "name": "stderr",
          "text": [
            "Epoch [809/3000]: 100%|██████████| 10/10 [00:00<00:00, 72.97it/s]\n"
          ]
        },
        {
          "output_type": "stream",
          "name": "stdout",
          "text": [
            "Epoch [809/3000]: Train loss: 0.6434, Valid loss: 1.2051\n"
          ]
        },
        {
          "output_type": "stream",
          "name": "stderr",
          "text": [
            "Epoch [810/3000]: 100%|██████████| 10/10 [00:00<00:00, 60.40it/s]\n"
          ]
        },
        {
          "output_type": "stream",
          "name": "stdout",
          "text": [
            "Epoch [810/3000]: Train loss: 0.6370, Valid loss: 1.1416\n"
          ]
        },
        {
          "output_type": "stream",
          "name": "stderr",
          "text": [
            "Epoch [811/3000]: 100%|██████████| 10/10 [00:00<00:00, 70.92it/s]\n"
          ]
        },
        {
          "output_type": "stream",
          "name": "stdout",
          "text": [
            "Epoch [811/3000]: Train loss: 0.5492, Valid loss: 1.1358\n"
          ]
        },
        {
          "output_type": "stream",
          "name": "stderr",
          "text": [
            "Epoch [812/3000]: 100%|██████████| 10/10 [00:00<00:00, 72.47it/s]\n"
          ]
        },
        {
          "output_type": "stream",
          "name": "stdout",
          "text": [
            "Epoch [812/3000]: Train loss: 0.5824, Valid loss: 1.1567\n"
          ]
        },
        {
          "output_type": "stream",
          "name": "stderr",
          "text": [
            "Epoch [813/3000]: 100%|██████████| 10/10 [00:00<00:00, 69.17it/s]\n"
          ]
        },
        {
          "output_type": "stream",
          "name": "stdout",
          "text": [
            "Epoch [813/3000]: Train loss: 0.5932, Valid loss: 1.1261\n"
          ]
        },
        {
          "output_type": "stream",
          "name": "stderr",
          "text": [
            "Epoch [814/3000]: 100%|██████████| 10/10 [00:00<00:00, 71.31it/s]\n"
          ]
        },
        {
          "output_type": "stream",
          "name": "stdout",
          "text": [
            "Epoch [814/3000]: Train loss: 0.5736, Valid loss: 1.1598\n"
          ]
        },
        {
          "output_type": "stream",
          "name": "stderr",
          "text": [
            "Epoch [815/3000]: 100%|██████████| 10/10 [00:00<00:00, 72.50it/s]\n"
          ]
        },
        {
          "output_type": "stream",
          "name": "stdout",
          "text": [
            "Epoch [815/3000]: Train loss: 0.5965, Valid loss: 1.1643\n"
          ]
        },
        {
          "output_type": "stream",
          "name": "stderr",
          "text": [
            "Epoch [816/3000]: 100%|██████████| 10/10 [00:00<00:00, 61.01it/s]\n"
          ]
        },
        {
          "output_type": "stream",
          "name": "stdout",
          "text": [
            "Epoch [816/3000]: Train loss: 0.5525, Valid loss: 1.1187\n"
          ]
        },
        {
          "output_type": "stream",
          "name": "stderr",
          "text": [
            "Epoch [817/3000]: 100%|██████████| 10/10 [00:00<00:00, 72.13it/s]\n"
          ]
        },
        {
          "output_type": "stream",
          "name": "stdout",
          "text": [
            "Epoch [817/3000]: Train loss: 0.5250, Valid loss: 1.1463\n"
          ]
        },
        {
          "output_type": "stream",
          "name": "stderr",
          "text": [
            "Epoch [818/3000]: 100%|██████████| 10/10 [00:00<00:00, 69.48it/s]\n"
          ]
        },
        {
          "output_type": "stream",
          "name": "stdout",
          "text": [
            "Epoch [818/3000]: Train loss: 0.5796, Valid loss: 1.1317\n"
          ]
        },
        {
          "output_type": "stream",
          "name": "stderr",
          "text": [
            "Epoch [819/3000]: 100%|██████████| 10/10 [00:00<00:00, 68.11it/s]\n"
          ]
        },
        {
          "output_type": "stream",
          "name": "stdout",
          "text": [
            "Epoch [819/3000]: Train loss: 0.5717, Valid loss: 1.1377\n"
          ]
        },
        {
          "output_type": "stream",
          "name": "stderr",
          "text": [
            "Epoch [820/3000]: 100%|██████████| 10/10 [00:00<00:00, 70.70it/s]\n"
          ]
        },
        {
          "output_type": "stream",
          "name": "stdout",
          "text": [
            "Epoch [820/3000]: Train loss: 0.5905, Valid loss: 1.1411\n"
          ]
        },
        {
          "output_type": "stream",
          "name": "stderr",
          "text": [
            "Epoch [821/3000]: 100%|██████████| 10/10 [00:00<00:00, 70.15it/s]\n"
          ]
        },
        {
          "output_type": "stream",
          "name": "stdout",
          "text": [
            "Epoch [821/3000]: Train loss: 0.5882, Valid loss: 1.1863\n"
          ]
        },
        {
          "output_type": "stream",
          "name": "stderr",
          "text": [
            "Epoch [822/3000]: 100%|██████████| 10/10 [00:00<00:00, 62.96it/s]\n"
          ]
        },
        {
          "output_type": "stream",
          "name": "stdout",
          "text": [
            "Epoch [822/3000]: Train loss: 0.5661, Valid loss: 1.2079\n"
          ]
        },
        {
          "output_type": "stream",
          "name": "stderr",
          "text": [
            "Epoch [823/3000]: 100%|██████████| 10/10 [00:00<00:00, 68.03it/s]\n"
          ]
        },
        {
          "output_type": "stream",
          "name": "stdout",
          "text": [
            "Epoch [823/3000]: Train loss: 0.6116, Valid loss: 1.1304\n"
          ]
        },
        {
          "output_type": "stream",
          "name": "stderr",
          "text": [
            "Epoch [824/3000]: 100%|██████████| 10/10 [00:00<00:00, 69.95it/s]\n"
          ]
        },
        {
          "output_type": "stream",
          "name": "stdout",
          "text": [
            "Epoch [824/3000]: Train loss: 0.5567, Valid loss: 1.1948\n"
          ]
        },
        {
          "output_type": "stream",
          "name": "stderr",
          "text": [
            "Epoch [825/3000]: 100%|██████████| 10/10 [00:00<00:00, 68.02it/s]\n"
          ]
        },
        {
          "output_type": "stream",
          "name": "stdout",
          "text": [
            "Epoch [825/3000]: Train loss: 0.5591, Valid loss: 1.1096\n",
            "Saving model with loss 1.110...\n"
          ]
        },
        {
          "output_type": "stream",
          "name": "stderr",
          "text": [
            "Epoch [826/3000]: 100%|██████████| 10/10 [00:00<00:00, 73.68it/s]\n"
          ]
        },
        {
          "output_type": "stream",
          "name": "stdout",
          "text": [
            "Epoch [826/3000]: Train loss: 0.5654, Valid loss: 1.1604\n"
          ]
        },
        {
          "output_type": "stream",
          "name": "stderr",
          "text": [
            "Epoch [827/3000]: 100%|██████████| 10/10 [00:00<00:00, 69.70it/s]\n"
          ]
        },
        {
          "output_type": "stream",
          "name": "stdout",
          "text": [
            "Epoch [827/3000]: Train loss: 0.5784, Valid loss: 1.1461\n"
          ]
        },
        {
          "output_type": "stream",
          "name": "stderr",
          "text": [
            "Epoch [828/3000]: 100%|██████████| 10/10 [00:00<00:00, 68.03it/s]\n"
          ]
        },
        {
          "output_type": "stream",
          "name": "stdout",
          "text": [
            "Epoch [828/3000]: Train loss: 0.5223, Valid loss: 1.0977\n",
            "Saving model with loss 1.098...\n"
          ]
        },
        {
          "output_type": "stream",
          "name": "stderr",
          "text": [
            "Epoch [829/3000]: 100%|██████████| 10/10 [00:00<00:00, 73.23it/s]\n"
          ]
        },
        {
          "output_type": "stream",
          "name": "stdout",
          "text": [
            "Epoch [829/3000]: Train loss: 0.4992, Valid loss: 1.1197\n"
          ]
        },
        {
          "output_type": "stream",
          "name": "stderr",
          "text": [
            "Epoch [830/3000]: 100%|██████████| 10/10 [00:00<00:00, 70.69it/s]\n"
          ]
        },
        {
          "output_type": "stream",
          "name": "stdout",
          "text": [
            "Epoch [830/3000]: Train loss: 0.5127, Valid loss: 1.1193\n"
          ]
        },
        {
          "output_type": "stream",
          "name": "stderr",
          "text": [
            "Epoch [831/3000]: 100%|██████████| 10/10 [00:00<00:00, 72.19it/s]\n"
          ]
        },
        {
          "output_type": "stream",
          "name": "stdout",
          "text": [
            "Epoch [831/3000]: Train loss: 0.5238, Valid loss: 1.1734\n"
          ]
        },
        {
          "output_type": "stream",
          "name": "stderr",
          "text": [
            "Epoch [832/3000]: 100%|██████████| 10/10 [00:00<00:00, 71.17it/s]\n"
          ]
        },
        {
          "output_type": "stream",
          "name": "stdout",
          "text": [
            "Epoch [832/3000]: Train loss: 0.5373, Valid loss: 1.1233\n"
          ]
        },
        {
          "output_type": "stream",
          "name": "stderr",
          "text": [
            "Epoch [833/3000]: 100%|██████████| 10/10 [00:00<00:00, 75.30it/s]\n"
          ]
        },
        {
          "output_type": "stream",
          "name": "stdout",
          "text": [
            "Epoch [833/3000]: Train loss: 0.5379, Valid loss: 1.1402\n"
          ]
        },
        {
          "output_type": "stream",
          "name": "stderr",
          "text": [
            "Epoch [834/3000]: 100%|██████████| 10/10 [00:00<00:00, 63.90it/s]\n"
          ]
        },
        {
          "output_type": "stream",
          "name": "stdout",
          "text": [
            "Epoch [834/3000]: Train loss: 0.6054, Valid loss: 1.1630\n"
          ]
        },
        {
          "output_type": "stream",
          "name": "stderr",
          "text": [
            "Epoch [835/3000]: 100%|██████████| 10/10 [00:00<00:00, 71.83it/s]\n"
          ]
        },
        {
          "output_type": "stream",
          "name": "stdout",
          "text": [
            "Epoch [835/3000]: Train loss: 0.7048, Valid loss: 1.1643\n"
          ]
        },
        {
          "output_type": "stream",
          "name": "stderr",
          "text": [
            "Epoch [836/3000]: 100%|██████████| 10/10 [00:00<00:00, 73.37it/s]\n"
          ]
        },
        {
          "output_type": "stream",
          "name": "stdout",
          "text": [
            "Epoch [836/3000]: Train loss: 0.5972, Valid loss: 1.1377\n"
          ]
        },
        {
          "output_type": "stream",
          "name": "stderr",
          "text": [
            "Epoch [837/3000]: 100%|██████████| 10/10 [00:00<00:00, 71.94it/s]\n"
          ]
        },
        {
          "output_type": "stream",
          "name": "stdout",
          "text": [
            "Epoch [837/3000]: Train loss: 0.5881, Valid loss: 1.1101\n"
          ]
        },
        {
          "output_type": "stream",
          "name": "stderr",
          "text": [
            "Epoch [838/3000]: 100%|██████████| 10/10 [00:00<00:00, 70.23it/s]\n"
          ]
        },
        {
          "output_type": "stream",
          "name": "stdout",
          "text": [
            "Epoch [838/3000]: Train loss: 0.6205, Valid loss: 1.1204\n"
          ]
        },
        {
          "output_type": "stream",
          "name": "stderr",
          "text": [
            "Epoch [839/3000]: 100%|██████████| 10/10 [00:00<00:00, 68.66it/s]\n"
          ]
        },
        {
          "output_type": "stream",
          "name": "stdout",
          "text": [
            "Epoch [839/3000]: Train loss: 0.5320, Valid loss: 1.2131\n"
          ]
        },
        {
          "output_type": "stream",
          "name": "stderr",
          "text": [
            "Epoch [840/3000]: 100%|██████████| 10/10 [00:00<00:00, 64.83it/s]\n"
          ]
        },
        {
          "output_type": "stream",
          "name": "stdout",
          "text": [
            "Epoch [840/3000]: Train loss: 0.6567, Valid loss: 1.1110\n"
          ]
        },
        {
          "output_type": "stream",
          "name": "stderr",
          "text": [
            "Epoch [841/3000]: 100%|██████████| 10/10 [00:00<00:00, 55.67it/s]\n"
          ]
        },
        {
          "output_type": "stream",
          "name": "stdout",
          "text": [
            "Epoch [841/3000]: Train loss: 0.5566, Valid loss: 1.1560\n"
          ]
        },
        {
          "output_type": "stream",
          "name": "stderr",
          "text": [
            "Epoch [842/3000]: 100%|██████████| 10/10 [00:00<00:00, 54.81it/s]\n"
          ]
        },
        {
          "output_type": "stream",
          "name": "stdout",
          "text": [
            "Epoch [842/3000]: Train loss: 0.5553, Valid loss: 1.1044\n"
          ]
        },
        {
          "output_type": "stream",
          "name": "stderr",
          "text": [
            "Epoch [843/3000]: 100%|██████████| 10/10 [00:00<00:00, 53.47it/s]\n"
          ]
        },
        {
          "output_type": "stream",
          "name": "stdout",
          "text": [
            "Epoch [843/3000]: Train loss: 0.5416, Valid loss: 1.1199\n"
          ]
        },
        {
          "output_type": "stream",
          "name": "stderr",
          "text": [
            "Epoch [844/3000]: 100%|██████████| 10/10 [00:00<00:00, 16.64it/s]\n"
          ]
        },
        {
          "output_type": "stream",
          "name": "stdout",
          "text": [
            "Epoch [844/3000]: Train loss: 0.5617, Valid loss: 1.1352\n"
          ]
        },
        {
          "output_type": "stream",
          "name": "stderr",
          "text": [
            "Epoch [845/3000]: 100%|██████████| 10/10 [00:00<00:00, 54.29it/s]\n"
          ]
        },
        {
          "output_type": "stream",
          "name": "stdout",
          "text": [
            "Epoch [845/3000]: Train loss: 0.5806, Valid loss: 1.1889\n"
          ]
        },
        {
          "output_type": "stream",
          "name": "stderr",
          "text": [
            "Epoch [846/3000]: 100%|██████████| 10/10 [00:00<00:00, 54.59it/s]\n"
          ]
        },
        {
          "output_type": "stream",
          "name": "stdout",
          "text": [
            "Epoch [846/3000]: Train loss: 0.6125, Valid loss: 1.1793\n"
          ]
        },
        {
          "output_type": "stream",
          "name": "stderr",
          "text": [
            "Epoch [847/3000]: 100%|██████████| 10/10 [00:00<00:00, 57.32it/s]\n"
          ]
        },
        {
          "output_type": "stream",
          "name": "stdout",
          "text": [
            "Epoch [847/3000]: Train loss: 0.6145, Valid loss: 1.1245\n"
          ]
        },
        {
          "output_type": "stream",
          "name": "stderr",
          "text": [
            "Epoch [848/3000]: 100%|██████████| 10/10 [00:00<00:00, 54.61it/s]\n"
          ]
        },
        {
          "output_type": "stream",
          "name": "stdout",
          "text": [
            "Epoch [848/3000]: Train loss: 0.5984, Valid loss: 1.2232\n"
          ]
        },
        {
          "output_type": "stream",
          "name": "stderr",
          "text": [
            "Epoch [849/3000]: 100%|██████████| 10/10 [00:00<00:00, 64.79it/s]\n"
          ]
        },
        {
          "output_type": "stream",
          "name": "stdout",
          "text": [
            "Epoch [849/3000]: Train loss: 0.6040, Valid loss: 1.1522\n"
          ]
        },
        {
          "output_type": "stream",
          "name": "stderr",
          "text": [
            "Epoch [850/3000]: 100%|██████████| 10/10 [00:00<00:00, 61.83it/s]\n"
          ]
        },
        {
          "output_type": "stream",
          "name": "stdout",
          "text": [
            "Epoch [850/3000]: Train loss: 0.5940, Valid loss: 1.1287\n"
          ]
        },
        {
          "output_type": "stream",
          "name": "stderr",
          "text": [
            "Epoch [851/3000]: 100%|██████████| 10/10 [00:00<00:00, 52.29it/s]\n"
          ]
        },
        {
          "output_type": "stream",
          "name": "stdout",
          "text": [
            "Epoch [851/3000]: Train loss: 0.5471, Valid loss: 1.1148\n"
          ]
        },
        {
          "output_type": "stream",
          "name": "stderr",
          "text": [
            "Epoch [852/3000]: 100%|██████████| 10/10 [00:00<00:00, 51.02it/s]\n"
          ]
        },
        {
          "output_type": "stream",
          "name": "stdout",
          "text": [
            "Epoch [852/3000]: Train loss: 0.5593, Valid loss: 1.1090\n"
          ]
        },
        {
          "output_type": "stream",
          "name": "stderr",
          "text": [
            "Epoch [853/3000]: 100%|██████████| 10/10 [00:00<00:00, 57.79it/s]\n"
          ]
        },
        {
          "output_type": "stream",
          "name": "stdout",
          "text": [
            "Epoch [853/3000]: Train loss: 0.5306, Valid loss: 1.1123\n"
          ]
        },
        {
          "output_type": "stream",
          "name": "stderr",
          "text": [
            "Epoch [854/3000]: 100%|██████████| 10/10 [00:00<00:00, 60.76it/s]\n"
          ]
        },
        {
          "output_type": "stream",
          "name": "stdout",
          "text": [
            "Epoch [854/3000]: Train loss: 0.5288, Valid loss: 1.1254\n"
          ]
        },
        {
          "output_type": "stream",
          "name": "stderr",
          "text": [
            "Epoch [855/3000]: 100%|██████████| 10/10 [00:00<00:00, 56.59it/s]\n"
          ]
        },
        {
          "output_type": "stream",
          "name": "stdout",
          "text": [
            "Epoch [855/3000]: Train loss: 0.5357, Valid loss: 1.2036\n"
          ]
        },
        {
          "output_type": "stream",
          "name": "stderr",
          "text": [
            "Epoch [856/3000]: 100%|██████████| 10/10 [00:00<00:00, 62.52it/s]\n"
          ]
        },
        {
          "output_type": "stream",
          "name": "stdout",
          "text": [
            "Epoch [856/3000]: Train loss: 0.5829, Valid loss: 1.1607\n"
          ]
        },
        {
          "output_type": "stream",
          "name": "stderr",
          "text": [
            "Epoch [857/3000]: 100%|██████████| 10/10 [00:00<00:00, 59.99it/s]\n"
          ]
        },
        {
          "output_type": "stream",
          "name": "stdout",
          "text": [
            "Epoch [857/3000]: Train loss: 0.5679, Valid loss: 1.1793\n"
          ]
        },
        {
          "output_type": "stream",
          "name": "stderr",
          "text": [
            "Epoch [858/3000]: 100%|██████████| 10/10 [00:00<00:00, 55.69it/s]\n"
          ]
        },
        {
          "output_type": "stream",
          "name": "stdout",
          "text": [
            "Epoch [858/3000]: Train loss: 0.5940, Valid loss: 1.1681\n"
          ]
        },
        {
          "output_type": "stream",
          "name": "stderr",
          "text": [
            "Epoch [859/3000]: 100%|██████████| 10/10 [00:00<00:00, 56.24it/s]\n"
          ]
        },
        {
          "output_type": "stream",
          "name": "stdout",
          "text": [
            "Epoch [859/3000]: Train loss: 0.5641, Valid loss: 1.1045\n"
          ]
        },
        {
          "output_type": "stream",
          "name": "stderr",
          "text": [
            "Epoch [860/3000]: 100%|██████████| 10/10 [00:00<00:00, 45.36it/s]\n"
          ]
        },
        {
          "output_type": "stream",
          "name": "stdout",
          "text": [
            "Epoch [860/3000]: Train loss: 0.5412, Valid loss: 1.1210\n"
          ]
        },
        {
          "output_type": "stream",
          "name": "stderr",
          "text": [
            "Epoch [861/3000]: 100%|██████████| 10/10 [00:00<00:00, 48.83it/s]\n"
          ]
        },
        {
          "output_type": "stream",
          "name": "stdout",
          "text": [
            "Epoch [861/3000]: Train loss: 0.5367, Valid loss: 1.1387\n"
          ]
        },
        {
          "output_type": "stream",
          "name": "stderr",
          "text": [
            "Epoch [862/3000]: 100%|██████████| 10/10 [00:00<00:00, 48.37it/s]\n"
          ]
        },
        {
          "output_type": "stream",
          "name": "stdout",
          "text": [
            "Epoch [862/3000]: Train loss: 0.6434, Valid loss: 1.1452\n"
          ]
        },
        {
          "output_type": "stream",
          "name": "stderr",
          "text": [
            "Epoch [863/3000]: 100%|██████████| 10/10 [00:00<00:00, 53.51it/s]\n"
          ]
        },
        {
          "output_type": "stream",
          "name": "stdout",
          "text": [
            "Epoch [863/3000]: Train loss: 0.6596, Valid loss: 1.1853\n"
          ]
        },
        {
          "output_type": "stream",
          "name": "stderr",
          "text": [
            "Epoch [864/3000]: 100%|██████████| 10/10 [00:00<00:00, 53.61it/s]\n"
          ]
        },
        {
          "output_type": "stream",
          "name": "stdout",
          "text": [
            "Epoch [864/3000]: Train loss: 0.5954, Valid loss: 1.1322\n"
          ]
        },
        {
          "output_type": "stream",
          "name": "stderr",
          "text": [
            "Epoch [865/3000]: 100%|██████████| 10/10 [00:00<00:00, 54.50it/s]\n"
          ]
        },
        {
          "output_type": "stream",
          "name": "stdout",
          "text": [
            "Epoch [865/3000]: Train loss: 0.5300, Valid loss: 1.2259\n"
          ]
        },
        {
          "output_type": "stream",
          "name": "stderr",
          "text": [
            "Epoch [866/3000]: 100%|██████████| 10/10 [00:00<00:00, 47.37it/s]\n"
          ]
        },
        {
          "output_type": "stream",
          "name": "stdout",
          "text": [
            "Epoch [866/3000]: Train loss: 0.6657, Valid loss: 1.1345\n"
          ]
        },
        {
          "output_type": "stream",
          "name": "stderr",
          "text": [
            "Epoch [867/3000]: 100%|██████████| 10/10 [00:00<00:00, 62.13it/s]\n"
          ]
        },
        {
          "output_type": "stream",
          "name": "stdout",
          "text": [
            "Epoch [867/3000]: Train loss: 0.5512, Valid loss: 1.1327\n"
          ]
        },
        {
          "output_type": "stream",
          "name": "stderr",
          "text": [
            "Epoch [868/3000]: 100%|██████████| 10/10 [00:00<00:00, 66.15it/s]\n"
          ]
        },
        {
          "output_type": "stream",
          "name": "stdout",
          "text": [
            "Epoch [868/3000]: Train loss: 0.5417, Valid loss: 1.1792\n"
          ]
        },
        {
          "output_type": "stream",
          "name": "stderr",
          "text": [
            "Epoch [869/3000]: 100%|██████████| 10/10 [00:00<00:00, 72.84it/s]\n"
          ]
        },
        {
          "output_type": "stream",
          "name": "stdout",
          "text": [
            "Epoch [869/3000]: Train loss: 0.6083, Valid loss: 1.1289\n"
          ]
        },
        {
          "output_type": "stream",
          "name": "stderr",
          "text": [
            "Epoch [870/3000]: 100%|██████████| 10/10 [00:00<00:00, 70.84it/s]\n"
          ]
        },
        {
          "output_type": "stream",
          "name": "stdout",
          "text": [
            "Epoch [870/3000]: Train loss: 0.5689, Valid loss: 1.1984\n"
          ]
        },
        {
          "output_type": "stream",
          "name": "stderr",
          "text": [
            "Epoch [871/3000]: 100%|██████████| 10/10 [00:00<00:00, 75.08it/s]\n"
          ]
        },
        {
          "output_type": "stream",
          "name": "stdout",
          "text": [
            "Epoch [871/3000]: Train loss: 0.5674, Valid loss: 1.1187\n"
          ]
        },
        {
          "output_type": "stream",
          "name": "stderr",
          "text": [
            "Epoch [872/3000]: 100%|██████████| 10/10 [00:00<00:00, 70.32it/s]\n"
          ]
        },
        {
          "output_type": "stream",
          "name": "stdout",
          "text": [
            "Epoch [872/3000]: Train loss: 0.5067, Valid loss: 1.1511\n"
          ]
        },
        {
          "output_type": "stream",
          "name": "stderr",
          "text": [
            "Epoch [873/3000]: 100%|██████████| 10/10 [00:00<00:00, 68.21it/s]\n"
          ]
        },
        {
          "output_type": "stream",
          "name": "stdout",
          "text": [
            "Epoch [873/3000]: Train loss: 0.5419, Valid loss: 1.1051\n"
          ]
        },
        {
          "output_type": "stream",
          "name": "stderr",
          "text": [
            "Epoch [874/3000]: 100%|██████████| 10/10 [00:00<00:00, 63.41it/s]\n"
          ]
        },
        {
          "output_type": "stream",
          "name": "stdout",
          "text": [
            "Epoch [874/3000]: Train loss: 0.5238, Valid loss: 1.1373\n"
          ]
        },
        {
          "output_type": "stream",
          "name": "stderr",
          "text": [
            "Epoch [875/3000]: 100%|██████████| 10/10 [00:00<00:00, 71.83it/s]\n"
          ]
        },
        {
          "output_type": "stream",
          "name": "stdout",
          "text": [
            "Epoch [875/3000]: Train loss: 0.5164, Valid loss: 1.0921\n",
            "Saving model with loss 1.092...\n"
          ]
        },
        {
          "output_type": "stream",
          "name": "stderr",
          "text": [
            "Epoch [876/3000]: 100%|██████████| 10/10 [00:00<00:00, 70.91it/s]\n"
          ]
        },
        {
          "output_type": "stream",
          "name": "stdout",
          "text": [
            "Epoch [876/3000]: Train loss: 0.4855, Valid loss: 1.1109\n"
          ]
        },
        {
          "output_type": "stream",
          "name": "stderr",
          "text": [
            "Epoch [877/3000]: 100%|██████████| 10/10 [00:00<00:00, 72.48it/s]\n"
          ]
        },
        {
          "output_type": "stream",
          "name": "stdout",
          "text": [
            "Epoch [877/3000]: Train loss: 0.5014, Valid loss: 1.1352\n"
          ]
        },
        {
          "output_type": "stream",
          "name": "stderr",
          "text": [
            "Epoch [878/3000]: 100%|██████████| 10/10 [00:00<00:00, 69.68it/s]\n"
          ]
        },
        {
          "output_type": "stream",
          "name": "stdout",
          "text": [
            "Epoch [878/3000]: Train loss: 0.5575, Valid loss: 1.1080\n"
          ]
        },
        {
          "output_type": "stream",
          "name": "stderr",
          "text": [
            "Epoch [879/3000]: 100%|██████████| 10/10 [00:00<00:00, 71.24it/s]\n"
          ]
        },
        {
          "output_type": "stream",
          "name": "stdout",
          "text": [
            "Epoch [879/3000]: Train loss: 0.5228, Valid loss: 1.2123\n"
          ]
        },
        {
          "output_type": "stream",
          "name": "stderr",
          "text": [
            "Epoch [880/3000]: 100%|██████████| 10/10 [00:00<00:00, 61.91it/s]\n"
          ]
        },
        {
          "output_type": "stream",
          "name": "stdout",
          "text": [
            "Epoch [880/3000]: Train loss: 0.5843, Valid loss: 1.2029\n"
          ]
        },
        {
          "output_type": "stream",
          "name": "stderr",
          "text": [
            "Epoch [881/3000]: 100%|██████████| 10/10 [00:00<00:00, 74.24it/s]\n"
          ]
        },
        {
          "output_type": "stream",
          "name": "stdout",
          "text": [
            "Epoch [881/3000]: Train loss: 0.6025, Valid loss: 1.1351\n"
          ]
        },
        {
          "output_type": "stream",
          "name": "stderr",
          "text": [
            "Epoch [882/3000]: 100%|██████████| 10/10 [00:00<00:00, 67.61it/s]\n"
          ]
        },
        {
          "output_type": "stream",
          "name": "stdout",
          "text": [
            "Epoch [882/3000]: Train loss: 0.5669, Valid loss: 1.1339\n"
          ]
        },
        {
          "output_type": "stream",
          "name": "stderr",
          "text": [
            "Epoch [883/3000]: 100%|██████████| 10/10 [00:00<00:00, 71.23it/s]\n"
          ]
        },
        {
          "output_type": "stream",
          "name": "stdout",
          "text": [
            "Epoch [883/3000]: Train loss: 0.5535, Valid loss: 1.1468\n"
          ]
        },
        {
          "output_type": "stream",
          "name": "stderr",
          "text": [
            "Epoch [884/3000]: 100%|██████████| 10/10 [00:00<00:00, 73.73it/s]\n"
          ]
        },
        {
          "output_type": "stream",
          "name": "stdout",
          "text": [
            "Epoch [884/3000]: Train loss: 0.5852, Valid loss: 1.1017\n"
          ]
        },
        {
          "output_type": "stream",
          "name": "stderr",
          "text": [
            "Epoch [885/3000]: 100%|██████████| 10/10 [00:00<00:00, 71.78it/s]\n"
          ]
        },
        {
          "output_type": "stream",
          "name": "stdout",
          "text": [
            "Epoch [885/3000]: Train loss: 0.5198, Valid loss: 1.1091\n"
          ]
        },
        {
          "output_type": "stream",
          "name": "stderr",
          "text": [
            "Epoch [886/3000]: 100%|██████████| 10/10 [00:00<00:00, 65.05it/s]\n"
          ]
        },
        {
          "output_type": "stream",
          "name": "stdout",
          "text": [
            "Epoch [886/3000]: Train loss: 0.5075, Valid loss: 1.1159\n"
          ]
        },
        {
          "output_type": "stream",
          "name": "stderr",
          "text": [
            "Epoch [887/3000]: 100%|██████████| 10/10 [00:00<00:00, 75.04it/s]\n"
          ]
        },
        {
          "output_type": "stream",
          "name": "stdout",
          "text": [
            "Epoch [887/3000]: Train loss: 0.4976, Valid loss: 1.1307\n"
          ]
        },
        {
          "output_type": "stream",
          "name": "stderr",
          "text": [
            "Epoch [888/3000]: 100%|██████████| 10/10 [00:00<00:00, 71.17it/s]\n"
          ]
        },
        {
          "output_type": "stream",
          "name": "stdout",
          "text": [
            "Epoch [888/3000]: Train loss: 0.5622, Valid loss: 1.1198\n"
          ]
        },
        {
          "output_type": "stream",
          "name": "stderr",
          "text": [
            "Epoch [889/3000]: 100%|██████████| 10/10 [00:00<00:00, 72.68it/s]\n"
          ]
        },
        {
          "output_type": "stream",
          "name": "stdout",
          "text": [
            "Epoch [889/3000]: Train loss: 0.4999, Valid loss: 1.1184\n"
          ]
        },
        {
          "output_type": "stream",
          "name": "stderr",
          "text": [
            "Epoch [890/3000]: 100%|██████████| 10/10 [00:00<00:00, 68.03it/s]\n"
          ]
        },
        {
          "output_type": "stream",
          "name": "stdout",
          "text": [
            "Epoch [890/3000]: Train loss: 0.5387, Valid loss: 1.2831\n"
          ]
        },
        {
          "output_type": "stream",
          "name": "stderr",
          "text": [
            "Epoch [891/3000]: 100%|██████████| 10/10 [00:00<00:00, 71.35it/s]\n"
          ]
        },
        {
          "output_type": "stream",
          "name": "stdout",
          "text": [
            "Epoch [891/3000]: Train loss: 0.7248, Valid loss: 1.1308\n"
          ]
        },
        {
          "output_type": "stream",
          "name": "stderr",
          "text": [
            "Epoch [892/3000]: 100%|██████████| 10/10 [00:00<00:00, 61.86it/s]\n"
          ]
        },
        {
          "output_type": "stream",
          "name": "stdout",
          "text": [
            "Epoch [892/3000]: Train loss: 0.5877, Valid loss: 1.1667\n"
          ]
        },
        {
          "output_type": "stream",
          "name": "stderr",
          "text": [
            "Epoch [893/3000]: 100%|██████████| 10/10 [00:00<00:00, 70.05it/s]\n"
          ]
        },
        {
          "output_type": "stream",
          "name": "stdout",
          "text": [
            "Epoch [893/3000]: Train loss: 0.6317, Valid loss: 1.2658\n"
          ]
        },
        {
          "output_type": "stream",
          "name": "stderr",
          "text": [
            "Epoch [894/3000]: 100%|██████████| 10/10 [00:00<00:00, 70.87it/s]\n"
          ]
        },
        {
          "output_type": "stream",
          "name": "stdout",
          "text": [
            "Epoch [894/3000]: Train loss: 0.6411, Valid loss: 1.2467\n"
          ]
        },
        {
          "output_type": "stream",
          "name": "stderr",
          "text": [
            "Epoch [895/3000]: 100%|██████████| 10/10 [00:00<00:00, 71.30it/s]\n"
          ]
        },
        {
          "output_type": "stream",
          "name": "stdout",
          "text": [
            "Epoch [895/3000]: Train loss: 0.6902, Valid loss: 1.1154\n"
          ]
        },
        {
          "output_type": "stream",
          "name": "stderr",
          "text": [
            "Epoch [896/3000]: 100%|██████████| 10/10 [00:00<00:00, 72.90it/s]\n"
          ]
        },
        {
          "output_type": "stream",
          "name": "stdout",
          "text": [
            "Epoch [896/3000]: Train loss: 0.5632, Valid loss: 1.1184\n"
          ]
        },
        {
          "output_type": "stream",
          "name": "stderr",
          "text": [
            "Epoch [897/3000]: 100%|██████████| 10/10 [00:00<00:00, 71.99it/s]\n"
          ]
        },
        {
          "output_type": "stream",
          "name": "stdout",
          "text": [
            "Epoch [897/3000]: Train loss: 0.5625, Valid loss: 1.1207\n"
          ]
        },
        {
          "output_type": "stream",
          "name": "stderr",
          "text": [
            "Epoch [898/3000]: 100%|██████████| 10/10 [00:00<00:00, 60.92it/s]\n"
          ]
        },
        {
          "output_type": "stream",
          "name": "stdout",
          "text": [
            "Epoch [898/3000]: Train loss: 0.6489, Valid loss: 1.1470\n"
          ]
        },
        {
          "output_type": "stream",
          "name": "stderr",
          "text": [
            "Epoch [899/3000]: 100%|██████████| 10/10 [00:00<00:00, 68.29it/s]\n"
          ]
        },
        {
          "output_type": "stream",
          "name": "stdout",
          "text": [
            "Epoch [899/3000]: Train loss: 0.5487, Valid loss: 1.1246\n"
          ]
        },
        {
          "output_type": "stream",
          "name": "stderr",
          "text": [
            "Epoch [900/3000]: 100%|██████████| 10/10 [00:00<00:00, 70.45it/s]\n"
          ]
        },
        {
          "output_type": "stream",
          "name": "stdout",
          "text": [
            "Epoch [900/3000]: Train loss: 0.5311, Valid loss: 1.1475\n"
          ]
        },
        {
          "output_type": "stream",
          "name": "stderr",
          "text": [
            "Epoch [901/3000]: 100%|██████████| 10/10 [00:00<00:00, 69.92it/s]\n"
          ]
        },
        {
          "output_type": "stream",
          "name": "stdout",
          "text": [
            "Epoch [901/3000]: Train loss: 0.5201, Valid loss: 1.1147\n"
          ]
        },
        {
          "output_type": "stream",
          "name": "stderr",
          "text": [
            "Epoch [902/3000]: 100%|██████████| 10/10 [00:00<00:00, 59.27it/s]\n"
          ]
        },
        {
          "output_type": "stream",
          "name": "stdout",
          "text": [
            "Epoch [902/3000]: Train loss: 0.5105, Valid loss: 1.1376\n"
          ]
        },
        {
          "output_type": "stream",
          "name": "stderr",
          "text": [
            "Epoch [903/3000]: 100%|██████████| 10/10 [00:00<00:00, 73.25it/s]\n"
          ]
        },
        {
          "output_type": "stream",
          "name": "stdout",
          "text": [
            "Epoch [903/3000]: Train loss: 0.5070, Valid loss: 1.1115\n"
          ]
        },
        {
          "output_type": "stream",
          "name": "stderr",
          "text": [
            "Epoch [904/3000]: 100%|██████████| 10/10 [00:00<00:00, 61.15it/s]\n"
          ]
        },
        {
          "output_type": "stream",
          "name": "stdout",
          "text": [
            "Epoch [904/3000]: Train loss: 0.4998, Valid loss: 1.1142\n"
          ]
        },
        {
          "output_type": "stream",
          "name": "stderr",
          "text": [
            "Epoch [905/3000]: 100%|██████████| 10/10 [00:00<00:00, 75.03it/s]\n"
          ]
        },
        {
          "output_type": "stream",
          "name": "stdout",
          "text": [
            "Epoch [905/3000]: Train loss: 0.5549, Valid loss: 1.1482\n"
          ]
        },
        {
          "output_type": "stream",
          "name": "stderr",
          "text": [
            "Epoch [906/3000]: 100%|██████████| 10/10 [00:00<00:00, 66.26it/s]\n"
          ]
        },
        {
          "output_type": "stream",
          "name": "stdout",
          "text": [
            "Epoch [906/3000]: Train loss: 0.5760, Valid loss: 1.1087\n"
          ]
        },
        {
          "output_type": "stream",
          "name": "stderr",
          "text": [
            "Epoch [907/3000]: 100%|██████████| 10/10 [00:00<00:00, 70.66it/s]\n"
          ]
        },
        {
          "output_type": "stream",
          "name": "stdout",
          "text": [
            "Epoch [907/3000]: Train loss: 0.5305, Valid loss: 1.1258\n"
          ]
        },
        {
          "output_type": "stream",
          "name": "stderr",
          "text": [
            "Epoch [908/3000]: 100%|██████████| 10/10 [00:00<00:00, 69.32it/s]\n"
          ]
        },
        {
          "output_type": "stream",
          "name": "stdout",
          "text": [
            "Epoch [908/3000]: Train loss: 0.5624, Valid loss: 1.1458\n"
          ]
        },
        {
          "output_type": "stream",
          "name": "stderr",
          "text": [
            "Epoch [909/3000]: 100%|██████████| 10/10 [00:00<00:00, 71.34it/s]\n"
          ]
        },
        {
          "output_type": "stream",
          "name": "stdout",
          "text": [
            "Epoch [909/3000]: Train loss: 0.5739, Valid loss: 1.1137\n"
          ]
        },
        {
          "output_type": "stream",
          "name": "stderr",
          "text": [
            "Epoch [910/3000]: 100%|██████████| 10/10 [00:00<00:00, 61.34it/s]\n"
          ]
        },
        {
          "output_type": "stream",
          "name": "stdout",
          "text": [
            "Epoch [910/3000]: Train loss: 0.5464, Valid loss: 1.1000\n"
          ]
        },
        {
          "output_type": "stream",
          "name": "stderr",
          "text": [
            "Epoch [911/3000]: 100%|██████████| 10/10 [00:00<00:00, 69.28it/s]\n"
          ]
        },
        {
          "output_type": "stream",
          "name": "stdout",
          "text": [
            "Epoch [911/3000]: Train loss: 0.5226, Valid loss: 1.1333\n"
          ]
        },
        {
          "output_type": "stream",
          "name": "stderr",
          "text": [
            "Epoch [912/3000]: 100%|██████████| 10/10 [00:00<00:00, 66.55it/s]\n"
          ]
        },
        {
          "output_type": "stream",
          "name": "stdout",
          "text": [
            "Epoch [912/3000]: Train loss: 0.5223, Valid loss: 1.1698\n"
          ]
        },
        {
          "output_type": "stream",
          "name": "stderr",
          "text": [
            "Epoch [913/3000]: 100%|██████████| 10/10 [00:00<00:00, 71.89it/s]\n"
          ]
        },
        {
          "output_type": "stream",
          "name": "stdout",
          "text": [
            "Epoch [913/3000]: Train loss: 0.6202, Valid loss: 1.2154\n"
          ]
        },
        {
          "output_type": "stream",
          "name": "stderr",
          "text": [
            "Epoch [914/3000]: 100%|██████████| 10/10 [00:00<00:00, 70.32it/s]\n"
          ]
        },
        {
          "output_type": "stream",
          "name": "stdout",
          "text": [
            "Epoch [914/3000]: Train loss: 0.6390, Valid loss: 1.1158\n"
          ]
        },
        {
          "output_type": "stream",
          "name": "stderr",
          "text": [
            "Epoch [915/3000]: 100%|██████████| 10/10 [00:00<00:00, 69.46it/s]\n"
          ]
        },
        {
          "output_type": "stream",
          "name": "stdout",
          "text": [
            "Epoch [915/3000]: Train loss: 0.5350, Valid loss: 1.1249\n"
          ]
        },
        {
          "output_type": "stream",
          "name": "stderr",
          "text": [
            "Epoch [916/3000]: 100%|██████████| 10/10 [00:00<00:00, 62.00it/s]\n"
          ]
        },
        {
          "output_type": "stream",
          "name": "stdout",
          "text": [
            "Epoch [916/3000]: Train loss: 0.5998, Valid loss: 1.1079\n"
          ]
        },
        {
          "output_type": "stream",
          "name": "stderr",
          "text": [
            "Epoch [917/3000]: 100%|██████████| 10/10 [00:00<00:00, 72.59it/s]\n"
          ]
        },
        {
          "output_type": "stream",
          "name": "stdout",
          "text": [
            "Epoch [917/3000]: Train loss: 0.5848, Valid loss: 1.1342\n"
          ]
        },
        {
          "output_type": "stream",
          "name": "stderr",
          "text": [
            "Epoch [918/3000]: 100%|██████████| 10/10 [00:00<00:00, 71.20it/s]\n"
          ]
        },
        {
          "output_type": "stream",
          "name": "stdout",
          "text": [
            "Epoch [918/3000]: Train loss: 0.6001, Valid loss: 1.1708\n"
          ]
        },
        {
          "output_type": "stream",
          "name": "stderr",
          "text": [
            "Epoch [919/3000]: 100%|██████████| 10/10 [00:00<00:00, 71.62it/s]\n"
          ]
        },
        {
          "output_type": "stream",
          "name": "stdout",
          "text": [
            "Epoch [919/3000]: Train loss: 0.6164, Valid loss: 1.1797\n"
          ]
        },
        {
          "output_type": "stream",
          "name": "stderr",
          "text": [
            "Epoch [920/3000]: 100%|██████████| 10/10 [00:00<00:00, 70.40it/s]\n"
          ]
        },
        {
          "output_type": "stream",
          "name": "stdout",
          "text": [
            "Epoch [920/3000]: Train loss: 0.5717, Valid loss: 1.1304\n"
          ]
        },
        {
          "output_type": "stream",
          "name": "stderr",
          "text": [
            "Epoch [921/3000]: 100%|██████████| 10/10 [00:00<00:00, 70.19it/s]\n"
          ]
        },
        {
          "output_type": "stream",
          "name": "stdout",
          "text": [
            "Epoch [921/3000]: Train loss: 0.5270, Valid loss: 1.1104\n"
          ]
        },
        {
          "output_type": "stream",
          "name": "stderr",
          "text": [
            "Epoch [922/3000]: 100%|██████████| 10/10 [00:00<00:00, 62.29it/s]\n"
          ]
        },
        {
          "output_type": "stream",
          "name": "stdout",
          "text": [
            "Epoch [922/3000]: Train loss: 0.5023, Valid loss: 1.2298\n"
          ]
        },
        {
          "output_type": "stream",
          "name": "stderr",
          "text": [
            "Epoch [923/3000]: 100%|██████████| 10/10 [00:00<00:00, 72.78it/s]\n"
          ]
        },
        {
          "output_type": "stream",
          "name": "stdout",
          "text": [
            "Epoch [923/3000]: Train loss: 0.6751, Valid loss: 1.1246\n"
          ]
        },
        {
          "output_type": "stream",
          "name": "stderr",
          "text": [
            "Epoch [924/3000]: 100%|██████████| 10/10 [00:00<00:00, 52.83it/s]\n"
          ]
        },
        {
          "output_type": "stream",
          "name": "stdout",
          "text": [
            "Epoch [924/3000]: Train loss: 0.5471, Valid loss: 1.1585\n"
          ]
        },
        {
          "output_type": "stream",
          "name": "stderr",
          "text": [
            "Epoch [925/3000]: 100%|██████████| 10/10 [00:00<00:00, 50.87it/s]\n"
          ]
        },
        {
          "output_type": "stream",
          "name": "stdout",
          "text": [
            "Epoch [925/3000]: Train loss: 0.5448, Valid loss: 1.1592\n"
          ]
        },
        {
          "output_type": "stream",
          "name": "stderr",
          "text": [
            "Epoch [926/3000]: 100%|██████████| 10/10 [00:00<00:00, 61.24it/s]\n"
          ]
        },
        {
          "output_type": "stream",
          "name": "stdout",
          "text": [
            "Epoch [926/3000]: Train loss: 0.5705, Valid loss: 1.1603\n"
          ]
        },
        {
          "output_type": "stream",
          "name": "stderr",
          "text": [
            "Epoch [927/3000]: 100%|██████████| 10/10 [00:00<00:00, 57.51it/s]\n"
          ]
        },
        {
          "output_type": "stream",
          "name": "stdout",
          "text": [
            "Epoch [927/3000]: Train loss: 0.6700, Valid loss: 1.2944\n"
          ]
        },
        {
          "output_type": "stream",
          "name": "stderr",
          "text": [
            "Epoch [928/3000]: 100%|██████████| 10/10 [00:00<00:00, 55.46it/s]\n"
          ]
        },
        {
          "output_type": "stream",
          "name": "stdout",
          "text": [
            "Epoch [928/3000]: Train loss: 0.6910, Valid loss: 1.2694\n"
          ]
        },
        {
          "output_type": "stream",
          "name": "stderr",
          "text": [
            "Epoch [929/3000]: 100%|██████████| 10/10 [00:00<00:00, 56.45it/s]\n"
          ]
        },
        {
          "output_type": "stream",
          "name": "stdout",
          "text": [
            "Epoch [929/3000]: Train loss: 0.6786, Valid loss: 1.1286\n"
          ]
        },
        {
          "output_type": "stream",
          "name": "stderr",
          "text": [
            "Epoch [930/3000]: 100%|██████████| 10/10 [00:00<00:00, 45.80it/s]\n"
          ]
        },
        {
          "output_type": "stream",
          "name": "stdout",
          "text": [
            "Epoch [930/3000]: Train loss: 0.5601, Valid loss: 1.1304\n"
          ]
        },
        {
          "output_type": "stream",
          "name": "stderr",
          "text": [
            "Epoch [931/3000]: 100%|██████████| 10/10 [00:00<00:00, 59.01it/s]"
          ]
        },
        {
          "output_type": "stream",
          "name": "stdout",
          "text": [
            "Epoch [931/3000]: Train loss: 0.5136, Valid loss: 1.1235"
          ]
        },
        {
          "output_type": "stream",
          "name": "stderr",
          "text": [
            "\n"
          ]
        },
        {
          "output_type": "stream",
          "name": "stdout",
          "text": [
            "\n"
          ]
        },
        {
          "output_type": "stream",
          "name": "stderr",
          "text": [
            "Epoch [932/3000]: 100%|██████████| 10/10 [00:00<00:00, 48.75it/s]\n"
          ]
        },
        {
          "output_type": "stream",
          "name": "stdout",
          "text": [
            "Epoch [932/3000]: Train loss: 0.4986, Valid loss: 1.1308\n"
          ]
        },
        {
          "output_type": "stream",
          "name": "stderr",
          "text": [
            "Epoch [933/3000]: 100%|██████████| 10/10 [00:00<00:00, 56.14it/s]\n"
          ]
        },
        {
          "output_type": "stream",
          "name": "stdout",
          "text": [
            "Epoch [933/3000]: Train loss: 0.5531, Valid loss: 1.2182\n"
          ]
        },
        {
          "output_type": "stream",
          "name": "stderr",
          "text": [
            "Epoch [934/3000]: 100%|██████████| 10/10 [00:00<00:00, 52.69it/s]\n"
          ]
        },
        {
          "output_type": "stream",
          "name": "stdout",
          "text": [
            "Epoch [934/3000]: Train loss: 0.6105, Valid loss: 1.1085\n"
          ]
        },
        {
          "output_type": "stream",
          "name": "stderr",
          "text": [
            "Epoch [935/3000]: 100%|██████████| 10/10 [00:00<00:00, 63.72it/s]\n"
          ]
        },
        {
          "output_type": "stream",
          "name": "stdout",
          "text": [
            "Epoch [935/3000]: Train loss: 0.4997, Valid loss: 1.1050\n"
          ]
        },
        {
          "output_type": "stream",
          "name": "stderr",
          "text": [
            "Epoch [936/3000]: 100%|██████████| 10/10 [00:00<00:00, 55.46it/s]\n"
          ]
        },
        {
          "output_type": "stream",
          "name": "stdout",
          "text": [
            "Epoch [936/3000]: Train loss: 0.5093, Valid loss: 1.1141\n"
          ]
        },
        {
          "output_type": "stream",
          "name": "stderr",
          "text": [
            "Epoch [937/3000]: 100%|██████████| 10/10 [00:00<00:00, 53.76it/s]\n"
          ]
        },
        {
          "output_type": "stream",
          "name": "stdout",
          "text": [
            "Epoch [937/3000]: Train loss: 0.5755, Valid loss: 1.1611\n"
          ]
        },
        {
          "output_type": "stream",
          "name": "stderr",
          "text": [
            "Epoch [938/3000]: 100%|██████████| 10/10 [00:00<00:00, 50.67it/s]\n"
          ]
        },
        {
          "output_type": "stream",
          "name": "stdout",
          "text": [
            "Epoch [938/3000]: Train loss: 0.5586, Valid loss: 1.1671\n"
          ]
        },
        {
          "output_type": "stream",
          "name": "stderr",
          "text": [
            "Epoch [939/3000]: 100%|██████████| 10/10 [00:00<00:00, 62.50it/s]\n"
          ]
        },
        {
          "output_type": "stream",
          "name": "stdout",
          "text": [
            "Epoch [939/3000]: Train loss: 0.5190, Valid loss: 1.1402\n"
          ]
        },
        {
          "output_type": "stream",
          "name": "stderr",
          "text": [
            "Epoch [940/3000]: 100%|██████████| 10/10 [00:00<00:00, 62.67it/s]\n"
          ]
        },
        {
          "output_type": "stream",
          "name": "stdout",
          "text": [
            "Epoch [940/3000]: Train loss: 0.5806, Valid loss: 1.1836\n"
          ]
        },
        {
          "output_type": "stream",
          "name": "stderr",
          "text": [
            "Epoch [941/3000]: 100%|██████████| 10/10 [00:00<00:00, 61.46it/s]\n"
          ]
        },
        {
          "output_type": "stream",
          "name": "stdout",
          "text": [
            "Epoch [941/3000]: Train loss: 0.5560, Valid loss: 1.0948\n"
          ]
        },
        {
          "output_type": "stream",
          "name": "stderr",
          "text": [
            "Epoch [942/3000]: 100%|██████████| 10/10 [00:00<00:00, 63.13it/s]\n"
          ]
        },
        {
          "output_type": "stream",
          "name": "stdout",
          "text": [
            "Epoch [942/3000]: Train loss: 0.5476, Valid loss: 1.1648\n"
          ]
        },
        {
          "output_type": "stream",
          "name": "stderr",
          "text": [
            "Epoch [943/3000]: 100%|██████████| 10/10 [00:00<00:00, 47.60it/s]\n"
          ]
        },
        {
          "output_type": "stream",
          "name": "stdout",
          "text": [
            "Epoch [943/3000]: Train loss: 0.6059, Valid loss: 1.1688\n"
          ]
        },
        {
          "output_type": "stream",
          "name": "stderr",
          "text": [
            "Epoch [944/3000]: 100%|██████████| 10/10 [00:00<00:00, 52.60it/s]\n"
          ]
        },
        {
          "output_type": "stream",
          "name": "stdout",
          "text": [
            "Epoch [944/3000]: Train loss: 0.5814, Valid loss: 1.1463\n"
          ]
        },
        {
          "output_type": "stream",
          "name": "stderr",
          "text": [
            "Epoch [945/3000]: 100%|██████████| 10/10 [00:00<00:00, 61.46it/s]\n"
          ]
        },
        {
          "output_type": "stream",
          "name": "stdout",
          "text": [
            "Epoch [945/3000]: Train loss: 0.5210, Valid loss: 1.1435\n"
          ]
        },
        {
          "output_type": "stream",
          "name": "stderr",
          "text": [
            "Epoch [946/3000]: 100%|██████████| 10/10 [00:00<00:00, 50.52it/s]\n"
          ]
        },
        {
          "output_type": "stream",
          "name": "stdout",
          "text": [
            "Epoch [946/3000]: Train loss: 0.5404, Valid loss: 1.1142\n"
          ]
        },
        {
          "output_type": "stream",
          "name": "stderr",
          "text": [
            "Epoch [947/3000]: 100%|██████████| 10/10 [00:00<00:00, 51.69it/s]\n"
          ]
        },
        {
          "output_type": "stream",
          "name": "stdout",
          "text": [
            "Epoch [947/3000]: Train loss: 0.5692, Valid loss: 1.1177\n"
          ]
        },
        {
          "output_type": "stream",
          "name": "stderr",
          "text": [
            "Epoch [948/3000]: 100%|██████████| 10/10 [00:00<00:00, 52.30it/s]\n"
          ]
        },
        {
          "output_type": "stream",
          "name": "stdout",
          "text": [
            "Epoch [948/3000]: Train loss: 0.5484, Valid loss: 1.1188\n"
          ]
        },
        {
          "output_type": "stream",
          "name": "stderr",
          "text": [
            "Epoch [949/3000]: 100%|██████████| 10/10 [00:00<00:00, 54.90it/s]\n"
          ]
        },
        {
          "output_type": "stream",
          "name": "stdout",
          "text": [
            "Epoch [949/3000]: Train loss: 0.4853, Valid loss: 1.1259\n"
          ]
        },
        {
          "output_type": "stream",
          "name": "stderr",
          "text": [
            "Epoch [950/3000]: 100%|██████████| 10/10 [00:00<00:00, 57.02it/s]\n"
          ]
        },
        {
          "output_type": "stream",
          "name": "stdout",
          "text": [
            "Epoch [950/3000]: Train loss: 0.5349, Valid loss: 1.1302\n"
          ]
        },
        {
          "output_type": "stream",
          "name": "stderr",
          "text": [
            "Epoch [951/3000]: 100%|██████████| 10/10 [00:00<00:00, 53.74it/s]\n"
          ]
        },
        {
          "output_type": "stream",
          "name": "stdout",
          "text": [
            "Epoch [951/3000]: Train loss: 0.5271, Valid loss: 1.1153\n"
          ]
        },
        {
          "output_type": "stream",
          "name": "stderr",
          "text": [
            "Epoch [952/3000]: 100%|██████████| 10/10 [00:00<00:00, 49.01it/s]\n"
          ]
        },
        {
          "output_type": "stream",
          "name": "stdout",
          "text": [
            "Epoch [952/3000]: Train loss: 0.5184, Valid loss: 1.1684\n"
          ]
        },
        {
          "output_type": "stream",
          "name": "stderr",
          "text": [
            "Epoch [953/3000]: 100%|██████████| 10/10 [00:00<00:00, 49.79it/s]\n"
          ]
        },
        {
          "output_type": "stream",
          "name": "stdout",
          "text": [
            "Epoch [953/3000]: Train loss: 0.5645, Valid loss: 1.1398\n"
          ]
        },
        {
          "output_type": "stream",
          "name": "stderr",
          "text": [
            "Epoch [954/3000]: 100%|██████████| 10/10 [00:00<00:00, 53.66it/s]\n"
          ]
        },
        {
          "output_type": "stream",
          "name": "stdout",
          "text": [
            "Epoch [954/3000]: Train loss: 0.5518, Valid loss: 1.1671\n"
          ]
        },
        {
          "output_type": "stream",
          "name": "stderr",
          "text": [
            "Epoch [955/3000]: 100%|██████████| 10/10 [00:00<00:00, 55.94it/s]\n"
          ]
        },
        {
          "output_type": "stream",
          "name": "stdout",
          "text": [
            "Epoch [955/3000]: Train loss: 0.5771, Valid loss: 1.1912\n"
          ]
        },
        {
          "output_type": "stream",
          "name": "stderr",
          "text": [
            "Epoch [956/3000]: 100%|██████████| 10/10 [00:00<00:00, 73.64it/s]\n"
          ]
        },
        {
          "output_type": "stream",
          "name": "stdout",
          "text": [
            "Epoch [956/3000]: Train loss: 0.5615, Valid loss: 1.1256\n"
          ]
        },
        {
          "output_type": "stream",
          "name": "stderr",
          "text": [
            "Epoch [957/3000]: 100%|██████████| 10/10 [00:00<00:00, 70.70it/s]\n"
          ]
        },
        {
          "output_type": "stream",
          "name": "stdout",
          "text": [
            "Epoch [957/3000]: Train loss: 0.5110, Valid loss: 1.1186\n"
          ]
        },
        {
          "output_type": "stream",
          "name": "stderr",
          "text": [
            "Epoch [958/3000]: 100%|██████████| 10/10 [00:00<00:00, 63.38it/s]\n"
          ]
        },
        {
          "output_type": "stream",
          "name": "stdout",
          "text": [
            "Epoch [958/3000]: Train loss: 0.5436, Valid loss: 1.1001\n"
          ]
        },
        {
          "output_type": "stream",
          "name": "stderr",
          "text": [
            "Epoch [959/3000]: 100%|██████████| 10/10 [00:00<00:00, 72.07it/s]\n"
          ]
        },
        {
          "output_type": "stream",
          "name": "stdout",
          "text": [
            "Epoch [959/3000]: Train loss: 0.5260, Valid loss: 1.1884\n"
          ]
        },
        {
          "output_type": "stream",
          "name": "stderr",
          "text": [
            "Epoch [960/3000]: 100%|██████████| 10/10 [00:00<00:00, 67.82it/s]\n"
          ]
        },
        {
          "output_type": "stream",
          "name": "stdout",
          "text": [
            "Epoch [960/3000]: Train loss: 0.5684, Valid loss: 1.1072\n"
          ]
        },
        {
          "output_type": "stream",
          "name": "stderr",
          "text": [
            "Epoch [961/3000]: 100%|██████████| 10/10 [00:00<00:00, 72.90it/s]\n"
          ]
        },
        {
          "output_type": "stream",
          "name": "stdout",
          "text": [
            "Epoch [961/3000]: Train loss: 0.5078, Valid loss: 1.1109\n"
          ]
        },
        {
          "output_type": "stream",
          "name": "stderr",
          "text": [
            "Epoch [962/3000]: 100%|██████████| 10/10 [00:00<00:00, 71.08it/s]\n"
          ]
        },
        {
          "output_type": "stream",
          "name": "stdout",
          "text": [
            "Epoch [962/3000]: Train loss: 0.5277, Valid loss: 1.1218\n"
          ]
        },
        {
          "output_type": "stream",
          "name": "stderr",
          "text": [
            "Epoch [963/3000]: 100%|██████████| 10/10 [00:00<00:00, 69.26it/s]\n"
          ]
        },
        {
          "output_type": "stream",
          "name": "stdout",
          "text": [
            "Epoch [963/3000]: Train loss: 0.5742, Valid loss: 1.0975\n"
          ]
        },
        {
          "output_type": "stream",
          "name": "stderr",
          "text": [
            "Epoch [964/3000]: 100%|██████████| 10/10 [00:00<00:00, 61.13it/s]\n"
          ]
        },
        {
          "output_type": "stream",
          "name": "stdout",
          "text": [
            "Epoch [964/3000]: Train loss: 0.5380, Valid loss: 1.1273\n"
          ]
        },
        {
          "output_type": "stream",
          "name": "stderr",
          "text": [
            "Epoch [965/3000]: 100%|██████████| 10/10 [00:00<00:00, 72.87it/s]\n"
          ]
        },
        {
          "output_type": "stream",
          "name": "stdout",
          "text": [
            "Epoch [965/3000]: Train loss: 0.6013, Valid loss: 1.1062\n"
          ]
        },
        {
          "output_type": "stream",
          "name": "stderr",
          "text": [
            "Epoch [966/3000]: 100%|██████████| 10/10 [00:00<00:00, 71.43it/s]\n"
          ]
        },
        {
          "output_type": "stream",
          "name": "stdout",
          "text": [
            "Epoch [966/3000]: Train loss: 0.6041, Valid loss: 1.1374\n"
          ]
        },
        {
          "output_type": "stream",
          "name": "stderr",
          "text": [
            "Epoch [967/3000]: 100%|██████████| 10/10 [00:00<00:00, 70.94it/s]\n"
          ]
        },
        {
          "output_type": "stream",
          "name": "stdout",
          "text": [
            "Epoch [967/3000]: Train loss: 0.5176, Valid loss: 1.1121\n"
          ]
        },
        {
          "output_type": "stream",
          "name": "stderr",
          "text": [
            "Epoch [968/3000]: 100%|██████████| 10/10 [00:00<00:00, 69.38it/s]\n"
          ]
        },
        {
          "output_type": "stream",
          "name": "stdout",
          "text": [
            "Epoch [968/3000]: Train loss: 0.5639, Valid loss: 1.1051\n"
          ]
        },
        {
          "output_type": "stream",
          "name": "stderr",
          "text": [
            "Epoch [969/3000]: 100%|██████████| 10/10 [00:00<00:00, 71.39it/s]\n"
          ]
        },
        {
          "output_type": "stream",
          "name": "stdout",
          "text": [
            "Epoch [969/3000]: Train loss: 0.5135, Valid loss: 1.1153\n"
          ]
        },
        {
          "output_type": "stream",
          "name": "stderr",
          "text": [
            "Epoch [970/3000]: 100%|██████████| 10/10 [00:00<00:00, 62.79it/s]\n"
          ]
        },
        {
          "output_type": "stream",
          "name": "stdout",
          "text": [
            "Epoch [970/3000]: Train loss: 0.5789, Valid loss: 1.0952\n"
          ]
        },
        {
          "output_type": "stream",
          "name": "stderr",
          "text": [
            "Epoch [971/3000]: 100%|██████████| 10/10 [00:00<00:00, 72.64it/s]\n"
          ]
        },
        {
          "output_type": "stream",
          "name": "stdout",
          "text": [
            "Epoch [971/3000]: Train loss: 0.4834, Valid loss: 1.1312\n"
          ]
        },
        {
          "output_type": "stream",
          "name": "stderr",
          "text": [
            "Epoch [972/3000]: 100%|██████████| 10/10 [00:00<00:00, 68.57it/s]\n"
          ]
        },
        {
          "output_type": "stream",
          "name": "stdout",
          "text": [
            "Epoch [972/3000]: Train loss: 0.5117, Valid loss: 1.0941\n"
          ]
        },
        {
          "output_type": "stream",
          "name": "stderr",
          "text": [
            "Epoch [973/3000]: 100%|██████████| 10/10 [00:00<00:00, 71.91it/s]\n"
          ]
        },
        {
          "output_type": "stream",
          "name": "stdout",
          "text": [
            "Epoch [973/3000]: Train loss: 0.5044, Valid loss: 1.1264\n"
          ]
        },
        {
          "output_type": "stream",
          "name": "stderr",
          "text": [
            "Epoch [974/3000]: 100%|██████████| 10/10 [00:00<00:00, 71.94it/s]\n"
          ]
        },
        {
          "output_type": "stream",
          "name": "stdout",
          "text": [
            "Epoch [974/3000]: Train loss: 0.4972, Valid loss: 1.1667\n"
          ]
        },
        {
          "output_type": "stream",
          "name": "stderr",
          "text": [
            "Epoch [975/3000]: 100%|██████████| 10/10 [00:00<00:00, 71.14it/s]"
          ]
        },
        {
          "output_type": "stream",
          "name": "stdout",
          "text": [
            "Epoch [975/3000]: Train loss: 0.5187, Valid loss: 1.1606\n",
            "\n",
            "Model is not improving, so we halt the training session.\n"
          ]
        },
        {
          "output_type": "stream",
          "name": "stderr",
          "text": [
            "\n"
          ]
        }
      ]
    },
    {
      "cell_type": "markdown",
      "source": [
        "# Visulaization"
      ],
      "metadata": {
        "id": "ArifKAKqhqnY"
      }
    },
    {
      "cell_type": "code",
      "source": [
        "import matplotlib.pyplot as plt\n",
        "\n",
        "def pred_plot(dataloader, model, device, lim=35., y_hats=None, y_targets=None):\n",
        "  if y_hats is None or y_targets is None: # Run prediction only when we have no prediction data. An extension for multi models\n",
        "    model.eval()\n",
        "    y_hats = []\n",
        "    y_targets = []\n",
        "    for x, y in dataloader:\n",
        "      x, y = x.to(device), y.to(device)\n",
        "      with torch.no_grad():\n",
        "        y_hat = model(x)\n",
        "        y_hats.append(y_hat.detach().cpu())\n",
        "        y_targets.append(y.detach().cpu())\n",
        "    y_hats = torch.cat(y_hats, dim=0).numpy()    # combine every batch in dataloader, and turn into numpy arr\n",
        "    y_targets = torch.cat(y_targets, dim=0).numpy()   # combine every batch in dataloaderr, and turn into numpy arr\n",
        "\n",
        "    plt.figure(figsize=(5, 5))\n",
        "    plt.scatter(y_targets, y_hats, color='blue')\n",
        "    plt.plot([-0.2, lim], [-0.2, lim], color='red')\n",
        "    plt.xlim(-0.2, lim)\n",
        "    plt.ylim(-0.2, lim)\n",
        "    plt.xlabel('Ground Truth')\n",
        "    plt.ylabel('Prediction')\n",
        "    plt.title('Ground Truth vs Prediction')\n",
        "    plt.show()"
      ],
      "metadata": {
        "id": "pp6iDzcihqN1"
      },
      "execution_count": null,
      "outputs": []
    },
    {
      "cell_type": "code",
      "source": [
        "del model\n",
        "model = My_Model(train_loader.dataset.features_num).to(device) # use train_loader for more all around features\n",
        "model.load_state_dict(torch.load(config['save_path'], map_location=\"cpu\"))\n",
        "pred_plot(valid_loader, model, device) # use valid_loader for generalized prediction. if we use train_loader, it could lead to overfitted pred."
      ],
      "metadata": {
        "colab": {
          "base_uri": "https://localhost:8080/",
          "height": 487
        },
        "id": "T36mkJzCxhJp",
        "outputId": "5c56c46c-daf1-4b7a-ec6b-f46d36e69b8f"
      },
      "execution_count": null,
      "outputs": [
        {
          "output_type": "display_data",
          "data": {
            "text/plain": [
              "<Figure size 500x500 with 1 Axes>"
            ],
            "image/png": "[encoded data removed]"
          },
          "metadata": {}
        }
      ]
    },
    {
      "cell_type": "markdown",
      "source": [
        "# Output"
      ],
      "metadata": {
        "id": "yhAHGqC9-woK"
      }
    },
    {
      "cell_type": "code",
      "source": [
        "def test_pred(test_loader, model, device):\n",
        "    model.eval()\n",
        "    y_hats = []\n",
        "    for x in test_loader:\n",
        "        x = x.to(device)\n",
        "        with torch.no_grad():\n",
        "            y_hat = model(x)\n",
        "            y_hats.append(y_hat.detach().cpu())\n",
        "    y_hats = torch.cat(y_hats, dim=0).numpy()\n",
        "    return y_hats\n",
        "\n",
        "def save_pred(y_hats, file):\n",
        "    ''' Save predictions to specified file '''\n",
        "    with open(file, 'w') as fp:\n",
        "        writer = csv.writer(fp)\n",
        "        writer.writerow(['id', 'tested_positive.2'])\n",
        "        for i, y_hat in enumerate(y_hats):\n",
        "            writer.writerow([i, y_hat])\n",
        "\n",
        "y_hats = test_pred(test_loader, model, device)\n",
        "os.makedirs(\"Output\", exist_ok=True)\n",
        "save_pred(y_hats, 'Output/pred.csv')\n",
        "\n"
      ],
      "metadata": {
        "id": "Q5eVdpbvAlAe",
        "trusted": true
      },
      "execution_count": null,
      "outputs": []
    },
    {
      "cell_type": "markdown",
      "source": [
        "# Reference\n",
        "This notebook uses code written by Heng-Jui Chang @ NTUEE (https://github.com/ga642381/ML2021-Spring/blob/main/HW01/HW01.ipynb)"
      ],
      "metadata": {
        "id": "IJ_k5rY0GvSV"
      }
    }
  ]
}